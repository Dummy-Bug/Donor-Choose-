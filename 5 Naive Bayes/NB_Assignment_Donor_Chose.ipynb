{
  "cells": [
    {
      "cell_type": "markdown",
      "metadata": {
        "id": "Dnubs-Nnb3cw"
      },
      "source": [
        "# Assignment 6: Apply NB"
      ]
    },
    {
      "cell_type": "markdown",
      "metadata": {
        "id": "RW0zYHb5m_wI"
      },
      "source": [
        "<ol>\n",
        "    <li>Minimum data points need to be considered for people having 4GB RAM is <strong>50k</strong> and for 8GB RAM is <strong>100k</strong></li>\n",
        "    <li>When you are using ramdomsearchcv or gridsearchcv you need not split the data into X_train,X_cv,X_test. As the above methods use kfold. The model will learn better if train data is more so splitting to X_train,X_test will suffice.</li>\n",
        "    <li>If you are writing for loops to tune your model then you need split the data into X_train,X_cv,X_test.</li>\n",
        "    <li>While splitting the data explore stratify parameter. </li>\n",
        "    <li><strong>Apply Multinomial NB on these feature sets</strong></li>\n",
        "        <ul>\n",
        "            <li>Features that need to be considered</li> \n",
        "                <dl>\n",
        "                  <dt>essay</dt>\n",
        "                    <dd>while encoding essay, try to experiment with the max_features and n_grams parameter of vectorizers and see if it increases AUC score.</dd>\n",
        "                  <dt>categorical features</dt>\n",
        "                  <dd> - teacher_prefix</dd>\n",
        "                  <dd> - project_grade_category</dd>\n",
        "                  <dd> - school_state</dd>\n",
        "                  <dd> - clean_categories</dd>\n",
        "                  <dd> - clean_subcategories</dd>\n",
        "                  <dt>numerical features</dt>\n",
        "                  <dd> - price</dd>\n",
        "                  <dd> - teacher_number_of_previously_posted_projects</dd>\n",
        "                  <dd>while encoding the numerical features check <a href='https://imgur.com/ldZA1zg'>this</a> and <a href='https://ac-classroom-production.s3.amazonaws.com/public/COMMENT/Annotation_2020-05-21_225912_0lyZzN8.jpg'>this</a></dd>\n",
        "                </dl>    \n",
        "            <li><font color='red'>Set 1</font>: categorical, numerical features + preprocessed_eassay (BOW)</li>\n",
        "            <li><font color='red'>Set 2</font>: categorical, numerical features + preprocessed_eassay (TFIDF)</li>\n",
        "        </ul>\n",
        "    <li><strong>The hyper paramter tuning(find best alpha:smoothing parameter)</strong>\n",
        "        <ul>\n",
        "    <li>Consider alpha values in range: 10^-5 to 10^2 like [0.00001,0.0005, 0.0001,0.005,0.001,0.05,0.01,0.1,0.5,1,5,10,50,100]</li>\n",
        "    <li>Explore class_prior = [0.5, 0.5] parameter which can be present in MultinomialNB function(go through <a href='https://scikit-learn.org/stable/modules/generated/sklearn.naive_bayes.MultinomialNB.html'>this</a> ) then check how results might change.\n",
        "    <li>Find the best hyper parameter which will give the maximum <a href='https://www.appliedaicourse.com/course/applied-ai-course-online/lessons/receiver-operating-characteristic-curve-roc-curve-and-auc-1/'>AUC</a> value</li>\n",
        "    <li>For hyper parameter tuning using k-fold cross validation(use GridsearchCV or RandomsearchCV)/simple cross validation data (write for loop to iterate over hyper parameter values)</li>\n",
        "    <li>You need to plot the performance of model both on train data and cross validation data for each hyper parameter, like shown in the figure\n",
        "    <img src='https://i.imgur.com/hUv6aEy.jpg' width=300px><dd>-while plotting take log(alpha) on your X-axis so that it will be more readable</dd></li>\n",
        "    <li>Once after you found the best hyper parameter, you need to train your model with it, and find the AUC on test data and plot the ROC curve on both train and test.\n",
        "    <img src='https://imgur.com/q2P65L5.jpg' width=300px></li>\n",
        "    <li>Along with plotting ROC curve, you need to print the <a href='https://www.appliedaicourse.com/course/applied-ai-course-online/lessons/confusion-matrix-tpr-fpr-fnr-tnr-1/'>confusion matrix</a> with predicted and original labels of test data points\n",
        "        <img src='https://i.imgur.com/IdN5Ctv.png' width=300px><dd>-plot the confusion matrix in heatmaps, while plotting the confusion matrix go through the <a href='https://stackoverflow.com/questions/61748441/how-to-fix-the-values-displayed-in-a-confusion-matrix-in-exponential-form-to-nor'>link </a>\n",
        "</dd></li>\n",
        "        </ul>\n",
        "<li>find the top 20 features from either from feature <font color='red'>Set 1</font> or feature <font color='red'>Set 2</font> using values of `feature_log_prob_ ` parameter of `MultinomialNB` \n",
        "(https://scikit-learn.org/stable/modules/generated/sklearn.naive_bayes.MultinomialNB.html) and print <strong>BOTH</strong> positive as well as negative corresponding feature names. <dd> - go through the <a href='https://imgur.com/mWvE7gj'>link </a> </dd>\n",
        "    </li>\n",
        "    <li>You need to summarize the results at the end of the notebook, summarize it in the table format\n",
        "        <img src='http://i.imgur.com/YVpIGGE.jpg' width=400px>\n",
        "    </li>\n",
        "</ol>"
      ]
    },
    {
      "cell_type": "code",
      "source": [
        "from google.colab import drive\n",
        "drive.mount('/content/drive')"
      ],
      "metadata": {
        "colab": {
          "base_uri": "https://localhost:8080/"
        },
        "id": "Jqj8oXA1vs2a",
        "outputId": "ec0bc515-e295-491e-fcf3-c1a554bba82b"
      },
      "execution_count": 115,
      "outputs": [
        {
          "output_type": "stream",
          "name": "stdout",
          "text": [
            "Drive already mounted at /content/drive; to attempt to forcibly remount, call drive.mount(\"/content/drive\", force_remount=True).\n"
          ]
        }
      ]
    },
    {
      "cell_type": "markdown",
      "metadata": {
        "id": "inzYCIaib3c3"
      },
      "source": [
        "<h1>2. Naive Bayes </h1>"
      ]
    },
    {
      "cell_type": "code",
      "source": [
        "%matplotlib inline\n",
        "import warnings\n",
        "warnings.filterwarnings(\"ignore\")\n",
        "\n",
        "import pandas as pd\n",
        "import numpy as np\n",
        "import nltk\n",
        "import matplotlib.pyplot as plt\n",
        "import seaborn as sns\n",
        "from sklearn.feature_extraction.text import TfidfVectorizer\n",
        "from sklearn.feature_extraction.text import CountVectorizer\n",
        "from sklearn.metrics import confusion_matrix\n",
        "from sklearn import metrics\n",
        "from sklearn.metrics import roc_curve, auc\n",
        "\n",
        "import re\n",
        "# Tutorial about Python regular expressions: https://pymotw.com/2/re/\n",
        "\n",
        "import pickle\n",
        "from tqdm import tqdm\n",
        "import os\n",
        "\n",
        "from collections import Counter\n",
        "import math"
      ],
      "metadata": {
        "id": "pUpVIXnhw49_"
      },
      "execution_count": 116,
      "outputs": []
    },
    {
      "cell_type": "markdown",
      "metadata": {
        "id": "FYqCIxzFb3c5"
      },
      "source": [
        "## 1.1 Loading Data"
      ]
    },
    {
      "cell_type": "code",
      "execution_count": 117,
      "metadata": {
        "id": "dA1jknyqb3c_"
      },
      "outputs": [],
      "source": [
        "# make sure you are loading atleast 50k datapoints\n",
        "# you can work with features of preprocessed_data.csv for the assignment.\n",
        "# If you want to add more features, you can add. (This is purely optional, not mandatory)\n",
        "\n",
        "import pandas\n",
        "data = pandas.read_csv('/content/drive/MyDrive/Case Studies/6_Donors_choose_NB/preprocessed_data.csv')"
      ]
    },
    {
      "cell_type": "code",
      "source": [
        "data.shape"
      ],
      "metadata": {
        "colab": {
          "base_uri": "https://localhost:8080/"
        },
        "id": "BjbSUe2PwDdW",
        "outputId": "57ec1dcd-d24a-4cc6-c218-67db1ccbc5b4"
      },
      "execution_count": 118,
      "outputs": [
        {
          "output_type": "execute_result",
          "data": {
            "text/plain": [
              "(109248, 9)"
            ]
          },
          "metadata": {},
          "execution_count": 118
        }
      ]
    },
    {
      "cell_type": "markdown",
      "source": [
        "* This data is non Trivial to work with according to our sysem's specifications.Hence it's better to use small proportion of it."
      ],
      "metadata": {
        "id": "MGiR63pWwGgn"
      }
    },
    {
      "cell_type": "code",
      "source": [
        "data = data.head(35000)\n",
        "\n",
        "print(data.shape)\n",
        "data.head(3)"
      ],
      "metadata": {
        "colab": {
          "base_uri": "https://localhost:8080/",
          "height": 468
        },
        "id": "7rrOJA8Zwci0",
        "outputId": "8afc3fa6-d1cd-4aa1-9ca2-4004381b03d8"
      },
      "execution_count": 119,
      "outputs": [
        {
          "output_type": "stream",
          "name": "stdout",
          "text": [
            "(35000, 9)\n"
          ]
        },
        {
          "output_type": "execute_result",
          "data": {
            "text/html": [
              "\n",
              "  <div id=\"df-44ae0e58-c173-45aa-a77f-f64313fba31c\">\n",
              "    <div class=\"colab-df-container\">\n",
              "      <div>\n",
              "<style scoped>\n",
              "    .dataframe tbody tr th:only-of-type {\n",
              "        vertical-align: middle;\n",
              "    }\n",
              "\n",
              "    .dataframe tbody tr th {\n",
              "        vertical-align: top;\n",
              "    }\n",
              "\n",
              "    .dataframe thead th {\n",
              "        text-align: right;\n",
              "    }\n",
              "</style>\n",
              "<table border=\"1\" class=\"dataframe\">\n",
              "  <thead>\n",
              "    <tr style=\"text-align: right;\">\n",
              "      <th></th>\n",
              "      <th>school_state</th>\n",
              "      <th>teacher_prefix</th>\n",
              "      <th>project_grade_category</th>\n",
              "      <th>teacher_number_of_previously_posted_projects</th>\n",
              "      <th>project_is_approved</th>\n",
              "      <th>clean_categories</th>\n",
              "      <th>clean_subcategories</th>\n",
              "      <th>essay</th>\n",
              "      <th>price</th>\n",
              "    </tr>\n",
              "  </thead>\n",
              "  <tbody>\n",
              "    <tr>\n",
              "      <th>0</th>\n",
              "      <td>ca</td>\n",
              "      <td>mrs</td>\n",
              "      <td>grades_prek_2</td>\n",
              "      <td>53</td>\n",
              "      <td>1</td>\n",
              "      <td>math_science</td>\n",
              "      <td>appliedsciences health_lifescience</td>\n",
              "      <td>i fortunate enough use fairy tale stem kits cl...</td>\n",
              "      <td>725.05</td>\n",
              "    </tr>\n",
              "    <tr>\n",
              "      <th>1</th>\n",
              "      <td>ut</td>\n",
              "      <td>ms</td>\n",
              "      <td>grades_3_5</td>\n",
              "      <td>4</td>\n",
              "      <td>1</td>\n",
              "      <td>specialneeds</td>\n",
              "      <td>specialneeds</td>\n",
              "      <td>imagine 8 9 years old you third grade classroo...</td>\n",
              "      <td>213.03</td>\n",
              "    </tr>\n",
              "    <tr>\n",
              "      <th>2</th>\n",
              "      <td>ca</td>\n",
              "      <td>mrs</td>\n",
              "      <td>grades_prek_2</td>\n",
              "      <td>10</td>\n",
              "      <td>1</td>\n",
              "      <td>literacy_language</td>\n",
              "      <td>literacy</td>\n",
              "      <td>having class 24 students comes diverse learner...</td>\n",
              "      <td>329.00</td>\n",
              "    </tr>\n",
              "  </tbody>\n",
              "</table>\n",
              "</div>\n",
              "      <button class=\"colab-df-convert\" onclick=\"convertToInteractive('df-44ae0e58-c173-45aa-a77f-f64313fba31c')\"\n",
              "              title=\"Convert this dataframe to an interactive table.\"\n",
              "              style=\"display:none;\">\n",
              "        \n",
              "  <svg xmlns=\"http://www.w3.org/2000/svg\" height=\"24px\"viewBox=\"0 0 24 24\"\n",
              "       width=\"24px\">\n",
              "    <path d=\"M0 0h24v24H0V0z\" fill=\"none\"/>\n",
              "    <path d=\"M18.56 5.44l.94 2.06.94-2.06 2.06-.94-2.06-.94-.94-2.06-.94 2.06-2.06.94zm-11 1L8.5 8.5l.94-2.06 2.06-.94-2.06-.94L8.5 2.5l-.94 2.06-2.06.94zm10 10l.94 2.06.94-2.06 2.06-.94-2.06-.94-.94-2.06-.94 2.06-2.06.94z\"/><path d=\"M17.41 7.96l-1.37-1.37c-.4-.4-.92-.59-1.43-.59-.52 0-1.04.2-1.43.59L10.3 9.45l-7.72 7.72c-.78.78-.78 2.05 0 2.83L4 21.41c.39.39.9.59 1.41.59.51 0 1.02-.2 1.41-.59l7.78-7.78 2.81-2.81c.8-.78.8-2.07 0-2.86zM5.41 20L4 18.59l7.72-7.72 1.47 1.35L5.41 20z\"/>\n",
              "  </svg>\n",
              "      </button>\n",
              "      \n",
              "  <style>\n",
              "    .colab-df-container {\n",
              "      display:flex;\n",
              "      flex-wrap:wrap;\n",
              "      gap: 12px;\n",
              "    }\n",
              "\n",
              "    .colab-df-convert {\n",
              "      background-color: #E8F0FE;\n",
              "      border: none;\n",
              "      border-radius: 50%;\n",
              "      cursor: pointer;\n",
              "      display: none;\n",
              "      fill: #1967D2;\n",
              "      height: 32px;\n",
              "      padding: 0 0 0 0;\n",
              "      width: 32px;\n",
              "    }\n",
              "\n",
              "    .colab-df-convert:hover {\n",
              "      background-color: #E2EBFA;\n",
              "      box-shadow: 0px 1px 2px rgba(60, 64, 67, 0.3), 0px 1px 3px 1px rgba(60, 64, 67, 0.15);\n",
              "      fill: #174EA6;\n",
              "    }\n",
              "\n",
              "    [theme=dark] .colab-df-convert {\n",
              "      background-color: #3B4455;\n",
              "      fill: #D2E3FC;\n",
              "    }\n",
              "\n",
              "    [theme=dark] .colab-df-convert:hover {\n",
              "      background-color: #434B5C;\n",
              "      box-shadow: 0px 1px 3px 1px rgba(0, 0, 0, 0.15);\n",
              "      filter: drop-shadow(0px 1px 2px rgba(0, 0, 0, 0.3));\n",
              "      fill: #FFFFFF;\n",
              "    }\n",
              "  </style>\n",
              "\n",
              "      <script>\n",
              "        const buttonEl =\n",
              "          document.querySelector('#df-44ae0e58-c173-45aa-a77f-f64313fba31c button.colab-df-convert');\n",
              "        buttonEl.style.display =\n",
              "          google.colab.kernel.accessAllowed ? 'block' : 'none';\n",
              "\n",
              "        async function convertToInteractive(key) {\n",
              "          const element = document.querySelector('#df-44ae0e58-c173-45aa-a77f-f64313fba31c');\n",
              "          const dataTable =\n",
              "            await google.colab.kernel.invokeFunction('convertToInteractive',\n",
              "                                                     [key], {});\n",
              "          if (!dataTable) return;\n",
              "\n",
              "          const docLinkHtml = 'Like what you see? Visit the ' +\n",
              "            '<a target=\"_blank\" href=https://colab.research.google.com/notebooks/data_table.ipynb>data table notebook</a>'\n",
              "            + ' to learn more about interactive tables.';\n",
              "          element.innerHTML = '';\n",
              "          dataTable['output_type'] = 'display_data';\n",
              "          await google.colab.output.renderOutput(dataTable, element);\n",
              "          const docLink = document.createElement('div');\n",
              "          docLink.innerHTML = docLinkHtml;\n",
              "          element.appendChild(docLink);\n",
              "        }\n",
              "      </script>\n",
              "    </div>\n",
              "  </div>\n",
              "  "
            ],
            "text/plain": [
              "  school_state teacher_prefix project_grade_category  \\\n",
              "0           ca            mrs          grades_prek_2   \n",
              "1           ut             ms             grades_3_5   \n",
              "2           ca            mrs          grades_prek_2   \n",
              "\n",
              "   teacher_number_of_previously_posted_projects  project_is_approved  \\\n",
              "0                                            53                    1   \n",
              "1                                             4                    1   \n",
              "2                                            10                    1   \n",
              "\n",
              "    clean_categories                 clean_subcategories  \\\n",
              "0       math_science  appliedsciences health_lifescience   \n",
              "1       specialneeds                        specialneeds   \n",
              "2  literacy_language                            literacy   \n",
              "\n",
              "                                               essay   price  \n",
              "0  i fortunate enough use fairy tale stem kits cl...  725.05  \n",
              "1  imagine 8 9 years old you third grade classroo...  213.03  \n",
              "2  having class 24 students comes diverse learner...  329.00  "
            ]
          },
          "metadata": {},
          "execution_count": 119
        }
      ]
    },
    {
      "cell_type": "markdown",
      "metadata": {
        "id": "WtVV13Fyb3dH"
      },
      "source": [
        "<h2>1.2 Splitting data into Train and cross validation(or test): Stratified Sampling</h2>"
      ]
    },
    {
      "cell_type": "code",
      "execution_count": 120,
      "metadata": {
        "id": "v-x70nUXvXG1"
      },
      "outputs": [],
      "source": [
        "# write your code in following steps for task 1\n",
        "# 1. Split your data.\n",
        "# 2. Perform Bag of Words Vectorization of text data.\n",
        "# 3. Perform tfidf vectorization of text data.\n",
        "# 4. perform one-hot encoding of categorical features.\n",
        "# 5. perform normalization of numerical features\n",
        "# 6. For set 1 stack up all the features using hstack()\n",
        "# 7. For set 2 stack up all the features using hstack()\n",
        "# 8. Perform hyperparameter tuning and represent the training and cross-validation AUC scores for different 'alpha' values, using a 2D line plot.\n",
        "# 9. Find the best hyperparameter 'alpha' and fit the model. Plot ROC-AUC curve(by obtaining the probabilities using 'predict proba' method)\n",
        "# 10. Plot confusion matrix based on the best threshold value\n",
        "# 11. Either for the model in set 1 or in set 2, print the top 20 features(you have to print the names, not the indexes) associated with the positive and negative classes each.\n",
        "# 12. Summarize your observations and compare both the models(ie., from set 1 and set 2) in terms of optimal hyperparameter value, train AUC and test AUC scores. \n",
        "# 13. You can use Prettytable or any other tabular format for comparison.\n",
        "\n",
        "\n",
        "# please write all the code with proper documentation, and proper titles for each subsection\n",
        "# go through documentations and blogs before you start coding\n",
        "# first figure out what to do, and then think about how to do.\n",
        "# reading and understanding error messages will be very much helpfull in debugging your code\n",
        "# when you plot any graph make sure you use \n",
        "    # a. Title, that describes your plot, this will be very helpful to the reader\n",
        "    # b. Legends if needed\n",
        "    # c. X-axis label\n",
        "    # d. Y-axis label\n",
        "    "
      ]
    },
    {
      "cell_type": "markdown",
      "source": [
        "* Before splitting the dataset we have to drop the Target column "
      ],
      "metadata": {
        "id": "9s4aj3lSxO41"
      }
    },
    {
      "cell_type": "code",
      "source": [
        "y = data['project_is_approved'].values\n",
        "\n",
        "X = data.drop(['project_is_approved'], axis = 1)\n",
        "X.head(2)"
      ],
      "metadata": {
        "colab": {
          "base_uri": "https://localhost:8080/",
          "height": 332
        },
        "id": "z6l9AUybxN-I",
        "outputId": "a5cc45ea-287b-4879-f526-c9253f7ab06b"
      },
      "execution_count": 121,
      "outputs": [
        {
          "output_type": "execute_result",
          "data": {
            "text/html": [
              "\n",
              "  <div id=\"df-0bb8d01c-9ccf-43ad-ad33-11a6d1c64ee3\">\n",
              "    <div class=\"colab-df-container\">\n",
              "      <div>\n",
              "<style scoped>\n",
              "    .dataframe tbody tr th:only-of-type {\n",
              "        vertical-align: middle;\n",
              "    }\n",
              "\n",
              "    .dataframe tbody tr th {\n",
              "        vertical-align: top;\n",
              "    }\n",
              "\n",
              "    .dataframe thead th {\n",
              "        text-align: right;\n",
              "    }\n",
              "</style>\n",
              "<table border=\"1\" class=\"dataframe\">\n",
              "  <thead>\n",
              "    <tr style=\"text-align: right;\">\n",
              "      <th></th>\n",
              "      <th>school_state</th>\n",
              "      <th>teacher_prefix</th>\n",
              "      <th>project_grade_category</th>\n",
              "      <th>teacher_number_of_previously_posted_projects</th>\n",
              "      <th>clean_categories</th>\n",
              "      <th>clean_subcategories</th>\n",
              "      <th>essay</th>\n",
              "      <th>price</th>\n",
              "    </tr>\n",
              "  </thead>\n",
              "  <tbody>\n",
              "    <tr>\n",
              "      <th>0</th>\n",
              "      <td>ca</td>\n",
              "      <td>mrs</td>\n",
              "      <td>grades_prek_2</td>\n",
              "      <td>53</td>\n",
              "      <td>math_science</td>\n",
              "      <td>appliedsciences health_lifescience</td>\n",
              "      <td>i fortunate enough use fairy tale stem kits cl...</td>\n",
              "      <td>725.05</td>\n",
              "    </tr>\n",
              "    <tr>\n",
              "      <th>1</th>\n",
              "      <td>ut</td>\n",
              "      <td>ms</td>\n",
              "      <td>grades_3_5</td>\n",
              "      <td>4</td>\n",
              "      <td>specialneeds</td>\n",
              "      <td>specialneeds</td>\n",
              "      <td>imagine 8 9 years old you third grade classroo...</td>\n",
              "      <td>213.03</td>\n",
              "    </tr>\n",
              "  </tbody>\n",
              "</table>\n",
              "</div>\n",
              "      <button class=\"colab-df-convert\" onclick=\"convertToInteractive('df-0bb8d01c-9ccf-43ad-ad33-11a6d1c64ee3')\"\n",
              "              title=\"Convert this dataframe to an interactive table.\"\n",
              "              style=\"display:none;\">\n",
              "        \n",
              "  <svg xmlns=\"http://www.w3.org/2000/svg\" height=\"24px\"viewBox=\"0 0 24 24\"\n",
              "       width=\"24px\">\n",
              "    <path d=\"M0 0h24v24H0V0z\" fill=\"none\"/>\n",
              "    <path d=\"M18.56 5.44l.94 2.06.94-2.06 2.06-.94-2.06-.94-.94-2.06-.94 2.06-2.06.94zm-11 1L8.5 8.5l.94-2.06 2.06-.94-2.06-.94L8.5 2.5l-.94 2.06-2.06.94zm10 10l.94 2.06.94-2.06 2.06-.94-2.06-.94-.94-2.06-.94 2.06-2.06.94z\"/><path d=\"M17.41 7.96l-1.37-1.37c-.4-.4-.92-.59-1.43-.59-.52 0-1.04.2-1.43.59L10.3 9.45l-7.72 7.72c-.78.78-.78 2.05 0 2.83L4 21.41c.39.39.9.59 1.41.59.51 0 1.02-.2 1.41-.59l7.78-7.78 2.81-2.81c.8-.78.8-2.07 0-2.86zM5.41 20L4 18.59l7.72-7.72 1.47 1.35L5.41 20z\"/>\n",
              "  </svg>\n",
              "      </button>\n",
              "      \n",
              "  <style>\n",
              "    .colab-df-container {\n",
              "      display:flex;\n",
              "      flex-wrap:wrap;\n",
              "      gap: 12px;\n",
              "    }\n",
              "\n",
              "    .colab-df-convert {\n",
              "      background-color: #E8F0FE;\n",
              "      border: none;\n",
              "      border-radius: 50%;\n",
              "      cursor: pointer;\n",
              "      display: none;\n",
              "      fill: #1967D2;\n",
              "      height: 32px;\n",
              "      padding: 0 0 0 0;\n",
              "      width: 32px;\n",
              "    }\n",
              "\n",
              "    .colab-df-convert:hover {\n",
              "      background-color: #E2EBFA;\n",
              "      box-shadow: 0px 1px 2px rgba(60, 64, 67, 0.3), 0px 1px 3px 1px rgba(60, 64, 67, 0.15);\n",
              "      fill: #174EA6;\n",
              "    }\n",
              "\n",
              "    [theme=dark] .colab-df-convert {\n",
              "      background-color: #3B4455;\n",
              "      fill: #D2E3FC;\n",
              "    }\n",
              "\n",
              "    [theme=dark] .colab-df-convert:hover {\n",
              "      background-color: #434B5C;\n",
              "      box-shadow: 0px 1px 3px 1px rgba(0, 0, 0, 0.15);\n",
              "      filter: drop-shadow(0px 1px 2px rgba(0, 0, 0, 0.3));\n",
              "      fill: #FFFFFF;\n",
              "    }\n",
              "  </style>\n",
              "\n",
              "      <script>\n",
              "        const buttonEl =\n",
              "          document.querySelector('#df-0bb8d01c-9ccf-43ad-ad33-11a6d1c64ee3 button.colab-df-convert');\n",
              "        buttonEl.style.display =\n",
              "          google.colab.kernel.accessAllowed ? 'block' : 'none';\n",
              "\n",
              "        async function convertToInteractive(key) {\n",
              "          const element = document.querySelector('#df-0bb8d01c-9ccf-43ad-ad33-11a6d1c64ee3');\n",
              "          const dataTable =\n",
              "            await google.colab.kernel.invokeFunction('convertToInteractive',\n",
              "                                                     [key], {});\n",
              "          if (!dataTable) return;\n",
              "\n",
              "          const docLinkHtml = 'Like what you see? Visit the ' +\n",
              "            '<a target=\"_blank\" href=https://colab.research.google.com/notebooks/data_table.ipynb>data table notebook</a>'\n",
              "            + ' to learn more about interactive tables.';\n",
              "          element.innerHTML = '';\n",
              "          dataTable['output_type'] = 'display_data';\n",
              "          await google.colab.output.renderOutput(dataTable, element);\n",
              "          const docLink = document.createElement('div');\n",
              "          docLink.innerHTML = docLinkHtml;\n",
              "          element.appendChild(docLink);\n",
              "        }\n",
              "      </script>\n",
              "    </div>\n",
              "  </div>\n",
              "  "
            ],
            "text/plain": [
              "  school_state teacher_prefix project_grade_category  \\\n",
              "0           ca            mrs          grades_prek_2   \n",
              "1           ut             ms             grades_3_5   \n",
              "\n",
              "   teacher_number_of_previously_posted_projects clean_categories  \\\n",
              "0                                            53     math_science   \n",
              "1                                             4     specialneeds   \n",
              "\n",
              "                  clean_subcategories  \\\n",
              "0  appliedsciences health_lifescience   \n",
              "1                        specialneeds   \n",
              "\n",
              "                                               essay   price  \n",
              "0  i fortunate enough use fairy tale stem kits cl...  725.05  \n",
              "1  imagine 8 9 years old you third grade classroo...  213.03  "
            ]
          },
          "metadata": {},
          "execution_count": 121
        }
      ]
    },
    {
      "cell_type": "code",
      "execution_count": 122,
      "metadata": {
        "id": "i-PyprDNb3dI"
      },
      "outputs": [],
      "source": [
        "# Split the dataset \n",
        "# 1) If you want to apply simple cross-validation, split the dataset into 3 parts (ie., train, CV and test sets)\n",
        "# 2) If you want to apply K-fold CV (or) GridSearch Cross Validation (or) Randomized Search Cross Validation, just split the dataset into 2 parts (ie., train and test sets)\n",
        "\n",
        "from sklearn.model_selection import train_test_split\n",
        "\n",
        "X_train, X_test, y_train, y_test = train_test_split(X, y, test_size = 0.33, stratify = y)\n"
      ]
    },
    {
      "cell_type": "markdown",
      "metadata": {
        "id": "EnZwVNULb3dO"
      },
      "source": [
        "<h2>1.3 Make Data Model Ready: encoding essay, and project_title</h2>"
      ]
    },
    {
      "cell_type": "code",
      "execution_count": 123,
      "metadata": {
        "colab": {
          "base_uri": "https://localhost:8080/"
        },
        "id": "8Gi33v9hvXG7",
        "outputId": "b3eb10aa-235f-461f-d16f-e91c4b2b7132"
      },
      "outputs": [
        {
          "output_type": "stream",
          "name": "stdout",
          "text": [
            "After vectorizations\n",
            "(23450, 5000) (23450,)\n",
            "(11550, 5000) (11550,)\n",
            "CPU times: user 43.6 s, sys: 629 ms, total: 44.2 s\n",
            "Wall time: 45.2 s\n"
          ]
        }
      ],
      "source": [
        "%%time \n",
        "# around 1m 20sec for 35k data points\n",
        "\n",
        "# Apply Bag of Words (BOW) vectorization on 'Preprocessed_Essay' \n",
        "# Apply Bag of Words (BOW) vectorization on 'Preprocessed_Title' (Optional)\n",
        "\n",
        "vectorizer = CountVectorizer(min_df = 10,ngram_range = (1,3), max_features = 5000)\n",
        "\n",
        "vectorizer.fit(X_train['essay'].values) # fit has to happen only on train data\n",
        "\n",
        "# we use the fitted CountVectorizer to convert the text to vector\n",
        "X_train_essay_bow = vectorizer.transform(X_train['essay'].values)\n",
        "X_test_essay_bow = vectorizer.transform(X_test['essay'].values)\n",
        "\n",
        "print(\"After vectorizations\")\n",
        "\n",
        "print(X_train_essay_bow.shape, y_train.shape)\n",
        "print(X_test_essay_bow.shape, y_test.shape)"
      ]
    },
    {
      "cell_type": "code",
      "source": [
        "# Apply TF-IDF vectorization on 'Preprocessed_Essay' \n",
        "# Apply TF-IDF vectorization on 'Preprocessed_Title' (Optional)\n",
        "\n",
        "from sklearn.feature_extraction.text import TfidfVectorizer\n",
        "\n",
        "vectorizer = TfidfVectorizer(ngram_range = (1, 3),max_features = 6000, min_df = 10)\n",
        "\n",
        "vectorizer.fit(X_train['essay'].values)\n",
        "\n",
        "X_train_essay_tfidf = vectorizer.transform(X_train['essay'].values)\n",
        "X_test_essay_tfidf  = vectorizer.transform(X_test['essay'].values)\n",
        "\n",
        "# we are converting a dictionary with word as a key, and the idf as a value\n",
        "\n",
        "dictionary  = dict(zip(vectorizer.get_feature_names(), list(vectorizer.idf_)))\n",
        "tfidf_words = set(dictionary.keys())"
      ],
      "metadata": {
        "id": "qhR7EjSE01HP"
      },
      "execution_count": 124,
      "outputs": []
    },
    {
      "cell_type": "code",
      "source": [
        "tf_idf_feature_list = vectorizer.get_feature_names()\n",
        "\n",
        "print(len(tf_idf_feature_list))\n",
        "tf_idf_feature_list[-5:]"
      ],
      "metadata": {
        "colab": {
          "base_uri": "https://localhost:8080/"
        },
        "id": "A7LjVHfkMasG",
        "outputId": "d0d683ed-f5c3-4801-84ad-e3024e28a5dd"
      },
      "execution_count": 125,
      "outputs": [
        {
          "output_type": "stream",
          "name": "stdout",
          "text": [
            "6000\n"
          ]
        },
        {
          "output_type": "execute_result",
          "data": {
            "text/plain": [
              "['your donations', 'your generous', 'your generous donation', 'youth', 'zone']"
            ]
          },
          "metadata": {},
          "execution_count": 125
        }
      ]
    },
    {
      "cell_type": "markdown",
      "source": [
        "<h2>1.4 Make Data Model Ready: encoding numerical, categorical features</h2>"
      ],
      "metadata": {
        "id": "Z-mZq0f90ruq"
      }
    },
    {
      "cell_type": "markdown",
      "source": [
        "## Encoding Categorical Columns"
      ],
      "metadata": {
        "id": "iGPRupD1zMZI"
      }
    },
    {
      "cell_type": "markdown",
      "source": [
        "**School State**"
      ],
      "metadata": {
        "id": "4ml-YZr2zRO7"
      }
    },
    {
      "cell_type": "code",
      "source": [
        "vectorizer = CountVectorizer()\n",
        "vectorizer.fit(X_train['school_state'].values) # fit has to happen only on train data\n",
        "\n",
        "# we use the fitted CountVectorizer to convert the text to vector\n",
        "X_train_state_ohe = vectorizer.transform(X_train['school_state'].values)\n",
        "X_test_state_ohe  = vectorizer.transform(X_test['school_state'].values)\n",
        "\n",
        "print(\"After vectorizations\")\n",
        "\n",
        "print(X_train_state_ohe.shape, y_train.shape)\n",
        "print(X_test_state_ohe.shape, y_test.shape)\n",
        "\n",
        "state_ohe_feature_list = vectorizer.get_feature_names()\n",
        "\n",
        "print(len(state_ohe_feature_list),state_ohe_feature_list[-5:])"
      ],
      "metadata": {
        "colab": {
          "base_uri": "https://localhost:8080/"
        },
        "id": "eXV-oLnby-gf",
        "outputId": "a63f7e0e-f9a1-4a41-fe66-79ef8c27c561"
      },
      "execution_count": 126,
      "outputs": [
        {
          "output_type": "stream",
          "name": "stdout",
          "text": [
            "After vectorizations\n",
            "(23450, 51) (23450,)\n",
            "(11550, 51) (11550,)\n",
            "51 ['vt', 'wa', 'wi', 'wv', 'wy']\n"
          ]
        }
      ]
    },
    {
      "cell_type": "markdown",
      "source": [
        "**teacher_prefix**"
      ],
      "metadata": {
        "id": "UJJb_jNpzeGb"
      }
    },
    {
      "cell_type": "code",
      "source": [
        "vectorizer = CountVectorizer()\n",
        "vectorizer.fit(X_train['teacher_prefix'].values) # fit has to happen only on train data\n",
        "\n",
        "# we use the fitted CountVectorizer to convert the text to vector\n",
        "X_train_teacher_ohe = vectorizer.transform(X_train['teacher_prefix'].values)\n",
        "X_test_teacher_ohe  = vectorizer.transform(X_test['teacher_prefix'].values)\n",
        "\n",
        "print(\"After vectorizations\")\n",
        "print(X_train_teacher_ohe.shape, y_train.shape)\n",
        "print(X_test_teacher_ohe.shape, y_test.shape)\n",
        "\n",
        "teacher_ohe_feature_list = vectorizer.get_feature_names()\n",
        "\n",
        "print(len(teacher_ohe_feature_list),teacher_ohe_feature_list[-5:])"
      ],
      "metadata": {
        "colab": {
          "base_uri": "https://localhost:8080/"
        },
        "id": "swD9Ofi1yUPg",
        "outputId": "762e4511-aa97-4a09-894e-4f81a95fc5bd"
      },
      "execution_count": 127,
      "outputs": [
        {
          "output_type": "stream",
          "name": "stdout",
          "text": [
            "After vectorizations\n",
            "(23450, 5) (23450,)\n",
            "(11550, 5) (11550,)\n",
            "5 ['dr', 'mr', 'mrs', 'ms', 'teacher']\n"
          ]
        }
      ]
    },
    {
      "cell_type": "markdown",
      "source": [
        "**project_grade_category**"
      ],
      "metadata": {
        "id": "e8VhOL9PzoUV"
      }
    },
    {
      "cell_type": "code",
      "source": [
        "vectorizer = CountVectorizer()\n",
        "vectorizer.fit(X_train['project_grade_category'].values) # fit has to happen only on train data\n",
        "\n",
        "# we use the fitted CountVectorizer to convert the text to vector\n",
        "X_train_grade_ohe = vectorizer.transform(X_train['project_grade_category'].values)\n",
        "X_test_grade_ohe = vectorizer.transform(X_test['project_grade_category'].values)\n",
        "\n",
        "print(\"After vectorizations\")\n",
        "print(X_train_grade_ohe.shape, y_train.shape)\n",
        "print(X_test_grade_ohe.shape, y_test.shape)\n",
        "\n",
        "\n",
        "grade_ohe_feature_list = vectorizer.get_feature_names()\n",
        "\n",
        "print(len(grade_ohe_feature_list),grade_ohe_feature_list[-3:])"
      ],
      "metadata": {
        "colab": {
          "base_uri": "https://localhost:8080/"
        },
        "id": "i4I9wMvjzmJ5",
        "outputId": "fa2381f5-df7a-4b94-f5d3-8555edbf5085"
      },
      "execution_count": 157,
      "outputs": [
        {
          "output_type": "stream",
          "name": "stdout",
          "text": [
            "After vectorizations\n",
            "(23450, 4) (23450,)\n",
            "(11550, 4) (11550,)\n",
            "4 ['grades_6_8', 'grades_9_12', 'grades_prek_2']\n"
          ]
        }
      ]
    },
    {
      "cell_type": "markdown",
      "source": [
        "**clean_categories**"
      ],
      "metadata": {
        "id": "pa5BsagEz3BQ"
      }
    },
    {
      "cell_type": "code",
      "source": [
        "vectorizer = CountVectorizer()\n",
        "vectorizer.fit(X_train['clean_categories'].values) # fit has to happen only on train data\n",
        "\n",
        "# we use the fitted CountVectorizer to convert the text to vector\n",
        "X_train_category_ohe = vectorizer.transform(X_train['clean_categories'].values)\n",
        "X_test_category_ohe  = vectorizer.transform(X_test['clean_categories'].values)\n",
        "\n",
        "print(\"After vectorizations\")\n",
        "print(X_train_category_ohe.shape, y_train.shape)\n",
        "print(X_test_category_ohe.shape, y_test.shape)\n",
        "\n",
        "\n",
        "category_ohe_feature_list = vectorizer.get_feature_names()\n",
        "\n",
        "print(len(category_ohe_feature_list),category_ohe_feature_list[-5:])"
      ],
      "metadata": {
        "colab": {
          "base_uri": "https://localhost:8080/"
        },
        "id": "rbL7UczmzxKK",
        "outputId": "a4a2d289-44d1-4623-def2-f0a1557e19fb"
      },
      "execution_count": 129,
      "outputs": [
        {
          "output_type": "stream",
          "name": "stdout",
          "text": [
            "After vectorizations\n",
            "(23450, 7) (23450,)\n",
            "(11550, 7) (11550,)\n",
            "7 ['history_civics', 'literacy_language', 'math_science', 'music_arts', 'specialneeds']\n"
          ]
        }
      ]
    },
    {
      "cell_type": "markdown",
      "source": [
        "**clean_subcategories**"
      ],
      "metadata": {
        "id": "aEHxMQCuz-VI"
      }
    },
    {
      "cell_type": "code",
      "source": [
        "vectorizer = CountVectorizer()\n",
        "vectorizer.fit(X_train['clean_subcategories'].values) # fit has to happen only on train data\n",
        "\n",
        "# we use the fitted CountVectorizer to convert the text to vector\n",
        "X_train_sub_category_ohe = vectorizer.transform(X_train['clean_subcategories'].values)\n",
        "X_test_sub_category_ohe = vectorizer.transform(X_test['clean_subcategories'].values)\n",
        "\n",
        "print(\"After vectorizations\")\n",
        "print(X_train_sub_category_ohe.shape, y_train.shape)\n",
        "print(X_test_sub_category_ohe.shape, y_test.shape)\n",
        "\n",
        "sub_category_ohe_feature_list = vectorizer.get_feature_names()\n",
        "\n",
        "print(len(sub_category_ohe_feature_list),sub_category_ohe_feature_list[-5:])"
      ],
      "metadata": {
        "colab": {
          "base_uri": "https://localhost:8080/"
        },
        "id": "oYTG80mP0U4T",
        "outputId": "29b74496-c021-4ac7-b765-94e3cd623c0e"
      },
      "execution_count": 130,
      "outputs": [
        {
          "output_type": "stream",
          "name": "stdout",
          "text": [
            "After vectorizations\n",
            "(23450, 28) (23450,)\n",
            "(11550, 28) (11550,)\n",
            "28 ['performingarts', 'socialsciences', 'specialneeds', 'teamsports', 'visualarts']\n"
          ]
        }
      ]
    },
    {
      "cell_type": "code",
      "execution_count": 131,
      "metadata": {
        "id": "EfXkofX1b3da"
      },
      "outputs": [],
      "source": [
        "# Apply One-Hot Encoding on the categorical features either using OneHotEncoder() (or) CountVectorizer(binary=True)\n",
        "# Apply Normalization on the numerical features using Normalizer().\n"
      ]
    },
    {
      "cell_type": "markdown",
      "source": [
        "## Encoding Numerical Features"
      ],
      "metadata": {
        "id": "85o_kKAC061w"
      }
    },
    {
      "cell_type": "markdown",
      "source": [
        "**Price**"
      ],
      "metadata": {
        "id": "7E2xuMkd0_0t"
      }
    },
    {
      "cell_type": "markdown",
      "source": [
        "https://datascience.stackexchange.com/questions/45900/when-to-use-standard-scaler-and-when-normalizer\n",
        "\n",
        "* Normalizer is applied Row-wise, Hence it can be used when we have to normalize the BOW/TF-IDF features as they have around 50k features. but if we want to normalize single feature \"Age\" it would just return 1.\n",
        "\n",
        "* standard Scaler is applied column-wise so this is better choice here but negative values will not work with Naive Bayes\n",
        "\n",
        "* Hence we should use MinMax scaler"
      ],
      "metadata": {
        "id": "0X2kJUge3oPk"
      }
    },
    {
      "cell_type": "code",
      "source": [
        "# In case of Normalization\n",
        "\n",
        "# reshape(-1,1) -- > any number of rows and 1 column  but in our data we have column vector/(one feature only) Hence normalizer will \n",
        "# make all values of column == 1.0 . \n",
        "\n",
        "# reshape(1,-1)  -- this will work fine bcz we will have only one row and Normalizer works along the rows, but it is giving an error "
      ],
      "metadata": {
        "id": "gj6Uct8MFguh"
      },
      "execution_count": 132,
      "outputs": []
    },
    {
      "cell_type": "code",
      "source": [
        "from sklearn.preprocessing import StandardScaler\n",
        "# scaler can also be applied to sparse CSR or CSC matrices by passing with_mean=False\n",
        "# to avoid breaking the sparsity structure of the data.\n",
        "\n",
        "sc = StandardScaler(copy = True,with_mean = True,with_std = True)\n",
        "sc.fit(X_train['price'].values.reshape(-1,1))\n",
        "\n",
        "X_train_price_norm  =  sc.fit_transform(X_train['price'].values.reshape(-1,1))\n",
        "X_test_price_norm   =  sc.fit_transform(X_test['price'].values.reshape(-1,1))\n",
        "\n",
        "print(\"Mean--\",sc.mean_)\n",
        "print(\"std --\",np.sqrt(sc.var_))\n",
        "\n",
        "print(X_train_price_norm.shape)\n",
        "print(X_train_price_norm.shape)\n",
        "\n",
        "print(X_train_price_norm[0])"
      ],
      "metadata": {
        "colab": {
          "base_uri": "https://localhost:8080/"
        },
        "id": "7ydJzfKh0_Cb",
        "outputId": "f5bd4ebd-7694-40b7-d463-3813dd645567"
      },
      "execution_count": 133,
      "outputs": [
        {
          "output_type": "stream",
          "name": "stdout",
          "text": [
            "Mean-- [301.84234286]\n",
            "std -- [341.69947266]\n",
            "(23450, 1)\n",
            "(23450, 1)\n",
            "[0.14577582]\n"
          ]
        }
      ]
    },
    {
      "cell_type": "markdown",
      "source": [
        "## Concatenating the Features"
      ],
      "metadata": {
        "id": "ugBt5whiyZmY"
      }
    },
    {
      "cell_type": "code",
      "source": [
        "print(X_train_essay_bow.shape)\n",
        "print(X_train_state_ohe.shape)\n",
        "print(X_train_teacher_ohe.shape)\n",
        "print(X_train_grade_ohe.shape)\n",
        "print(X_train_category_ohe.shape)\n",
        "print( X_train_sub_category_ohe.shape)\n",
        "print(X_train_price_norm.shape)\n",
        "print(X_train_price_norm.shape)\n",
        "\n",
        "print(X_test_price_norm.shape)"
      ],
      "metadata": {
        "colab": {
          "base_uri": "https://localhost:8080/"
        },
        "id": "_0culRjszjpA",
        "outputId": "d0790fd8-16b3-4541-a6b6-4f35896475ba"
      },
      "execution_count": 134,
      "outputs": [
        {
          "output_type": "stream",
          "name": "stdout",
          "text": [
            "(23450, 5000)\n",
            "(23450, 51)\n",
            "(23450, 5)\n",
            "(23450, 4)\n",
            "(23450, 7)\n",
            "(23450, 28)\n",
            "(23450, 1)\n",
            "(23450, 1)\n",
            "(11550, 1)\n"
          ]
        }
      ]
    },
    {
      "cell_type": "code",
      "source": [
        "from scipy.sparse import hstack\n",
        "\n",
        "X_tr = hstack((X_train_essay_bow, X_train_state_ohe, X_train_teacher_ohe, X_train_grade_ohe,X_train_category_ohe,\n",
        "               X_train_sub_category_ohe,X_train_price_norm)).tocsr()\n",
        "\n",
        "X_te = hstack((X_test_essay_bow, X_test_state_ohe, X_test_teacher_ohe, X_test_grade_ohe,X_test_category_ohe,\n",
        "               X_test_sub_category_ohe,X_test_price_norm)).tocsr()"
      ],
      "metadata": {
        "id": "bndB2LjwydFh"
      },
      "execution_count": 135,
      "outputs": []
    },
    {
      "cell_type": "code",
      "source": [
        "print(\"Final Data matrix\")\n",
        "\n",
        "print(X_tr.shape, y_train.shape)\n",
        "print(X_te.shape, y_test.shape)"
      ],
      "metadata": {
        "colab": {
          "base_uri": "https://localhost:8080/"
        },
        "id": "UEEp1Xfw3IvE",
        "outputId": "bbb9649f-8261-4744-c244-664830faa154"
      },
      "execution_count": 136,
      "outputs": [
        {
          "output_type": "stream",
          "name": "stdout",
          "text": [
            "Final Data matrix\n",
            "(23450, 5096) (23450,)\n",
            "(11550, 5096) (11550,)\n"
          ]
        }
      ]
    },
    {
      "cell_type": "code",
      "source": [
        "from sklearn.model_selection import RandomizedSearchCV\n",
        "from scipy.stats import randint as sp_randint\n",
        "from sklearn.naive_bayes import MultinomialNB\n",
        "\n",
        "alpha = [0.00001,0.0005, 0.0001,0.005,0.001,0.05,0.01,0.1,0.5,1,5,10,50,100] \n",
        "log_alpha = list(map(lambda x : math.log10(x), alpha))\n",
        "\n",
        "\n",
        "naive_bayes = MultinomialNB()\n",
        "\n",
        "parameters  = { 'alpha':log_alpha }\n",
        "clf         = RandomizedSearchCV(naive_bayes, parameters, cv = 3, scoring = 'roc_auc',return_train_score =  True)\n",
        "clf.fit(X_tr, y_train)"
      ],
      "metadata": {
        "colab": {
          "base_uri": "https://localhost:8080/",
          "height": 346
        },
        "id": "0Wpe1hSLQuKT",
        "outputId": "28e2a1d2-0a86-4d7a-d213-6f9f1e33bae4"
      },
      "execution_count": 137,
      "outputs": [
        {
          "output_type": "error",
          "ename": "ValueError",
          "evalue": "ignored",
          "traceback": [
            "\u001b[0;31m---------------------------------------------------------------------------\u001b[0m",
            "\u001b[0;31mValueError\u001b[0m                                Traceback (most recent call last)",
            "\u001b[0;32m<ipython-input-137-ff6defa96bdc>\u001b[0m in \u001b[0;36m<module>\u001b[0;34m()\u001b[0m\n\u001b[1;32m     11\u001b[0m \u001b[0mparameters\u001b[0m  \u001b[0;34m=\u001b[0m \u001b[0;34m{\u001b[0m \u001b[0;34m'alpha'\u001b[0m\u001b[0;34m:\u001b[0m\u001b[0mlog_alpha\u001b[0m \u001b[0;34m}\u001b[0m\u001b[0;34m\u001b[0m\u001b[0;34m\u001b[0m\u001b[0m\n\u001b[1;32m     12\u001b[0m \u001b[0mclf\u001b[0m         \u001b[0;34m=\u001b[0m \u001b[0mRandomizedSearchCV\u001b[0m\u001b[0;34m(\u001b[0m\u001b[0mnaive_bayes\u001b[0m\u001b[0;34m,\u001b[0m \u001b[0mparameters\u001b[0m\u001b[0;34m,\u001b[0m \u001b[0mcv\u001b[0m \u001b[0;34m=\u001b[0m \u001b[0;36m3\u001b[0m\u001b[0;34m,\u001b[0m \u001b[0mscoring\u001b[0m \u001b[0;34m=\u001b[0m \u001b[0;34m'roc_auc'\u001b[0m\u001b[0;34m,\u001b[0m\u001b[0mreturn_train_score\u001b[0m \u001b[0;34m=\u001b[0m  \u001b[0;32mTrue\u001b[0m\u001b[0;34m)\u001b[0m\u001b[0;34m\u001b[0m\u001b[0;34m\u001b[0m\u001b[0m\n\u001b[0;32m---> 13\u001b[0;31m \u001b[0mclf\u001b[0m\u001b[0;34m.\u001b[0m\u001b[0mfit\u001b[0m\u001b[0;34m(\u001b[0m\u001b[0mX_tr\u001b[0m\u001b[0;34m,\u001b[0m \u001b[0my_train\u001b[0m\u001b[0;34m)\u001b[0m\u001b[0;34m\u001b[0m\u001b[0;34m\u001b[0m\u001b[0m\n\u001b[0m",
            "\u001b[0;32m/usr/local/lib/python3.7/dist-packages/sklearn/model_selection/_search.py\u001b[0m in \u001b[0;36mfit\u001b[0;34m(self, X, y, groups, **fit_params)\u001b[0m\n\u001b[1;32m    924\u001b[0m             \u001b[0mrefit_start_time\u001b[0m \u001b[0;34m=\u001b[0m \u001b[0mtime\u001b[0m\u001b[0;34m.\u001b[0m\u001b[0mtime\u001b[0m\u001b[0;34m(\u001b[0m\u001b[0;34m)\u001b[0m\u001b[0;34m\u001b[0m\u001b[0;34m\u001b[0m\u001b[0m\n\u001b[1;32m    925\u001b[0m             \u001b[0;32mif\u001b[0m \u001b[0my\u001b[0m \u001b[0;32mis\u001b[0m \u001b[0;32mnot\u001b[0m \u001b[0;32mNone\u001b[0m\u001b[0;34m:\u001b[0m\u001b[0;34m\u001b[0m\u001b[0;34m\u001b[0m\u001b[0m\n\u001b[0;32m--> 926\u001b[0;31m                 \u001b[0mself\u001b[0m\u001b[0;34m.\u001b[0m\u001b[0mbest_estimator_\u001b[0m\u001b[0;34m.\u001b[0m\u001b[0mfit\u001b[0m\u001b[0;34m(\u001b[0m\u001b[0mX\u001b[0m\u001b[0;34m,\u001b[0m \u001b[0my\u001b[0m\u001b[0;34m,\u001b[0m \u001b[0;34m**\u001b[0m\u001b[0mfit_params\u001b[0m\u001b[0;34m)\u001b[0m\u001b[0;34m\u001b[0m\u001b[0;34m\u001b[0m\u001b[0m\n\u001b[0m\u001b[1;32m    927\u001b[0m             \u001b[0;32melse\u001b[0m\u001b[0;34m:\u001b[0m\u001b[0;34m\u001b[0m\u001b[0;34m\u001b[0m\u001b[0m\n\u001b[1;32m    928\u001b[0m                 \u001b[0mself\u001b[0m\u001b[0;34m.\u001b[0m\u001b[0mbest_estimator_\u001b[0m\u001b[0;34m.\u001b[0m\u001b[0mfit\u001b[0m\u001b[0;34m(\u001b[0m\u001b[0mX\u001b[0m\u001b[0;34m,\u001b[0m \u001b[0;34m**\u001b[0m\u001b[0mfit_params\u001b[0m\u001b[0;34m)\u001b[0m\u001b[0;34m\u001b[0m\u001b[0;34m\u001b[0m\u001b[0m\n",
            "\u001b[0;32m/usr/local/lib/python3.7/dist-packages/sklearn/naive_bayes.py\u001b[0m in \u001b[0;36mfit\u001b[0;34m(self, X, y, sample_weight)\u001b[0m\n\u001b[1;32m    688\u001b[0m         \u001b[0mn_classes\u001b[0m \u001b[0;34m=\u001b[0m \u001b[0mY\u001b[0m\u001b[0;34m.\u001b[0m\u001b[0mshape\u001b[0m\u001b[0;34m[\u001b[0m\u001b[0;36m1\u001b[0m\u001b[0;34m]\u001b[0m\u001b[0;34m\u001b[0m\u001b[0;34m\u001b[0m\u001b[0m\n\u001b[1;32m    689\u001b[0m         \u001b[0mself\u001b[0m\u001b[0;34m.\u001b[0m\u001b[0m_init_counters\u001b[0m\u001b[0;34m(\u001b[0m\u001b[0mn_classes\u001b[0m\u001b[0;34m,\u001b[0m \u001b[0mn_features\u001b[0m\u001b[0;34m)\u001b[0m\u001b[0;34m\u001b[0m\u001b[0;34m\u001b[0m\u001b[0m\n\u001b[0;32m--> 690\u001b[0;31m         \u001b[0mself\u001b[0m\u001b[0;34m.\u001b[0m\u001b[0m_count\u001b[0m\u001b[0;34m(\u001b[0m\u001b[0mX\u001b[0m\u001b[0;34m,\u001b[0m \u001b[0mY\u001b[0m\u001b[0;34m)\u001b[0m\u001b[0;34m\u001b[0m\u001b[0;34m\u001b[0m\u001b[0m\n\u001b[0m\u001b[1;32m    691\u001b[0m         \u001b[0malpha\u001b[0m \u001b[0;34m=\u001b[0m \u001b[0mself\u001b[0m\u001b[0;34m.\u001b[0m\u001b[0m_check_alpha\u001b[0m\u001b[0;34m(\u001b[0m\u001b[0;34m)\u001b[0m\u001b[0;34m\u001b[0m\u001b[0;34m\u001b[0m\u001b[0m\n\u001b[1;32m    692\u001b[0m         \u001b[0mself\u001b[0m\u001b[0;34m.\u001b[0m\u001b[0m_update_feature_log_prob\u001b[0m\u001b[0;34m(\u001b[0m\u001b[0malpha\u001b[0m\u001b[0;34m)\u001b[0m\u001b[0;34m\u001b[0m\u001b[0;34m\u001b[0m\u001b[0m\n",
            "\u001b[0;32m/usr/local/lib/python3.7/dist-packages/sklearn/naive_bayes.py\u001b[0m in \u001b[0;36m_count\u001b[0;34m(self, X, Y)\u001b[0m\n\u001b[1;32m    861\u001b[0m     \u001b[0;32mdef\u001b[0m \u001b[0m_count\u001b[0m\u001b[0;34m(\u001b[0m\u001b[0mself\u001b[0m\u001b[0;34m,\u001b[0m \u001b[0mX\u001b[0m\u001b[0;34m,\u001b[0m \u001b[0mY\u001b[0m\u001b[0;34m)\u001b[0m\u001b[0;34m:\u001b[0m\u001b[0;34m\u001b[0m\u001b[0;34m\u001b[0m\u001b[0m\n\u001b[1;32m    862\u001b[0m         \u001b[0;34m\"\"\"Count and smooth feature occurrences.\"\"\"\u001b[0m\u001b[0;34m\u001b[0m\u001b[0;34m\u001b[0m\u001b[0m\n\u001b[0;32m--> 863\u001b[0;31m         \u001b[0mcheck_non_negative\u001b[0m\u001b[0;34m(\u001b[0m\u001b[0mX\u001b[0m\u001b[0;34m,\u001b[0m \u001b[0;34m\"MultinomialNB (input X)\"\u001b[0m\u001b[0;34m)\u001b[0m\u001b[0;34m\u001b[0m\u001b[0;34m\u001b[0m\u001b[0m\n\u001b[0m\u001b[1;32m    864\u001b[0m         \u001b[0mself\u001b[0m\u001b[0;34m.\u001b[0m\u001b[0mfeature_count_\u001b[0m \u001b[0;34m+=\u001b[0m \u001b[0msafe_sparse_dot\u001b[0m\u001b[0;34m(\u001b[0m\u001b[0mY\u001b[0m\u001b[0;34m.\u001b[0m\u001b[0mT\u001b[0m\u001b[0;34m,\u001b[0m \u001b[0mX\u001b[0m\u001b[0;34m)\u001b[0m\u001b[0;34m\u001b[0m\u001b[0;34m\u001b[0m\u001b[0m\n\u001b[1;32m    865\u001b[0m         \u001b[0mself\u001b[0m\u001b[0;34m.\u001b[0m\u001b[0mclass_count_\u001b[0m \u001b[0;34m+=\u001b[0m \u001b[0mY\u001b[0m\u001b[0;34m.\u001b[0m\u001b[0msum\u001b[0m\u001b[0;34m(\u001b[0m\u001b[0maxis\u001b[0m\u001b[0;34m=\u001b[0m\u001b[0;36m0\u001b[0m\u001b[0;34m)\u001b[0m\u001b[0;34m\u001b[0m\u001b[0;34m\u001b[0m\u001b[0m\n",
            "\u001b[0;32m/usr/local/lib/python3.7/dist-packages/sklearn/utils/validation.py\u001b[0m in \u001b[0;36mcheck_non_negative\u001b[0;34m(X, whom)\u001b[0m\n\u001b[1;32m   1247\u001b[0m \u001b[0;34m\u001b[0m\u001b[0m\n\u001b[1;32m   1248\u001b[0m     \u001b[0;32mif\u001b[0m \u001b[0mX_min\u001b[0m \u001b[0;34m<\u001b[0m \u001b[0;36m0\u001b[0m\u001b[0;34m:\u001b[0m\u001b[0;34m\u001b[0m\u001b[0;34m\u001b[0m\u001b[0m\n\u001b[0;32m-> 1249\u001b[0;31m         \u001b[0;32mraise\u001b[0m \u001b[0mValueError\u001b[0m\u001b[0;34m(\u001b[0m\u001b[0;34m\"Negative values in data passed to %s\"\u001b[0m \u001b[0;34m%\u001b[0m \u001b[0mwhom\u001b[0m\u001b[0;34m)\u001b[0m\u001b[0;34m\u001b[0m\u001b[0;34m\u001b[0m\u001b[0m\n\u001b[0m\u001b[1;32m   1250\u001b[0m \u001b[0;34m\u001b[0m\u001b[0m\n\u001b[1;32m   1251\u001b[0m \u001b[0;34m\u001b[0m\u001b[0m\n",
            "\u001b[0;31mValueError\u001b[0m: Negative values in data passed to MultinomialNB (input X)"
          ]
        }
      ]
    },
    {
      "cell_type": "markdown",
      "source": [
        "* Hence we cannot pass negative values to Naive Bayes.so we have to improvise our scaling\n",
        "\n",
        "https://scikit-learn.org/stable/modules/generated/sklearn.preprocessing.MinMaxScaler.html"
      ],
      "metadata": {
        "id": "fKGMatxfRMQv"
      }
    },
    {
      "cell_type": "code",
      "source": [
        "from sklearn.preprocessing import MinMaxScaler\n",
        "\n",
        "sc = MinMaxScaler()\n",
        "sc.fit(X_train['price'].values.reshape(-1,1))\n",
        "\n",
        "X_train_price_norm  =  sc.fit_transform(X_train['price'].values.reshape(-1,1))\n",
        "X_test_price_norm   =  sc.fit_transform(X_test['price'].values.reshape(-1,1))\n",
        "\n",
        "print(sc.data_min_)\n",
        "print(sc.data_max_)\n",
        "\n",
        "print(X_train_price_norm.shape)\n",
        "print(X_train_price_norm.shape)\n",
        "\n",
        "print(X_train_price_norm[0])"
      ],
      "metadata": {
        "colab": {
          "base_uri": "https://localhost:8080/"
        },
        "id": "Vyrl7Em8RX-w",
        "outputId": "21c132d0-6d68-4b9b-e460-199c241a579a"
      },
      "execution_count": 138,
      "outputs": [
        {
          "output_type": "stream",
          "name": "stdout",
          "text": [
            "[0.69]\n",
            "[9534.67]\n",
            "(23450, 1)\n",
            "(23450, 1)\n",
            "[0.03535172]\n"
          ]
        }
      ]
    },
    {
      "cell_type": "code",
      "source": [
        "from scipy.sparse import hstack\n",
        "\n",
        "X_tr = hstack((X_train_essay_bow, X_train_state_ohe, X_train_teacher_ohe, X_train_grade_ohe,X_train_category_ohe,\n",
        "               X_train_sub_category_ohe,X_train_price_norm)).tocsr()\n",
        "\n",
        "X_te = hstack((X_test_essay_bow, X_test_state_ohe, X_test_teacher_ohe, X_test_grade_ohe,X_test_category_ohe,\n",
        "               X_test_sub_category_ohe,X_test_price_norm)).tocsr()\n",
        "\n",
        "print(\"Final Data matrix\")\n",
        "\n",
        "print(X_tr.shape, y_train.shape)\n",
        "print(X_te.shape, y_test.shape)"
      ],
      "metadata": {
        "colab": {
          "base_uri": "https://localhost:8080/"
        },
        "id": "blZlMkKBTOIP",
        "outputId": "ee259af8-f05a-4460-8696-d82a072978ec"
      },
      "execution_count": 139,
      "outputs": [
        {
          "output_type": "stream",
          "name": "stdout",
          "text": [
            "Final Data matrix\n",
            "(23450, 5096) (23450,)\n",
            "(11550, 5096) (11550,)\n"
          ]
        }
      ]
    },
    {
      "cell_type": "markdown",
      "metadata": {
        "id": "yYHPYadYb3dh"
      },
      "source": [
        "<h2>1.5 Appling NB on different kind of featurization as mentioned in the instructions</h2>\n",
        "\n",
        "<br>Apply NB on different kind of featurization as mentioned in the instructions\n",
        "<br> For Every model that you work on make sure you do the step 2 and step 3 of instrucations"
      ]
    },
    {
      "cell_type": "markdown",
      "metadata": {
        "id": "DNwqilFxb3di"
      },
      "source": [
        "#### Set 1"
      ]
    },
    {
      "cell_type": "code",
      "execution_count": 140,
      "metadata": {
        "id": "oI0qfUprvXG_",
        "colab": {
          "base_uri": "https://localhost:8080/",
          "height": 635
        },
        "outputId": "d3c0b924-6102-47ef-f1af-84818042e03e"
      },
      "outputs": [
        {
          "output_type": "display_data",
          "data": {
            "image/png": "[encoded data removed]",
            "text/plain": [
              "<Figure size 432x288 with 1 Axes>"
            ]
          },
          "metadata": {
            "needs_background": "light"
          }
        },
        {
          "output_type": "execute_result",
          "data": {
            "text/html": [
              "\n",
              "  <div id=\"df-63b85488-3e9e-4071-a96d-e49100e64d84\">\n",
              "    <div class=\"colab-df-container\">\n",
              "      <div>\n",
              "<style scoped>\n",
              "    .dataframe tbody tr th:only-of-type {\n",
              "        vertical-align: middle;\n",
              "    }\n",
              "\n",
              "    .dataframe tbody tr th {\n",
              "        vertical-align: top;\n",
              "    }\n",
              "\n",
              "    .dataframe thead th {\n",
              "        text-align: right;\n",
              "    }\n",
              "</style>\n",
              "<table border=\"1\" class=\"dataframe\">\n",
              "  <thead>\n",
              "    <tr style=\"text-align: right;\">\n",
              "      <th></th>\n",
              "      <th>mean_fit_time</th>\n",
              "      <th>std_fit_time</th>\n",
              "      <th>mean_score_time</th>\n",
              "      <th>std_score_time</th>\n",
              "      <th>param_alpha</th>\n",
              "      <th>params</th>\n",
              "      <th>split0_test_score</th>\n",
              "      <th>split1_test_score</th>\n",
              "      <th>mean_test_score</th>\n",
              "      <th>std_test_score</th>\n",
              "      <th>rank_test_score</th>\n",
              "      <th>split0_train_score</th>\n",
              "      <th>split1_train_score</th>\n",
              "      <th>mean_train_score</th>\n",
              "      <th>std_train_score</th>\n",
              "    </tr>\n",
              "  </thead>\n",
              "  <tbody>\n",
              "    <tr>\n",
              "      <th>7</th>\n",
              "      <td>0.023458</td>\n",
              "      <td>0.001023</td>\n",
              "      <td>0.014969</td>\n",
              "      <td>0.000343</td>\n",
              "      <td>0.00001</td>\n",
              "      <td>{'alpha': 1e-05}</td>\n",
              "      <td>0.697002</td>\n",
              "      <td>0.701578</td>\n",
              "      <td>0.699290</td>\n",
              "      <td>0.002288</td>\n",
              "      <td>6</td>\n",
              "      <td>0.815560</td>\n",
              "      <td>0.806196</td>\n",
              "      <td>0.810878</td>\n",
              "      <td>0.004682</td>\n",
              "    </tr>\n",
              "    <tr>\n",
              "      <th>8</th>\n",
              "      <td>0.022836</td>\n",
              "      <td>0.000004</td>\n",
              "      <td>0.014637</td>\n",
              "      <td>0.000336</td>\n",
              "      <td>0.0001</td>\n",
              "      <td>{'alpha': 0.0001}</td>\n",
              "      <td>0.697127</td>\n",
              "      <td>0.701659</td>\n",
              "      <td>0.699393</td>\n",
              "      <td>0.002266</td>\n",
              "      <td>5</td>\n",
              "      <td>0.815504</td>\n",
              "      <td>0.806143</td>\n",
              "      <td>0.810824</td>\n",
              "      <td>0.004681</td>\n",
              "    </tr>\n",
              "    <tr>\n",
              "      <th>0</th>\n",
              "      <td>0.027885</td>\n",
              "      <td>0.004189</td>\n",
              "      <td>0.014566</td>\n",
              "      <td>0.000419</td>\n",
              "      <td>0.0005</td>\n",
              "      <td>{'alpha': 0.0005}</td>\n",
              "      <td>0.697210</td>\n",
              "      <td>0.701702</td>\n",
              "      <td>0.699456</td>\n",
              "      <td>0.002246</td>\n",
              "      <td>4</td>\n",
              "      <td>0.815451</td>\n",
              "      <td>0.806083</td>\n",
              "      <td>0.810767</td>\n",
              "      <td>0.004684</td>\n",
              "    </tr>\n",
              "    <tr>\n",
              "      <th>5</th>\n",
              "      <td>0.022458</td>\n",
              "      <td>0.000008</td>\n",
              "      <td>0.019499</td>\n",
              "      <td>0.005028</td>\n",
              "      <td>0.001</td>\n",
              "      <td>{'alpha': 0.001}</td>\n",
              "      <td>0.697242</td>\n",
              "      <td>0.701717</td>\n",
              "      <td>0.699479</td>\n",
              "      <td>0.002237</td>\n",
              "      <td>3</td>\n",
              "      <td>0.815423</td>\n",
              "      <td>0.806051</td>\n",
              "      <td>0.810737</td>\n",
              "      <td>0.004686</td>\n",
              "    </tr>\n",
              "    <tr>\n",
              "      <th>6</th>\n",
              "      <td>0.022474</td>\n",
              "      <td>0.000682</td>\n",
              "      <td>0.014870</td>\n",
              "      <td>0.000519</td>\n",
              "      <td>0.01</td>\n",
              "      <td>{'alpha': 0.01}</td>\n",
              "      <td>0.697353</td>\n",
              "      <td>0.701732</td>\n",
              "      <td>0.699543</td>\n",
              "      <td>0.002190</td>\n",
              "      <td>1</td>\n",
              "      <td>0.815290</td>\n",
              "      <td>0.805880</td>\n",
              "      <td>0.810585</td>\n",
              "      <td>0.004705</td>\n",
              "    </tr>\n",
              "  </tbody>\n",
              "</table>\n",
              "</div>\n",
              "      <button class=\"colab-df-convert\" onclick=\"convertToInteractive('df-63b85488-3e9e-4071-a96d-e49100e64d84')\"\n",
              "              title=\"Convert this dataframe to an interactive table.\"\n",
              "              style=\"display:none;\">\n",
              "        \n",
              "  <svg xmlns=\"http://www.w3.org/2000/svg\" height=\"24px\"viewBox=\"0 0 24 24\"\n",
              "       width=\"24px\">\n",
              "    <path d=\"M0 0h24v24H0V0z\" fill=\"none\"/>\n",
              "    <path d=\"M18.56 5.44l.94 2.06.94-2.06 2.06-.94-2.06-.94-.94-2.06-.94 2.06-2.06.94zm-11 1L8.5 8.5l.94-2.06 2.06-.94-2.06-.94L8.5 2.5l-.94 2.06-2.06.94zm10 10l.94 2.06.94-2.06 2.06-.94-2.06-.94-.94-2.06-.94 2.06-2.06.94z\"/><path d=\"M17.41 7.96l-1.37-1.37c-.4-.4-.92-.59-1.43-.59-.52 0-1.04.2-1.43.59L10.3 9.45l-7.72 7.72c-.78.78-.78 2.05 0 2.83L4 21.41c.39.39.9.59 1.41.59.51 0 1.02-.2 1.41-.59l7.78-7.78 2.81-2.81c.8-.78.8-2.07 0-2.86zM5.41 20L4 18.59l7.72-7.72 1.47 1.35L5.41 20z\"/>\n",
              "  </svg>\n",
              "      </button>\n",
              "      \n",
              "  <style>\n",
              "    .colab-df-container {\n",
              "      display:flex;\n",
              "      flex-wrap:wrap;\n",
              "      gap: 12px;\n",
              "    }\n",
              "\n",
              "    .colab-df-convert {\n",
              "      background-color: #E8F0FE;\n",
              "      border: none;\n",
              "      border-radius: 50%;\n",
              "      cursor: pointer;\n",
              "      display: none;\n",
              "      fill: #1967D2;\n",
              "      height: 32px;\n",
              "      padding: 0 0 0 0;\n",
              "      width: 32px;\n",
              "    }\n",
              "\n",
              "    .colab-df-convert:hover {\n",
              "      background-color: #E2EBFA;\n",
              "      box-shadow: 0px 1px 2px rgba(60, 64, 67, 0.3), 0px 1px 3px 1px rgba(60, 64, 67, 0.15);\n",
              "      fill: #174EA6;\n",
              "    }\n",
              "\n",
              "    [theme=dark] .colab-df-convert {\n",
              "      background-color: #3B4455;\n",
              "      fill: #D2E3FC;\n",
              "    }\n",
              "\n",
              "    [theme=dark] .colab-df-convert:hover {\n",
              "      background-color: #434B5C;\n",
              "      box-shadow: 0px 1px 3px 1px rgba(0, 0, 0, 0.15);\n",
              "      filter: drop-shadow(0px 1px 2px rgba(0, 0, 0, 0.3));\n",
              "      fill: #FFFFFF;\n",
              "    }\n",
              "  </style>\n",
              "\n",
              "      <script>\n",
              "        const buttonEl =\n",
              "          document.querySelector('#df-63b85488-3e9e-4071-a96d-e49100e64d84 button.colab-df-convert');\n",
              "        buttonEl.style.display =\n",
              "          google.colab.kernel.accessAllowed ? 'block' : 'none';\n",
              "\n",
              "        async function convertToInteractive(key) {\n",
              "          const element = document.querySelector('#df-63b85488-3e9e-4071-a96d-e49100e64d84');\n",
              "          const dataTable =\n",
              "            await google.colab.kernel.invokeFunction('convertToInteractive',\n",
              "                                                     [key], {});\n",
              "          if (!dataTable) return;\n",
              "\n",
              "          const docLinkHtml = 'Like what you see? Visit the ' +\n",
              "            '<a target=\"_blank\" href=https://colab.research.google.com/notebooks/data_table.ipynb>data table notebook</a>'\n",
              "            + ' to learn more about interactive tables.';\n",
              "          element.innerHTML = '';\n",
              "          dataTable['output_type'] = 'display_data';\n",
              "          await google.colab.output.renderOutput(dataTable, element);\n",
              "          const docLink = document.createElement('div');\n",
              "          docLink.innerHTML = docLinkHtml;\n",
              "          element.appendChild(docLink);\n",
              "        }\n",
              "      </script>\n",
              "    </div>\n",
              "  </div>\n",
              "  "
            ],
            "text/plain": [
              "   mean_fit_time  std_fit_time  mean_score_time  std_score_time param_alpha  \\\n",
              "7       0.023458      0.001023         0.014969        0.000343     0.00001   \n",
              "8       0.022836      0.000004         0.014637        0.000336      0.0001   \n",
              "0       0.027885      0.004189         0.014566        0.000419      0.0005   \n",
              "5       0.022458      0.000008         0.019499        0.005028       0.001   \n",
              "6       0.022474      0.000682         0.014870        0.000519        0.01   \n",
              "\n",
              "              params  split0_test_score  split1_test_score  mean_test_score  \\\n",
              "7   {'alpha': 1e-05}           0.697002           0.701578         0.699290   \n",
              "8  {'alpha': 0.0001}           0.697127           0.701659         0.699393   \n",
              "0  {'alpha': 0.0005}           0.697210           0.701702         0.699456   \n",
              "5   {'alpha': 0.001}           0.697242           0.701717         0.699479   \n",
              "6    {'alpha': 0.01}           0.697353           0.701732         0.699543   \n",
              "\n",
              "   std_test_score  rank_test_score  split0_train_score  split1_train_score  \\\n",
              "7        0.002288                6            0.815560            0.806196   \n",
              "8        0.002266                5            0.815504            0.806143   \n",
              "0        0.002246                4            0.815451            0.806083   \n",
              "5        0.002237                3            0.815423            0.806051   \n",
              "6        0.002190                1            0.815290            0.805880   \n",
              "\n",
              "   mean_train_score  std_train_score  \n",
              "7          0.810878         0.004682  \n",
              "8          0.810824         0.004681  \n",
              "0          0.810767         0.004684  \n",
              "5          0.810737         0.004686  \n",
              "6          0.810585         0.004705  "
            ]
          },
          "metadata": {},
          "execution_count": 140
        }
      ],
      "source": [
        "# Perform Hyperparameter Tuning.\n",
        "# Plot the training and the CV AUC scores, for different values of 'alpha', using a 2D line plot\n",
        "\n",
        "\n",
        "\n",
        "from sklearn.model_selection import RandomizedSearchCV\n",
        "from scipy.stats import randint as sp_randint\n",
        "from sklearn.naive_bayes import MultinomialNB\n",
        "\n",
        "alpha     = [0.00001,0.0005, 0.0001,0.005,0.001,0.05,0.01,0.1,0.5,1,5,10,50,100] \n",
        "\n",
        "naive_bayes = MultinomialNB()\n",
        "parameters  = { 'alpha':alpha }\n",
        "clf         = RandomizedSearchCV(naive_bayes, parameters, cv = 2, scoring = 'roc_auc',return_train_score =  True)\n",
        "search      = clf.fit(X_tr, y_train)\n",
        "\n",
        "results = pd.DataFrame.from_dict(clf.cv_results_)\n",
        "results = results.sort_values(['param_alpha'])\n",
        "\n",
        "train_auc     = results['mean_train_score']\n",
        "train_auc_std = results['std_train_score']\n",
        "cv_auc        = results['mean_test_score'] \n",
        "cv_auc_std    = results['std_test_score']\n",
        "param_alpha   = results['param_alpha']\n",
        "\n",
        "plt.plot(param_alpha, train_auc, label='Train AUC')\n",
        "plt.plot(param_alpha, cv_auc, label='CV AUC')\n",
        "\n",
        "plt.scatter(param_alpha, train_auc, label='Train AUC points')\n",
        "plt.scatter(param_alpha, cv_auc,    label='CV AUC points')\n",
        "\n",
        "\n",
        "plt.legend()\n",
        "\n",
        "plt.xlabel(\"Alpha: hyperparameter\")\n",
        "plt.ylabel(\"AUC\")\n",
        "\n",
        "plt.title(\"Hyper parameter Vs AUC plot\")\n",
        "\n",
        "plt.grid()\n",
        "plt.show()\n",
        "\n",
        "results.head()"
      ]
    },
    {
      "cell_type": "code",
      "source": [
        "log_alpha = list(map(lambda x : math.log10(x), param_alpha))\n",
        "\n",
        "plt.plot(log_alpha, train_auc, label='Train AUC')\n",
        "plt.plot(log_alpha, cv_auc, label='CV AUC')\n",
        "\n",
        "plt.scatter(log_alpha, train_auc, label='Train AUC points')\n",
        "plt.scatter(log_alpha, cv_auc,    label='CV AUC points')\n",
        "\n",
        "\n",
        "plt.legend()\n",
        "\n",
        "plt.xlabel(\"Alpha: hyperparameter\")\n",
        "plt.ylabel(\"AUC\")\n",
        "\n",
        "plt.title(\"Hyper parameter Vs AUC plot\")\n",
        "\n",
        "plt.grid()\n",
        "plt.show()\n",
        "\n",
        "print(\"optimal Alpha:-\",search.best_params_)"
      ],
      "metadata": {
        "colab": {
          "base_uri": "https://localhost:8080/",
          "height": 313
        },
        "id": "HgXQ1aofbljc",
        "outputId": "99b243b6-400e-4ffc-96ea-1203e2bf9b0f"
      },
      "execution_count": 141,
      "outputs": [
        {
          "output_type": "display_data",
          "data": {
            "image/png": "[encoded data removed]",
            "text/plain": [
              "<Figure size 432x288 with 1 Axes>"
            ]
          },
          "metadata": {
            "needs_background": "light"
          }
        },
        {
          "output_type": "stream",
          "name": "stdout",
          "text": [
            "optimal Alpha:- {'alpha': 0.01}\n"
          ]
        }
      ]
    },
    {
      "cell_type": "markdown",
      "source": [
        " https://scikit-learn.org/stable/modules/generated/sklearn.metrics.roc_curve.html#sklearn.metrics.roc_curve"
      ],
      "metadata": {
        "id": "6c47ywR66k1n"
      }
    },
    {
      "cell_type": "code",
      "execution_count": 142,
      "metadata": {
        "id": "6PGjj5jfvXG_",
        "colab": {
          "base_uri": "https://localhost:8080/"
        },
        "outputId": "3153a2d2-d5b0-4d06-e83d-bdd8471db124"
      },
      "outputs": [
        {
          "output_type": "execute_result",
          "data": {
            "text/plain": [
              "array([9.60797448e-19, 9.92448787e-01, 4.32229575e-04, ...,\n",
              "       1.00000000e+00, 9.99999844e-01, 9.97788890e-01])"
            ]
          },
          "metadata": {},
          "execution_count": 142
        }
      ],
      "source": [
        "# Obtain the optimal value for 'alpha' and using the obtained optimal 'alpha' value, fit a multinomial naive bayes model, on the train data,\n",
        "# Note: If you have split the datase into 3 parts (ie., train, cv and test sets) in the beginning, then the training datafor this final model would be (train set + cv set)\n",
        "# Make class label and probability predictions on the train and test data.\n",
        "\n",
        "from sklearn.metrics import roc_curve, auc\n",
        "\n",
        "\n",
        "nb = MultinomialNB(alpha = 0.005)\n",
        "nb.fit(X_tr, y_train)\n",
        "# roc_auc_score(y_true, y_score) the 2nd parameter should be probability estimates of the positive class\n",
        "# not the predicted outputs\n",
        "\n",
        "y_train_pred = nb.predict_proba(X_tr)[:,1]\n",
        "y_test_pred  = nb.predict_proba(X_te)[:,1]\n",
        "\n",
        "y_test_pred"
      ]
    },
    {
      "cell_type": "code",
      "execution_count": 143,
      "metadata": {
        "id": "kUEaOwxjvXHA",
        "colab": {
          "base_uri": "https://localhost:8080/",
          "height": 295
        },
        "outputId": "d7ec0004-4bd1-43f1-fd57-4c5a8fab49c0"
      },
      "outputs": [
        {
          "output_type": "display_data",
          "data": {
            "image/png": "[encoded data removed]",
            "text/plain": [
              "<Figure size 432x288 with 1 Axes>"
            ]
          },
          "metadata": {
            "needs_background": "light"
          }
        }
      ],
      "source": [
        "# Plot the ROC-AUC curves using the probability predictions made on train and test data.\n",
        "\n",
        "train_fpr, train_tpr, tr_thresholds = roc_curve(y_train, y_train_pred)\n",
        "test_fpr,  test_tpr, te_thresholds  = roc_curve(y_test,  y_test_pred)\n",
        "\n",
        "plt.plot(train_fpr, train_tpr, label=\"train AUC =\"+str(auc(train_fpr, train_tpr)))\n",
        "plt.plot(test_fpr, test_tpr,   label=\"test AUC  =\"+str(auc(test_fpr, test_tpr)))\n",
        "\n",
        "plt.legend()\n",
        "\n",
        "plt.xlabel(\"K: hyperparameter\")\n",
        "plt.ylabel(\"AUC\")\n",
        "\n",
        "plt.title(\"ERROR PLOTS\")\n",
        "\n",
        "plt.grid()\n",
        "plt.show()"
      ]
    },
    {
      "cell_type": "code",
      "source": [
        "print( test_fpr[:-3] ) # printing last three values \n",
        "\n",
        "print(1 - test_fpr[:-3]) # printing 1 - last three values "
      ],
      "metadata": {
        "colab": {
          "base_uri": "https://localhost:8080/"
        },
        "id": "p7S_aQsa8ukA",
        "outputId": "7c4670a2-7853-45b5-daa0-7845f31a3f68"
      },
      "execution_count": 144,
      "outputs": [
        {
          "output_type": "stream",
          "name": "stdout",
          "text": [
            "[0.00000000e+00 5.64334086e-04 1.12866817e-03 ... 9.98306998e-01\n",
            " 9.98871332e-01 9.98871332e-01]\n",
            "[1.         0.99943567 0.99887133 ... 0.001693   0.00112867 0.00112867]\n"
          ]
        }
      ]
    },
    {
      "cell_type": "code",
      "execution_count": 145,
      "metadata": {
        "id": "k1HeWZiFvXHB"
      },
      "outputs": [],
      "source": [
        "# Pick the best threshold among the probability estimates, such that it has to yield maximum value for TPR*(1-FPR)\n",
        "def find_best_threshold(threshold, fpr, tpr):\n",
        "    t = threshold[np.argmax(tpr*(1-fpr))]\n",
        "    # (tpr*(1-fpr)) will be maximum if your fpr is very low and tpr is very high\n",
        "    print(\"the maximum value of tpr*(1-fpr)\", max(tpr*(1-fpr)), \"for threshold\", np.round(t,3))\n",
        "    \n",
        "    return t\n",
        "\n",
        "def predict_with_best_t(proba, threshold):\n",
        "    predictions = []\n",
        "    \n",
        "    for i in proba:\n",
        "        if i>= threshold:\n",
        "            predictions.append(1)\n",
        "        else:\n",
        "            predictions.append(0)\n",
        "    return predictions\n"
      ]
    },
    {
      "cell_type": "code",
      "source": [
        "# Plot the confusion matrices(each for train and test data) afer encoding the predicted class labels, on the basis of the best threshod probability estimate.\n",
        "from sklearn.metrics import confusion_matrix\n",
        "\n",
        "best_t = find_best_threshold(tr_thresholds, train_fpr, train_tpr) # find threshold using train data and predict both train and test data.\n",
        "\n",
        "print(\"Train confusion matrix\")\n",
        "print(confusion_matrix(y_train, predict_with_best_t(y_train_pred, best_t)))\n",
        "\n",
        "print(\"Test confusion matrix\")\n",
        "print(confusion_matrix(y_test, predict_with_best_t(y_test_pred, best_t)))"
      ],
      "metadata": {
        "colab": {
          "base_uri": "https://localhost:8080/"
        },
        "id": "nDVCut6C9mei",
        "outputId": "f1a43e70-d8d2-4a79-f208-862c23782e87"
      },
      "execution_count": 146,
      "outputs": [
        {
          "output_type": "stream",
          "name": "stdout",
          "text": [
            "the maximum value of tpr*(1-fpr) 0.4930464665285133 for threshold 0.85\n",
            "Train confusion matrix\n",
            "[[ 2584  1015]\n",
            " [ 6219 13632]]\n",
            "Test confusion matrix\n",
            "[[1122  650]\n",
            " [3209 6569]]\n"
          ]
        }
      ]
    },
    {
      "cell_type": "code",
      "source": [
        "# Heatmap for train set confusion matrix(Select K best)\n",
        "\n",
        "heatmap_train = sns.heatmap(confusion_matrix(y_train, predict_with_best_t(y_train_pred,best_t)), annot = True, fmt = \"d\")\n",
        "\n",
        "plt.title(\"Train set confusion matrix\")\n",
        "\n",
        "plt.xlabel(\"Actual\")\n",
        "plt.ylabel(\"Predicted\")\n",
        "\n",
        "plt.show()\n",
        "\n",
        "# Heatmap for test set confusion matrix(Select K best)\n",
        "\n",
        "heatmap_train = sns.heatmap(confusion_matrix(y_test, predict_with_best_t(y_test_pred, best_t)), annot = True, fmt = \"d\")\n",
        "\n",
        "plt.title(\"Test set confusion matrix\")\n",
        "\n",
        "plt.xlabel(\"Actual\")\n",
        "plt.ylabel(\"Predicted\")\n",
        "\n",
        "plt.show()"
      ],
      "metadata": {
        "colab": {
          "base_uri": "https://localhost:8080/",
          "height": 573
        },
        "id": "YQkYO5-v-lQJ",
        "outputId": "aa16fc81-28c6-4c02-9e60-ecd2e1e35f8f"
      },
      "execution_count": 147,
      "outputs": [
        {
          "output_type": "display_data",
          "data": {
            "image/png": "[encoded data removed]",
            "text/plain": [
              "<Figure size 432x288 with 2 Axes>"
            ]
          },
          "metadata": {
            "needs_background": "light"
          }
        },
        {
          "output_type": "display_data",
          "data": {
            "image/png": "[encoded data removed]",
            "text/plain": [
              "<Figure size 432x288 with 2 Axes>"
            ]
          },
          "metadata": {
            "needs_background": "light"
          }
        }
      ]
    },
    {
      "cell_type": "markdown",
      "metadata": {
        "id": "jwaa0lBRvXHD"
      },
      "source": [
        "#### Set 2, TF-IDF"
      ]
    },
    {
      "cell_type": "code",
      "source": [
        "from scipy.sparse import hstack\n",
        "\n",
        "X_tr = hstack((X_train_essay_tfidf, X_train_state_ohe, X_train_teacher_ohe, X_train_grade_ohe,X_train_category_ohe,\n",
        "               X_train_sub_category_ohe,X_train_price_norm)).tocsr()\n",
        "\n",
        "X_te = hstack((X_test_essay_tfidf, X_test_state_ohe, X_test_teacher_ohe, X_test_grade_ohe,X_test_category_ohe,\n",
        "               X_test_sub_category_ohe,X_test_price_norm)).tocsr()"
      ],
      "metadata": {
        "id": "0p564iJ_-Ln2"
      },
      "execution_count": 148,
      "outputs": []
    },
    {
      "cell_type": "code",
      "source": [
        "print(\"Final Data matrix\")\n",
        "\n",
        "print(X_tr.shape, y_train.shape)\n",
        "print(X_te.shape, y_test.shape)"
      ],
      "metadata": {
        "colab": {
          "base_uri": "https://localhost:8080/"
        },
        "id": "8__nrNuEC-Ll",
        "outputId": "295076b6-cd9d-4113-cc9a-6065ad3582db"
      },
      "execution_count": 149,
      "outputs": [
        {
          "output_type": "stream",
          "name": "stdout",
          "text": [
            "Final Data matrix\n",
            "(23450, 6096) (23450,)\n",
            "(11550, 6096) (11550,)\n"
          ]
        }
      ]
    },
    {
      "cell_type": "code",
      "execution_count": 150,
      "metadata": {
        "id": "COo6Nse3vXHE",
        "colab": {
          "base_uri": "https://localhost:8080/",
          "height": 652
        },
        "outputId": "4ed5cdc2-25e5-445f-a97b-ac3df8a778f1"
      },
      "outputs": [
        {
          "output_type": "display_data",
          "data": {
            "image/png": "[encoded data removed]",
            "text/plain": [
              "<Figure size 432x288 with 1 Axes>"
            ]
          },
          "metadata": {
            "needs_background": "light"
          }
        },
        {
          "output_type": "stream",
          "name": "stdout",
          "text": [
            "optimal Alpha:- {'alpha': 0.001}\n"
          ]
        },
        {
          "output_type": "execute_result",
          "data": {
            "text/html": [
              "\n",
              "  <div id=\"df-750999db-50d1-4f6c-8042-de647f25ea5a\">\n",
              "    <div class=\"colab-df-container\">\n",
              "      <div>\n",
              "<style scoped>\n",
              "    .dataframe tbody tr th:only-of-type {\n",
              "        vertical-align: middle;\n",
              "    }\n",
              "\n",
              "    .dataframe tbody tr th {\n",
              "        vertical-align: top;\n",
              "    }\n",
              "\n",
              "    .dataframe thead th {\n",
              "        text-align: right;\n",
              "    }\n",
              "</style>\n",
              "<table border=\"1\" class=\"dataframe\">\n",
              "  <thead>\n",
              "    <tr style=\"text-align: right;\">\n",
              "      <th></th>\n",
              "      <th>mean_fit_time</th>\n",
              "      <th>std_fit_time</th>\n",
              "      <th>mean_score_time</th>\n",
              "      <th>std_score_time</th>\n",
              "      <th>param_alpha</th>\n",
              "      <th>params</th>\n",
              "      <th>split0_test_score</th>\n",
              "      <th>split1_test_score</th>\n",
              "      <th>mean_test_score</th>\n",
              "      <th>std_test_score</th>\n",
              "      <th>rank_test_score</th>\n",
              "      <th>split0_train_score</th>\n",
              "      <th>split1_train_score</th>\n",
              "      <th>mean_train_score</th>\n",
              "      <th>std_train_score</th>\n",
              "    </tr>\n",
              "  </thead>\n",
              "  <tbody>\n",
              "    <tr>\n",
              "      <th>5</th>\n",
              "      <td>0.024318</td>\n",
              "      <td>0.000673</td>\n",
              "      <td>0.014726</td>\n",
              "      <td>0.000131</td>\n",
              "      <td>0.00001</td>\n",
              "      <td>{'alpha': 1e-05}</td>\n",
              "      <td>0.665425</td>\n",
              "      <td>0.676518</td>\n",
              "      <td>0.670971</td>\n",
              "      <td>0.005547</td>\n",
              "      <td>6</td>\n",
              "      <td>0.811517</td>\n",
              "      <td>0.813003</td>\n",
              "      <td>0.812260</td>\n",
              "      <td>0.000743</td>\n",
              "    </tr>\n",
              "    <tr>\n",
              "      <th>9</th>\n",
              "      <td>0.022984</td>\n",
              "      <td>0.000957</td>\n",
              "      <td>0.014639</td>\n",
              "      <td>0.000243</td>\n",
              "      <td>0.0001</td>\n",
              "      <td>{'alpha': 0.0001}</td>\n",
              "      <td>0.665502</td>\n",
              "      <td>0.676742</td>\n",
              "      <td>0.671122</td>\n",
              "      <td>0.005620</td>\n",
              "      <td>5</td>\n",
              "      <td>0.811434</td>\n",
              "      <td>0.812850</td>\n",
              "      <td>0.812142</td>\n",
              "      <td>0.000708</td>\n",
              "    </tr>\n",
              "    <tr>\n",
              "      <th>2</th>\n",
              "      <td>0.025890</td>\n",
              "      <td>0.002306</td>\n",
              "      <td>0.015055</td>\n",
              "      <td>0.000259</td>\n",
              "      <td>0.0005</td>\n",
              "      <td>{'alpha': 0.0005}</td>\n",
              "      <td>0.665557</td>\n",
              "      <td>0.676860</td>\n",
              "      <td>0.671209</td>\n",
              "      <td>0.005651</td>\n",
              "      <td>3</td>\n",
              "      <td>0.811333</td>\n",
              "      <td>0.812668</td>\n",
              "      <td>0.812000</td>\n",
              "      <td>0.000667</td>\n",
              "    </tr>\n",
              "    <tr>\n",
              "      <th>8</th>\n",
              "      <td>0.022912</td>\n",
              "      <td>0.000041</td>\n",
              "      <td>0.014943</td>\n",
              "      <td>0.000855</td>\n",
              "      <td>0.001</td>\n",
              "      <td>{'alpha': 0.001}</td>\n",
              "      <td>0.665580</td>\n",
              "      <td>0.676893</td>\n",
              "      <td>0.671236</td>\n",
              "      <td>0.005657</td>\n",
              "      <td>1</td>\n",
              "      <td>0.811261</td>\n",
              "      <td>0.812554</td>\n",
              "      <td>0.811907</td>\n",
              "      <td>0.000647</td>\n",
              "    </tr>\n",
              "    <tr>\n",
              "      <th>4</th>\n",
              "      <td>0.022495</td>\n",
              "      <td>0.000416</td>\n",
              "      <td>0.014773</td>\n",
              "      <td>0.000097</td>\n",
              "      <td>0.005</td>\n",
              "      <td>{'alpha': 0.005}</td>\n",
              "      <td>0.665555</td>\n",
              "      <td>0.676910</td>\n",
              "      <td>0.671232</td>\n",
              "      <td>0.005678</td>\n",
              "      <td>2</td>\n",
              "      <td>0.810879</td>\n",
              "      <td>0.812090</td>\n",
              "      <td>0.811485</td>\n",
              "      <td>0.000605</td>\n",
              "    </tr>\n",
              "  </tbody>\n",
              "</table>\n",
              "</div>\n",
              "      <button class=\"colab-df-convert\" onclick=\"convertToInteractive('df-750999db-50d1-4f6c-8042-de647f25ea5a')\"\n",
              "              title=\"Convert this dataframe to an interactive table.\"\n",
              "              style=\"display:none;\">\n",
              "        \n",
              "  <svg xmlns=\"http://www.w3.org/2000/svg\" height=\"24px\"viewBox=\"0 0 24 24\"\n",
              "       width=\"24px\">\n",
              "    <path d=\"M0 0h24v24H0V0z\" fill=\"none\"/>\n",
              "    <path d=\"M18.56 5.44l.94 2.06.94-2.06 2.06-.94-2.06-.94-.94-2.06-.94 2.06-2.06.94zm-11 1L8.5 8.5l.94-2.06 2.06-.94-2.06-.94L8.5 2.5l-.94 2.06-2.06.94zm10 10l.94 2.06.94-2.06 2.06-.94-2.06-.94-.94-2.06-.94 2.06-2.06.94z\"/><path d=\"M17.41 7.96l-1.37-1.37c-.4-.4-.92-.59-1.43-.59-.52 0-1.04.2-1.43.59L10.3 9.45l-7.72 7.72c-.78.78-.78 2.05 0 2.83L4 21.41c.39.39.9.59 1.41.59.51 0 1.02-.2 1.41-.59l7.78-7.78 2.81-2.81c.8-.78.8-2.07 0-2.86zM5.41 20L4 18.59l7.72-7.72 1.47 1.35L5.41 20z\"/>\n",
              "  </svg>\n",
              "      </button>\n",
              "      \n",
              "  <style>\n",
              "    .colab-df-container {\n",
              "      display:flex;\n",
              "      flex-wrap:wrap;\n",
              "      gap: 12px;\n",
              "    }\n",
              "\n",
              "    .colab-df-convert {\n",
              "      background-color: #E8F0FE;\n",
              "      border: none;\n",
              "      border-radius: 50%;\n",
              "      cursor: pointer;\n",
              "      display: none;\n",
              "      fill: #1967D2;\n",
              "      height: 32px;\n",
              "      padding: 0 0 0 0;\n",
              "      width: 32px;\n",
              "    }\n",
              "\n",
              "    .colab-df-convert:hover {\n",
              "      background-color: #E2EBFA;\n",
              "      box-shadow: 0px 1px 2px rgba(60, 64, 67, 0.3), 0px 1px 3px 1px rgba(60, 64, 67, 0.15);\n",
              "      fill: #174EA6;\n",
              "    }\n",
              "\n",
              "    [theme=dark] .colab-df-convert {\n",
              "      background-color: #3B4455;\n",
              "      fill: #D2E3FC;\n",
              "    }\n",
              "\n",
              "    [theme=dark] .colab-df-convert:hover {\n",
              "      background-color: #434B5C;\n",
              "      box-shadow: 0px 1px 3px 1px rgba(0, 0, 0, 0.15);\n",
              "      filter: drop-shadow(0px 1px 2px rgba(0, 0, 0, 0.3));\n",
              "      fill: #FFFFFF;\n",
              "    }\n",
              "  </style>\n",
              "\n",
              "      <script>\n",
              "        const buttonEl =\n",
              "          document.querySelector('#df-750999db-50d1-4f6c-8042-de647f25ea5a button.colab-df-convert');\n",
              "        buttonEl.style.display =\n",
              "          google.colab.kernel.accessAllowed ? 'block' : 'none';\n",
              "\n",
              "        async function convertToInteractive(key) {\n",
              "          const element = document.querySelector('#df-750999db-50d1-4f6c-8042-de647f25ea5a');\n",
              "          const dataTable =\n",
              "            await google.colab.kernel.invokeFunction('convertToInteractive',\n",
              "                                                     [key], {});\n",
              "          if (!dataTable) return;\n",
              "\n",
              "          const docLinkHtml = 'Like what you see? Visit the ' +\n",
              "            '<a target=\"_blank\" href=https://colab.research.google.com/notebooks/data_table.ipynb>data table notebook</a>'\n",
              "            + ' to learn more about interactive tables.';\n",
              "          element.innerHTML = '';\n",
              "          dataTable['output_type'] = 'display_data';\n",
              "          await google.colab.output.renderOutput(dataTable, element);\n",
              "          const docLink = document.createElement('div');\n",
              "          docLink.innerHTML = docLinkHtml;\n",
              "          element.appendChild(docLink);\n",
              "        }\n",
              "      </script>\n",
              "    </div>\n",
              "  </div>\n",
              "  "
            ],
            "text/plain": [
              "   mean_fit_time  std_fit_time  mean_score_time  std_score_time param_alpha  \\\n",
              "5       0.024318      0.000673         0.014726        0.000131     0.00001   \n",
              "9       0.022984      0.000957         0.014639        0.000243      0.0001   \n",
              "2       0.025890      0.002306         0.015055        0.000259      0.0005   \n",
              "8       0.022912      0.000041         0.014943        0.000855       0.001   \n",
              "4       0.022495      0.000416         0.014773        0.000097       0.005   \n",
              "\n",
              "              params  split0_test_score  split1_test_score  mean_test_score  \\\n",
              "5   {'alpha': 1e-05}           0.665425           0.676518         0.670971   \n",
              "9  {'alpha': 0.0001}           0.665502           0.676742         0.671122   \n",
              "2  {'alpha': 0.0005}           0.665557           0.676860         0.671209   \n",
              "8   {'alpha': 0.001}           0.665580           0.676893         0.671236   \n",
              "4   {'alpha': 0.005}           0.665555           0.676910         0.671232   \n",
              "\n",
              "   std_test_score  rank_test_score  split0_train_score  split1_train_score  \\\n",
              "5        0.005547                6            0.811517            0.813003   \n",
              "9        0.005620                5            0.811434            0.812850   \n",
              "2        0.005651                3            0.811333            0.812668   \n",
              "8        0.005657                1            0.811261            0.812554   \n",
              "4        0.005678                2            0.810879            0.812090   \n",
              "\n",
              "   mean_train_score  std_train_score  \n",
              "5          0.812260         0.000743  \n",
              "9          0.812142         0.000708  \n",
              "2          0.812000         0.000667  \n",
              "8          0.811907         0.000647  \n",
              "4          0.811485         0.000605  "
            ]
          },
          "metadata": {},
          "execution_count": 150
        }
      ],
      "source": [
        "# Perform Hyperparameter Tuning.\n",
        "# Plot the training and the CV AUC scores, for different values of 'alpha', using a 2D line plot\n",
        "# Perform Hyperparameter Tuning.\n",
        "# Plot the training and the CV AUC scores, for different values of 'alpha', using a 2D line plot\n",
        "\n",
        "\n",
        "\n",
        "from sklearn.model_selection import RandomizedSearchCV\n",
        "from scipy.stats import randint as sp_randint\n",
        "from sklearn.naive_bayes import MultinomialNB\n",
        "\n",
        "alpha     = [0.00001,0.0005, 0.0001,0.005,0.001,0.05,0.01,0.1,0.5,1,5,10,50,100] \n",
        "\n",
        "naive_bayes = MultinomialNB()\n",
        "parameters  = { 'alpha':alpha }\n",
        "clf         = RandomizedSearchCV(naive_bayes, parameters, cv = 2, scoring = 'roc_auc',return_train_score =  True)\n",
        "search      = clf.fit(X_tr, y_train)\n",
        "\n",
        "results = pd.DataFrame.from_dict(clf.cv_results_)\n",
        "results = results.sort_values(['param_alpha'])\n",
        "\n",
        "train_auc     = results['mean_train_score']\n",
        "train_auc_std = results['std_train_score']\n",
        "cv_auc        = results['mean_test_score'] \n",
        "cv_auc_std    = results['std_test_score']\n",
        "param_alpha   = results['param_alpha']\n",
        "\n",
        "log_alpha = list(map(lambda x : math.log10(x), param_alpha))\n",
        "\n",
        "plt.plot(log_alpha, train_auc, label='Train AUC')\n",
        "plt.plot(log_alpha, cv_auc, label='CV AUC')\n",
        "\n",
        "plt.scatter(log_alpha, train_auc, label='Train AUC points')\n",
        "plt.scatter(log_alpha, cv_auc,    label='CV AUC points')\n",
        "\n",
        "\n",
        "plt.legend()\n",
        "\n",
        "plt.xlabel(\"Alpha: hyperparameter\")\n",
        "plt.ylabel(\"AUC\")\n",
        "\n",
        "plt.title(\"Hyper parameter Vs AUC plot\")\n",
        "\n",
        "plt.grid()\n",
        "plt.show()\n",
        "\n",
        "print(\"optimal Alpha:-\",search.best_params_)\n",
        "\n",
        "results.head()"
      ]
    },
    {
      "cell_type": "code",
      "execution_count": 151,
      "metadata": {
        "id": "2xIwZ_PJvXHE",
        "colab": {
          "base_uri": "https://localhost:8080/"
        },
        "outputId": "10b44242-d262-4890-89e0-59b7ce055b15"
      },
      "outputs": [
        {
          "output_type": "execute_result",
          "data": {
            "text/plain": [
              "array([0.23470863, 0.8832076 , 0.6740238 , ..., 0.97105433, 0.92215006,\n",
              "       0.90993201])"
            ]
          },
          "metadata": {},
          "execution_count": 151
        }
      ],
      "source": [
        "# Obtain the optimal value for 'alpha' and using the obtained optimal 'alpha' value, fit a multinomial naive bayes model, on the train data,\n",
        "# Note: If you have split the datase into 3 parts (ie., train, cv and test sets) in the beginning, then the training datafor this final model would be (train set + cv set)\n",
        "# Make class label and probability predictions on the train and test data.\n",
        "\n",
        "# Obtain the optimal value for 'alpha' and using the obtained optimal 'alpha' value, fit a multinomial naive bayes model, on the train data,\n",
        "# Note: If you have split the datase into 3 parts (ie., train, cv and test sets) in the beginning, then the training datafor this final model would be (train set + cv set)\n",
        "# Make class label and probability predictions on the train and test data.\n",
        "\n",
        "from sklearn.metrics import roc_curve, auc\n",
        "\n",
        "\n",
        "nb = MultinomialNB(alpha = 0.005)\n",
        "nb.fit(X_tr, y_train)\n",
        "# roc_auc_score(y_true, y_score) the 2nd parameter should be probability estimates of the positive class\n",
        "# not the predicted outputs\n",
        "\n",
        "y_train_pred = nb.predict_proba(X_tr)[:,1]\n",
        "y_test_pred  = nb.predict_proba(X_te)[:,1]\n",
        "\n",
        "y_test_pred\n"
      ]
    },
    {
      "cell_type": "code",
      "execution_count": 152,
      "metadata": {
        "id": "RfTIRHlCvXHF",
        "colab": {
          "base_uri": "https://localhost:8080/",
          "height": 295
        },
        "outputId": "e4529437-ab6c-47f1-8a47-31988ff06217"
      },
      "outputs": [
        {
          "output_type": "display_data",
          "data": {
            "image/png": "[encoded data removed]",
            "text/plain": [
              "<Figure size 432x288 with 1 Axes>"
            ]
          },
          "metadata": {
            "needs_background": "light"
          }
        }
      ],
      "source": [
        "# Plot the ROC-AUC curves using the probability predictions made on train and test data.\n",
        "# Plot the ROC-AUC curves using the probability predictions made on train and test data.\n",
        "\n",
        "train_fpr, train_tpr, tr_thresholds = roc_curve(y_train, y_train_pred)\n",
        "test_fpr,  test_tpr, te_thresholds  = roc_curve(y_test,  y_test_pred)\n",
        "\n",
        "plt.plot(train_fpr, train_tpr, label=\"train AUC =\"+str(auc(train_fpr, train_tpr)))\n",
        "plt.plot(test_fpr, test_tpr,   label=\"test AUC  =\"+str(auc(test_fpr, test_tpr)))\n",
        "\n",
        "plt.legend()\n",
        "\n",
        "plt.xlabel(\"K: hyperparameter\")\n",
        "plt.ylabel(\"AUC\")\n",
        "\n",
        "plt.title(\"ERROR PLOTS\")\n",
        "\n",
        "plt.grid()\n",
        "plt.show()"
      ]
    },
    {
      "cell_type": "code",
      "execution_count": 153,
      "metadata": {
        "id": "IMKFxJHnvXHF",
        "colab": {
          "base_uri": "https://localhost:8080/",
          "height": 573
        },
        "outputId": "5d4ad095-353b-44a4-f030-ad4d23824836"
      },
      "outputs": [
        {
          "output_type": "display_data",
          "data": {
            "image/png": "[encoded data removed]",
            "text/plain": [
              "<Figure size 432x288 with 2 Axes>"
            ]
          },
          "metadata": {
            "needs_background": "light"
          }
        },
        {
          "output_type": "display_data",
          "data": {
            "image/png": "[encoded data removed]",
            "text/plain": [
              "<Figure size 432x288 with 2 Axes>"
            ]
          },
          "metadata": {
            "needs_background": "light"
          }
        }
      ],
      "source": [
        "# Pick the best threshold among the probability estimates, such that it has to yield maximum value for TPR*(1-FPR)\n",
        "\n",
        "def find_best_threshold(threshold, fpr, tpr):\n",
        "    t = threshold[np.argmax(tpr*(1-fpr))]\n",
        "    # (tpr*(1-fpr)) will be maximum if your fpr is very low and tpr is very high\n",
        "    print(\"the maximum value of tpr*(1-fpr)\", max(tpr*(1-fpr)), \"for threshold\", np.round(t,3))\n",
        "    \n",
        "    return t\n",
        "\n",
        "def predict_with_best_t(proba, threshold):\n",
        "    predictions = []\n",
        "    \n",
        "    for i in proba:\n",
        "        if i>= threshold:\n",
        "            predictions.append(1)\n",
        "        else:\n",
        "            predictions.append(0)\n",
        "    return predictions\n",
        "\n",
        "# Plot the confusion matrices(each for train and test data) afer encoding the predicted class labels, on the basis of the best threshod probability estimate.\n",
        "\n",
        "\n",
        "heatmap_train = sns.heatmap(confusion_matrix(y_train, predict_with_best_t(y_train_pred,best_t)), annot = True, fmt = \"d\")\n",
        "\n",
        "plt.title(\"Train set confusion matrix\")\n",
        "\n",
        "plt.xlabel(\"Actual\")\n",
        "plt.ylabel(\"Predicted\")\n",
        "\n",
        "plt.show()\n",
        "\n",
        "# Heatmap for test set confusion matrix\n",
        "\n",
        "heatmap_train = sns.heatmap(confusion_matrix(y_test, predict_with_best_t(y_test_pred, best_t)), annot = True, fmt = \"d\")\n",
        "\n",
        "plt.title(\"Test set confusion matrix\")\n",
        "\n",
        "plt.xlabel(\"Actual\")\n",
        "plt.ylabel(\"Predicted\")\n",
        "\n",
        "plt.show()"
      ]
    },
    {
      "cell_type": "code",
      "execution_count": 154,
      "metadata": {
        "id": "alDVcYQvvXHF",
        "colab": {
          "base_uri": "https://localhost:8080/"
        },
        "outputId": "2d511f27-9482-4b66-eb3f-c61be8b76200"
      },
      "outputs": [
        {
          "output_type": "stream",
          "name": "stdout",
          "text": [
            "(2, 6096)\n",
            "(23450, 6000)\n",
            "(23450, 51)\n",
            "(23450, 5)\n",
            "(23450, 4)\n",
            "(23450, 7)\n",
            "(23450, 28)\n",
            "(23450, 1)\n"
          ]
        }
      ],
      "source": [
        "# Either from set 1 (or) set 2, print the names of the top 20 features associated with the positive and negative classes each. (You have to print the names of the features, but not the indexes)\n",
        "\n",
        "# first of all we have to get the feature_log_probabilities\n",
        "\n",
        "print(nb.feature_log_prob_[:, :].shape) # 2 classes 0 and 1 with 6096 columns \n",
        "\n",
        "print(X_train_essay_tfidf.shape)\n",
        "print(X_train_state_ohe.shape)\n",
        "print(X_train_teacher_ohe.shape)\n",
        "print(X_train_grade_ohe.shape)\n",
        "print(X_train_category_ohe.shape)\n",
        "print(X_train_sub_category_ohe.shape)\n",
        "print(X_train_price_norm.shape)\n",
        "\n",
        "# Hence 6000+51+4+7+28+1 = 60296"
      ]
    },
    {
      "cell_type": "code",
      "source": [
        "feature_list = []\n",
        "\n",
        "feature_list.extend(tf_idf_feature_list)\n",
        "feature_list.extend(state_ohe_feature_list)\n",
        "feature_list.extend(teacher_ohe_feature_list)\n",
        "feature_list.extend(grade_ohe_feature_list)\n",
        "feature_list.extend(category_ohe_feature_list)\n",
        "feature_list.extend(sub_category_ohe_feature_list)\n",
        "feature_list.append('Price')\n",
        "\n",
        "print(len(feature_list))\n",
        "print(feature_list[-5:])"
      ],
      "metadata": {
        "colab": {
          "base_uri": "https://localhost:8080/"
        },
        "id": "shiVs9P6LJo6",
        "outputId": "dbcdee62-a592-4f11-82c3-c4cf1fc30050"
      },
      "execution_count": 161,
      "outputs": [
        {
          "output_type": "stream",
          "name": "stdout",
          "text": [
            "6096\n",
            "['socialsciences', 'specialneeds', 'teamsports', 'visualarts', 'Price']\n"
          ]
        }
      ]
    },
    {
      "cell_type": "markdown",
      "source": [
        "**Positive Class**"
      ],
      "metadata": {
        "id": "axJs6chCH39a"
      }
    },
    {
      "cell_type": "markdown",
      "source": [
        "https://www.adamsmith.haus/python/answers/how-to-sort-a-numpy-array-in-descending-order-in-python\n",
        "\n",
        "\n",
        "https://www.adamsmith.haus/python/docs/numpy.argsort"
      ],
      "metadata": {
        "id": "L8oA71GAJapv"
      }
    },
    {
      "cell_type": "code",
      "source": [
        "print(type(nb.feature_log_prob_[1, :]))\n",
        "# here we would like to extract indices of top 20 features of positive class \n",
        "\n",
        "positive_prob_array   = nb.feature_log_prob_[1, :]# Storing all the probability values of features\n",
        "print(positive_prob_array[-5:])\n",
        "\n",
        "feature_index_array    = np.argsort(nb.feature_log_prob_[1, :])[-20:] # it will give last 20 features but we want last 20 in reverse order\n",
        "\n",
        "feature_index_array    = np.flip(feature_index_array) \n",
        "feature_index_array "
      ],
      "metadata": {
        "colab": {
          "base_uri": "https://localhost:8080/"
        },
        "id": "omsLdyPSHraE",
        "outputId": "37fd5a2f-267d-480b-a1ab-7c120e650f1e"
      },
      "execution_count": 187,
      "outputs": [
        {
          "output_type": "stream",
          "name": "stdout",
          "text": [
            "<class 'numpy.ndarray'>\n",
            "[-6.71747919 -5.02243007 -6.80724801 -5.82677275 -6.34758936]\n"
          ]
        },
        {
          "output_type": "execute_result",
          "data": {
            "text/plain": [
              "array([6053, 6063, 6059, 6054, 6056, 6064, 6083, 6085, 6084, 6061, 6081,\n",
              "       6057, 6004, 4781, 6092, 6066, 6060, 6058, 6067, 6052])"
            ]
          },
          "metadata": {},
          "execution_count": 187
        }
      ]
    },
    {
      "cell_type": "code",
      "source": [
        "most_imp_features = []\n",
        "\n",
        "for index in feature_index_array:\n",
        "\n",
        "  print(feature_list[index],positive_prob_array[index])"
      ],
      "metadata": {
        "colab": {
          "base_uri": "https://localhost:8080/"
        },
        "id": "qNB4zxbQQmV_",
        "outputId": "e8661c1c-77bd-46dc-94d4-f67a79f42cb1"
      },
      "execution_count": 189,
      "outputs": [
        {
          "output_type": "stream",
          "name": "stdout",
          "text": [
            "mrs -3.4046837139801163\n",
            "literacy_language -3.5253328631971694\n",
            "grades_prek_2 -3.6573388100535613\n",
            "ms -3.8531280545764215\n",
            "grades_3_5 -3.872023951900932\n",
            "math_science -3.8752573444641616\n",
            "literacy -3.9661168986726345\n",
            "mathematics -4.244225679171322\n",
            "literature_writing -4.343524958813344\n",
            "health_sports -4.397879534558504\n",
            "health_wellness -4.625189830480574\n",
            "grades_6_8 -4.7665420806811465\n",
            "ca -4.843747085091602\n",
            "students -4.927735393694168\n",
            "specialneeds -5.022430065286234\n",
            "specialneeds -5.022430065286234\n",
            "appliedlearning -5.024750785007961\n",
            "grades_9_12 -5.201696033351688\n",
            "appliedsciences -5.2723539811236595\n",
            "mr -5.2747377653758765\n"
          ]
        }
      ]
    },
    {
      "cell_type": "markdown",
      "source": [
        "**Using DataFrame**"
      ],
      "metadata": {
        "id": "Ztz7Pm_eTEK6"
      }
    },
    {
      "cell_type": "code",
      "source": [
        "feature_importance = pd.DataFrame({ \"Feature Names\":feature_list,\"Log-Probabilitis\":positive_prob_array})\n",
        "\n",
        "feature_importance.head()"
      ],
      "metadata": {
        "colab": {
          "base_uri": "https://localhost:8080/",
          "height": 206
        },
        "id": "CsxP-wv2TDK_",
        "outputId": "2039ba26-d877-4ef9-f941-3a9a99b53123"
      },
      "execution_count": 190,
      "outputs": [
        {
          "output_type": "execute_result",
          "data": {
            "text/html": [
              "\n",
              "  <div id=\"df-be4e0105-1729-4a3b-ab1b-33efcf2e3d79\">\n",
              "    <div class=\"colab-df-container\">\n",
              "      <div>\n",
              "<style scoped>\n",
              "    .dataframe tbody tr th:only-of-type {\n",
              "        vertical-align: middle;\n",
              "    }\n",
              "\n",
              "    .dataframe tbody tr th {\n",
              "        vertical-align: top;\n",
              "    }\n",
              "\n",
              "    .dataframe thead th {\n",
              "        text-align: right;\n",
              "    }\n",
              "</style>\n",
              "<table border=\"1\" class=\"dataframe\">\n",
              "  <thead>\n",
              "    <tr style=\"text-align: right;\">\n",
              "      <th></th>\n",
              "      <th>Feature Names</th>\n",
              "      <th>Log-Probabilitis</th>\n",
              "    </tr>\n",
              "  </thead>\n",
              "  <tbody>\n",
              "    <tr>\n",
              "      <th>0</th>\n",
              "      <td>000</td>\n",
              "      <td>-10.075704</td>\n",
              "    </tr>\n",
              "    <tr>\n",
              "      <th>1</th>\n",
              "      <td>10</td>\n",
              "      <td>-8.893757</td>\n",
              "    </tr>\n",
              "    <tr>\n",
              "      <th>2</th>\n",
              "      <td>100</td>\n",
              "      <td>-8.352881</td>\n",
              "    </tr>\n",
              "    <tr>\n",
              "      <th>3</th>\n",
              "      <td>100 free</td>\n",
              "      <td>-9.727245</td>\n",
              "    </tr>\n",
              "    <tr>\n",
              "      <th>4</th>\n",
              "      <td>100 percent</td>\n",
              "      <td>-10.249199</td>\n",
              "    </tr>\n",
              "  </tbody>\n",
              "</table>\n",
              "</div>\n",
              "      <button class=\"colab-df-convert\" onclick=\"convertToInteractive('df-be4e0105-1729-4a3b-ab1b-33efcf2e3d79')\"\n",
              "              title=\"Convert this dataframe to an interactive table.\"\n",
              "              style=\"display:none;\">\n",
              "        \n",
              "  <svg xmlns=\"http://www.w3.org/2000/svg\" height=\"24px\"viewBox=\"0 0 24 24\"\n",
              "       width=\"24px\">\n",
              "    <path d=\"M0 0h24v24H0V0z\" fill=\"none\"/>\n",
              "    <path d=\"M18.56 5.44l.94 2.06.94-2.06 2.06-.94-2.06-.94-.94-2.06-.94 2.06-2.06.94zm-11 1L8.5 8.5l.94-2.06 2.06-.94-2.06-.94L8.5 2.5l-.94 2.06-2.06.94zm10 10l.94 2.06.94-2.06 2.06-.94-2.06-.94-.94-2.06-.94 2.06-2.06.94z\"/><path d=\"M17.41 7.96l-1.37-1.37c-.4-.4-.92-.59-1.43-.59-.52 0-1.04.2-1.43.59L10.3 9.45l-7.72 7.72c-.78.78-.78 2.05 0 2.83L4 21.41c.39.39.9.59 1.41.59.51 0 1.02-.2 1.41-.59l7.78-7.78 2.81-2.81c.8-.78.8-2.07 0-2.86zM5.41 20L4 18.59l7.72-7.72 1.47 1.35L5.41 20z\"/>\n",
              "  </svg>\n",
              "      </button>\n",
              "      \n",
              "  <style>\n",
              "    .colab-df-container {\n",
              "      display:flex;\n",
              "      flex-wrap:wrap;\n",
              "      gap: 12px;\n",
              "    }\n",
              "\n",
              "    .colab-df-convert {\n",
              "      background-color: #E8F0FE;\n",
              "      border: none;\n",
              "      border-radius: 50%;\n",
              "      cursor: pointer;\n",
              "      display: none;\n",
              "      fill: #1967D2;\n",
              "      height: 32px;\n",
              "      padding: 0 0 0 0;\n",
              "      width: 32px;\n",
              "    }\n",
              "\n",
              "    .colab-df-convert:hover {\n",
              "      background-color: #E2EBFA;\n",
              "      box-shadow: 0px 1px 2px rgba(60, 64, 67, 0.3), 0px 1px 3px 1px rgba(60, 64, 67, 0.15);\n",
              "      fill: #174EA6;\n",
              "    }\n",
              "\n",
              "    [theme=dark] .colab-df-convert {\n",
              "      background-color: #3B4455;\n",
              "      fill: #D2E3FC;\n",
              "    }\n",
              "\n",
              "    [theme=dark] .colab-df-convert:hover {\n",
              "      background-color: #434B5C;\n",
              "      box-shadow: 0px 1px 3px 1px rgba(0, 0, 0, 0.15);\n",
              "      filter: drop-shadow(0px 1px 2px rgba(0, 0, 0, 0.3));\n",
              "      fill: #FFFFFF;\n",
              "    }\n",
              "  </style>\n",
              "\n",
              "      <script>\n",
              "        const buttonEl =\n",
              "          document.querySelector('#df-be4e0105-1729-4a3b-ab1b-33efcf2e3d79 button.colab-df-convert');\n",
              "        buttonEl.style.display =\n",
              "          google.colab.kernel.accessAllowed ? 'block' : 'none';\n",
              "\n",
              "        async function convertToInteractive(key) {\n",
              "          const element = document.querySelector('#df-be4e0105-1729-4a3b-ab1b-33efcf2e3d79');\n",
              "          const dataTable =\n",
              "            await google.colab.kernel.invokeFunction('convertToInteractive',\n",
              "                                                     [key], {});\n",
              "          if (!dataTable) return;\n",
              "\n",
              "          const docLinkHtml = 'Like what you see? Visit the ' +\n",
              "            '<a target=\"_blank\" href=https://colab.research.google.com/notebooks/data_table.ipynb>data table notebook</a>'\n",
              "            + ' to learn more about interactive tables.';\n",
              "          element.innerHTML = '';\n",
              "          dataTable['output_type'] = 'display_data';\n",
              "          await google.colab.output.renderOutput(dataTable, element);\n",
              "          const docLink = document.createElement('div');\n",
              "          docLink.innerHTML = docLinkHtml;\n",
              "          element.appendChild(docLink);\n",
              "        }\n",
              "      </script>\n",
              "    </div>\n",
              "  </div>\n",
              "  "
            ],
            "text/plain": [
              "  Feature Names  Log-Probabilitis\n",
              "0           000        -10.075704\n",
              "1            10         -8.893757\n",
              "2           100         -8.352881\n",
              "3      100 free         -9.727245\n",
              "4   100 percent        -10.249199"
            ]
          },
          "metadata": {},
          "execution_count": 190
        }
      ]
    },
    {
      "cell_type": "code",
      "source": [
        "top_features = feature_importance.sort_values(by = ['Log-Probabilitis'],ascending = False,inplace = False)\n",
        "\n",
        "top_features.head(20)"
      ],
      "metadata": {
        "colab": {
          "base_uri": "https://localhost:8080/",
          "height": 677
        },
        "id": "_E0qZT6iThYg",
        "outputId": "8d39b643-03cd-4e5f-d726-084069d6df91"
      },
      "execution_count": 193,
      "outputs": [
        {
          "output_type": "execute_result",
          "data": {
            "text/html": [
              "\n",
              "  <div id=\"df-427c805c-ed1c-458d-9841-ba559db5a49a\">\n",
              "    <div class=\"colab-df-container\">\n",
              "      <div>\n",
              "<style scoped>\n",
              "    .dataframe tbody tr th:only-of-type {\n",
              "        vertical-align: middle;\n",
              "    }\n",
              "\n",
              "    .dataframe tbody tr th {\n",
              "        vertical-align: top;\n",
              "    }\n",
              "\n",
              "    .dataframe thead th {\n",
              "        text-align: right;\n",
              "    }\n",
              "</style>\n",
              "<table border=\"1\" class=\"dataframe\">\n",
              "  <thead>\n",
              "    <tr style=\"text-align: right;\">\n",
              "      <th></th>\n",
              "      <th>Feature Names</th>\n",
              "      <th>Log-Probabilitis</th>\n",
              "    </tr>\n",
              "  </thead>\n",
              "  <tbody>\n",
              "    <tr>\n",
              "      <th>6053</th>\n",
              "      <td>mrs</td>\n",
              "      <td>-3.404684</td>\n",
              "    </tr>\n",
              "    <tr>\n",
              "      <th>6063</th>\n",
              "      <td>literacy_language</td>\n",
              "      <td>-3.525333</td>\n",
              "    </tr>\n",
              "    <tr>\n",
              "      <th>6059</th>\n",
              "      <td>grades_prek_2</td>\n",
              "      <td>-3.657339</td>\n",
              "    </tr>\n",
              "    <tr>\n",
              "      <th>6054</th>\n",
              "      <td>ms</td>\n",
              "      <td>-3.853128</td>\n",
              "    </tr>\n",
              "    <tr>\n",
              "      <th>6056</th>\n",
              "      <td>grades_3_5</td>\n",
              "      <td>-3.872024</td>\n",
              "    </tr>\n",
              "    <tr>\n",
              "      <th>6064</th>\n",
              "      <td>math_science</td>\n",
              "      <td>-3.875257</td>\n",
              "    </tr>\n",
              "    <tr>\n",
              "      <th>6083</th>\n",
              "      <td>literacy</td>\n",
              "      <td>-3.966117</td>\n",
              "    </tr>\n",
              "    <tr>\n",
              "      <th>6085</th>\n",
              "      <td>mathematics</td>\n",
              "      <td>-4.244226</td>\n",
              "    </tr>\n",
              "    <tr>\n",
              "      <th>6084</th>\n",
              "      <td>literature_writing</td>\n",
              "      <td>-4.343525</td>\n",
              "    </tr>\n",
              "    <tr>\n",
              "      <th>6061</th>\n",
              "      <td>health_sports</td>\n",
              "      <td>-4.397880</td>\n",
              "    </tr>\n",
              "    <tr>\n",
              "      <th>6081</th>\n",
              "      <td>health_wellness</td>\n",
              "      <td>-4.625190</td>\n",
              "    </tr>\n",
              "    <tr>\n",
              "      <th>6057</th>\n",
              "      <td>grades_6_8</td>\n",
              "      <td>-4.766542</td>\n",
              "    </tr>\n",
              "    <tr>\n",
              "      <th>6004</th>\n",
              "      <td>ca</td>\n",
              "      <td>-4.843747</td>\n",
              "    </tr>\n",
              "    <tr>\n",
              "      <th>4781</th>\n",
              "      <td>students</td>\n",
              "      <td>-4.927735</td>\n",
              "    </tr>\n",
              "    <tr>\n",
              "      <th>6066</th>\n",
              "      <td>specialneeds</td>\n",
              "      <td>-5.022430</td>\n",
              "    </tr>\n",
              "    <tr>\n",
              "      <th>6092</th>\n",
              "      <td>specialneeds</td>\n",
              "      <td>-5.022430</td>\n",
              "    </tr>\n",
              "    <tr>\n",
              "      <th>6060</th>\n",
              "      <td>appliedlearning</td>\n",
              "      <td>-5.024751</td>\n",
              "    </tr>\n",
              "    <tr>\n",
              "      <th>6058</th>\n",
              "      <td>grades_9_12</td>\n",
              "      <td>-5.201696</td>\n",
              "    </tr>\n",
              "    <tr>\n",
              "      <th>6067</th>\n",
              "      <td>appliedsciences</td>\n",
              "      <td>-5.272354</td>\n",
              "    </tr>\n",
              "    <tr>\n",
              "      <th>6052</th>\n",
              "      <td>mr</td>\n",
              "      <td>-5.274738</td>\n",
              "    </tr>\n",
              "  </tbody>\n",
              "</table>\n",
              "</div>\n",
              "      <button class=\"colab-df-convert\" onclick=\"convertToInteractive('df-427c805c-ed1c-458d-9841-ba559db5a49a')\"\n",
              "              title=\"Convert this dataframe to an interactive table.\"\n",
              "              style=\"display:none;\">\n",
              "        \n",
              "  <svg xmlns=\"http://www.w3.org/2000/svg\" height=\"24px\"viewBox=\"0 0 24 24\"\n",
              "       width=\"24px\">\n",
              "    <path d=\"M0 0h24v24H0V0z\" fill=\"none\"/>\n",
              "    <path d=\"M18.56 5.44l.94 2.06.94-2.06 2.06-.94-2.06-.94-.94-2.06-.94 2.06-2.06.94zm-11 1L8.5 8.5l.94-2.06 2.06-.94-2.06-.94L8.5 2.5l-.94 2.06-2.06.94zm10 10l.94 2.06.94-2.06 2.06-.94-2.06-.94-.94-2.06-.94 2.06-2.06.94z\"/><path d=\"M17.41 7.96l-1.37-1.37c-.4-.4-.92-.59-1.43-.59-.52 0-1.04.2-1.43.59L10.3 9.45l-7.72 7.72c-.78.78-.78 2.05 0 2.83L4 21.41c.39.39.9.59 1.41.59.51 0 1.02-.2 1.41-.59l7.78-7.78 2.81-2.81c.8-.78.8-2.07 0-2.86zM5.41 20L4 18.59l7.72-7.72 1.47 1.35L5.41 20z\"/>\n",
              "  </svg>\n",
              "      </button>\n",
              "      \n",
              "  <style>\n",
              "    .colab-df-container {\n",
              "      display:flex;\n",
              "      flex-wrap:wrap;\n",
              "      gap: 12px;\n",
              "    }\n",
              "\n",
              "    .colab-df-convert {\n",
              "      background-color: #E8F0FE;\n",
              "      border: none;\n",
              "      border-radius: 50%;\n",
              "      cursor: pointer;\n",
              "      display: none;\n",
              "      fill: #1967D2;\n",
              "      height: 32px;\n",
              "      padding: 0 0 0 0;\n",
              "      width: 32px;\n",
              "    }\n",
              "\n",
              "    .colab-df-convert:hover {\n",
              "      background-color: #E2EBFA;\n",
              "      box-shadow: 0px 1px 2px rgba(60, 64, 67, 0.3), 0px 1px 3px 1px rgba(60, 64, 67, 0.15);\n",
              "      fill: #174EA6;\n",
              "    }\n",
              "\n",
              "    [theme=dark] .colab-df-convert {\n",
              "      background-color: #3B4455;\n",
              "      fill: #D2E3FC;\n",
              "    }\n",
              "\n",
              "    [theme=dark] .colab-df-convert:hover {\n",
              "      background-color: #434B5C;\n",
              "      box-shadow: 0px 1px 3px 1px rgba(0, 0, 0, 0.15);\n",
              "      filter: drop-shadow(0px 1px 2px rgba(0, 0, 0, 0.3));\n",
              "      fill: #FFFFFF;\n",
              "    }\n",
              "  </style>\n",
              "\n",
              "      <script>\n",
              "        const buttonEl =\n",
              "          document.querySelector('#df-427c805c-ed1c-458d-9841-ba559db5a49a button.colab-df-convert');\n",
              "        buttonEl.style.display =\n",
              "          google.colab.kernel.accessAllowed ? 'block' : 'none';\n",
              "\n",
              "        async function convertToInteractive(key) {\n",
              "          const element = document.querySelector('#df-427c805c-ed1c-458d-9841-ba559db5a49a');\n",
              "          const dataTable =\n",
              "            await google.colab.kernel.invokeFunction('convertToInteractive',\n",
              "                                                     [key], {});\n",
              "          if (!dataTable) return;\n",
              "\n",
              "          const docLinkHtml = 'Like what you see? Visit the ' +\n",
              "            '<a target=\"_blank\" href=https://colab.research.google.com/notebooks/data_table.ipynb>data table notebook</a>'\n",
              "            + ' to learn more about interactive tables.';\n",
              "          element.innerHTML = '';\n",
              "          dataTable['output_type'] = 'display_data';\n",
              "          await google.colab.output.renderOutput(dataTable, element);\n",
              "          const docLink = document.createElement('div');\n",
              "          docLink.innerHTML = docLinkHtml;\n",
              "          element.appendChild(docLink);\n",
              "        }\n",
              "      </script>\n",
              "    </div>\n",
              "  </div>\n",
              "  "
            ],
            "text/plain": [
              "           Feature Names  Log-Probabilitis\n",
              "6053                 mrs         -3.404684\n",
              "6063   literacy_language         -3.525333\n",
              "6059       grades_prek_2         -3.657339\n",
              "6054                  ms         -3.853128\n",
              "6056          grades_3_5         -3.872024\n",
              "6064        math_science         -3.875257\n",
              "6083            literacy         -3.966117\n",
              "6085         mathematics         -4.244226\n",
              "6084  literature_writing         -4.343525\n",
              "6061       health_sports         -4.397880\n",
              "6081     health_wellness         -4.625190\n",
              "6057          grades_6_8         -4.766542\n",
              "6004                  ca         -4.843747\n",
              "4781            students         -4.927735\n",
              "6066        specialneeds         -5.022430\n",
              "6092        specialneeds         -5.022430\n",
              "6060     appliedlearning         -5.024751\n",
              "6058         grades_9_12         -5.201696\n",
              "6067     appliedsciences         -5.272354\n",
              "6052                  mr         -5.274738"
            ]
          },
          "metadata": {},
          "execution_count": 193
        }
      ]
    },
    {
      "cell_type": "markdown",
      "source": [
        "**-ve class**"
      ],
      "metadata": {
        "id": "fJWhwOHNWIFm"
      }
    },
    {
      "cell_type": "code",
      "source": [
        "negative_prob_array   = nb.feature_log_prob_[0, :]# Storing all the probability values of features\n",
        "print(negative_prob_array[-5:])"
      ],
      "metadata": {
        "colab": {
          "base_uri": "https://localhost:8080/"
        },
        "id": "UuJTlABrWKDe",
        "outputId": "414e86a3-e6cc-4249-bc4c-dc398065559c"
      },
      "execution_count": 195,
      "outputs": [
        {
          "output_type": "stream",
          "name": "stdout",
          "text": [
            "[-6.70154511 -4.88922445 -6.33384169 -5.64071855 -6.10035575]\n"
          ]
        }
      ]
    },
    {
      "cell_type": "code",
      "source": [
        "feature_importance = pd.DataFrame({ \"Feature Names\":feature_list,\"Log-Probabilitis\":negative_prob_array})\n",
        "\n",
        "top_features = feature_importance.sort_values(by = ['Log-Probabilitis'],ascending = False,inplace = False)\n",
        "\n",
        "top_features.head(20)"
      ],
      "metadata": {
        "colab": {
          "base_uri": "https://localhost:8080/",
          "height": 677
        },
        "id": "46laUFGZWNwd",
        "outputId": "01e1b317-dddf-4f25-bedf-213d532a6f3c"
      },
      "execution_count": 198,
      "outputs": [
        {
          "output_type": "execute_result",
          "data": {
            "text/html": [
              "\n",
              "  <div id=\"df-9c747408-19e3-45f3-9418-fd522236f4f5\">\n",
              "    <div class=\"colab-df-container\">\n",
              "      <div>\n",
              "<style scoped>\n",
              "    .dataframe tbody tr th:only-of-type {\n",
              "        vertical-align: middle;\n",
              "    }\n",
              "\n",
              "    .dataframe tbody tr th {\n",
              "        vertical-align: top;\n",
              "    }\n",
              "\n",
              "    .dataframe thead th {\n",
              "        text-align: right;\n",
              "    }\n",
              "</style>\n",
              "<table border=\"1\" class=\"dataframe\">\n",
              "  <thead>\n",
              "    <tr style=\"text-align: right;\">\n",
              "      <th></th>\n",
              "      <th>Feature Names</th>\n",
              "      <th>Log-Probabilitis</th>\n",
              "    </tr>\n",
              "  </thead>\n",
              "  <tbody>\n",
              "    <tr>\n",
              "      <th>6053</th>\n",
              "      <td>mrs</td>\n",
              "      <td>-3.448335</td>\n",
              "    </tr>\n",
              "    <tr>\n",
              "      <th>6063</th>\n",
              "      <td>literacy_language</td>\n",
              "      <td>-3.621998</td>\n",
              "    </tr>\n",
              "    <tr>\n",
              "      <th>6059</th>\n",
              "      <td>grades_prek_2</td>\n",
              "      <td>-3.629690</td>\n",
              "    </tr>\n",
              "    <tr>\n",
              "      <th>6064</th>\n",
              "      <td>math_science</td>\n",
              "      <td>-3.768937</td>\n",
              "    </tr>\n",
              "    <tr>\n",
              "      <th>6054</th>\n",
              "      <td>ms</td>\n",
              "      <td>-3.792890</td>\n",
              "    </tr>\n",
              "    <tr>\n",
              "      <th>6056</th>\n",
              "      <td>grades_3_5</td>\n",
              "      <td>-3.909253</td>\n",
              "    </tr>\n",
              "    <tr>\n",
              "      <th>6083</th>\n",
              "      <td>literacy</td>\n",
              "      <td>-4.118661</td>\n",
              "    </tr>\n",
              "    <tr>\n",
              "      <th>6085</th>\n",
              "      <td>mathematics</td>\n",
              "      <td>-4.126033</td>\n",
              "    </tr>\n",
              "    <tr>\n",
              "      <th>6084</th>\n",
              "      <td>literature_writing</td>\n",
              "      <td>-4.381128</td>\n",
              "    </tr>\n",
              "    <tr>\n",
              "      <th>6061</th>\n",
              "      <td>health_sports</td>\n",
              "      <td>-4.469504</td>\n",
              "    </tr>\n",
              "    <tr>\n",
              "      <th>6057</th>\n",
              "      <td>grades_6_8</td>\n",
              "      <td>-4.673823</td>\n",
              "    </tr>\n",
              "    <tr>\n",
              "      <th>6081</th>\n",
              "      <td>health_wellness</td>\n",
              "      <td>-4.787955</td>\n",
              "    </tr>\n",
              "    <tr>\n",
              "      <th>6092</th>\n",
              "      <td>specialneeds</td>\n",
              "      <td>-4.889224</td>\n",
              "    </tr>\n",
              "    <tr>\n",
              "      <th>6066</th>\n",
              "      <td>specialneeds</td>\n",
              "      <td>-4.889224</td>\n",
              "    </tr>\n",
              "    <tr>\n",
              "      <th>6060</th>\n",
              "      <td>appliedlearning</td>\n",
              "      <td>-4.914484</td>\n",
              "    </tr>\n",
              "    <tr>\n",
              "      <th>4781</th>\n",
              "      <td>students</td>\n",
              "      <td>-4.932890</td>\n",
              "    </tr>\n",
              "    <tr>\n",
              "      <th>6004</th>\n",
              "      <td>ca</td>\n",
              "      <td>-4.967001</td>\n",
              "    </tr>\n",
              "    <tr>\n",
              "      <th>6067</th>\n",
              "      <td>appliedsciences</td>\n",
              "      <td>-5.131827</td>\n",
              "    </tr>\n",
              "    <tr>\n",
              "      <th>6043</th>\n",
              "      <td>tx</td>\n",
              "      <td>-5.140536</td>\n",
              "    </tr>\n",
              "    <tr>\n",
              "      <th>6058</th>\n",
              "      <td>grades_9_12</td>\n",
              "      <td>-5.200613</td>\n",
              "    </tr>\n",
              "  </tbody>\n",
              "</table>\n",
              "</div>\n",
              "      <button class=\"colab-df-convert\" onclick=\"convertToInteractive('df-9c747408-19e3-45f3-9418-fd522236f4f5')\"\n",
              "              title=\"Convert this dataframe to an interactive table.\"\n",
              "              style=\"display:none;\">\n",
              "        \n",
              "  <svg xmlns=\"http://www.w3.org/2000/svg\" height=\"24px\"viewBox=\"0 0 24 24\"\n",
              "       width=\"24px\">\n",
              "    <path d=\"M0 0h24v24H0V0z\" fill=\"none\"/>\n",
              "    <path d=\"M18.56 5.44l.94 2.06.94-2.06 2.06-.94-2.06-.94-.94-2.06-.94 2.06-2.06.94zm-11 1L8.5 8.5l.94-2.06 2.06-.94-2.06-.94L8.5 2.5l-.94 2.06-2.06.94zm10 10l.94 2.06.94-2.06 2.06-.94-2.06-.94-.94-2.06-.94 2.06-2.06.94z\"/><path d=\"M17.41 7.96l-1.37-1.37c-.4-.4-.92-.59-1.43-.59-.52 0-1.04.2-1.43.59L10.3 9.45l-7.72 7.72c-.78.78-.78 2.05 0 2.83L4 21.41c.39.39.9.59 1.41.59.51 0 1.02-.2 1.41-.59l7.78-7.78 2.81-2.81c.8-.78.8-2.07 0-2.86zM5.41 20L4 18.59l7.72-7.72 1.47 1.35L5.41 20z\"/>\n",
              "  </svg>\n",
              "      </button>\n",
              "      \n",
              "  <style>\n",
              "    .colab-df-container {\n",
              "      display:flex;\n",
              "      flex-wrap:wrap;\n",
              "      gap: 12px;\n",
              "    }\n",
              "\n",
              "    .colab-df-convert {\n",
              "      background-color: #E8F0FE;\n",
              "      border: none;\n",
              "      border-radius: 50%;\n",
              "      cursor: pointer;\n",
              "      display: none;\n",
              "      fill: #1967D2;\n",
              "      height: 32px;\n",
              "      padding: 0 0 0 0;\n",
              "      width: 32px;\n",
              "    }\n",
              "\n",
              "    .colab-df-convert:hover {\n",
              "      background-color: #E2EBFA;\n",
              "      box-shadow: 0px 1px 2px rgba(60, 64, 67, 0.3), 0px 1px 3px 1px rgba(60, 64, 67, 0.15);\n",
              "      fill: #174EA6;\n",
              "    }\n",
              "\n",
              "    [theme=dark] .colab-df-convert {\n",
              "      background-color: #3B4455;\n",
              "      fill: #D2E3FC;\n",
              "    }\n",
              "\n",
              "    [theme=dark] .colab-df-convert:hover {\n",
              "      background-color: #434B5C;\n",
              "      box-shadow: 0px 1px 3px 1px rgba(0, 0, 0, 0.15);\n",
              "      filter: drop-shadow(0px 1px 2px rgba(0, 0, 0, 0.3));\n",
              "      fill: #FFFFFF;\n",
              "    }\n",
              "  </style>\n",
              "\n",
              "      <script>\n",
              "        const buttonEl =\n",
              "          document.querySelector('#df-9c747408-19e3-45f3-9418-fd522236f4f5 button.colab-df-convert');\n",
              "        buttonEl.style.display =\n",
              "          google.colab.kernel.accessAllowed ? 'block' : 'none';\n",
              "\n",
              "        async function convertToInteractive(key) {\n",
              "          const element = document.querySelector('#df-9c747408-19e3-45f3-9418-fd522236f4f5');\n",
              "          const dataTable =\n",
              "            await google.colab.kernel.invokeFunction('convertToInteractive',\n",
              "                                                     [key], {});\n",
              "          if (!dataTable) return;\n",
              "\n",
              "          const docLinkHtml = 'Like what you see? Visit the ' +\n",
              "            '<a target=\"_blank\" href=https://colab.research.google.com/notebooks/data_table.ipynb>data table notebook</a>'\n",
              "            + ' to learn more about interactive tables.';\n",
              "          element.innerHTML = '';\n",
              "          dataTable['output_type'] = 'display_data';\n",
              "          await google.colab.output.renderOutput(dataTable, element);\n",
              "          const docLink = document.createElement('div');\n",
              "          docLink.innerHTML = docLinkHtml;\n",
              "          element.appendChild(docLink);\n",
              "        }\n",
              "      </script>\n",
              "    </div>\n",
              "  </div>\n",
              "  "
            ],
            "text/plain": [
              "           Feature Names  Log-Probabilitis\n",
              "6053                 mrs         -3.448335\n",
              "6063   literacy_language         -3.621998\n",
              "6059       grades_prek_2         -3.629690\n",
              "6064        math_science         -3.768937\n",
              "6054                  ms         -3.792890\n",
              "6056          grades_3_5         -3.909253\n",
              "6083            literacy         -4.118661\n",
              "6085         mathematics         -4.126033\n",
              "6084  literature_writing         -4.381128\n",
              "6061       health_sports         -4.469504\n",
              "6057          grades_6_8         -4.673823\n",
              "6081     health_wellness         -4.787955\n",
              "6092        specialneeds         -4.889224\n",
              "6066        specialneeds         -4.889224\n",
              "6060     appliedlearning         -4.914484\n",
              "4781            students         -4.932890\n",
              "6004                  ca         -4.967001\n",
              "6067     appliedsciences         -5.131827\n",
              "6043                  tx         -5.140536\n",
              "6058         grades_9_12         -5.200613"
            ]
          },
          "metadata": {},
          "execution_count": 198
        }
      ]
    },
    {
      "cell_type": "markdown",
      "metadata": {
        "id": "lS9hIHdib3dp"
      },
      "source": [
        "<h1>3. Summary</h1>\n",
        "\n",
        "<br> as mentioned in the step 5 of instructions"
      ]
    },
    {
      "cell_type": "code",
      "execution_count": 202,
      "metadata": {
        "id": "R1RZ0bITvXHG",
        "colab": {
          "base_uri": "https://localhost:8080/"
        },
        "outputId": "523bc576-10b5-4e87-c70a-64561eadaf8d"
      },
      "outputs": [
        {
          "output_type": "stream",
          "name": "stdout",
          "text": [
            "+------+------------+-----------+----------+\n",
            "| SET  | Best Alpha | Train AUC | Test AUC |\n",
            "+------+------------+-----------+----------+\n",
            "| Set1 |   0.005    |   0.764   |   0.7    |\n",
            "| Set2 |   0.005    |   0.759   |  0.6845  |\n",
            "+------+------------+-----------+----------+\n"
          ]
        }
      ],
      "source": [
        "#Summarize your assignment work here in a few points, and also compare the final models (from set 1 and set 2), in terms of optimal hyperparameter value 'alpha', training AUC and test AUC scores.\n",
        "# You can either use a pretty table or any other tabular structure.\n",
        "# Reference Link for Pretty table:  https://pypi.org/project/prettytable/\n",
        "\n",
        "from prettytable import PrettyTable\n",
        "    \n",
        "x = PrettyTable()\n",
        "\n",
        "x.field_names = [\"SET\",\"Best Alpha\", \"Train AUC\",\"Test AUC\"]\n",
        "\n",
        "x.add_row([\"Set1\",0.005,0.764,0.70])\n",
        "x.add_row([\"Set2\",0.005,0.759,0.6845])\n",
        "\n",
        "print(x)"
      ]
    }
  ],
  "metadata": {
    "colab": {
      "collapsed_sections": [],
      "name": "NB_Assignment_Donor_Chose.ipynb",
      "provenance": []
    },
    "kernelspec": {
      "display_name": "Python 3",
      "language": "python",
      "name": "python3"
    },
    "language_info": {
      "codemirror_mode": {
        "name": "ipython",
        "version": 3
      },
      "file_extension": ".py",
      "mimetype": "text/x-python",
      "name": "python",
      "nbconvert_exporter": "python",
      "pygments_lexer": "ipython3",
      "version": "3.6.3"
    },
    "accelerator": "GPU"
  },
  "nbformat": 4,
  "nbformat_minor": 0
}