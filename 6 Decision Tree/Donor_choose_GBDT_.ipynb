{
  "cells": [
    {
      "cell_type": "markdown",
      "metadata": {
        "id": "8wqapAXjsc24"
      },
      "source": [
        "# Assignment 9: GBDT"
      ]
    },
    {
      "cell_type": "markdown",
      "metadata": {
        "id": "8u5NhbnEsc2-"
      },
      "source": [
        "#### Response Coding: Example"
      ]
    },
    {
      "cell_type": "markdown",
      "metadata": {
        "id": "HIFWmwHKsc3A"
      },
      "source": [
        "<img src='http://i.imgur.com/TufZptV.jpg' width=700px>\n",
        "\n",
        "> The response tabel is built only on train dataset.\n",
        "> For a category which is not there in train data and present in test data, we will encode them with default values\n",
        "Ex: in our test data if have State: D then we encode it as [0.5, 0.05]"
      ]
    },
    {
      "cell_type": "code",
      "execution_count": 9,
      "metadata": {
        "id": "Lg0Liqyr9nGS"
      },
      "outputs": [],
      "source": [
        ""
      ]
    },
    {
      "cell_type": "code",
      "execution_count": 9,
      "metadata": {
        "id": "bASXj1XE9nGT"
      },
      "outputs": [],
      "source": [
        ""
      ]
    },
    {
      "cell_type": "markdown",
      "metadata": {
        "id": "3KwfGufDsc3D"
      },
      "source": [
        "<ol>\n",
        "    <li><strong>Apply GBDT on these feature sets</strong>\n",
        "        <ul>\n",
        "            <li><font color='red'>Set 1</font>: categorical(instead of one hot encoding, try <a href='https://www.appliedaicourse.com/course/applied-ai-course-online/lessons/handling-categorical-and-numerical-features/'>response coding</a>: use probability values), numerical features + project_title(TFIDF)+  preprocessed_eassay (TFIDF)+sentiment Score of eassay(check the bellow example, include all 4 values as 4 features)</li>\n",
        "            <li><font color='red'>Set 2</font>: categorical(instead of one hot encoding, try <a href='https://www.appliedaicourse.com/course/applied-ai-course-online/lessons/handling-categorical-and-numerical-features/'>response coding</a>: use probability values), numerical features + project_title(TFIDF W2V)+  preprocessed_eassay (TFIDF W2V)</li>        \n",
        "    </li>\n",
        "    <li> Here in response encoding you need to apply the <strong>laplase smoothing</strong> value for test set. Laplase smoothing means, If test point is present in test but not in train then you need to apply default 0.5 as probability value for that data point (Refer the Response Encoding Image from above cell) </li>\n",
        "    <li>Please use atleast <strong> 35k </strong> data points </li></ul>\n",
        "    <li><strong>The hyper paramter tuning (Consider any two hyper parameters)</strong>\n",
        "        <ul>\n",
        "    <li>Find the best hyper parameter which will give the maximum <a href='https://www.appliedaicourse.com/course/applied-ai-course-online/lessons/receiver-operating-characteristic-curve-roc-curve-and-auc-1/'>AUC</a> value</li>\n",
        "    <li>find the best hyper paramter using k-fold cross validation/simple cross validation data</li>\n",
        "    <li>use gridsearch cv or randomsearch cv or you can write your own for loops to do this task</li>\n",
        "        </ul>\n",
        "    </li>\n",
        "    <li>\n",
        "    <strong>Representation of results</strong>\n",
        "        <ul>\n",
        "    <li>You need to plot the performance of model both on train data and cross validation data for each hyper parameter, like shown in the figure\n",
        "    <img src='https://i.imgur.com/Gp2DQmh.jpg' width=500px> with X-axis as <strong>n_estimators</strong>, Y-axis as <strong>max_depth</strong>, and Z-axis as <strong>AUC Score</strong> , we have given the notebook which explains how to plot this 3d plot, you can find it in the same drive <i>3d_scatter_plot.ipynb</i></li>\n",
        "            <p style=\"text-align:center;font-size:30px;color:red;\"><strong>or</strong></p> <br>\n",
        "    <li>You need to plot the performance of model both on train data and cross validation data for each hyper parameter, like shown in the figure\n",
        "    <img src='https://i.imgur.com/fgN9aUP.jpg' width=300px> <a href='https://seaborn.pydata.org/generated/seaborn.heatmap.html'>seaborn heat maps</a> with rows as <strong>n_estimators</strong>, columns as <strong>max_depth</strong>, and values inside the cell representing <strong>AUC Score</strong> </li>\n",
        "    <li>You choose either of the plotting techniques out of 3d plot or heat map</li>\n",
        "    <li>Once after you found the best hyper parameter, you need to train your model with it, and find the AUC on test data and plot the ROC curve on both train and test.\n",
        "        Make sure that you are using predict_proba method to calculate AUC curves, because AUC is calcualted on class probabilities and not on class labels.\n",
        "    <img src='https://i.imgur.com/wMQDTFe.jpg' width=300px></li>\n",
        "    <li>Along with plotting ROC curve, you need to print the <a href='https://www.appliedaicourse.com/course/applied-ai-course-online/lessons/confusion-matrix-tpr-fpr-fnr-tnr-1/'>confusion matrix</a> with predicted and original labels of test data points\n",
        "    <img src='https://i.imgur.com/IdN5Ctv.png' width=300px></li>\n",
        "            </ul>\n",
        "    <br>\n",
        "    <li>You need to summarize the results at the end of the notebook, summarize it in the table format\n",
        "        <img src='http://i.imgur.com/YVpIGGE.jpg' width=400px>\n",
        "    </li>\n",
        "</ol>"
      ]
    },
    {
      "cell_type": "markdown",
      "metadata": {
        "id": "voa8zHCR9nGV"
      },
      "source": [
        "# Few Notes"
      ]
    },
    {
      "cell_type": "markdown",
      "metadata": {
        "id": "etOvVcMZ9nGW"
      },
      "source": [
        "1. Use atleast 35k data points\n",
        "2. Use classifier.Predict_proba() method instead of predict() method while calculating roc_auc scores\n",
        "3. Be sure that you are using laplase smoothing in response encoding function. Laplase smoothing means applying the default (0.5) value to test data if the test data is not present in the train set\n"
      ]
    },
    {
      "cell_type": "code",
      "source": [
        "%matplotlib inline\n",
        "import warnings\n",
        "warnings.filterwarnings(\"ignore\")\n",
        "\n",
        "import pandas as pd\n",
        "import numpy as np\n",
        "import nltk\n",
        "import matplotlib.pyplot as plt\n",
        "import seaborn as sns\n",
        "from sklearn.feature_extraction.text import TfidfVectorizer\n",
        "from sklearn.feature_extraction.text import CountVectorizer\n",
        "from sklearn.metrics import confusion_matrix\n",
        "from sklearn import metrics\n",
        "from sklearn.metrics import roc_curve, auc\n",
        "\n",
        "import re\n",
        "# Tutorial about Python regular expressions: https://pymotw.com/2/re/\n",
        "\n",
        "import pickle\n",
        "from tqdm import tqdm\n",
        "import os\n",
        "\n",
        "from collections import Counter\n",
        "import math"
      ],
      "metadata": {
        "id": "Vs7i-h2tEsYX"
      },
      "execution_count": 10,
      "outputs": []
    },
    {
      "cell_type": "code",
      "source": [
        "import nltk\n",
        "nltk.download('vader_lexicon')"
      ],
      "metadata": {
        "id": "8jqs-orG-5y7",
        "outputId": "8cac7fd4-1879-4850-969f-949b9975ceb6",
        "colab": {
          "base_uri": "https://localhost:8080/"
        }
      },
      "execution_count": 11,
      "outputs": [
        {
          "output_type": "stream",
          "name": "stdout",
          "text": [
            "[nltk_data] Downloading package vader_lexicon to /root/nltk_data...\n",
            "[nltk_data]   Package vader_lexicon is already up-to-date!\n"
          ]
        },
        {
          "output_type": "execute_result",
          "data": {
            "text/plain": [
              "True"
            ]
          },
          "metadata": {},
          "execution_count": 11
        }
      ]
    },
    {
      "cell_type": "code",
      "execution_count": 12,
      "metadata": {
        "colab": {
          "base_uri": "https://localhost:8080/"
        },
        "id": "iffa2_WGsc3H",
        "outputId": "4de80c17-35ab-47a8-af03-babe88d326c9"
      },
      "outputs": [
        {
          "output_type": "stream",
          "name": "stdout",
          "text": [
            "sentiment score for sentence 1 {'neg': 0.0, 'neu': 0.213, 'pos': 0.787, 'compound': 0.5719}\n",
            "sentiment score for sentence 2 {'neg': 0.756, 'neu': 0.244, 'pos': 0.0, 'compound': -0.4767}\n",
            "sentiment score for sentence 3 {'neg': 0.0, 'neu': 1.0, 'pos': 0.0, 'compound': 0.0}\n"
          ]
        }
      ],
      "source": [
        "import nltk\n",
        "from nltk.sentiment.vader import SentimentIntensityAnalyzer\n",
        "\n",
        "sid = SentimentIntensityAnalyzer()\n",
        "\n",
        "sample_sentence_1='I am happy.'\n",
        "ss_1 = sid.polarity_scores(sample_sentence_1)\n",
        "print('sentiment score for sentence 1',ss_1)\n",
        "\n",
        "sample_sentence_2='I am sad.'\n",
        "ss_2 = sid.polarity_scores(sample_sentence_2)\n",
        "print('sentiment score for sentence 2',ss_2)\n",
        "\n",
        "sample_sentence_3='I am going to New Delhi tommorow.'\n",
        "ss_3 = sid.polarity_scores(sample_sentence_3)\n",
        "print('sentiment score for sentence 3',ss_3)\n"
      ]
    },
    {
      "cell_type": "markdown",
      "metadata": {
        "id": "BOyTl7oKsc3W"
      },
      "source": [
        "<h1>1. GBDT (xgboost/lightgbm) </h1>"
      ]
    },
    {
      "cell_type": "markdown",
      "metadata": {
        "id": "VWge-b2Zsc3Z"
      },
      "source": [
        "## 1.1 Loading Data"
      ]
    },
    {
      "cell_type": "code",
      "source": [
        "from google.colab import drive\n",
        "drive.mount('/content/drive')"
      ],
      "metadata": {
        "id": "wDwr0gjA_SXF",
        "outputId": "571fbff8-bc76-49d2-a6cf-2936c9788828",
        "colab": {
          "base_uri": "https://localhost:8080/"
        }
      },
      "execution_count": 13,
      "outputs": [
        {
          "output_type": "stream",
          "name": "stdout",
          "text": [
            "Drive already mounted at /content/drive; to attempt to forcibly remount, call drive.mount(\"/content/drive\", force_remount=True).\n"
          ]
        }
      ]
    },
    {
      "cell_type": "code",
      "execution_count": 14,
      "metadata": {
        "id": "WDZFu6-usc3d"
      },
      "outputs": [],
      "source": [
        "import pandas\n",
        "data = pandas.read_csv('/content/drive/MyDrive/Case Studies/Donor Choose/6_Donors_choose_NB/preprocessed_data.csv',nrows = 35000)"
      ]
    },
    {
      "cell_type": "code",
      "source": [
        "print(data.shape)\n",
        "\n",
        "data.head(2)"
      ],
      "metadata": {
        "id": "gEovcySMDGG5",
        "outputId": "71a47c18-a4f6-451e-aec8-dfd1a0eda289",
        "colab": {
          "base_uri": "https://localhost:8080/",
          "height": 349
        }
      },
      "execution_count": 15,
      "outputs": [
        {
          "output_type": "stream",
          "name": "stdout",
          "text": [
            "(35000, 9)\n"
          ]
        },
        {
          "output_type": "execute_result",
          "data": {
            "text/plain": [
              "  school_state teacher_prefix project_grade_category  \\\n",
              "0           ca            mrs          grades_prek_2   \n",
              "1           ut             ms             grades_3_5   \n",
              "\n",
              "   teacher_number_of_previously_posted_projects  project_is_approved  \\\n",
              "0                                            53                    1   \n",
              "1                                             4                    1   \n",
              "\n",
              "  clean_categories                 clean_subcategories  \\\n",
              "0     math_science  appliedsciences health_lifescience   \n",
              "1     specialneeds                        specialneeds   \n",
              "\n",
              "                                               essay   price  \n",
              "0  i fortunate enough use fairy tale stem kits cl...  725.05  \n",
              "1  imagine 8 9 years old you third grade classroo...  213.03  "
            ],
            "text/html": [
              "\n",
              "  <div id=\"df-d0dca2f1-c534-4567-887a-037e9e6755ec\">\n",
              "    <div class=\"colab-df-container\">\n",
              "      <div>\n",
              "<style scoped>\n",
              "    .dataframe tbody tr th:only-of-type {\n",
              "        vertical-align: middle;\n",
              "    }\n",
              "\n",
              "    .dataframe tbody tr th {\n",
              "        vertical-align: top;\n",
              "    }\n",
              "\n",
              "    .dataframe thead th {\n",
              "        text-align: right;\n",
              "    }\n",
              "</style>\n",
              "<table border=\"1\" class=\"dataframe\">\n",
              "  <thead>\n",
              "    <tr style=\"text-align: right;\">\n",
              "      <th></th>\n",
              "      <th>school_state</th>\n",
              "      <th>teacher_prefix</th>\n",
              "      <th>project_grade_category</th>\n",
              "      <th>teacher_number_of_previously_posted_projects</th>\n",
              "      <th>project_is_approved</th>\n",
              "      <th>clean_categories</th>\n",
              "      <th>clean_subcategories</th>\n",
              "      <th>essay</th>\n",
              "      <th>price</th>\n",
              "    </tr>\n",
              "  </thead>\n",
              "  <tbody>\n",
              "    <tr>\n",
              "      <th>0</th>\n",
              "      <td>ca</td>\n",
              "      <td>mrs</td>\n",
              "      <td>grades_prek_2</td>\n",
              "      <td>53</td>\n",
              "      <td>1</td>\n",
              "      <td>math_science</td>\n",
              "      <td>appliedsciences health_lifescience</td>\n",
              "      <td>i fortunate enough use fairy tale stem kits cl...</td>\n",
              "      <td>725.05</td>\n",
              "    </tr>\n",
              "    <tr>\n",
              "      <th>1</th>\n",
              "      <td>ut</td>\n",
              "      <td>ms</td>\n",
              "      <td>grades_3_5</td>\n",
              "      <td>4</td>\n",
              "      <td>1</td>\n",
              "      <td>specialneeds</td>\n",
              "      <td>specialneeds</td>\n",
              "      <td>imagine 8 9 years old you third grade classroo...</td>\n",
              "      <td>213.03</td>\n",
              "    </tr>\n",
              "  </tbody>\n",
              "</table>\n",
              "</div>\n",
              "      <button class=\"colab-df-convert\" onclick=\"convertToInteractive('df-d0dca2f1-c534-4567-887a-037e9e6755ec')\"\n",
              "              title=\"Convert this dataframe to an interactive table.\"\n",
              "              style=\"display:none;\">\n",
              "        \n",
              "  <svg xmlns=\"http://www.w3.org/2000/svg\" height=\"24px\"viewBox=\"0 0 24 24\"\n",
              "       width=\"24px\">\n",
              "    <path d=\"M0 0h24v24H0V0z\" fill=\"none\"/>\n",
              "    <path d=\"M18.56 5.44l.94 2.06.94-2.06 2.06-.94-2.06-.94-.94-2.06-.94 2.06-2.06.94zm-11 1L8.5 8.5l.94-2.06 2.06-.94-2.06-.94L8.5 2.5l-.94 2.06-2.06.94zm10 10l.94 2.06.94-2.06 2.06-.94-2.06-.94-.94-2.06-.94 2.06-2.06.94z\"/><path d=\"M17.41 7.96l-1.37-1.37c-.4-.4-.92-.59-1.43-.59-.52 0-1.04.2-1.43.59L10.3 9.45l-7.72 7.72c-.78.78-.78 2.05 0 2.83L4 21.41c.39.39.9.59 1.41.59.51 0 1.02-.2 1.41-.59l7.78-7.78 2.81-2.81c.8-.78.8-2.07 0-2.86zM5.41 20L4 18.59l7.72-7.72 1.47 1.35L5.41 20z\"/>\n",
              "  </svg>\n",
              "      </button>\n",
              "      \n",
              "  <style>\n",
              "    .colab-df-container {\n",
              "      display:flex;\n",
              "      flex-wrap:wrap;\n",
              "      gap: 12px;\n",
              "    }\n",
              "\n",
              "    .colab-df-convert {\n",
              "      background-color: #E8F0FE;\n",
              "      border: none;\n",
              "      border-radius: 50%;\n",
              "      cursor: pointer;\n",
              "      display: none;\n",
              "      fill: #1967D2;\n",
              "      height: 32px;\n",
              "      padding: 0 0 0 0;\n",
              "      width: 32px;\n",
              "    }\n",
              "\n",
              "    .colab-df-convert:hover {\n",
              "      background-color: #E2EBFA;\n",
              "      box-shadow: 0px 1px 2px rgba(60, 64, 67, 0.3), 0px 1px 3px 1px rgba(60, 64, 67, 0.15);\n",
              "      fill: #174EA6;\n",
              "    }\n",
              "\n",
              "    [theme=dark] .colab-df-convert {\n",
              "      background-color: #3B4455;\n",
              "      fill: #D2E3FC;\n",
              "    }\n",
              "\n",
              "    [theme=dark] .colab-df-convert:hover {\n",
              "      background-color: #434B5C;\n",
              "      box-shadow: 0px 1px 3px 1px rgba(0, 0, 0, 0.15);\n",
              "      filter: drop-shadow(0px 1px 2px rgba(0, 0, 0, 0.3));\n",
              "      fill: #FFFFFF;\n",
              "    }\n",
              "  </style>\n",
              "\n",
              "      <script>\n",
              "        const buttonEl =\n",
              "          document.querySelector('#df-d0dca2f1-c534-4567-887a-037e9e6755ec button.colab-df-convert');\n",
              "        buttonEl.style.display =\n",
              "          google.colab.kernel.accessAllowed ? 'block' : 'none';\n",
              "\n",
              "        async function convertToInteractive(key) {\n",
              "          const element = document.querySelector('#df-d0dca2f1-c534-4567-887a-037e9e6755ec');\n",
              "          const dataTable =\n",
              "            await google.colab.kernel.invokeFunction('convertToInteractive',\n",
              "                                                     [key], {});\n",
              "          if (!dataTable) return;\n",
              "\n",
              "          const docLinkHtml = 'Like what you see? Visit the ' +\n",
              "            '<a target=\"_blank\" href=https://colab.research.google.com/notebooks/data_table.ipynb>data table notebook</a>'\n",
              "            + ' to learn more about interactive tables.';\n",
              "          element.innerHTML = '';\n",
              "          dataTable['output_type'] = 'display_data';\n",
              "          await google.colab.output.renderOutput(dataTable, element);\n",
              "          const docLink = document.createElement('div');\n",
              "          docLink.innerHTML = docLinkHtml;\n",
              "          element.appendChild(docLink);\n",
              "        }\n",
              "      </script>\n",
              "    </div>\n",
              "  </div>\n",
              "  "
            ]
          },
          "metadata": {},
          "execution_count": 15
        }
      ]
    },
    {
      "cell_type": "code",
      "source": [
        "def get_sentiment_scores(sentence):\n",
        "\n",
        "  sid = SentimentIntensityAnalyzer()\n",
        "\n",
        "  sentiment_score = []\n",
        "\n",
        "  scores = sid.polarity_scores(sentence)\n",
        "  \n",
        "  sentiment_score.append(scores['neg'])\n",
        "  sentiment_score.append(scores['neu'])\n",
        "  sentiment_score.append(scores['pos'])\n",
        "  sentiment_score.append(scores['compound'])\n",
        "  \n",
        "  return sentiment_score"
      ],
      "metadata": {
        "id": "d3DWPuDVDzmT"
      },
      "execution_count": 16,
      "outputs": []
    },
    {
      "cell_type": "code",
      "source": [
        "%%time \n",
        "\n",
        "score_list = []\n",
        "\n",
        "# it will take around 7 min to get the score of 35k points \n",
        "scores     = data.apply(lambda x:get_sentiment_scores(x[\"essay\"]), axis = 1)"
      ],
      "metadata": {
        "id": "Y52G8bPkDzyy",
        "outputId": "5c855cbb-1d6f-4d40-afdc-896f66554379",
        "colab": {
          "base_uri": "https://localhost:8080/"
        }
      },
      "execution_count": 17,
      "outputs": [
        {
          "output_type": "stream",
          "name": "stdout",
          "text": [
            "CPU times: user 6min 4s, sys: 1.89 s, total: 6min 6s\n",
            "Wall time: 6min 22s\n"
          ]
        }
      ]
    },
    {
      "cell_type": "code",
      "source": [
        "for lists in tqdm(scores):\n",
        "  score_list.append(lists)\n",
        "\n",
        "df = pd.DataFrame(score_list)\n",
        "df.columns = ['negative','neutral','positive','compound']\n",
        "\n",
        "frames = [data,df]\n",
        "\n",
        "# https://pandas.pydata.org/pandas-docs/stable/user_guide/merging.html \n",
        "\n",
        "final_data = pd.concat(frames,axis = 1)\n",
        "\n",
        "print(final_data.shape)\n",
        "final_data.head(2)"
      ],
      "metadata": {
        "id": "xfNgL5ANEPo8",
        "outputId": "69f0d9c3-f7d2-4e6f-dd61-3820c4784b5c",
        "colab": {
          "base_uri": "https://localhost:8080/",
          "height": 367
        }
      },
      "execution_count": 18,
      "outputs": [
        {
          "output_type": "stream",
          "name": "stderr",
          "text": [
            "100%|██████████| 35000/35000 [00:00<00:00, 1475368.49it/s]"
          ]
        },
        {
          "output_type": "stream",
          "name": "stdout",
          "text": [
            "(35000, 13)\n"
          ]
        },
        {
          "output_type": "stream",
          "name": "stderr",
          "text": [
            "\n"
          ]
        },
        {
          "output_type": "execute_result",
          "data": {
            "text/plain": [
              "  school_state teacher_prefix project_grade_category  \\\n",
              "0           ca            mrs          grades_prek_2   \n",
              "1           ut             ms             grades_3_5   \n",
              "\n",
              "   teacher_number_of_previously_posted_projects  project_is_approved  \\\n",
              "0                                            53                    1   \n",
              "1                                             4                    1   \n",
              "\n",
              "  clean_categories                 clean_subcategories  \\\n",
              "0     math_science  appliedsciences health_lifescience   \n",
              "1     specialneeds                        specialneeds   \n",
              "\n",
              "                                               essay   price  negative  \\\n",
              "0  i fortunate enough use fairy tale stem kits cl...  725.05     0.013   \n",
              "1  imagine 8 9 years old you third grade classroo...  213.03     0.072   \n",
              "\n",
              "   neutral  positive  compound  \n",
              "0    0.783     0.205    0.9867  \n",
              "1    0.680     0.248    0.9897  "
            ],
            "text/html": [
              "\n",
              "  <div id=\"df-660e5bf4-619b-463a-b5fa-c27d2477b2d4\">\n",
              "    <div class=\"colab-df-container\">\n",
              "      <div>\n",
              "<style scoped>\n",
              "    .dataframe tbody tr th:only-of-type {\n",
              "        vertical-align: middle;\n",
              "    }\n",
              "\n",
              "    .dataframe tbody tr th {\n",
              "        vertical-align: top;\n",
              "    }\n",
              "\n",
              "    .dataframe thead th {\n",
              "        text-align: right;\n",
              "    }\n",
              "</style>\n",
              "<table border=\"1\" class=\"dataframe\">\n",
              "  <thead>\n",
              "    <tr style=\"text-align: right;\">\n",
              "      <th></th>\n",
              "      <th>school_state</th>\n",
              "      <th>teacher_prefix</th>\n",
              "      <th>project_grade_category</th>\n",
              "      <th>teacher_number_of_previously_posted_projects</th>\n",
              "      <th>project_is_approved</th>\n",
              "      <th>clean_categories</th>\n",
              "      <th>clean_subcategories</th>\n",
              "      <th>essay</th>\n",
              "      <th>price</th>\n",
              "      <th>negative</th>\n",
              "      <th>neutral</th>\n",
              "      <th>positive</th>\n",
              "      <th>compound</th>\n",
              "    </tr>\n",
              "  </thead>\n",
              "  <tbody>\n",
              "    <tr>\n",
              "      <th>0</th>\n",
              "      <td>ca</td>\n",
              "      <td>mrs</td>\n",
              "      <td>grades_prek_2</td>\n",
              "      <td>53</td>\n",
              "      <td>1</td>\n",
              "      <td>math_science</td>\n",
              "      <td>appliedsciences health_lifescience</td>\n",
              "      <td>i fortunate enough use fairy tale stem kits cl...</td>\n",
              "      <td>725.05</td>\n",
              "      <td>0.013</td>\n",
              "      <td>0.783</td>\n",
              "      <td>0.205</td>\n",
              "      <td>0.9867</td>\n",
              "    </tr>\n",
              "    <tr>\n",
              "      <th>1</th>\n",
              "      <td>ut</td>\n",
              "      <td>ms</td>\n",
              "      <td>grades_3_5</td>\n",
              "      <td>4</td>\n",
              "      <td>1</td>\n",
              "      <td>specialneeds</td>\n",
              "      <td>specialneeds</td>\n",
              "      <td>imagine 8 9 years old you third grade classroo...</td>\n",
              "      <td>213.03</td>\n",
              "      <td>0.072</td>\n",
              "      <td>0.680</td>\n",
              "      <td>0.248</td>\n",
              "      <td>0.9897</td>\n",
              "    </tr>\n",
              "  </tbody>\n",
              "</table>\n",
              "</div>\n",
              "      <button class=\"colab-df-convert\" onclick=\"convertToInteractive('df-660e5bf4-619b-463a-b5fa-c27d2477b2d4')\"\n",
              "              title=\"Convert this dataframe to an interactive table.\"\n",
              "              style=\"display:none;\">\n",
              "        \n",
              "  <svg xmlns=\"http://www.w3.org/2000/svg\" height=\"24px\"viewBox=\"0 0 24 24\"\n",
              "       width=\"24px\">\n",
              "    <path d=\"M0 0h24v24H0V0z\" fill=\"none\"/>\n",
              "    <path d=\"M18.56 5.44l.94 2.06.94-2.06 2.06-.94-2.06-.94-.94-2.06-.94 2.06-2.06.94zm-11 1L8.5 8.5l.94-2.06 2.06-.94-2.06-.94L8.5 2.5l-.94 2.06-2.06.94zm10 10l.94 2.06.94-2.06 2.06-.94-2.06-.94-.94-2.06-.94 2.06-2.06.94z\"/><path d=\"M17.41 7.96l-1.37-1.37c-.4-.4-.92-.59-1.43-.59-.52 0-1.04.2-1.43.59L10.3 9.45l-7.72 7.72c-.78.78-.78 2.05 0 2.83L4 21.41c.39.39.9.59 1.41.59.51 0 1.02-.2 1.41-.59l7.78-7.78 2.81-2.81c.8-.78.8-2.07 0-2.86zM5.41 20L4 18.59l7.72-7.72 1.47 1.35L5.41 20z\"/>\n",
              "  </svg>\n",
              "      </button>\n",
              "      \n",
              "  <style>\n",
              "    .colab-df-container {\n",
              "      display:flex;\n",
              "      flex-wrap:wrap;\n",
              "      gap: 12px;\n",
              "    }\n",
              "\n",
              "    .colab-df-convert {\n",
              "      background-color: #E8F0FE;\n",
              "      border: none;\n",
              "      border-radius: 50%;\n",
              "      cursor: pointer;\n",
              "      display: none;\n",
              "      fill: #1967D2;\n",
              "      height: 32px;\n",
              "      padding: 0 0 0 0;\n",
              "      width: 32px;\n",
              "    }\n",
              "\n",
              "    .colab-df-convert:hover {\n",
              "      background-color: #E2EBFA;\n",
              "      box-shadow: 0px 1px 2px rgba(60, 64, 67, 0.3), 0px 1px 3px 1px rgba(60, 64, 67, 0.15);\n",
              "      fill: #174EA6;\n",
              "    }\n",
              "\n",
              "    [theme=dark] .colab-df-convert {\n",
              "      background-color: #3B4455;\n",
              "      fill: #D2E3FC;\n",
              "    }\n",
              "\n",
              "    [theme=dark] .colab-df-convert:hover {\n",
              "      background-color: #434B5C;\n",
              "      box-shadow: 0px 1px 3px 1px rgba(0, 0, 0, 0.15);\n",
              "      filter: drop-shadow(0px 1px 2px rgba(0, 0, 0, 0.3));\n",
              "      fill: #FFFFFF;\n",
              "    }\n",
              "  </style>\n",
              "\n",
              "      <script>\n",
              "        const buttonEl =\n",
              "          document.querySelector('#df-660e5bf4-619b-463a-b5fa-c27d2477b2d4 button.colab-df-convert');\n",
              "        buttonEl.style.display =\n",
              "          google.colab.kernel.accessAllowed ? 'block' : 'none';\n",
              "\n",
              "        async function convertToInteractive(key) {\n",
              "          const element = document.querySelector('#df-660e5bf4-619b-463a-b5fa-c27d2477b2d4');\n",
              "          const dataTable =\n",
              "            await google.colab.kernel.invokeFunction('convertToInteractive',\n",
              "                                                     [key], {});\n",
              "          if (!dataTable) return;\n",
              "\n",
              "          const docLinkHtml = 'Like what you see? Visit the ' +\n",
              "            '<a target=\"_blank\" href=https://colab.research.google.com/notebooks/data_table.ipynb>data table notebook</a>'\n",
              "            + ' to learn more about interactive tables.';\n",
              "          element.innerHTML = '';\n",
              "          dataTable['output_type'] = 'display_data';\n",
              "          await google.colab.output.renderOutput(dataTable, element);\n",
              "          const docLink = document.createElement('div');\n",
              "          docLink.innerHTML = docLinkHtml;\n",
              "          element.appendChild(docLink);\n",
              "        }\n",
              "      </script>\n",
              "    </div>\n",
              "  </div>\n",
              "  "
            ]
          },
          "metadata": {},
          "execution_count": 18
        }
      ]
    },
    {
      "cell_type": "code",
      "execution_count": 19,
      "metadata": {
        "colab": {
          "base_uri": "https://localhost:8080/",
          "height": 367
        },
        "id": "ODMijuuNsc3l",
        "outputId": "0df745d1-60f2-43a5-dacf-77a36c48a4b7"
      },
      "outputs": [
        {
          "output_type": "stream",
          "name": "stdout",
          "text": [
            "(35000,) (35000, 12)\n",
            "1\n"
          ]
        },
        {
          "output_type": "execute_result",
          "data": {
            "text/plain": [
              "  school_state teacher_prefix project_grade_category  \\\n",
              "0           ca            mrs          grades_prek_2   \n",
              "1           ut             ms             grades_3_5   \n",
              "\n",
              "   teacher_number_of_previously_posted_projects clean_categories  \\\n",
              "0                                            53     math_science   \n",
              "1                                             4     specialneeds   \n",
              "\n",
              "                  clean_subcategories  \\\n",
              "0  appliedsciences health_lifescience   \n",
              "1                        specialneeds   \n",
              "\n",
              "                                               essay   price  negative  \\\n",
              "0  i fortunate enough use fairy tale stem kits cl...  725.05     0.013   \n",
              "1  imagine 8 9 years old you third grade classroo...  213.03     0.072   \n",
              "\n",
              "   neutral  positive  compound  \n",
              "0    0.783     0.205    0.9867  \n",
              "1    0.680     0.248    0.9897  "
            ],
            "text/html": [
              "\n",
              "  <div id=\"df-1597f474-7085-4dc6-95fe-b46900f45e67\">\n",
              "    <div class=\"colab-df-container\">\n",
              "      <div>\n",
              "<style scoped>\n",
              "    .dataframe tbody tr th:only-of-type {\n",
              "        vertical-align: middle;\n",
              "    }\n",
              "\n",
              "    .dataframe tbody tr th {\n",
              "        vertical-align: top;\n",
              "    }\n",
              "\n",
              "    .dataframe thead th {\n",
              "        text-align: right;\n",
              "    }\n",
              "</style>\n",
              "<table border=\"1\" class=\"dataframe\">\n",
              "  <thead>\n",
              "    <tr style=\"text-align: right;\">\n",
              "      <th></th>\n",
              "      <th>school_state</th>\n",
              "      <th>teacher_prefix</th>\n",
              "      <th>project_grade_category</th>\n",
              "      <th>teacher_number_of_previously_posted_projects</th>\n",
              "      <th>clean_categories</th>\n",
              "      <th>clean_subcategories</th>\n",
              "      <th>essay</th>\n",
              "      <th>price</th>\n",
              "      <th>negative</th>\n",
              "      <th>neutral</th>\n",
              "      <th>positive</th>\n",
              "      <th>compound</th>\n",
              "    </tr>\n",
              "  </thead>\n",
              "  <tbody>\n",
              "    <tr>\n",
              "      <th>0</th>\n",
              "      <td>ca</td>\n",
              "      <td>mrs</td>\n",
              "      <td>grades_prek_2</td>\n",
              "      <td>53</td>\n",
              "      <td>math_science</td>\n",
              "      <td>appliedsciences health_lifescience</td>\n",
              "      <td>i fortunate enough use fairy tale stem kits cl...</td>\n",
              "      <td>725.05</td>\n",
              "      <td>0.013</td>\n",
              "      <td>0.783</td>\n",
              "      <td>0.205</td>\n",
              "      <td>0.9867</td>\n",
              "    </tr>\n",
              "    <tr>\n",
              "      <th>1</th>\n",
              "      <td>ut</td>\n",
              "      <td>ms</td>\n",
              "      <td>grades_3_5</td>\n",
              "      <td>4</td>\n",
              "      <td>specialneeds</td>\n",
              "      <td>specialneeds</td>\n",
              "      <td>imagine 8 9 years old you third grade classroo...</td>\n",
              "      <td>213.03</td>\n",
              "      <td>0.072</td>\n",
              "      <td>0.680</td>\n",
              "      <td>0.248</td>\n",
              "      <td>0.9897</td>\n",
              "    </tr>\n",
              "  </tbody>\n",
              "</table>\n",
              "</div>\n",
              "      <button class=\"colab-df-convert\" onclick=\"convertToInteractive('df-1597f474-7085-4dc6-95fe-b46900f45e67')\"\n",
              "              title=\"Convert this dataframe to an interactive table.\"\n",
              "              style=\"display:none;\">\n",
              "        \n",
              "  <svg xmlns=\"http://www.w3.org/2000/svg\" height=\"24px\"viewBox=\"0 0 24 24\"\n",
              "       width=\"24px\">\n",
              "    <path d=\"M0 0h24v24H0V0z\" fill=\"none\"/>\n",
              "    <path d=\"M18.56 5.44l.94 2.06.94-2.06 2.06-.94-2.06-.94-.94-2.06-.94 2.06-2.06.94zm-11 1L8.5 8.5l.94-2.06 2.06-.94-2.06-.94L8.5 2.5l-.94 2.06-2.06.94zm10 10l.94 2.06.94-2.06 2.06-.94-2.06-.94-.94-2.06-.94 2.06-2.06.94z\"/><path d=\"M17.41 7.96l-1.37-1.37c-.4-.4-.92-.59-1.43-.59-.52 0-1.04.2-1.43.59L10.3 9.45l-7.72 7.72c-.78.78-.78 2.05 0 2.83L4 21.41c.39.39.9.59 1.41.59.51 0 1.02-.2 1.41-.59l7.78-7.78 2.81-2.81c.8-.78.8-2.07 0-2.86zM5.41 20L4 18.59l7.72-7.72 1.47 1.35L5.41 20z\"/>\n",
              "  </svg>\n",
              "      </button>\n",
              "      \n",
              "  <style>\n",
              "    .colab-df-container {\n",
              "      display:flex;\n",
              "      flex-wrap:wrap;\n",
              "      gap: 12px;\n",
              "    }\n",
              "\n",
              "    .colab-df-convert {\n",
              "      background-color: #E8F0FE;\n",
              "      border: none;\n",
              "      border-radius: 50%;\n",
              "      cursor: pointer;\n",
              "      display: none;\n",
              "      fill: #1967D2;\n",
              "      height: 32px;\n",
              "      padding: 0 0 0 0;\n",
              "      width: 32px;\n",
              "    }\n",
              "\n",
              "    .colab-df-convert:hover {\n",
              "      background-color: #E2EBFA;\n",
              "      box-shadow: 0px 1px 2px rgba(60, 64, 67, 0.3), 0px 1px 3px 1px rgba(60, 64, 67, 0.15);\n",
              "      fill: #174EA6;\n",
              "    }\n",
              "\n",
              "    [theme=dark] .colab-df-convert {\n",
              "      background-color: #3B4455;\n",
              "      fill: #D2E3FC;\n",
              "    }\n",
              "\n",
              "    [theme=dark] .colab-df-convert:hover {\n",
              "      background-color: #434B5C;\n",
              "      box-shadow: 0px 1px 3px 1px rgba(0, 0, 0, 0.15);\n",
              "      filter: drop-shadow(0px 1px 2px rgba(0, 0, 0, 0.3));\n",
              "      fill: #FFFFFF;\n",
              "    }\n",
              "  </style>\n",
              "\n",
              "      <script>\n",
              "        const buttonEl =\n",
              "          document.querySelector('#df-1597f474-7085-4dc6-95fe-b46900f45e67 button.colab-df-convert');\n",
              "        buttonEl.style.display =\n",
              "          google.colab.kernel.accessAllowed ? 'block' : 'none';\n",
              "\n",
              "        async function convertToInteractive(key) {\n",
              "          const element = document.querySelector('#df-1597f474-7085-4dc6-95fe-b46900f45e67');\n",
              "          const dataTable =\n",
              "            await google.colab.kernel.invokeFunction('convertToInteractive',\n",
              "                                                     [key], {});\n",
              "          if (!dataTable) return;\n",
              "\n",
              "          const docLinkHtml = 'Like what you see? Visit the ' +\n",
              "            '<a target=\"_blank\" href=https://colab.research.google.com/notebooks/data_table.ipynb>data table notebook</a>'\n",
              "            + ' to learn more about interactive tables.';\n",
              "          element.innerHTML = '';\n",
              "          dataTable['output_type'] = 'display_data';\n",
              "          await google.colab.output.renderOutput(dataTable, element);\n",
              "          const docLink = document.createElement('div');\n",
              "          docLink.innerHTML = docLinkHtml;\n",
              "          element.appendChild(docLink);\n",
              "        }\n",
              "      </script>\n",
              "    </div>\n",
              "  </div>\n",
              "  "
            ]
          },
          "metadata": {},
          "execution_count": 19
        }
      ],
      "source": [
        "# 2. Split your data.\n",
        "\n",
        "y = final_data['project_is_approved'].values\n",
        "\n",
        "X = final_data.drop(['project_is_approved'], axis = 1)\n",
        "\n",
        "print(y.shape,X.shape)\n",
        "print(final_data.shape[1] - X.shape[1])\n",
        "\n",
        "X.head(2)"
      ]
    },
    {
      "cell_type": "markdown",
      "source": [
        "<h2>1.2 Splitting data into Train and cross validation(or test): Stratified Sampling</h2>"
      ],
      "metadata": {
        "id": "aEy0rGm3Gim0"
      }
    },
    {
      "cell_type": "code",
      "source": [
        "from sklearn.model_selection import train_test_split\n",
        "\n",
        "X_train, X_test, y_train, y_test = train_test_split(X, y, test_size = 0.33, stratify = y)"
      ],
      "metadata": {
        "id": "vRW5al3MGjbO"
      },
      "execution_count": 20,
      "outputs": []
    },
    {
      "cell_type": "markdown",
      "metadata": {
        "id": "vsALgl5Asc3u"
      },
      "source": [
        "<h2> Make Data Model Ready: encoding numerical, categorical features</h2>"
      ]
    },
    {
      "cell_type": "code",
      "execution_count": 21,
      "metadata": {
        "colab": {
          "base_uri": "https://localhost:8080/"
        },
        "id": "1A_85jbWsc3v",
        "outputId": "12e8a681-080a-4626-9495-8b7a3923ec69"
      },
      "outputs": [
        {
          "output_type": "execute_result",
          "data": {
            "text/plain": [
              "['your donations', 'your generous', 'your generous donation', 'youth', 'zone']"
            ]
          },
          "metadata": {},
          "execution_count": 21
        }
      ],
      "source": [
        "from sklearn.feature_extraction.text import TfidfVectorizer\n",
        "\n",
        "vectorizer = TfidfVectorizer(ngram_range = (1, 3),max_features = 6000, min_df = 10)\n",
        "\n",
        "vectorizer.fit(X_train['essay'].values)\n",
        "\n",
        "X_train_essay_tfidf = vectorizer.transform(X_train['essay'].values)\n",
        "X_test_essay_tfidf  = vectorizer.transform(X_test['essay'].values)\n",
        "\n",
        "# we are converting a dictionary with word as a key, and the idf as a value\n",
        "\n",
        "dictionary  = dict(zip(vectorizer.get_feature_names(), list(vectorizer.idf_)))\n",
        "tfidf_words = set(dictionary.keys())\n",
        "\n",
        "vectorizer.get_feature_names()[-5:]"
      ]
    },
    {
      "cell_type": "code",
      "source": [
        "def get_response_coding(feature,labels,dx,test = False):\n",
        "\n",
        "  positive_label = [] \n",
        "  negative_label = []\n",
        "\n",
        "  frame = pd.DataFrame({'feature_name':feature,'label':labels})\n",
        "  # print( frame.head(3) )\n",
        "\n",
        "  if test == False:\n",
        "\n",
        "    total_size = frame.shape[0]\n",
        "    dx = dict() # Initializing a dictionary that would hold the unique values of categorical features\n",
        "\n",
        "    for data in frame['feature_name']:\n",
        "  \n",
        "      if data not in dx:\n",
        "        dx[data] = 0\n",
        "\n",
        "    print(\" **---** Response Encoding the Test data **---** \")\n",
        "    # so now we have all the unique values of feature stored in our dictionary dx, now we will store prob value inside it.\n",
        "\n",
        "    for key,value in dx.items():\n",
        "\n",
        "      positive_class = frame[( frame['feature_name'] == key ) & (frame['label'] == 1) ] \n",
        "\n",
        "      dx[key] = positive_class.shape[0] / total_size\n",
        "\n",
        "    for data in frame['feature_name']:\n",
        "    \n",
        "      positive_label.append(dx[data])\n",
        "      negative_label.append(1 - dx[data])\n",
        "  \n",
        "    print(\"\\n Shape of the provided train data datframe is  ->\",frame.shape[0])\n",
        "    print(\"\\n len of positive encoded feature of train data ->\",len(positive_label))\n",
        "    print(\"\\n len of negative encoded feature of train data ->\",len(negative_label),\"\\n\")\n",
        "\n",
        "    return [positive_label,negative_label,dx]\n",
        "\n",
        "  else:\n",
        "    \n",
        "    print(\" \\n**---** Response Encoding the Test data **---** \")\n",
        "\n",
        "    for data in frame['feature_name']:\n",
        "      \n",
        "      try:\n",
        "\n",
        "        positive_label.append(dx[data])\n",
        "        negative_label.append(1 - dx[data])\n",
        "      \n",
        "      except:\n",
        "\n",
        "        positive_label.append(0.5) # if there are entries that were not present in the train data those won't be inside the dictionary\n",
        "        negative_label.append(0.5) # hence assigining them equal probabililty of 0.5. This is also called laplace smoothing.\n",
        "\n",
        "    print(\"\\n Shape of  the provide     Test dataframe  is ->\",frame.shape[0])\n",
        "    print(\"\\n len of positive encoded feature of test data ->\",len(positive_label))\n",
        "    print(\"\\n len of negative encoded feature of test data ->\",len(negative_label))\n",
        "\n",
        "    return [positive_label,negative_label]"
      ],
      "metadata": {
        "id": "mPVy8cbIN8PH"
      },
      "execution_count": 22,
      "outputs": []
    },
    {
      "cell_type": "markdown",
      "source": [
        "**teacher_prefix**"
      ],
      "metadata": {
        "id": "Gq8bGggBWBXa"
      }
    },
    {
      "cell_type": "code",
      "source": [
        "teacher_prefix_pos,teacher_prefix_neg,teacher_prefix_dict = get_response_coding(X_train['teacher_prefix'].values,y_train,\n",
        "                                                                                dict(),False)\n",
        "print(\"Teacher_prefix_dict --\",teacher_prefix_dict)\n",
        "\n",
        "teacher_prefix_pos_te,teacher_prefix_neg_te = get_response_coding(X_test['teacher_prefix'].values,y_test,\n",
        "                                                            teacher_prefix_dict,True)"
      ],
      "metadata": {
        "id": "S4afhlaBQmKI",
        "outputId": "c124f29b-0d8f-4c85-d0a7-e1634b83774a",
        "colab": {
          "base_uri": "https://localhost:8080/"
        }
      },
      "execution_count": 23,
      "outputs": [
        {
          "output_type": "stream",
          "name": "stdout",
          "text": [
            " **---** Response Encoding the Test data **---** \n",
            "\n",
            " Shape of the provided train data datframe is  -> 23450\n",
            "\n",
            " len of positive encoded feature of train data -> 23450\n",
            "\n",
            " len of negative encoded feature of train data -> 23450 \n",
            "\n",
            "Teacher_prefix_dict -- {'mrs': 0.4651599147121535, 'ms': 0.293773987206823, 'mr': 0.07194029850746268, 'teacher': 0.01556503198294243, 'dr': 8.528784648187633e-05}\n",
            " \n",
            "**---** Response Encoding the Test data **---** \n",
            "\n",
            " Shape of  the provide     Test dataframe  is -> 11550\n",
            "\n",
            " len of positive encoded feature of test data -> 11550\n",
            "\n",
            " len of negative encoded feature of test data -> 11550\n"
          ]
        }
      ]
    },
    {
      "cell_type": "markdown",
      "source": [
        "**project_grade**"
      ],
      "metadata": {
        "id": "e4FTPJRdXCbi"
      }
    },
    {
      "cell_type": "code",
      "source": [
        "project_grade_pos,project_grade_neg,project_grade_dict = get_response_coding(X_train['project_grade_category'].values,y_train,\n",
        "                                                                                dict(),False)\n",
        "\n",
        "print(project_grade_dict)\n",
        "\n",
        "project_grade_pos_te,project_grade_neg_te = get_response_coding(X_test['project_grade_category'].values,y_test,\n",
        "                                                                                project_grade_dict,True)"
      ],
      "metadata": {
        "colab": {
          "base_uri": "https://localhost:8080/"
        },
        "id": "vSQksF6ptjAe",
        "outputId": "23f528f7-6a61-44e8-c61e-2708a760d58a"
      },
      "execution_count": 24,
      "outputs": [
        {
          "output_type": "stream",
          "name": "stdout",
          "text": [
            " **---** Response Encoding the Test data **---** \n",
            "\n",
            " Shape of the provided train data datframe is  -> 23450\n",
            "\n",
            " len of positive encoded feature of train data -> 23450\n",
            "\n",
            " len of negative encoded feature of train data -> 23450 \n",
            "\n",
            "{'grades_prek_2': 0.36008528784648186, 'grades_3_5': 0.2886993603411514, 'grades_6_8': 0.12174840085287847, 'grades_9_12': 0.07599147121535181}\n",
            " \n",
            "**---** Response Encoding the Test data **---** \n",
            "\n",
            " Shape of  the provide     Test dataframe  is -> 11550\n",
            "\n",
            " len of positive encoded feature of test data -> 11550\n",
            "\n",
            " len of negative encoded feature of test data -> 11550\n"
          ]
        }
      ]
    },
    {
      "cell_type": "markdown",
      "source": [
        "**clean_categories**"
      ],
      "metadata": {
        "id": "MTP7nAQFXW5T"
      }
    },
    {
      "cell_type": "code",
      "source": [
        "clean_categories_pos,clean_categories_neg,clean_categories_dict = get_response_coding(X_train['clean_categories'].values,\n",
        "                                                                            y_train,dict(),False)\n",
        "\n",
        "print(clean_categories_dict)\n",
        "\n",
        "clean_categories_pos_te,clean_categories_neg_te = get_response_coding(X_test['clean_categories'].values,y_test,\n",
        "                                                                                clean_categories_dict,True)"
      ],
      "metadata": {
        "colab": {
          "base_uri": "https://localhost:8080/"
        },
        "id": "XJKUYG9qVlUq",
        "outputId": "bde1bd4f-debe-4bf2-d634-1ab7a121f384"
      },
      "execution_count": 25,
      "outputs": [
        {
          "output_type": "stream",
          "name": "stdout",
          "text": [
            " **---** Response Encoding the Test data **---** \n",
            "\n",
            " Shape of the provided train data datframe is  -> 23450\n",
            "\n",
            " len of positive encoded feature of train data -> 23450\n",
            "\n",
            " len of negative encoded feature of train data -> 23450 \n",
            "\n",
            "{'math_science': 0.11215351812366738, 'literacy_language math_science': 0.11198294243070363, 'math_science literacy_language': 0.01901918976545842, 'specialneeds': 0.02443496801705757, 'health_sports': 0.132409381663113, 'music_arts': 0.03573560767590618, 'literacy_language': 0.17906183368869935, 'math_science specialneeds': 0.011641791044776119, 'appliedlearning literacy_language': 0.019189765458422176, 'appliedlearning specialneeds': 0.010788912579957356, 'history_civics': 0.012153518123667377, 'literacy_language specialneeds': 0.028912579957356077, 'history_civics literacy_language': 0.011343283582089553, 'appliedlearning': 0.02720682302771855, 'health_sports literacy_language': 0.00908315565031983, 'math_science music_arts': 0.007803837953091685, 'literacy_language music_arts': 0.014115138592750534, 'history_civics specialneeds': 0.0006823027718550107, 'specialneeds music_arts': 0.0021321961620469083, 'music_arts specialneeds': 0.0008528784648187633, 'math_science appliedlearning': 0.007803837953091685, 'literacy_language history_civics': 0.00720682302771855, 'literacy_language appliedlearning': 0.005202558635394456, 'health_sports math_science': 0.0028997867803837955, 'math_science history_civics': 0.006524520255863539, 'appliedlearning math_science': 0.0070362473347547975, 'math_science health_sports': 0.004136460554371002, 'history_civics math_science': 0.001961620469083156, 'history_civics music_arts': 0.002601279317697228, 'health_sports specialneeds': 0.012878464818763325, 'appliedlearning music_arts': 0.005501066098081023, 'health_sports music_arts': 0.001023454157782516, 'music_arts health_sports': 0.00021321961620469082, 'appliedlearning health_sports': 0.005970149253731343, 'specialneeds health_sports': 0.000255863539445629, 'appliedlearning history_civics': 0.0011940298507462687, 'music_arts appliedlearning': 8.528784648187633e-05, 'literacy_language health_sports': 0.0005970149253731343, 'health_sports appliedlearning': 0.0018763326226012792, 'health_sports history_civics': 0.000511727078891258, 'history_civics appliedlearning': 0.00021321961620469082, 'music_arts history_civics': 8.528784648187633e-05, 'history_civics health_sports': 4.2643923240938166e-05}\n",
            " \n",
            "**---** Response Encoding the Test data **---** \n",
            "\n",
            " Shape of  the provide     Test dataframe  is -> 11550\n",
            "\n",
            " len of positive encoded feature of test data -> 11550\n",
            "\n",
            " len of negative encoded feature of test data -> 11550\n"
          ]
        }
      ]
    },
    {
      "cell_type": "markdown",
      "source": [
        "**clean_subcategories**"
      ],
      "metadata": {
        "id": "iUPideEmXaVA"
      }
    },
    {
      "cell_type": "code",
      "source": [
        "clean_subcategories_pos,clean_subcategories_neg,clean_subcategories_dict = get_response_coding(X_train['clean_subcategories'].values,\n",
        "                                                                            y_train,dict(),False)\n",
        "\n",
        "print(clean_subcategories_dict)\n",
        "\n",
        "clean_subcategories_pos_te,clean_subcategories_neg_te = get_response_coding(X_test['clean_subcategories'].values,y_test,\n",
        "                                                                                clean_subcategories_dict,True)"
      ],
      "metadata": {
        "colab": {
          "base_uri": "https://localhost:8080/"
        },
        "id": "4JCwaZ7FWnN6",
        "outputId": "5252a5d1-2c54-4bc5-e20c-b5c758eb7a6e"
      },
      "execution_count": 26,
      "outputs": [
        {
          "output_type": "stream",
          "name": "stdout",
          "text": [
            " **---** Response Encoding the Test data **---** \n",
            "\n",
            " Shape of the provided train data datframe is  -> 23450\n",
            "\n",
            " len of positive encoded feature of train data -> 23450\n",
            "\n",
            " len of negative encoded feature of train data -> 23450 \n",
            "\n",
            "{'mathematics': 0.03646055437100213, 'literature_writing mathematics': 0.04759061833688699, 'health_lifescience literacy': 0.00349680170575693, 'environmentalscience mathematics': 0.004904051172707889, 'literacy mathematics': 0.06213219616204691, 'specialneeds': 0.02443496801705757, 'health_wellness': 0.0535181236673774, 'music performingarts': 0.007334754797441364, 'literature_writing': 0.03398720682302772, 'mathematics specialneeds': 0.007121535181236674, 'earlydevelopment literature_writing': 0.0018763326226012792, 'gym_fitness health_wellness': 0.03390191897654584, 'literacy': 0.06993603411513859, 'teamsports': 0.006439232409381663, 'earlydevelopment specialneeds': 0.0061833688699360345, 'gym_fitness': 0.013432835820895522, 'socialsciences': 0.001535181236673774, 'environmentalscience health_lifescience': 0.007078891257995735, 'appliedsciences mathematics': 0.02255863539445629, 'literacy specialneeds': 0.01769722814498934, 'earlydevelopment literacy': 0.006652452025586354, 'history_geography literature_writing': 0.004477611940298508, 'visualarts': 0.013773987206823027, 'earlydevelopment': 0.006609808102345416, 'health_wellness literacy': 0.005543710021321962, 'appliedsciences visualarts': 0.002515991471215352, 'environmentalscience': 0.005714285714285714, 'other': 0.005970149253731343, 'literacy literature_writing': 0.047420042643923244, 'health_lifescience specialneeds': 0.0008528784648187633, 'esl literacy': 0.01582089552238806, 'history_geography': 0.003155650319829424, 'health_wellness nutritioneducation': 0.011982942430703625, 'literacy visualarts': 0.0045628997867803835, 'esl literature_writing': 0.004861407249466951, 'esl specialneeds': 0.0014072494669509594, 'appliedsciences': 0.014285714285714285, 'history_geography specialneeds': 0.0004690831556503198, 'esl mathematics': 0.0019189765458422175, 'specialneeds visualarts': 0.0021321961620469083, 'music specialneeds': 0.000767590618336887, 'college_careerprep extracurricular': 0.000255863539445629, 'environmentalscience specialneeds': 0.0010660980810234541, 'history_geography socialsciences': 0.002345415778251599, 'nutritioneducation': 0.0037100213219616205, 'charactereducation': 0.002771855010660981, 'appliedsciences earlydevelopment': 0.001833688699360341, 'esl history_geography': 0.00021321961620469082, 'literacy other': 0.0019189765458422175, 'esl visualarts': 0.0005543710021321961, 'environmentalscience literacy': 0.0037953091684434967, 'gym_fitness nutritioneducation': 0.0009381663113006396, 'gym_fitness mathematics': 0.00042643923240938164, 'literature_writing socialsciences': 0.003155650319829424, 'literature_writing specialneeds': 0.009594882729211088, 'health_wellness teamsports': 0.003880597014925373, 'environmentalscience history_geography': 0.0014498933901918977, 'earlydevelopment mathematics': 0.0022174840085287845, 'esl': 0.0022174840085287845, 'environmentalscience health_wellness': 0.000511727078891258, 'history_geography mathematics': 0.0011087420042643922, 'history_geography literacy': 0.004434968017057569, 'college_careerprep': 0.002302771855010661, 'music': 0.011002132196162046, 'charactereducation college_careerprep': 0.001279317697228145, 'performingarts': 0.00255863539445629, 'history_geography visualarts': 0.001577825159914712, 'music visualarts': 0.00021321961620469082, 'college_careerprep other': 0.0005543710021321961, 'health_wellness specialneeds': 0.0111727078891258, 'other visualarts': 0.0003411513859275053, 'charactereducation earlydevelopment': 0.0014498933901918977, 'health_wellness mathematics': 0.0023880597014925373, 'health_wellness visualarts': 0.0003837953091684435, 'health_wellness literature_writing': 0.0031982942430703624, 'college_careerprep literature_writing': 0.0024307036247334757, 'literacy socialsciences': 0.0037100213219616205, 'literature_writing visualarts': 0.005245202558635394, 'appliedsciences environmentalscience': 0.006865671641791045, 'gym_fitness teamsports': 0.004477611940298508, 'charactereducation specialneeds': 0.0013219616204690832, 'literature_writing performingarts': 0.0011087420042643922, 'music teamsports': 0.0001279317697228145, 'other specialneeds': 0.002302771855010661, 'mathematics other': 0.0006396588486140725, 'college_careerprep specialneeds': 0.0007249466950959489, 'health_lifescience': 0.00605543710021322, 'college_careerprep health_wellness': 0.00017057569296375266, 'civics_government history_geography': 0.001961620469083156, 'health_lifescience health_wellness': 0.001791044776119403, 'esl foreignlanguages': 0.0003837953091684435, 'college_careerprep foreignlanguages': 0.00021321961620469082, 'appliedsciences specialneeds': 0.002601279317697228, 'specialneeds teamsports': 0.000255863539445629, 'esl socialsciences': 0.0001279317697228145, 'appliedsciences literacy': 0.003923240938166312, 'communityservice': 0.0003837953091684435, 'earlydevelopment other': 0.0012366737739872068, 'civics_government literacy': 0.001279317697228145, 'gym_fitness specialneeds': 0.0014072494669509594, 'health_wellness music': 0.00029850746268656717, 'appliedsciences health_wellness': 0.0003837953091684435, 'literature_writing parentinvolvement': 0.0004690831556503198, 'charactereducation parentinvolvement': 0.0003837953091684435, 'earlydevelopment health_wellness': 0.0034541577825159915, 'appliedsciences college_careerprep': 0.00255863539445629, 'foreignlanguages literacy': 0.0020042643923240937, 'appliedsciences literature_writing': 0.0035394456289978677, 'mathematics visualarts': 0.002515991471215352, 'college_careerprep visualarts': 0.001023454157782516, 'mathematics performingarts': 0.0003411513859275053, 'earlydevelopment visualarts': 0.0013646055437100213, 'earlydevelopment gym_fitness': 0.00029850746268656717, 'environmentalscience visualarts': 0.001023454157782516, 'appliedsciences civics_government': 0.0001279317697228145, 'charactereducation health_lifescience': 0.0003411513859275053, 'charactereducation literature_writing': 0.0018763326226012792, 'literature_writing other': 0.0011513859275053306, 'appliedsciences extracurricular': 0.0008528784648187633, 'college_careerprep history_geography': 0.0001279317697228145, 'civics_government literature_writing': 0.0008528784648187633, 'earlydevelopment environmentalscience': 0.000255863539445629, 'music other': 8.528784648187633e-05, 'college_careerprep environmentalscience': 0.0003411513859275053, 'college_careerprep mathematics': 0.001833688699360341, 'foreignlanguages specialneeds': 0.00021321961620469082, 'appliedsciences socialsciences': 0.0006396588486140725, 'performingarts specialneeds': 8.528784648187633e-05, 'extracurricular performingarts': 8.528784648187633e-05, 'parentinvolvement visualarts': 8.528784648187633e-05, 'performingarts visualarts': 0.0008528784648187633, 'literacy parentinvolvement': 0.0007249466950959489, 'environmentalscience nutritioneducation': 0.000255863539445629, 'college_careerprep literacy': 0.0016631130063965885, 'health_lifescience visualarts': 0.0006396588486140725, 'literacy teamsports': 0.00017057569296375266, 'extracurricular literacy': 0.0003411513859275053, 'health_lifescience literature_writing': 0.0020042643923240937, 'civics_government visualarts': 0.00017057569296375266, 'economics literacy': 0.0001279317697228145, 'environmentalscience literature_writing': 0.001791044776119403, 'appliedsciences health_lifescience': 0.0043070362473347544, 'economics': 0.00021321961620469082, 'communityservice specialneeds': 0.00017057569296375266, 'environmentalscience other': 0.0001279317697228145, 'charactereducation literacy': 0.0034541577825159915, 'charactereducation mathematics': 0.0006396588486140725, 'charactereducation esl': 0.0001279317697228145, 'appliedsciences nutritioneducation': 0.0001279317697228145, 'earlydevelopment music': 0.0003411513859275053, 'mathematics socialsciences': 0.0010660980810234541, 'nutritioneducation specialneeds': 0.00029850746268656717, 'health_wellness other': 0.0016631130063965885, 'esl environmentalscience': 0.0001279317697228145, 'history_geography music': 0.00029850746268656717, 'economics history_geography': 0.00017057569296375266, 'foreignlanguages mathematics': 8.528784648187633e-05, 'teamsports visualarts': 4.2643923240938166e-05, 'civics_government socialsciences': 0.0008102345415778252, 'civics_government': 0.000767590618336887, 'parentinvolvement socialsciences': 8.528784648187633e-05, 'foreignlanguages visualarts': 0.0001279317697228145, 'college_careerprep communityservice': 0.000255863539445629, 'health_lifescience nutritioneducation': 0.0005543710021321961, 'parentinvolvement specialneeds': 0.0, 'charactereducation extracurricular': 0.0003837953091684435, 'extracurricular': 0.0006823027718550107, 'appliedsciences history_geography': 0.0008102345415778252, 'communityservice environmentalscience': 0.0003411513859275053, 'foreignlanguages': 0.0018763326226012792, 'appliedsciences teamsports': 8.528784648187633e-05, 'esl other': 0.0001279317697228145, 'literacy music': 0.0014072494669509594, 'health_lifescience mathematics': 0.003923240938166312, 'charactereducation visualarts': 0.0007249466950959489, 'charactereducation history_geography': 8.528784648187633e-05, 'mathematics teamsports': 4.2643923240938166e-05, 'financialliteracy': 0.0003411513859275053, 'gym_fitness literacy': 0.00017057569296375266, 'literacy performingarts': 0.0006823027718550107, 'health_lifescience history_geography': 0.0006823027718550107, 'extracurricular visualarts': 0.00042643923240938164, 'charactereducation communityservice': 0.000511727078891258, 'appliedsciences other': 0.000767590618336887, 'socialsciences visualarts': 0.0004690831556503198, 'appliedsciences esl': 0.00042643923240938164, 'economics financialliteracy': 0.0003411513859275053, 'communityservice literacy': 8.528784648187633e-05, 'foreignlanguages literature_writing': 0.0005543710021321961, 'communityservice history_geography': 8.528784648187633e-05, 'appliedsciences communityservice': 0.00017057569296375266, 'communityservice other': 0.0, 'civics_government economics': 0.0003411513859275053, 'communityservice extracurricular': 0.00017057569296375266, 'extracurricular literature_writing': 0.000255863539445629, 'esl health_lifescience': 0.0001279317697228145, 'esl earlydevelopment': 0.000767590618336887, 'socialsciences specialneeds': 0.0001279317697228145, 'charactereducation socialsciences': 0.00021321961620469082, 'performingarts teamsports': 8.528784648187633e-05, 'health_wellness history_geography': 0.000255863539445629, 'earlydevelopment foreignlanguages': 4.2643923240938166e-05, 'charactereducation civics_government': 4.2643923240938166e-05, 'extracurricular mathematics': 0.000255863539445629, 'health_wellness socialsciences': 0.00017057569296375266, 'environmentalscience socialsciences': 0.000767590618336887, 'economics mathematics': 0.00017057569296375266, 'charactereducation music': 8.528784648187633e-05, 'college_careerprep music': 4.2643923240938166e-05, 'charactereducation health_wellness': 0.0011087420042643922, 'nutritioneducation teamsports': 0.0001279317697228145, 'charactereducation environmentalscience': 0.00021321961620469082, 'parentinvolvement': 0.0001279317697228145, 'college_careerprep socialsciences': 0.000255863539445629, 'civics_government health_lifescience': 0.00017057569296375266, 'extracurricular other': 4.2643923240938166e-05, 'appliedsciences charactereducation': 0.0003411513859275053, 'charactereducation other': 0.0008102345415778252, 'financialliteracy mathematics': 0.00042643923240938164, 'extracurricular health_lifescience': 4.2643923240938166e-05, 'foreignlanguages health_wellness': 8.528784648187633e-05, 'college_careerprep parentinvolvement': 0.00017057569296375266, 'health_lifescience socialsciences': 0.0008955223880597015, 'earlydevelopment extracurricular': 0.00017057569296375266, 'earlydevelopment health_lifescience': 0.00017057569296375266, 'literature_writing teamsports': 4.2643923240938166e-05, 'extracurricular nutritioneducation': 4.2643923240938166e-05, 'gym_fitness literature_writing': 0.00017057569296375266, 'civics_government environmentalscience': 4.2643923240938166e-05, 'history_geography other': 0.0001279317697228145, 'esl health_wellness': 0.0001279317697228145, 'mathematics parentinvolvement': 0.000255863539445629, 'gym_fitness other': 8.528784648187633e-05, 'extracurricular teamsports': 0.00017057569296375266, 'communityservice visualarts': 0.0003837953091684435, 'charactereducation teamsports': 0.0001279317697228145, 'financialliteracy specialneeds': 8.528784648187633e-05, 'appliedsciences performingarts': 4.2643923240938166e-05, 'extracurricular health_wellness': 8.528784648187633e-05, 'college_careerprep gym_fitness': 4.2643923240938166e-05, 'college_careerprep esl': 4.2643923240938166e-05, 'civics_government esl': 4.2643923240938166e-05, 'earlydevelopment teamsports': 4.2643923240938166e-05, 'earlydevelopment socialsciences': 8.528784648187633e-05, 'foreignlanguages other': 4.2643923240938166e-05, 'extracurricular music': 0.000255863539445629, 'civics_government financialliteracy': 4.2643923240938166e-05, 'college_careerprep earlydevelopment': 0.00017057569296375266, 'mathematics music': 0.0004690831556503198, 'health_lifescience parentinvolvement': 0.0, 'college_careerprep performingarts': 8.528784648187633e-05, 'literature_writing nutritioneducation': 4.2643923240938166e-05, 'communityservice mathematics': 0.00017057569296375266, 'earlydevelopment parentinvolvement': 0.00017057569296375266, 'charactereducation performingarts': 8.528784648187633e-05, 'health_lifescience teamsports': 4.2643923240938166e-05, 'gym_fitness health_lifescience': 8.528784648187633e-05, 'communityservice health_lifescience': 8.528784648187633e-05, 'mathematics nutritioneducation': 0.00021321961620469082, 'health_wellness performingarts': 0.0001279317697228145, 'extracurricular specialneeds': 8.528784648187633e-05, 'environmentalscience foreignlanguages': 4.2643923240938166e-05, 'communityservice health_wellness': 8.528784648187633e-05, 'esl financialliteracy': 0.0, 'economics health_lifescience': 4.2643923240938166e-05, 'literature_writing music': 0.00021321961620469082, 'environmentalscience performingarts': 4.2643923240938166e-05, 'appliedsciences music': 0.0001279317697228145, 'earlydevelopment performingarts': 8.528784648187633e-05, 'esl music': 8.528784648187633e-05, 'gym_fitness visualarts': 4.2643923240938166e-05, 'charactereducation financialliteracy': 4.2643923240938166e-05, 'financialliteracy literacy': 0.0001279317697228145, 'earlydevelopment history_geography': 4.2643923240938166e-05, 'appliedsciences parentinvolvement': 8.528784648187633e-05, 'other parentinvolvement': 0.0001279317697228145, 'gym_fitness performingarts': 4.2643923240938166e-05, 'college_careerprep teamsports': 8.528784648187633e-05, 'economics socialsciences': 0.0001279317697228145, 'health_lifescience music': 8.528784648187633e-05, 'foreignlanguages music': 4.2643923240938166e-05, 'communityservice performingarts': 8.528784648187633e-05, 'music socialsciences': 4.2643923240938166e-05, 'communityservice financialliteracy': 4.2643923240938166e-05, 'communityservice literature_writing': 0.0001279317697228145, 'esl performingarts': 8.528784648187633e-05, 'extracurricular gym_fitness': 4.2643923240938166e-05, 'college_careerprep health_lifescience': 0.0001279317697228145, 'communityservice earlydevelopment': 0.0001279317697228145, 'performingarts socialsciences': 4.2643923240938166e-05, 'communityservice parentinvolvement': 8.528784648187633e-05, 'college_careerprep economics': 4.2643923240938166e-05, 'gym_fitness music': 8.528784648187633e-05, 'environmentalscience extracurricular': 4.2643923240938166e-05, 'financialliteracy health_wellness': 4.2643923240938166e-05, 'literacy nutritioneducation': 8.528784648187633e-05, 'esl nutritioneducation': 4.2643923240938166e-05, 'nutritioneducation other': 8.528784648187633e-05, 'nutritioneducation socialsciences': 4.2643923240938166e-05, 'college_careerprep nutritioneducation': 8.528784648187633e-05, 'gym_fitness history_geography': 4.2643923240938166e-05, 'other socialsciences': 0.0, 'communityservice nutritioneducation': 4.2643923240938166e-05, 'gym_fitness parentinvolvement': 4.2643923240938166e-05, 'environmentalscience parentinvolvement': 4.2643923240938166e-05, 'health_lifescience other': 8.528784648187633e-05, 'appliedsciences gym_fitness': 0.0001279317697228145, 'civics_government college_careerprep': 4.2643923240938166e-05, 'earlydevelopment nutritioneducation': 8.528784648187633e-05, 'civics_government communityservice': 4.2643923240938166e-05, 'charactereducation gym_fitness': 0.0, 'appliedsciences economics': 8.528784648187633e-05, 'financialliteracy visualarts': 4.2643923240938166e-05, 'history_geography performingarts': 4.2643923240938166e-05, 'college_careerprep financialliteracy': 4.2643923240938166e-05}\n",
            " \n",
            "**---** Response Encoding the Test data **---** \n",
            "\n",
            " Shape of  the provide     Test dataframe  is -> 11550\n",
            "\n",
            " len of positive encoded feature of test data -> 11550\n",
            "\n",
            " len of negative encoded feature of test data -> 11550\n"
          ]
        }
      ]
    },
    {
      "cell_type": "markdown",
      "source": [
        "**school_state**"
      ],
      "metadata": {
        "id": "t8IOVdh6Xc5S"
      }
    },
    {
      "cell_type": "code",
      "source": [
        "school_state_pos,school_state_neg,school_state_dict = get_response_coding(X_train['school_state'].values,\n",
        "                                                      y_train,dict(),False)\n",
        "\n",
        "print(school_state_dict)\n",
        "\n",
        "school_state_pos_te,school_state_neg_te = get_response_coding(X_test['school_state'].values,y_test,\n",
        "                                                              school_state_dict,True)"
      ],
      "metadata": {
        "colab": {
          "base_uri": "https://localhost:8080/"
        },
        "id": "iABAeu_mVlRU",
        "outputId": "df60471e-297f-40d4-dde7-403ac7087784"
      },
      "execution_count": 27,
      "outputs": [
        {
          "output_type": "stream",
          "name": "stdout",
          "text": [
            " **---** Response Encoding the Test data **---** \n",
            "\n",
            " Shape of the provided train data datframe is  -> 23450\n",
            "\n",
            " len of positive encoded feature of train data -> 23450\n",
            "\n",
            " len of negative encoded feature of train data -> 23450 \n",
            "\n",
            "{'fl': 0.050106609808102345, 'tn': 0.01671641791044776, 'oh': 0.022686567164179106, 'ca': 0.11249466950959489, 'sd': 0.0026439232409381664, 'in': 0.022473347547974414, 'de': 0.003837953091684435, 'ok': 0.01859275053304904, 'mo': 0.021961620469083155, 'tx': 0.05906183368869936, 'pa': 0.025458422174840085, 'ga': 0.031769722814498934, 'mi': 0.025373134328358207, 'nc': 0.04626865671641791, 'ma': 0.01884861407249467, 'az': 0.01628997867803838, 'nj': 0.014072494669509595, 'ny': 0.0529637526652452, 'sc': 0.03275053304904051, 'va': 0.0167590618336887, 'wa': 0.01901918976545842, 'nd': 0.0011513859275053306, 'il': 0.035309168443496804, 'ms': 0.009168443496801706, 'mt': 0.0016631130063965885, 'md': 0.012921108742004264, 'vt': 0.0006396588486140725, 'mn': 0.008614072494669509, 'ct': 0.012452025586353945, 'nv': 0.011343283582089553, 'al': 0.010191897654584222, 'ky': 0.00976545842217484, 'la': 0.01211087420042644, 'wv': 0.005074626865671642, 'co': 0.00908315565031983, 'ar': 0.008699360341151386, 'ks': 0.005628997867803838, 'nm': 0.004477611940298508, 'ut': 0.009125799573560767, 'me': 0.003326226012793177, 'wi': 0.012196162046908316, 'or': 0.00835820895522388, 'ia': 0.005373134328358209, 'dc': 0.004434968017057569, 'nh': 0.002302771855010661, 'hi': 0.003411513859275053, 'ri': 0.0020042643923240937, 'ne': 0.002601279317697228, 'ak': 0.0013219616204690832, 'wy': 0.00042643923240938164, 'id': 0.0031982942430703624}\n",
            " \n",
            "**---** Response Encoding the Test data **---** \n",
            "\n",
            " Shape of  the provide     Test dataframe  is -> 11550\n",
            "\n",
            " len of positive encoded feature of test data -> 11550\n",
            "\n",
            " len of negative encoded feature of test data -> 11550\n"
          ]
        }
      ]
    },
    {
      "cell_type": "markdown",
      "source": [
        "**price**"
      ],
      "metadata": {
        "id": "tky_mQPfX0aC"
      }
    },
    {
      "cell_type": "code",
      "execution_count": 28,
      "metadata": {
        "id": "RAtihVPqsc33",
        "colab": {
          "base_uri": "https://localhost:8080/"
        },
        "outputId": "add66ec2-d336-458a-e7b2-da13637abfdb"
      },
      "outputs": [
        {
          "output_type": "stream",
          "name": "stdout",
          "text": [
            "Mean-- [300.32251599]\n",
            "std -- [336.23306133]\n",
            "(23450, 1)\n",
            "(23450, 1)\n",
            "<class 'numpy.ndarray'> [-0.52755822]\n"
          ]
        }
      ],
      "source": [
        "## Price ##\n",
        "\n",
        "from sklearn.preprocessing import StandardScaler\n",
        "\n",
        "sc = StandardScaler(copy = True,with_mean = True,with_std = True)\n",
        "sc.fit(X_train['price'].values.reshape(-1,1))\n",
        "\n",
        "X_train_price_norm  =  sc.transform(X_train['price'].values.reshape(-1,1))\n",
        "X_test_price_norm   =  sc.transform(X_test['price'].values.reshape(-1,1))\n",
        "\n",
        "print(\"Mean--\",sc.mean_)\n",
        "print(\"std --\",np.sqrt(sc.var_))\n",
        "\n",
        "print(X_train_price_norm.shape)\n",
        "print(X_train_price_norm.shape)\n",
        "\n",
        "print(type(X_train_price_norm),X_train_price_norm[0])"
      ]
    },
    {
      "cell_type": "markdown",
      "source": [
        "**teacher_number_of_previously_posted_projects**"
      ],
      "metadata": {
        "id": "zaIAD82UYYf6"
      }
    },
    {
      "cell_type": "code",
      "source": [
        "## teacher_number_of_previously_posted_projects ##\n",
        "\n",
        "sc = StandardScaler(copy = True,with_mean = True,with_std = True)\n",
        "sc.fit(X_train['teacher_number_of_previously_posted_projects'].values.reshape(-1,1))\n",
        "\n",
        "X_train_projects_posted_norm  =  sc.transform(X_train['teacher_number_of_previously_posted_projects'].values.reshape(-1,1))\n",
        "X_test_projects_posted_norm   =  sc.transform(X_test['teacher_number_of_previously_posted_projects'].values.reshape(-1,1))\n",
        "\n",
        "print(\"Mean--\",sc.mean_)\n",
        "print(\"std --\",np.sqrt(sc.var_))\n",
        "\n",
        "print(X_train_projects_posted_norm.shape)\n",
        "print(X_train_projects_posted_norm.shape)\n",
        "\n",
        "print(type(X_train_projects_posted_norm),X_train_projects_posted_norm[0])"
      ],
      "metadata": {
        "colab": {
          "base_uri": "https://localhost:8080/"
        },
        "id": "NOT4xX0pYHih",
        "outputId": "b30c2450-4f3f-4767-ff59-3ec1b64e076b"
      },
      "execution_count": 29,
      "outputs": [
        {
          "output_type": "stream",
          "name": "stdout",
          "text": [
            "Mean-- [9.96865672]\n",
            "std -- [24.47992081]\n",
            "(23450, 1)\n",
            "(23450, 1)\n",
            "<class 'numpy.ndarray'> [-0.36636788]\n"
          ]
        }
      ]
    },
    {
      "cell_type": "code",
      "source": [
        "print(X_train_essay_tfidf.shape)\n",
        "print(len(school_state_pos))\n",
        "\n",
        "\n",
        "ps = np.array(school_state_pos)\n",
        "\n",
        "print(ps.shape)\n",
        "print(ps.reshape(-1,1).shape)"
      ],
      "metadata": {
        "colab": {
          "base_uri": "https://localhost:8080/"
        },
        "id": "ndbaSc6tZ8S0",
        "outputId": "78b4d824-32f2-476e-cbe3-a69b58a4a567"
      },
      "execution_count": 30,
      "outputs": [
        {
          "output_type": "stream",
          "name": "stdout",
          "text": [
            "(23450, 6000)\n",
            "23450\n",
            "(23450,)\n",
            "(23450, 1)\n"
          ]
        }
      ]
    },
    {
      "cell_type": "code",
      "source": [
        "from scipy.sparse import  hstack\n",
        "\n",
        "X_tr = hstack((\n",
        "               X_train_essay_tfidf,\n",
        "               np.array(school_state_pos).reshape(-1,1),np.array(school_state_neg).reshape(-1,1),\n",
        "               np.array(project_grade_pos).reshape(-1,1),np.array(project_grade_neg).reshape(-1,1),\n",
        "               np.array(clean_subcategories_pos).reshape(-1,1),np.array(clean_subcategories_neg).reshape(-1,1),\n",
        "               np.array(clean_categories_pos).reshape(-1,1),np.array(clean_categories_neg).reshape(-1,1),\n",
        "               X_train_price_norm,X_train_projects_posted_norm,\n",
        "               X_train['negative'].values.reshape(-1,1),\n",
        "               X_train['neutral'].values.reshape(-1,1),\n",
        "               X_train['positive'].values.reshape(-1,1),\n",
        "               X_train['compound'].values.reshape(-1,1)\n",
        "               )).tocsr()\n",
        "\n",
        "X_te = hstack((X_test_essay_tfidf,\n",
        "               np.array(school_state_pos_te).reshape(-1,1),np.array(school_state_neg_te).reshape(-1,1),\n",
        "               np.array(project_grade_pos_te).reshape(-1,1),np.array(project_grade_neg_te).reshape(-1,1),\n",
        "               np.array(clean_subcategories_pos_te).reshape(-1,1),np.array(clean_subcategories_neg_te).reshape(-1,1),\n",
        "               np.array(clean_categories_pos_te).reshape(-1,1),np.array(clean_categories_neg_te).reshape(-1,1),\n",
        "               X_test_price_norm,X_test_projects_posted_norm,\n",
        "               X_test['negative'].values.reshape(-1,1),\n",
        "               X_test['neutral'].values.reshape(-1,1),\n",
        "               X_test['positive'].values.reshape(-1,1),\n",
        "               X_test['compound'].values.reshape(-1,1))).tocsr()\n",
        "\n",
        "print(\"Final Data matrix\")\n",
        "\n",
        "print(X_tr.shape, y_train.shape)\n",
        "print(X_te.shape, y_test.shape)"
      ],
      "metadata": {
        "colab": {
          "base_uri": "https://localhost:8080/"
        },
        "id": "DccebunvYKtj",
        "outputId": "c7e3aa5a-023c-44a0-b005-08e7ecb79909"
      },
      "execution_count": 31,
      "outputs": [
        {
          "output_type": "stream",
          "name": "stdout",
          "text": [
            "Final Data matrix\n",
            "(23450, 6014) (23450,)\n",
            "(11550, 6014) (11550,)\n"
          ]
        }
      ]
    },
    {
      "cell_type": "markdown",
      "metadata": {
        "id": "I5wDFj17sc3-"
      },
      "source": [
        "<h2>1.5 Appling Models on different kind of featurization as mentioned in the instructions</h2>"
      ]
    },
    {
      "cell_type": "markdown",
      "metadata": {
        "id": "O5tWox1jsc3_"
      },
      "source": [
        "<br>Apply GBDT on different kind of featurization as mentioned in the instructions\n",
        "<br> For Every model that you work on make sure you do the step 2 and step 3 of instrucations"
      ]
    },
    {
      "cell_type": "code",
      "execution_count": 34,
      "metadata": {
        "id": "ARWulYUwsc4B",
        "colab": {
          "base_uri": "https://localhost:8080/"
        },
        "outputId": "bd03474e-db4d-409b-e733-43aef1190cfb"
      },
      "outputs": [
        {
          "output_type": "stream",
          "name": "stdout",
          "text": [
            "Fitting 2 folds for each of 10 candidates, totalling 20 fits\n",
            "CPU times: user 2min 34s, sys: 858 ms, total: 2min 35s\n",
            "Wall time: 12min 25s\n"
          ]
        }
      ],
      "source": [
        "%%time \n",
        "\n",
        "# as the number of hyperparameters are large in this case so we will use randomized search cv insetad og gridsearch \n",
        "\n",
        "from sklearn.model_selection import RandomizedSearchCV\n",
        "from xgboost import XGBClassifier\n",
        "\n",
        "gbdt = XGBClassifier()\n",
        "\n",
        "grid_params = {'n_estimators': [10,50,100], 'max_depth':[2,5,7,9,11]}\n",
        " \n",
        "clf = RandomizedSearchCV(gbdt,grid_params ,cv = 2, scoring = 'roc_auc',n_jobs =-1,verbose = 2,return_train_score =  True)\n",
        "clf.fit(X_tr, y_train)  \n",
        "\n",
        "results = pd.DataFrame.from_dict(clf.cv_results_)\n",
        "\n",
        "results.head(3)"
      ]
    },
    {
      "cell_type": "code",
      "source": [
        "print( results.columns )\n",
        "\n",
        "results.head()"
      ],
      "metadata": {
        "colab": {
          "base_uri": "https://localhost:8080/",
          "height": 635
        },
        "id": "_I3ubRl7vF0g",
        "outputId": "2ebdd315-f8a8-4acf-c3b8-00b34bee01f6"
      },
      "execution_count": 35,
      "outputs": [
        {
          "output_type": "stream",
          "name": "stdout",
          "text": [
            "Index(['mean_fit_time', 'std_fit_time', 'mean_score_time', 'std_score_time',\n",
            "       'param_n_estimators', 'param_max_depth', 'params', 'split0_test_score',\n",
            "       'split1_test_score', 'mean_test_score', 'std_test_score',\n",
            "       'rank_test_score', 'split0_train_score', 'split1_train_score',\n",
            "       'mean_train_score', 'std_train_score'],\n",
            "      dtype='object')\n"
          ]
        },
        {
          "output_type": "execute_result",
          "data": {
            "text/plain": [
              "   mean_fit_time  std_fit_time  mean_score_time  std_score_time  \\\n",
              "0      48.379698      0.221841         1.134042        0.003731   \n",
              "1     111.083958      0.216092         1.264294        0.010111   \n",
              "2      26.404898      0.073880         1.119250        0.004157   \n",
              "3      62.945967      0.059260         1.145352        0.011255   \n",
              "4      10.043902      0.016174         1.070018        0.001910   \n",
              "\n",
              "  param_n_estimators param_max_depth                                 params  \\\n",
              "0                 50               7   {'n_estimators': 50, 'max_depth': 7}   \n",
              "1                100               9  {'n_estimators': 100, 'max_depth': 9}   \n",
              "2                100               2  {'n_estimators': 100, 'max_depth': 2}   \n",
              "3                100               5  {'n_estimators': 100, 'max_depth': 5}   \n",
              "4                 10               7   {'n_estimators': 10, 'max_depth': 7}   \n",
              "\n",
              "   split0_test_score  split1_test_score  mean_test_score  std_test_score  \\\n",
              "0           0.691183           0.685950         0.688566        0.002617   \n",
              "1           0.702525           0.702379         0.702452        0.000073   \n",
              "2           0.694618           0.683955         0.689287        0.005332   \n",
              "3           0.705653           0.696823         0.701238        0.004415   \n",
              "4           0.639138           0.626165         0.632651        0.006487   \n",
              "\n",
              "   rank_test_score  split0_train_score  split1_train_score  mean_train_score  \\\n",
              "0                7            0.975335            0.972813          0.974074   \n",
              "1                2            0.999565            0.999219          0.999392   \n",
              "2                6            0.789475            0.793032          0.791253   \n",
              "3                3            0.962088            0.958619          0.960353   \n",
              "4               10            0.848989            0.832068          0.840529   \n",
              "\n",
              "   std_train_score  \n",
              "0         0.001261  \n",
              "1         0.000173  \n",
              "2         0.001778  \n",
              "3         0.001734  \n",
              "4         0.008460  "
            ],
            "text/html": [
              "\n",
              "  <div id=\"df-6118e167-2948-43a4-8c9b-b896b08e81fa\">\n",
              "    <div class=\"colab-df-container\">\n",
              "      <div>\n",
              "<style scoped>\n",
              "    .dataframe tbody tr th:only-of-type {\n",
              "        vertical-align: middle;\n",
              "    }\n",
              "\n",
              "    .dataframe tbody tr th {\n",
              "        vertical-align: top;\n",
              "    }\n",
              "\n",
              "    .dataframe thead th {\n",
              "        text-align: right;\n",
              "    }\n",
              "</style>\n",
              "<table border=\"1\" class=\"dataframe\">\n",
              "  <thead>\n",
              "    <tr style=\"text-align: right;\">\n",
              "      <th></th>\n",
              "      <th>mean_fit_time</th>\n",
              "      <th>std_fit_time</th>\n",
              "      <th>mean_score_time</th>\n",
              "      <th>std_score_time</th>\n",
              "      <th>param_n_estimators</th>\n",
              "      <th>param_max_depth</th>\n",
              "      <th>params</th>\n",
              "      <th>split0_test_score</th>\n",
              "      <th>split1_test_score</th>\n",
              "      <th>mean_test_score</th>\n",
              "      <th>std_test_score</th>\n",
              "      <th>rank_test_score</th>\n",
              "      <th>split0_train_score</th>\n",
              "      <th>split1_train_score</th>\n",
              "      <th>mean_train_score</th>\n",
              "      <th>std_train_score</th>\n",
              "    </tr>\n",
              "  </thead>\n",
              "  <tbody>\n",
              "    <tr>\n",
              "      <th>0</th>\n",
              "      <td>48.379698</td>\n",
              "      <td>0.221841</td>\n",
              "      <td>1.134042</td>\n",
              "      <td>0.003731</td>\n",
              "      <td>50</td>\n",
              "      <td>7</td>\n",
              "      <td>{'n_estimators': 50, 'max_depth': 7}</td>\n",
              "      <td>0.691183</td>\n",
              "      <td>0.685950</td>\n",
              "      <td>0.688566</td>\n",
              "      <td>0.002617</td>\n",
              "      <td>7</td>\n",
              "      <td>0.975335</td>\n",
              "      <td>0.972813</td>\n",
              "      <td>0.974074</td>\n",
              "      <td>0.001261</td>\n",
              "    </tr>\n",
              "    <tr>\n",
              "      <th>1</th>\n",
              "      <td>111.083958</td>\n",
              "      <td>0.216092</td>\n",
              "      <td>1.264294</td>\n",
              "      <td>0.010111</td>\n",
              "      <td>100</td>\n",
              "      <td>9</td>\n",
              "      <td>{'n_estimators': 100, 'max_depth': 9}</td>\n",
              "      <td>0.702525</td>\n",
              "      <td>0.702379</td>\n",
              "      <td>0.702452</td>\n",
              "      <td>0.000073</td>\n",
              "      <td>2</td>\n",
              "      <td>0.999565</td>\n",
              "      <td>0.999219</td>\n",
              "      <td>0.999392</td>\n",
              "      <td>0.000173</td>\n",
              "    </tr>\n",
              "    <tr>\n",
              "      <th>2</th>\n",
              "      <td>26.404898</td>\n",
              "      <td>0.073880</td>\n",
              "      <td>1.119250</td>\n",
              "      <td>0.004157</td>\n",
              "      <td>100</td>\n",
              "      <td>2</td>\n",
              "      <td>{'n_estimators': 100, 'max_depth': 2}</td>\n",
              "      <td>0.694618</td>\n",
              "      <td>0.683955</td>\n",
              "      <td>0.689287</td>\n",
              "      <td>0.005332</td>\n",
              "      <td>6</td>\n",
              "      <td>0.789475</td>\n",
              "      <td>0.793032</td>\n",
              "      <td>0.791253</td>\n",
              "      <td>0.001778</td>\n",
              "    </tr>\n",
              "    <tr>\n",
              "      <th>3</th>\n",
              "      <td>62.945967</td>\n",
              "      <td>0.059260</td>\n",
              "      <td>1.145352</td>\n",
              "      <td>0.011255</td>\n",
              "      <td>100</td>\n",
              "      <td>5</td>\n",
              "      <td>{'n_estimators': 100, 'max_depth': 5}</td>\n",
              "      <td>0.705653</td>\n",
              "      <td>0.696823</td>\n",
              "      <td>0.701238</td>\n",
              "      <td>0.004415</td>\n",
              "      <td>3</td>\n",
              "      <td>0.962088</td>\n",
              "      <td>0.958619</td>\n",
              "      <td>0.960353</td>\n",
              "      <td>0.001734</td>\n",
              "    </tr>\n",
              "    <tr>\n",
              "      <th>4</th>\n",
              "      <td>10.043902</td>\n",
              "      <td>0.016174</td>\n",
              "      <td>1.070018</td>\n",
              "      <td>0.001910</td>\n",
              "      <td>10</td>\n",
              "      <td>7</td>\n",
              "      <td>{'n_estimators': 10, 'max_depth': 7}</td>\n",
              "      <td>0.639138</td>\n",
              "      <td>0.626165</td>\n",
              "      <td>0.632651</td>\n",
              "      <td>0.006487</td>\n",
              "      <td>10</td>\n",
              "      <td>0.848989</td>\n",
              "      <td>0.832068</td>\n",
              "      <td>0.840529</td>\n",
              "      <td>0.008460</td>\n",
              "    </tr>\n",
              "  </tbody>\n",
              "</table>\n",
              "</div>\n",
              "      <button class=\"colab-df-convert\" onclick=\"convertToInteractive('df-6118e167-2948-43a4-8c9b-b896b08e81fa')\"\n",
              "              title=\"Convert this dataframe to an interactive table.\"\n",
              "              style=\"display:none;\">\n",
              "        \n",
              "  <svg xmlns=\"http://www.w3.org/2000/svg\" height=\"24px\"viewBox=\"0 0 24 24\"\n",
              "       width=\"24px\">\n",
              "    <path d=\"M0 0h24v24H0V0z\" fill=\"none\"/>\n",
              "    <path d=\"M18.56 5.44l.94 2.06.94-2.06 2.06-.94-2.06-.94-.94-2.06-.94 2.06-2.06.94zm-11 1L8.5 8.5l.94-2.06 2.06-.94-2.06-.94L8.5 2.5l-.94 2.06-2.06.94zm10 10l.94 2.06.94-2.06 2.06-.94-2.06-.94-.94-2.06-.94 2.06-2.06.94z\"/><path d=\"M17.41 7.96l-1.37-1.37c-.4-.4-.92-.59-1.43-.59-.52 0-1.04.2-1.43.59L10.3 9.45l-7.72 7.72c-.78.78-.78 2.05 0 2.83L4 21.41c.39.39.9.59 1.41.59.51 0 1.02-.2 1.41-.59l7.78-7.78 2.81-2.81c.8-.78.8-2.07 0-2.86zM5.41 20L4 18.59l7.72-7.72 1.47 1.35L5.41 20z\"/>\n",
              "  </svg>\n",
              "      </button>\n",
              "      \n",
              "  <style>\n",
              "    .colab-df-container {\n",
              "      display:flex;\n",
              "      flex-wrap:wrap;\n",
              "      gap: 12px;\n",
              "    }\n",
              "\n",
              "    .colab-df-convert {\n",
              "      background-color: #E8F0FE;\n",
              "      border: none;\n",
              "      border-radius: 50%;\n",
              "      cursor: pointer;\n",
              "      display: none;\n",
              "      fill: #1967D2;\n",
              "      height: 32px;\n",
              "      padding: 0 0 0 0;\n",
              "      width: 32px;\n",
              "    }\n",
              "\n",
              "    .colab-df-convert:hover {\n",
              "      background-color: #E2EBFA;\n",
              "      box-shadow: 0px 1px 2px rgba(60, 64, 67, 0.3), 0px 1px 3px 1px rgba(60, 64, 67, 0.15);\n",
              "      fill: #174EA6;\n",
              "    }\n",
              "\n",
              "    [theme=dark] .colab-df-convert {\n",
              "      background-color: #3B4455;\n",
              "      fill: #D2E3FC;\n",
              "    }\n",
              "\n",
              "    [theme=dark] .colab-df-convert:hover {\n",
              "      background-color: #434B5C;\n",
              "      box-shadow: 0px 1px 3px 1px rgba(0, 0, 0, 0.15);\n",
              "      filter: drop-shadow(0px 1px 2px rgba(0, 0, 0, 0.3));\n",
              "      fill: #FFFFFF;\n",
              "    }\n",
              "  </style>\n",
              "\n",
              "      <script>\n",
              "        const buttonEl =\n",
              "          document.querySelector('#df-6118e167-2948-43a4-8c9b-b896b08e81fa button.colab-df-convert');\n",
              "        buttonEl.style.display =\n",
              "          google.colab.kernel.accessAllowed ? 'block' : 'none';\n",
              "\n",
              "        async function convertToInteractive(key) {\n",
              "          const element = document.querySelector('#df-6118e167-2948-43a4-8c9b-b896b08e81fa');\n",
              "          const dataTable =\n",
              "            await google.colab.kernel.invokeFunction('convertToInteractive',\n",
              "                                                     [key], {});\n",
              "          if (!dataTable) return;\n",
              "\n",
              "          const docLinkHtml = 'Like what you see? Visit the ' +\n",
              "            '<a target=\"_blank\" href=https://colab.research.google.com/notebooks/data_table.ipynb>data table notebook</a>'\n",
              "            + ' to learn more about interactive tables.';\n",
              "          element.innerHTML = '';\n",
              "          dataTable['output_type'] = 'display_data';\n",
              "          await google.colab.output.renderOutput(dataTable, element);\n",
              "          const docLink = document.createElement('div');\n",
              "          docLink.innerHTML = docLinkHtml;\n",
              "          element.appendChild(docLink);\n",
              "        }\n",
              "      </script>\n",
              "    </div>\n",
              "  </div>\n",
              "  "
            ]
          },
          "metadata": {},
          "execution_count": 35
        }
      ]
    },
    {
      "cell_type": "code",
      "source": [
        "pivoted_results = results.pivot(index = 'param_n_estimators', columns = 'param_max_depth')\n",
        "\n",
        "pivoted_results.head()"
      ],
      "metadata": {
        "colab": {
          "base_uri": "https://localhost:8080/",
          "height": 299
        },
        "id": "tLqWKuOBtfOl",
        "outputId": "beea98fd-53e9-48a0-d9d5-cfb5cc8ba2e5"
      },
      "execution_count": 36,
      "outputs": [
        {
          "output_type": "execute_result",
          "data": {
            "text/plain": [
              "                   mean_fit_time                                    \\\n",
              "param_max_depth               2          5          7           9    \n",
              "param_n_estimators                                                   \n",
              "10                           NaN   7.480436  10.043902         NaN   \n",
              "50                     13.913860        NaN  48.379698         NaN   \n",
              "100                    26.404898  62.945967  86.565109  111.083958   \n",
              "\n",
              "                               std_fit_time                                \\\n",
              "param_max_depth             11           2         5         7         9    \n",
              "param_n_estimators                                                          \n",
              "10                         NaN          NaN  0.007869  0.016174       NaN   \n",
              "50                   69.409586      0.05941       NaN  0.221841       NaN   \n",
              "100                 133.884407      0.07388  0.059260  0.009928  0.216092   \n",
              "\n",
              "                              ... mean_train_score                      \\\n",
              "param_max_depth           11  ...               2         5         7    \n",
              "param_n_estimators            ...                                        \n",
              "10                       NaN  ...              NaN  0.774034  0.840529   \n",
              "50                  0.397570  ...         0.739338       NaN  0.974074   \n",
              "100                 0.049692  ...         0.791253  0.960353  0.993251   \n",
              "\n",
              "                                       std_train_score                      \\\n",
              "param_max_depth           9         11              2         5         7    \n",
              "param_n_estimators                                                           \n",
              "10                       NaN       NaN             NaN  0.005745  0.008460   \n",
              "50                       NaN  0.999129        0.002597       NaN  0.001261   \n",
              "100                 0.999392  0.999945        0.001778  0.001734  0.000471   \n",
              "\n",
              "                                        \n",
              "param_max_depth           9         11  \n",
              "param_n_estimators                      \n",
              "10                       NaN       NaN  \n",
              "50                       NaN  0.000464  \n",
              "100                 0.000173  0.000026  \n",
              "\n",
              "[3 rows x 70 columns]"
            ],
            "text/html": [
              "\n",
              "  <div id=\"df-bdcd32bc-e591-4dcc-82cf-4faccc5a10e4\">\n",
              "    <div class=\"colab-df-container\">\n",
              "      <div>\n",
              "<style scoped>\n",
              "    .dataframe tbody tr th:only-of-type {\n",
              "        vertical-align: middle;\n",
              "    }\n",
              "\n",
              "    .dataframe tbody tr th {\n",
              "        vertical-align: top;\n",
              "    }\n",
              "\n",
              "    .dataframe thead tr th {\n",
              "        text-align: left;\n",
              "    }\n",
              "\n",
              "    .dataframe thead tr:last-of-type th {\n",
              "        text-align: right;\n",
              "    }\n",
              "</style>\n",
              "<table border=\"1\" class=\"dataframe\">\n",
              "  <thead>\n",
              "    <tr>\n",
              "      <th></th>\n",
              "      <th colspan=\"5\" halign=\"left\">mean_fit_time</th>\n",
              "      <th colspan=\"5\" halign=\"left\">std_fit_time</th>\n",
              "      <th>...</th>\n",
              "      <th colspan=\"5\" halign=\"left\">mean_train_score</th>\n",
              "      <th colspan=\"5\" halign=\"left\">std_train_score</th>\n",
              "    </tr>\n",
              "    <tr>\n",
              "      <th>param_max_depth</th>\n",
              "      <th>2</th>\n",
              "      <th>5</th>\n",
              "      <th>7</th>\n",
              "      <th>9</th>\n",
              "      <th>11</th>\n",
              "      <th>2</th>\n",
              "      <th>5</th>\n",
              "      <th>7</th>\n",
              "      <th>9</th>\n",
              "      <th>11</th>\n",
              "      <th>...</th>\n",
              "      <th>2</th>\n",
              "      <th>5</th>\n",
              "      <th>7</th>\n",
              "      <th>9</th>\n",
              "      <th>11</th>\n",
              "      <th>2</th>\n",
              "      <th>5</th>\n",
              "      <th>7</th>\n",
              "      <th>9</th>\n",
              "      <th>11</th>\n",
              "    </tr>\n",
              "    <tr>\n",
              "      <th>param_n_estimators</th>\n",
              "      <th></th>\n",
              "      <th></th>\n",
              "      <th></th>\n",
              "      <th></th>\n",
              "      <th></th>\n",
              "      <th></th>\n",
              "      <th></th>\n",
              "      <th></th>\n",
              "      <th></th>\n",
              "      <th></th>\n",
              "      <th></th>\n",
              "      <th></th>\n",
              "      <th></th>\n",
              "      <th></th>\n",
              "      <th></th>\n",
              "      <th></th>\n",
              "      <th></th>\n",
              "      <th></th>\n",
              "      <th></th>\n",
              "      <th></th>\n",
              "      <th></th>\n",
              "    </tr>\n",
              "  </thead>\n",
              "  <tbody>\n",
              "    <tr>\n",
              "      <th>10</th>\n",
              "      <td>NaN</td>\n",
              "      <td>7.480436</td>\n",
              "      <td>10.043902</td>\n",
              "      <td>NaN</td>\n",
              "      <td>NaN</td>\n",
              "      <td>NaN</td>\n",
              "      <td>0.007869</td>\n",
              "      <td>0.016174</td>\n",
              "      <td>NaN</td>\n",
              "      <td>NaN</td>\n",
              "      <td>...</td>\n",
              "      <td>NaN</td>\n",
              "      <td>0.774034</td>\n",
              "      <td>0.840529</td>\n",
              "      <td>NaN</td>\n",
              "      <td>NaN</td>\n",
              "      <td>NaN</td>\n",
              "      <td>0.005745</td>\n",
              "      <td>0.008460</td>\n",
              "      <td>NaN</td>\n",
              "      <td>NaN</td>\n",
              "    </tr>\n",
              "    <tr>\n",
              "      <th>50</th>\n",
              "      <td>13.913860</td>\n",
              "      <td>NaN</td>\n",
              "      <td>48.379698</td>\n",
              "      <td>NaN</td>\n",
              "      <td>69.409586</td>\n",
              "      <td>0.05941</td>\n",
              "      <td>NaN</td>\n",
              "      <td>0.221841</td>\n",
              "      <td>NaN</td>\n",
              "      <td>0.397570</td>\n",
              "      <td>...</td>\n",
              "      <td>0.739338</td>\n",
              "      <td>NaN</td>\n",
              "      <td>0.974074</td>\n",
              "      <td>NaN</td>\n",
              "      <td>0.999129</td>\n",
              "      <td>0.002597</td>\n",
              "      <td>NaN</td>\n",
              "      <td>0.001261</td>\n",
              "      <td>NaN</td>\n",
              "      <td>0.000464</td>\n",
              "    </tr>\n",
              "    <tr>\n",
              "      <th>100</th>\n",
              "      <td>26.404898</td>\n",
              "      <td>62.945967</td>\n",
              "      <td>86.565109</td>\n",
              "      <td>111.083958</td>\n",
              "      <td>133.884407</td>\n",
              "      <td>0.07388</td>\n",
              "      <td>0.059260</td>\n",
              "      <td>0.009928</td>\n",
              "      <td>0.216092</td>\n",
              "      <td>0.049692</td>\n",
              "      <td>...</td>\n",
              "      <td>0.791253</td>\n",
              "      <td>0.960353</td>\n",
              "      <td>0.993251</td>\n",
              "      <td>0.999392</td>\n",
              "      <td>0.999945</td>\n",
              "      <td>0.001778</td>\n",
              "      <td>0.001734</td>\n",
              "      <td>0.000471</td>\n",
              "      <td>0.000173</td>\n",
              "      <td>0.000026</td>\n",
              "    </tr>\n",
              "  </tbody>\n",
              "</table>\n",
              "<p>3 rows × 70 columns</p>\n",
              "</div>\n",
              "      <button class=\"colab-df-convert\" onclick=\"convertToInteractive('df-bdcd32bc-e591-4dcc-82cf-4faccc5a10e4')\"\n",
              "              title=\"Convert this dataframe to an interactive table.\"\n",
              "              style=\"display:none;\">\n",
              "        \n",
              "  <svg xmlns=\"http://www.w3.org/2000/svg\" height=\"24px\"viewBox=\"0 0 24 24\"\n",
              "       width=\"24px\">\n",
              "    <path d=\"M0 0h24v24H0V0z\" fill=\"none\"/>\n",
              "    <path d=\"M18.56 5.44l.94 2.06.94-2.06 2.06-.94-2.06-.94-.94-2.06-.94 2.06-2.06.94zm-11 1L8.5 8.5l.94-2.06 2.06-.94-2.06-.94L8.5 2.5l-.94 2.06-2.06.94zm10 10l.94 2.06.94-2.06 2.06-.94-2.06-.94-.94-2.06-.94 2.06-2.06.94z\"/><path d=\"M17.41 7.96l-1.37-1.37c-.4-.4-.92-.59-1.43-.59-.52 0-1.04.2-1.43.59L10.3 9.45l-7.72 7.72c-.78.78-.78 2.05 0 2.83L4 21.41c.39.39.9.59 1.41.59.51 0 1.02-.2 1.41-.59l7.78-7.78 2.81-2.81c.8-.78.8-2.07 0-2.86zM5.41 20L4 18.59l7.72-7.72 1.47 1.35L5.41 20z\"/>\n",
              "  </svg>\n",
              "      </button>\n",
              "      \n",
              "  <style>\n",
              "    .colab-df-container {\n",
              "      display:flex;\n",
              "      flex-wrap:wrap;\n",
              "      gap: 12px;\n",
              "    }\n",
              "\n",
              "    .colab-df-convert {\n",
              "      background-color: #E8F0FE;\n",
              "      border: none;\n",
              "      border-radius: 50%;\n",
              "      cursor: pointer;\n",
              "      display: none;\n",
              "      fill: #1967D2;\n",
              "      height: 32px;\n",
              "      padding: 0 0 0 0;\n",
              "      width: 32px;\n",
              "    }\n",
              "\n",
              "    .colab-df-convert:hover {\n",
              "      background-color: #E2EBFA;\n",
              "      box-shadow: 0px 1px 2px rgba(60, 64, 67, 0.3), 0px 1px 3px 1px rgba(60, 64, 67, 0.15);\n",
              "      fill: #174EA6;\n",
              "    }\n",
              "\n",
              "    [theme=dark] .colab-df-convert {\n",
              "      background-color: #3B4455;\n",
              "      fill: #D2E3FC;\n",
              "    }\n",
              "\n",
              "    [theme=dark] .colab-df-convert:hover {\n",
              "      background-color: #434B5C;\n",
              "      box-shadow: 0px 1px 3px 1px rgba(0, 0, 0, 0.15);\n",
              "      filter: drop-shadow(0px 1px 2px rgba(0, 0, 0, 0.3));\n",
              "      fill: #FFFFFF;\n",
              "    }\n",
              "  </style>\n",
              "\n",
              "      <script>\n",
              "        const buttonEl =\n",
              "          document.querySelector('#df-bdcd32bc-e591-4dcc-82cf-4faccc5a10e4 button.colab-df-convert');\n",
              "        buttonEl.style.display =\n",
              "          google.colab.kernel.accessAllowed ? 'block' : 'none';\n",
              "\n",
              "        async function convertToInteractive(key) {\n",
              "          const element = document.querySelector('#df-bdcd32bc-e591-4dcc-82cf-4faccc5a10e4');\n",
              "          const dataTable =\n",
              "            await google.colab.kernel.invokeFunction('convertToInteractive',\n",
              "                                                     [key], {});\n",
              "          if (!dataTable) return;\n",
              "\n",
              "          const docLinkHtml = 'Like what you see? Visit the ' +\n",
              "            '<a target=\"_blank\" href=https://colab.research.google.com/notebooks/data_table.ipynb>data table notebook</a>'\n",
              "            + ' to learn more about interactive tables.';\n",
              "          element.innerHTML = '';\n",
              "          dataTable['output_type'] = 'display_data';\n",
              "          await google.colab.output.renderOutput(dataTable, element);\n",
              "          const docLink = document.createElement('div');\n",
              "          docLink.innerHTML = docLinkHtml;\n",
              "          element.appendChild(docLink);\n",
              "        }\n",
              "      </script>\n",
              "    </div>\n",
              "  </div>\n",
              "  "
            ]
          },
          "metadata": {},
          "execution_count": 36
        }
      ]
    },
    {
      "cell_type": "code",
      "source": [
        "fig, ax = plt.subplots(1,2, figsize=(20,6))\n",
        "\n",
        "sns.heatmap(pivoted_results.mean_train_score, annot = True, fmt='.4g',  ax = ax[0]) \n",
        "sns.heatmap(pivoted_results.mean_test_score,  annot = True, fmt='.4g',  ax = ax[1])\n",
        "\n",
        "ax[0].set_title('Train')\n",
        "ax[1].set_title('CV')\n",
        "\n",
        "plt.show()"
      ],
      "metadata": {
        "colab": {
          "base_uri": "https://localhost:8080/",
          "height": 405
        },
        "id": "Jj0W3BLxtgKz",
        "outputId": "08a94afc-7a15-4dc8-8a35-a29267af5e05"
      },
      "execution_count": 37,
      "outputs": [
        {
          "output_type": "display_data",
          "data": {
            "text/plain": [
              "<Figure size 1440x432 with 4 Axes>"
            ],
            "image/png": "[encoded data removed]"
          },
          "metadata": {
            "needs_background": "light"
          }
        }
      ]
    },
    {
      "cell_type": "markdown",
      "source": [
        "* Here we have white cells because we used randomizedsearchCV instead of gridsearch"
      ],
      "metadata": {
        "id": "qRYOuTcN2hUJ"
      }
    },
    {
      "cell_type": "code",
      "source": [
        "print('Best ROC-AUC score: ',clf.best_score_)\n",
        "print('Best Parameter are: ',clf.best_params_)"
      ],
      "metadata": {
        "colab": {
          "base_uri": "https://localhost:8080/"
        },
        "id": "rkKTNBZWtpq3",
        "outputId": "7ec0aec7-76aa-4f12-ab0c-87bb50cec0c9"
      },
      "execution_count": 38,
      "outputs": [
        {
          "output_type": "stream",
          "name": "stdout",
          "text": [
            "Best ROC-AUC score:  0.7042242521416702\n",
            "Best Parameter are:  {'n_estimators': 100, 'max_depth': 11}\n"
          ]
        }
      ]
    },
    {
      "cell_type": "code",
      "source": [
        "from xgboost import XGBClassifier\n",
        "from sklearn.metrics import roc_curve, auc\n",
        "\n",
        "gbdt = XGBClassifier(n_estimators = 100,max_depth = 5)\n",
        "gbdt.fit(X_tr, y_train)\n",
        "\n",
        "y_train_pred = gbdt.predict_proba(X_tr)[:,1]\n",
        "y_test_pred  = gbdt.predict_proba(X_te)[:,1]\n",
        "\n",
        "train_fpr, train_tpr, tr_thresholds = roc_curve(y_train, y_train_pred)\n",
        "test_fpr,  test_tpr, te_thresholds  = roc_curve(y_test,  y_test_pred)\n",
        "\n",
        "plt.plot(train_fpr, train_tpr, label=\"train AUC =\"+str(auc(train_fpr, train_tpr)))\n",
        "plt.plot(test_fpr, test_tpr,   label=\"test AUC  =\"+str(auc(test_fpr, test_tpr)))\n",
        "\n",
        "plt.legend()\n",
        "\n",
        "plt.xlabel(\"FPR\")\n",
        "plt.ylabel(\"TPR\")\n",
        "\n",
        "plt.title(\"ERROR PLOTS\")\n",
        "\n",
        "plt.grid()\n",
        "plt.show()"
      ],
      "metadata": {
        "colab": {
          "base_uri": "https://localhost:8080/",
          "height": 295
        },
        "id": "X5VxQHGpzcf2",
        "outputId": "4eb605d7-8009-4873-8d12-77afd0a45154"
      },
      "execution_count": 39,
      "outputs": [
        {
          "output_type": "display_data",
          "data": {
            "text/plain": [
              "<Figure size 432x288 with 1 Axes>"
            ],
            "image/png": "[encoded data removed]"
          },
          "metadata": {
            "needs_background": "light"
          }
        }
      ]
    },
    {
      "cell_type": "markdown",
      "source": [
        "* Here we can see clearly that our model is overfitting so we have to chose better hyperparameters to resolve the issue.\n",
        "\n",
        "* let's start by fixing our max_depth = 5 , as we do not want very large depth trees in GBDT we need high biased models and we will try new hyperparameter called learning rate and see if that's work or not .\n",
        "\n",
        "* here if learning rate increases then model overfits but if we reduce the learning rate then it increase both train and query time , and since here we want to avoid overfiting so we won't focus much on time part.\n",
        "\n",
        "* https://www.analyticsvidhya.com/blog/2016/03/complete-guide-parameter-tuning-xgboost-with-codes-python/\n",
        "\n",
        "* https://www.kaggle.com/code/tilii7/hyperparameter-grid-search-with-xgboost/notebook\n"
      ],
      "metadata": {
        "id": "eI3ct9B1pgRW"
      }
    },
    {
      "cell_type": "code",
      "source": [
        "%%time \n",
        "# around 28 minutes\n",
        "\n",
        "# as the number of hyperparameters are large in this case so we will use randomized search cv insetad of gridsearch\n",
        "# we can also use bayesian optimization for xgboost if the hyperparameters increases  \n",
        "\n",
        "from sklearn.model_selection import GridSearchCV\n",
        "from xgboost import XGBClassifier\n",
        "\n",
        "gbdt = XGBClassifier(max_depth = 5,random_state = 42)\n",
        "\n",
        "grid_params = {'n_estimators': [100,200,300], 'learning_rate':[0.001, 0.01, 0.1, 0.2]}\n",
        " \n",
        "clf = GridSearchCV(gbdt,grid_params ,cv = 2, scoring = 'roc_auc',n_jobs =-1,verbose = 3,return_train_score =  True)\n",
        "clf.fit(X_tr, y_train)  \n",
        "\n",
        "results = pd.DataFrame.from_dict(clf.cv_results_)\n",
        "\n",
        "results.head(3)"
      ],
      "metadata": {
        "colab": {
          "base_uri": "https://localhost:8080/"
        },
        "id": "_OJizxg72tE8",
        "outputId": "7b27f7da-aa0d-486d-d48a-753f9d1896f0"
      },
      "execution_count": 53,
      "outputs": [
        {
          "output_type": "stream",
          "name": "stdout",
          "text": [
            "Fitting 2 folds for each of 12 candidates, totalling 24 fits\n",
            "CPU times: user 3min 27s, sys: 1.71 s, total: 3min 28s\n",
            "Wall time: 28min 39s\n"
          ]
        }
      ]
    },
    {
      "cell_type": "code",
      "source": [
        "results.head(3)"
      ],
      "metadata": {
        "colab": {
          "base_uri": "https://localhost:8080/",
          "height": 363
        },
        "id": "KLVknCy07JsX",
        "outputId": "14d50104-45dc-455e-89ae-bda489e47145"
      },
      "execution_count": 54,
      "outputs": [
        {
          "output_type": "execute_result",
          "data": {
            "text/plain": [
              "   mean_fit_time  std_fit_time  mean_score_time  std_score_time  \\\n",
              "0      66.002157      0.036836         1.122713        0.019463   \n",
              "1     125.028609      0.593334         1.248266        0.026512   \n",
              "2     187.230708      0.332532         1.289277        0.003098   \n",
              "\n",
              "  param_learning_rate param_n_estimators  \\\n",
              "0               0.001                100   \n",
              "1               0.001                200   \n",
              "2               0.001                300   \n",
              "\n",
              "                                          params  split0_test_score  \\\n",
              "0  {'learning_rate': 0.001, 'n_estimators': 100}           0.607312   \n",
              "1  {'learning_rate': 0.001, 'n_estimators': 200}           0.622618   \n",
              "2  {'learning_rate': 0.001, 'n_estimators': 300}           0.628011   \n",
              "\n",
              "   split1_test_score  mean_test_score  std_test_score  rank_test_score  \\\n",
              "0           0.607091         0.607202        0.000111               12   \n",
              "1           0.616906         0.619762        0.002856               11   \n",
              "2           0.620328         0.624169        0.003842               10   \n",
              "\n",
              "   split0_train_score  split1_train_score  mean_train_score  std_train_score  \n",
              "0            0.657225            0.698363          0.677794         0.020569  \n",
              "1            0.700814            0.721759          0.711287         0.010473  \n",
              "2            0.714009            0.735917          0.724963         0.010954  "
            ],
            "text/html": [
              "\n",
              "  <div id=\"df-e534acd6-5d33-4e34-a9c9-5ec570f6925c\">\n",
              "    <div class=\"colab-df-container\">\n",
              "      <div>\n",
              "<style scoped>\n",
              "    .dataframe tbody tr th:only-of-type {\n",
              "        vertical-align: middle;\n",
              "    }\n",
              "\n",
              "    .dataframe tbody tr th {\n",
              "        vertical-align: top;\n",
              "    }\n",
              "\n",
              "    .dataframe thead th {\n",
              "        text-align: right;\n",
              "    }\n",
              "</style>\n",
              "<table border=\"1\" class=\"dataframe\">\n",
              "  <thead>\n",
              "    <tr style=\"text-align: right;\">\n",
              "      <th></th>\n",
              "      <th>mean_fit_time</th>\n",
              "      <th>std_fit_time</th>\n",
              "      <th>mean_score_time</th>\n",
              "      <th>std_score_time</th>\n",
              "      <th>param_learning_rate</th>\n",
              "      <th>param_n_estimators</th>\n",
              "      <th>params</th>\n",
              "      <th>split0_test_score</th>\n",
              "      <th>split1_test_score</th>\n",
              "      <th>mean_test_score</th>\n",
              "      <th>std_test_score</th>\n",
              "      <th>rank_test_score</th>\n",
              "      <th>split0_train_score</th>\n",
              "      <th>split1_train_score</th>\n",
              "      <th>mean_train_score</th>\n",
              "      <th>std_train_score</th>\n",
              "    </tr>\n",
              "  </thead>\n",
              "  <tbody>\n",
              "    <tr>\n",
              "      <th>0</th>\n",
              "      <td>66.002157</td>\n",
              "      <td>0.036836</td>\n",
              "      <td>1.122713</td>\n",
              "      <td>0.019463</td>\n",
              "      <td>0.001</td>\n",
              "      <td>100</td>\n",
              "      <td>{'learning_rate': 0.001, 'n_estimators': 100}</td>\n",
              "      <td>0.607312</td>\n",
              "      <td>0.607091</td>\n",
              "      <td>0.607202</td>\n",
              "      <td>0.000111</td>\n",
              "      <td>12</td>\n",
              "      <td>0.657225</td>\n",
              "      <td>0.698363</td>\n",
              "      <td>0.677794</td>\n",
              "      <td>0.020569</td>\n",
              "    </tr>\n",
              "    <tr>\n",
              "      <th>1</th>\n",
              "      <td>125.028609</td>\n",
              "      <td>0.593334</td>\n",
              "      <td>1.248266</td>\n",
              "      <td>0.026512</td>\n",
              "      <td>0.001</td>\n",
              "      <td>200</td>\n",
              "      <td>{'learning_rate': 0.001, 'n_estimators': 200}</td>\n",
              "      <td>0.622618</td>\n",
              "      <td>0.616906</td>\n",
              "      <td>0.619762</td>\n",
              "      <td>0.002856</td>\n",
              "      <td>11</td>\n",
              "      <td>0.700814</td>\n",
              "      <td>0.721759</td>\n",
              "      <td>0.711287</td>\n",
              "      <td>0.010473</td>\n",
              "    </tr>\n",
              "    <tr>\n",
              "      <th>2</th>\n",
              "      <td>187.230708</td>\n",
              "      <td>0.332532</td>\n",
              "      <td>1.289277</td>\n",
              "      <td>0.003098</td>\n",
              "      <td>0.001</td>\n",
              "      <td>300</td>\n",
              "      <td>{'learning_rate': 0.001, 'n_estimators': 300}</td>\n",
              "      <td>0.628011</td>\n",
              "      <td>0.620328</td>\n",
              "      <td>0.624169</td>\n",
              "      <td>0.003842</td>\n",
              "      <td>10</td>\n",
              "      <td>0.714009</td>\n",
              "      <td>0.735917</td>\n",
              "      <td>0.724963</td>\n",
              "      <td>0.010954</td>\n",
              "    </tr>\n",
              "  </tbody>\n",
              "</table>\n",
              "</div>\n",
              "      <button class=\"colab-df-convert\" onclick=\"convertToInteractive('df-e534acd6-5d33-4e34-a9c9-5ec570f6925c')\"\n",
              "              title=\"Convert this dataframe to an interactive table.\"\n",
              "              style=\"display:none;\">\n",
              "        \n",
              "  <svg xmlns=\"http://www.w3.org/2000/svg\" height=\"24px\"viewBox=\"0 0 24 24\"\n",
              "       width=\"24px\">\n",
              "    <path d=\"M0 0h24v24H0V0z\" fill=\"none\"/>\n",
              "    <path d=\"M18.56 5.44l.94 2.06.94-2.06 2.06-.94-2.06-.94-.94-2.06-.94 2.06-2.06.94zm-11 1L8.5 8.5l.94-2.06 2.06-.94-2.06-.94L8.5 2.5l-.94 2.06-2.06.94zm10 10l.94 2.06.94-2.06 2.06-.94-2.06-.94-.94-2.06-.94 2.06-2.06.94z\"/><path d=\"M17.41 7.96l-1.37-1.37c-.4-.4-.92-.59-1.43-.59-.52 0-1.04.2-1.43.59L10.3 9.45l-7.72 7.72c-.78.78-.78 2.05 0 2.83L4 21.41c.39.39.9.59 1.41.59.51 0 1.02-.2 1.41-.59l7.78-7.78 2.81-2.81c.8-.78.8-2.07 0-2.86zM5.41 20L4 18.59l7.72-7.72 1.47 1.35L5.41 20z\"/>\n",
              "  </svg>\n",
              "      </button>\n",
              "      \n",
              "  <style>\n",
              "    .colab-df-container {\n",
              "      display:flex;\n",
              "      flex-wrap:wrap;\n",
              "      gap: 12px;\n",
              "    }\n",
              "\n",
              "    .colab-df-convert {\n",
              "      background-color: #E8F0FE;\n",
              "      border: none;\n",
              "      border-radius: 50%;\n",
              "      cursor: pointer;\n",
              "      display: none;\n",
              "      fill: #1967D2;\n",
              "      height: 32px;\n",
              "      padding: 0 0 0 0;\n",
              "      width: 32px;\n",
              "    }\n",
              "\n",
              "    .colab-df-convert:hover {\n",
              "      background-color: #E2EBFA;\n",
              "      box-shadow: 0px 1px 2px rgba(60, 64, 67, 0.3), 0px 1px 3px 1px rgba(60, 64, 67, 0.15);\n",
              "      fill: #174EA6;\n",
              "    }\n",
              "\n",
              "    [theme=dark] .colab-df-convert {\n",
              "      background-color: #3B4455;\n",
              "      fill: #D2E3FC;\n",
              "    }\n",
              "\n",
              "    [theme=dark] .colab-df-convert:hover {\n",
              "      background-color: #434B5C;\n",
              "      box-shadow: 0px 1px 3px 1px rgba(0, 0, 0, 0.15);\n",
              "      filter: drop-shadow(0px 1px 2px rgba(0, 0, 0, 0.3));\n",
              "      fill: #FFFFFF;\n",
              "    }\n",
              "  </style>\n",
              "\n",
              "      <script>\n",
              "        const buttonEl =\n",
              "          document.querySelector('#df-e534acd6-5d33-4e34-a9c9-5ec570f6925c button.colab-df-convert');\n",
              "        buttonEl.style.display =\n",
              "          google.colab.kernel.accessAllowed ? 'block' : 'none';\n",
              "\n",
              "        async function convertToInteractive(key) {\n",
              "          const element = document.querySelector('#df-e534acd6-5d33-4e34-a9c9-5ec570f6925c');\n",
              "          const dataTable =\n",
              "            await google.colab.kernel.invokeFunction('convertToInteractive',\n",
              "                                                     [key], {});\n",
              "          if (!dataTable) return;\n",
              "\n",
              "          const docLinkHtml = 'Like what you see? Visit the ' +\n",
              "            '<a target=\"_blank\" href=https://colab.research.google.com/notebooks/data_table.ipynb>data table notebook</a>'\n",
              "            + ' to learn more about interactive tables.';\n",
              "          element.innerHTML = '';\n",
              "          dataTable['output_type'] = 'display_data';\n",
              "          await google.colab.output.renderOutput(dataTable, element);\n",
              "          const docLink = document.createElement('div');\n",
              "          docLink.innerHTML = docLinkHtml;\n",
              "          element.appendChild(docLink);\n",
              "        }\n",
              "      </script>\n",
              "    </div>\n",
              "  </div>\n",
              "  "
            ]
          },
          "metadata": {},
          "execution_count": 54
        }
      ]
    },
    {
      "cell_type": "code",
      "source": [
        "pivoted_results = results.pivot(index = 'param_n_estimators', columns = 'param_learning_rate')\n",
        "\n",
        "pivoted_results.head()"
      ],
      "metadata": {
        "colab": {
          "base_uri": "https://localhost:8080/",
          "height": 299
        },
        "id": "_yPryquw5wGK",
        "outputId": "43a583db-d095-430e-9c77-5a7ab1eb6e61"
      },
      "execution_count": 55,
      "outputs": [
        {
          "output_type": "execute_result",
          "data": {
            "text/plain": [
              "                    mean_fit_time                                      \\\n",
              "param_learning_rate         0.001       0.010       0.100       0.200   \n",
              "param_n_estimators                                                      \n",
              "100                     66.002157   63.304800   62.403324   61.969598   \n",
              "200                    125.028609  125.569975  122.282912  122.386260   \n",
              "300                    187.230708  189.632410  181.885287  182.735750   \n",
              "\n",
              "                    std_fit_time                                \\\n",
              "param_learning_rate        0.001     0.010     0.100     0.200   \n",
              "param_n_estimators                                               \n",
              "100                     0.036836  0.110835  0.057692  0.085141   \n",
              "200                     0.593334  0.471448  0.005726  0.393534   \n",
              "300                     0.332532  0.622555  0.388691  0.339290   \n",
              "\n",
              "                    mean_score_time            ... split1_train_score  \\\n",
              "param_learning_rate           0.001     0.010  ...              0.100   \n",
              "param_n_estimators                             ...                      \n",
              "100                        1.122713  1.125321  ...           0.958619   \n",
              "200                        1.248266  1.249586  ...           0.989081   \n",
              "300                        1.289277  1.408948  ...           0.997133   \n",
              "\n",
              "                              mean_train_score                                \\\n",
              "param_learning_rate     0.200            0.001     0.010     0.100     0.200   \n",
              "param_n_estimators                                                             \n",
              "100                  0.988231         0.677794  0.787031  0.960353  0.987296   \n",
              "200                  0.999157         0.711287  0.839799  0.989476  0.999106   \n",
              "300                  0.999977         0.724963  0.874356  0.997543  0.999971   \n",
              "\n",
              "                    std_train_score                                \n",
              "param_learning_rate           0.001     0.010     0.100     0.200  \n",
              "param_n_estimators                                                 \n",
              "100                        0.020569  0.004261  0.001734  0.000936  \n",
              "200                        0.010473  0.001679  0.000396  0.000051  \n",
              "300                        0.010954  0.002486  0.000410  0.000006  \n",
              "\n",
              "[3 rows x 56 columns]"
            ],
            "text/html": [
              "\n",
              "  <div id=\"df-4b9ff879-3755-4884-887d-f75241d4ade3\">\n",
              "    <div class=\"colab-df-container\">\n",
              "      <div>\n",
              "<style scoped>\n",
              "    .dataframe tbody tr th:only-of-type {\n",
              "        vertical-align: middle;\n",
              "    }\n",
              "\n",
              "    .dataframe tbody tr th {\n",
              "        vertical-align: top;\n",
              "    }\n",
              "\n",
              "    .dataframe thead tr th {\n",
              "        text-align: left;\n",
              "    }\n",
              "\n",
              "    .dataframe thead tr:last-of-type th {\n",
              "        text-align: right;\n",
              "    }\n",
              "</style>\n",
              "<table border=\"1\" class=\"dataframe\">\n",
              "  <thead>\n",
              "    <tr>\n",
              "      <th></th>\n",
              "      <th colspan=\"4\" halign=\"left\">mean_fit_time</th>\n",
              "      <th colspan=\"4\" halign=\"left\">std_fit_time</th>\n",
              "      <th colspan=\"2\" halign=\"left\">mean_score_time</th>\n",
              "      <th>...</th>\n",
              "      <th colspan=\"2\" halign=\"left\">split1_train_score</th>\n",
              "      <th colspan=\"4\" halign=\"left\">mean_train_score</th>\n",
              "      <th colspan=\"4\" halign=\"left\">std_train_score</th>\n",
              "    </tr>\n",
              "    <tr>\n",
              "      <th>param_learning_rate</th>\n",
              "      <th>0.001</th>\n",
              "      <th>0.010</th>\n",
              "      <th>0.100</th>\n",
              "      <th>0.200</th>\n",
              "      <th>0.001</th>\n",
              "      <th>0.010</th>\n",
              "      <th>0.100</th>\n",
              "      <th>0.200</th>\n",
              "      <th>0.001</th>\n",
              "      <th>0.010</th>\n",
              "      <th>...</th>\n",
              "      <th>0.100</th>\n",
              "      <th>0.200</th>\n",
              "      <th>0.001</th>\n",
              "      <th>0.010</th>\n",
              "      <th>0.100</th>\n",
              "      <th>0.200</th>\n",
              "      <th>0.001</th>\n",
              "      <th>0.010</th>\n",
              "      <th>0.100</th>\n",
              "      <th>0.200</th>\n",
              "    </tr>\n",
              "    <tr>\n",
              "      <th>param_n_estimators</th>\n",
              "      <th></th>\n",
              "      <th></th>\n",
              "      <th></th>\n",
              "      <th></th>\n",
              "      <th></th>\n",
              "      <th></th>\n",
              "      <th></th>\n",
              "      <th></th>\n",
              "      <th></th>\n",
              "      <th></th>\n",
              "      <th></th>\n",
              "      <th></th>\n",
              "      <th></th>\n",
              "      <th></th>\n",
              "      <th></th>\n",
              "      <th></th>\n",
              "      <th></th>\n",
              "      <th></th>\n",
              "      <th></th>\n",
              "      <th></th>\n",
              "      <th></th>\n",
              "    </tr>\n",
              "  </thead>\n",
              "  <tbody>\n",
              "    <tr>\n",
              "      <th>100</th>\n",
              "      <td>66.002157</td>\n",
              "      <td>63.304800</td>\n",
              "      <td>62.403324</td>\n",
              "      <td>61.969598</td>\n",
              "      <td>0.036836</td>\n",
              "      <td>0.110835</td>\n",
              "      <td>0.057692</td>\n",
              "      <td>0.085141</td>\n",
              "      <td>1.122713</td>\n",
              "      <td>1.125321</td>\n",
              "      <td>...</td>\n",
              "      <td>0.958619</td>\n",
              "      <td>0.988231</td>\n",
              "      <td>0.677794</td>\n",
              "      <td>0.787031</td>\n",
              "      <td>0.960353</td>\n",
              "      <td>0.987296</td>\n",
              "      <td>0.020569</td>\n",
              "      <td>0.004261</td>\n",
              "      <td>0.001734</td>\n",
              "      <td>0.000936</td>\n",
              "    </tr>\n",
              "    <tr>\n",
              "      <th>200</th>\n",
              "      <td>125.028609</td>\n",
              "      <td>125.569975</td>\n",
              "      <td>122.282912</td>\n",
              "      <td>122.386260</td>\n",
              "      <td>0.593334</td>\n",
              "      <td>0.471448</td>\n",
              "      <td>0.005726</td>\n",
              "      <td>0.393534</td>\n",
              "      <td>1.248266</td>\n",
              "      <td>1.249586</td>\n",
              "      <td>...</td>\n",
              "      <td>0.989081</td>\n",
              "      <td>0.999157</td>\n",
              "      <td>0.711287</td>\n",
              "      <td>0.839799</td>\n",
              "      <td>0.989476</td>\n",
              "      <td>0.999106</td>\n",
              "      <td>0.010473</td>\n",
              "      <td>0.001679</td>\n",
              "      <td>0.000396</td>\n",
              "      <td>0.000051</td>\n",
              "    </tr>\n",
              "    <tr>\n",
              "      <th>300</th>\n",
              "      <td>187.230708</td>\n",
              "      <td>189.632410</td>\n",
              "      <td>181.885287</td>\n",
              "      <td>182.735750</td>\n",
              "      <td>0.332532</td>\n",
              "      <td>0.622555</td>\n",
              "      <td>0.388691</td>\n",
              "      <td>0.339290</td>\n",
              "      <td>1.289277</td>\n",
              "      <td>1.408948</td>\n",
              "      <td>...</td>\n",
              "      <td>0.997133</td>\n",
              "      <td>0.999977</td>\n",
              "      <td>0.724963</td>\n",
              "      <td>0.874356</td>\n",
              "      <td>0.997543</td>\n",
              "      <td>0.999971</td>\n",
              "      <td>0.010954</td>\n",
              "      <td>0.002486</td>\n",
              "      <td>0.000410</td>\n",
              "      <td>0.000006</td>\n",
              "    </tr>\n",
              "  </tbody>\n",
              "</table>\n",
              "<p>3 rows × 56 columns</p>\n",
              "</div>\n",
              "      <button class=\"colab-df-convert\" onclick=\"convertToInteractive('df-4b9ff879-3755-4884-887d-f75241d4ade3')\"\n",
              "              title=\"Convert this dataframe to an interactive table.\"\n",
              "              style=\"display:none;\">\n",
              "        \n",
              "  <svg xmlns=\"http://www.w3.org/2000/svg\" height=\"24px\"viewBox=\"0 0 24 24\"\n",
              "       width=\"24px\">\n",
              "    <path d=\"M0 0h24v24H0V0z\" fill=\"none\"/>\n",
              "    <path d=\"M18.56 5.44l.94 2.06.94-2.06 2.06-.94-2.06-.94-.94-2.06-.94 2.06-2.06.94zm-11 1L8.5 8.5l.94-2.06 2.06-.94-2.06-.94L8.5 2.5l-.94 2.06-2.06.94zm10 10l.94 2.06.94-2.06 2.06-.94-2.06-.94-.94-2.06-.94 2.06-2.06.94z\"/><path d=\"M17.41 7.96l-1.37-1.37c-.4-.4-.92-.59-1.43-.59-.52 0-1.04.2-1.43.59L10.3 9.45l-7.72 7.72c-.78.78-.78 2.05 0 2.83L4 21.41c.39.39.9.59 1.41.59.51 0 1.02-.2 1.41-.59l7.78-7.78 2.81-2.81c.8-.78.8-2.07 0-2.86zM5.41 20L4 18.59l7.72-7.72 1.47 1.35L5.41 20z\"/>\n",
              "  </svg>\n",
              "      </button>\n",
              "      \n",
              "  <style>\n",
              "    .colab-df-container {\n",
              "      display:flex;\n",
              "      flex-wrap:wrap;\n",
              "      gap: 12px;\n",
              "    }\n",
              "\n",
              "    .colab-df-convert {\n",
              "      background-color: #E8F0FE;\n",
              "      border: none;\n",
              "      border-radius: 50%;\n",
              "      cursor: pointer;\n",
              "      display: none;\n",
              "      fill: #1967D2;\n",
              "      height: 32px;\n",
              "      padding: 0 0 0 0;\n",
              "      width: 32px;\n",
              "    }\n",
              "\n",
              "    .colab-df-convert:hover {\n",
              "      background-color: #E2EBFA;\n",
              "      box-shadow: 0px 1px 2px rgba(60, 64, 67, 0.3), 0px 1px 3px 1px rgba(60, 64, 67, 0.15);\n",
              "      fill: #174EA6;\n",
              "    }\n",
              "\n",
              "    [theme=dark] .colab-df-convert {\n",
              "      background-color: #3B4455;\n",
              "      fill: #D2E3FC;\n",
              "    }\n",
              "\n",
              "    [theme=dark] .colab-df-convert:hover {\n",
              "      background-color: #434B5C;\n",
              "      box-shadow: 0px 1px 3px 1px rgba(0, 0, 0, 0.15);\n",
              "      filter: drop-shadow(0px 1px 2px rgba(0, 0, 0, 0.3));\n",
              "      fill: #FFFFFF;\n",
              "    }\n",
              "  </style>\n",
              "\n",
              "      <script>\n",
              "        const buttonEl =\n",
              "          document.querySelector('#df-4b9ff879-3755-4884-887d-f75241d4ade3 button.colab-df-convert');\n",
              "        buttonEl.style.display =\n",
              "          google.colab.kernel.accessAllowed ? 'block' : 'none';\n",
              "\n",
              "        async function convertToInteractive(key) {\n",
              "          const element = document.querySelector('#df-4b9ff879-3755-4884-887d-f75241d4ade3');\n",
              "          const dataTable =\n",
              "            await google.colab.kernel.invokeFunction('convertToInteractive',\n",
              "                                                     [key], {});\n",
              "          if (!dataTable) return;\n",
              "\n",
              "          const docLinkHtml = 'Like what you see? Visit the ' +\n",
              "            '<a target=\"_blank\" href=https://colab.research.google.com/notebooks/data_table.ipynb>data table notebook</a>'\n",
              "            + ' to learn more about interactive tables.';\n",
              "          element.innerHTML = '';\n",
              "          dataTable['output_type'] = 'display_data';\n",
              "          await google.colab.output.renderOutput(dataTable, element);\n",
              "          const docLink = document.createElement('div');\n",
              "          docLink.innerHTML = docLinkHtml;\n",
              "          element.appendChild(docLink);\n",
              "        }\n",
              "      </script>\n",
              "    </div>\n",
              "  </div>\n",
              "  "
            ]
          },
          "metadata": {},
          "execution_count": 55
        }
      ]
    },
    {
      "cell_type": "code",
      "source": [
        "fig, ax = plt.subplots(1,2, figsize=(20,6))\n",
        "\n",
        "sns.heatmap(pivoted_results.mean_train_score, annot = True, fmt='.4g',  ax = ax[0]) \n",
        "sns.heatmap(pivoted_results.mean_test_score,  annot = True, fmt='.4g',  ax = ax[1])\n",
        "\n",
        "ax[0].set_title('Train')\n",
        "ax[1].set_title('CV')\n",
        "\n",
        "plt.show()"
      ],
      "metadata": {
        "colab": {
          "base_uri": "https://localhost:8080/",
          "height": 405
        },
        "id": "PQS8l1mP52-R",
        "outputId": "f786bcab-4e56-4217-a8a6-bba266d742f5"
      },
      "execution_count": 56,
      "outputs": [
        {
          "output_type": "display_data",
          "data": {
            "text/plain": [
              "<Figure size 1440x432 with 4 Axes>"
            ],
            "image/png": "[encoded data removed]"
          },
          "metadata": {
            "needs_background": "light"
          }
        }
      ]
    },
    {
      "cell_type": "markdown",
      "source": [
        "* here we can see that increasing the n_estimators also increasing the overfiting, so we will take minimum number of estimators which is giving the same performance on test data  \n"
      ],
      "metadata": {
        "id": "YRqCS293Sm43"
      }
    },
    {
      "cell_type": "code",
      "source": [
        "print('Best ROC-AUC score: ',clf.best_score_)\n",
        "print('Best Parameter are: ',clf.best_params_)"
      ],
      "metadata": {
        "colab": {
          "base_uri": "https://localhost:8080/"
        },
        "id": "cywiQ1c859h4",
        "outputId": "683060ed-0e5c-46e5-dca7-ed041f366348"
      },
      "execution_count": 61,
      "outputs": [
        {
          "output_type": "stream",
          "name": "stdout",
          "text": [
            "Best ROC-AUC score:  0.7012380390122503\n",
            "Best Parameter are:  {'learning_rate': 0.1, 'n_estimators': 100}\n"
          ]
        }
      ]
    },
    {
      "cell_type": "code",
      "source": [
        "from xgboost import XGBClassifier\n",
        "from sklearn.metrics import roc_curve, auc\n",
        "\n",
        "gbdt = XGBClassifier(n_estimators = 100,max_depth = 3, learning_rate = 0.1,subsample = 0.5,colsample_bytree = 0.5)\n",
        "gbdt.fit(X_tr, y_train)\n",
        "\n",
        "y_train_pred = gbdt.predict_proba(X_tr)[:,1]\n",
        "y_test_pred  = gbdt.predict_proba(X_te)[:,1]\n",
        "\n",
        "train_fpr, train_tpr, tr_thresholds = roc_curve(y_train, y_train_pred)\n",
        "test_fpr,  test_tpr, te_thresholds  = roc_curve(y_test,  y_test_pred)\n",
        "\n",
        "plt.plot(train_fpr, train_tpr, label=\"train AUC =\"+str(auc(train_fpr, train_tpr)))\n",
        "plt.plot(test_fpr, test_tpr,   label=\"test AUC  =\"+str(auc(test_fpr, test_tpr)))\n",
        "\n",
        "plt.legend()\n",
        "\n",
        "plt.xlabel(\"FPR\")\n",
        "plt.ylabel(\"TPR\")\n",
        "\n",
        "plt.title(\"ERROR PLOTS\")\n",
        "\n",
        "plt.grid()\n",
        "plt.show()"
      ],
      "metadata": {
        "colab": {
          "base_uri": "https://localhost:8080/",
          "height": 295
        },
        "id": "kkqaDB3h53Lm",
        "outputId": "ed6fa2bd-2eb9-4ee3-ecf0-4445f0a83d6f"
      },
      "execution_count": 66,
      "outputs": [
        {
          "output_type": "display_data",
          "data": {
            "text/plain": [
              "<Figure size 432x288 with 1 Axes>"
            ],
            "image/png": "[encoded data removed]"
          },
          "metadata": {
            "needs_background": "light"
          }
        }
      ]
    },
    {
      "cell_type": "markdown",
      "source": [
        "* we were able to reduce the overfiting significantly if we compare it with our previous models and moreover we were also able to increase the performance on the test data ."
      ],
      "metadata": {
        "id": "UURVKrB9S-Zg"
      }
    },
    {
      "cell_type": "code",
      "source": [
        "def find_best_threshold(threshold, fpr, tpr):\n",
        "    t = threshold[np.argmax(tpr*(1-fpr))]\n",
        "    # (tpr*(1-fpr)) will be maximum if your fpr is very low and tpr is very high\n",
        "    print(\"the maximum value of tpr*(1-fpr)\", max(tpr*(1-fpr)), \"for threshold\", np.round(t,3))\n",
        "    \n",
        "    return t\n",
        "\n",
        "def predict_with_best_t(proba, threshold):\n",
        "    predictions = []\n",
        "    \n",
        "    for i in proba:\n",
        "        if i>= threshold:\n",
        "            predictions.append(1)\n",
        "        else:\n",
        "            predictions.append(0)\n",
        "    return predictions\n",
        "\n",
        "from sklearn.metrics import confusion_matrix\n",
        "\n",
        "best_t = find_best_threshold(tr_thresholds, train_fpr, train_tpr)"
      ],
      "metadata": {
        "colab": {
          "base_uri": "https://localhost:8080/"
        },
        "id": "s0FbCVif4CuX",
        "outputId": "7f9cac74-a4a6-4208-9434-c8068e420eb8"
      },
      "execution_count": 67,
      "outputs": [
        {
          "output_type": "stream",
          "name": "stdout",
          "text": [
            "the maximum value of tpr*(1-fpr) 0.5235934077311648 for threshold 0.836\n"
          ]
        }
      ]
    },
    {
      "cell_type": "code",
      "source": [
        "# Heatmap for train set confusion matrix()\n",
        "\n",
        "heatmap_train = sns.heatmap(confusion_matrix(y_train, predict_with_best_t(y_train_pred,best_t)), annot = True, fmt = \"d\")\n",
        "\n",
        "plt.title(\"Train set confusion matrix\")\n",
        "\n",
        "plt.xlabel(\"Actual\")\n",
        "plt.ylabel(\"Predicted\")\n",
        "\n",
        "plt.show()\n",
        "\n",
        "# Heatmap for test set confusion matrix()\n",
        "\n",
        "heatmap_test = sns.heatmap(confusion_matrix(y_test, predict_with_best_t(y_test_pred, best_t)), annot = True, fmt = \"d\")\n",
        "\n",
        "plt.title(\"Test set confusion matrix\")\n",
        "\n",
        "plt.xlabel(\"Actual\")\n",
        "plt.ylabel(\"Predicted\")\n",
        "\n",
        "plt.show()"
      ],
      "metadata": {
        "colab": {
          "base_uri": "https://localhost:8080/",
          "height": 573
        },
        "id": "npMPFVHR4F7x",
        "outputId": "9f748d54-5080-477d-d157-6ab9b63c393e"
      },
      "execution_count": 68,
      "outputs": [
        {
          "output_type": "display_data",
          "data": {
            "text/plain": [
              "<Figure size 432x288 with 2 Axes>"
            ],
            "image/png": "[encoded data removed]"
          },
          "metadata": {
            "needs_background": "light"
          }
        },
        {
          "output_type": "display_data",
          "data": {
            "text/plain": [
              "<Figure size 432x288 with 2 Axes>"
            ],
            "image/png": "[encoded data removed]"
          },
          "metadata": {
            "needs_background": "light"
          }
        }
      ]
    },
    {
      "cell_type": "markdown",
      "source": [
        "## Word2vec"
      ],
      "metadata": {
        "id": "HgCXTBfk5CyH"
      }
    },
    {
      "cell_type": "code",
      "source": [
        "from sklearn.feature_extraction.text import TfidfVectorizer\n",
        "\n",
        "vectorizer = TfidfVectorizer(ngram_range = (1, 3),max_features = 6000, min_df = 10)\n",
        "\n",
        "vectorizer.fit(X_train['essay'].values)\n",
        "\n",
        "X_train_essay_tfidf = vectorizer.transform(X_train['essay'].values)\n",
        "X_test_essay_tfidf  = vectorizer.transform(X_test['essay'].values)\n",
        "\n",
        "# we are converting a dictionary with word as a key, and the idf as a value\n",
        "\n",
        "dictionary  = dict(zip(vectorizer.get_feature_names(), list(vectorizer.idf_)))\n",
        "tfidf_words = set(dictionary.keys())"
      ],
      "metadata": {
        "id": "YgD9YG0Z5a4K"
      },
      "execution_count": 69,
      "outputs": []
    },
    {
      "cell_type": "code",
      "source": [
        "with open('/content/drive/MyDrive/Case Studies/Donor Choose/9_Donors_choose_DT/glove_vectors', 'rb') as f:\n",
        "    \n",
        "    model = pickle.load(f)\n",
        "    glove_words =  set(model.keys())"
      ],
      "metadata": {
        "id": "dU6sgyM25vTJ"
      },
      "execution_count": 70,
      "outputs": []
    },
    {
      "cell_type": "code",
      "source": [
        "# 4. perform tfidf w2v vectorization of text data.\n",
        "\n",
        "tfidf_w2v_vectors = []; # the tf-idf weighted word2vec for each sentence/review is stored in this list\n",
        "\n",
        "for sentence in tqdm(X_train['essay'].values): # for each review/sentence\n",
        "\n",
        "    vector = np.zeros(300) # Initializing the vectors with all zeros \n",
        "    tf_idf_weight = 0; # num of words with a valid vector in the sentence/review\n",
        "\n",
        "    for word in sentence.split(): # for each word in a review/sentence\n",
        "        if (word in glove_words) and (word in tfidf_words):\n",
        "            vec = model[word] # getting the vector for each word\n",
        "            # here we are multiplying idf value(dictionary[word]) and the tf value((sentence.count(word)/len(sentence.split())))\n",
        "            tf_idf = dictionary[word]*(sentence.count(word)/len(sentence.split())) # getting the tfidf value for each word\n",
        "            vector += (vec * tf_idf) # calculating tfidf weighted w2v\n",
        "            tf_idf_weight += tf_idf\n",
        "    \n",
        "    if tf_idf_weight != 0:\n",
        "        vector /= tf_idf_weight\n",
        "    tfidf_w2v_vectors.append(vector)\n",
        "\n",
        "print(len(tfidf_w2v_vectors))\n",
        "print(len(tfidf_w2v_vectors[0]))\n",
        "\n",
        "tfidf_w2v_vectors = np.array(tfidf_w2v_vectors)"
      ],
      "metadata": {
        "colab": {
          "base_uri": "https://localhost:8080/"
        },
        "id": "5NbwzEu15jG3",
        "outputId": "3912e504-fb4e-410d-d2b6-cf01c01ba168"
      },
      "execution_count": 71,
      "outputs": [
        {
          "output_type": "stream",
          "name": "stderr",
          "text": [
            "100%|██████████| 23450/23450 [01:30<00:00, 259.16it/s]\n"
          ]
        },
        {
          "output_type": "stream",
          "name": "stdout",
          "text": [
            "23450\n",
            "300\n"
          ]
        }
      ]
    },
    {
      "cell_type": "code",
      "source": [
        "tfidf_w2v_vectors_test = []; # the tf-idf weighted word2vec for each sentence/review is stored in this list\n",
        "\n",
        "for sentence in tqdm(X_test['essay'].values): # for each review/sentence\n",
        "\n",
        "    vector = np.zeros(300) # Initializing the vectors with all zeros \n",
        "    tf_idf_weight = 0; # num of words with a valid vector in the sentence/review\n",
        "\n",
        "    for word in sentence.split(): # for each word in a review/sentence\n",
        "        if (word in glove_words) and (word in tfidf_words):\n",
        "            vec = model[word] # getting the vector for each word\n",
        "            # here we are multiplying idf value(dictionary[word]) and the tf value((sentence.count(word)/len(sentence.split())))\n",
        "            tf_idf = dictionary[word]*(sentence.count(word)/len(sentence.split())) # getting the tfidf value for each word\n",
        "            vector += (vec * tf_idf) # calculating tfidf weighted w2v\n",
        "            tf_idf_weight += tf_idf\n",
        "    \n",
        "    if tf_idf_weight != 0:\n",
        "        vector /= tf_idf_weight\n",
        "    tfidf_w2v_vectors_test.append(vector)\n",
        "\n",
        "print(len(tfidf_w2v_vectors_test))\n",
        "print(len(tfidf_w2v_vectors_test[0]))\n",
        "\n",
        "tfidf_w2v_vectors_test = np.array(tfidf_w2v_vectors_test)"
      ],
      "metadata": {
        "colab": {
          "base_uri": "https://localhost:8080/"
        },
        "id": "w9Y-TwPn5mFq",
        "outputId": "439658d3-f939-4778-db61-dbeb8823da69"
      },
      "execution_count": 72,
      "outputs": [
        {
          "output_type": "stream",
          "name": "stderr",
          "text": [
            "100%|██████████| 11550/11550 [00:36<00:00, 313.99it/s]"
          ]
        },
        {
          "output_type": "stream",
          "name": "stdout",
          "text": [
            "11550\n",
            "300\n"
          ]
        },
        {
          "output_type": "stream",
          "name": "stderr",
          "text": [
            "\n"
          ]
        }
      ]
    },
    {
      "cell_type": "code",
      "source": [
        "from scipy.sparse import  hstack\n",
        "\n",
        "X_tr = hstack((\n",
        "               tfidf_w2v_vectors,\n",
        "               np.array(school_state_pos).reshape(-1,1),np.array(school_state_neg).reshape(-1,1),\n",
        "               np.array(project_grade_pos).reshape(-1,1),np.array(project_grade_neg).reshape(-1,1),\n",
        "               np.array(clean_subcategories_pos).reshape(-1,1),np.array(clean_subcategories_neg).reshape(-1,1),\n",
        "               np.array(clean_categories_pos).reshape(-1,1),np.array(clean_categories_neg).reshape(-1,1),\n",
        "               X_train_price_norm,X_train_projects_posted_norm,\n",
        "               X_train['negative'].values.reshape(-1,1),\n",
        "               X_train['neutral'].values.reshape(-1,1),\n",
        "               X_train['positive'].values.reshape(-1,1),\n",
        "               X_train['compound'].values.reshape(-1,1))).tocsr()\n",
        "\n",
        "X_te = hstack((\n",
        "               tfidf_w2v_vectors_test,\n",
        "               np.array(school_state_pos_te).reshape(-1,1),np.array(school_state_neg_te).reshape(-1,1),\n",
        "               np.array(project_grade_pos_te).reshape(-1,1),np.array(project_grade_neg_te).reshape(-1,1),\n",
        "               np.array(clean_subcategories_pos_te).reshape(-1,1),np.array(clean_subcategories_neg_te).reshape(-1,1),\n",
        "               np.array(clean_categories_pos_te).reshape(-1,1),np.array(clean_categories_neg_te).reshape(-1,1),\n",
        "               X_test_price_norm,X_test_projects_posted_norm,\n",
        "               X_test['negative'].values.reshape(-1,1),\n",
        "               X_test['neutral'].values.reshape(-1,1),\n",
        "               X_test['positive'].values.reshape(-1,1),\n",
        "               X_test['compound'].values.reshape(-1,1))).tocsr()\n",
        "\n",
        "print(\"Final Data matrix\")\n",
        "\n",
        "print(X_tr.shape, y_train.shape)\n",
        "print(X_te.shape, y_test.shape)"
      ],
      "metadata": {
        "colab": {
          "base_uri": "https://localhost:8080/",
          "height": 381
        },
        "id": "JvHJZvnT5ovR",
        "outputId": "9f263c20-2e41-48c1-b349-5dc061ed0c3d"
      },
      "execution_count": 73,
      "outputs": [
        {
          "output_type": "error",
          "ename": "ValueError",
          "evalue": "ignored",
          "traceback": [
            "\u001b[0;31m---------------------------------------------------------------------------\u001b[0m",
            "\u001b[0;31mValueError\u001b[0m                                Traceback (most recent call last)",
            "\u001b[0;32m<ipython-input-73-99f6af6ab307>\u001b[0m in \u001b[0;36m<module>\u001b[0;34m()\u001b[0m\n\u001b[1;32m     11\u001b[0m                \u001b[0mX_train\u001b[0m\u001b[0;34m[\u001b[0m\u001b[0;34m'neutral'\u001b[0m\u001b[0;34m]\u001b[0m\u001b[0;34m.\u001b[0m\u001b[0mvalues\u001b[0m\u001b[0;34m.\u001b[0m\u001b[0mreshape\u001b[0m\u001b[0;34m(\u001b[0m\u001b[0;34m-\u001b[0m\u001b[0;36m1\u001b[0m\u001b[0;34m,\u001b[0m\u001b[0;36m1\u001b[0m\u001b[0;34m)\u001b[0m\u001b[0;34m,\u001b[0m\u001b[0;34m\u001b[0m\u001b[0;34m\u001b[0m\u001b[0m\n\u001b[1;32m     12\u001b[0m                \u001b[0mX_train\u001b[0m\u001b[0;34m[\u001b[0m\u001b[0;34m'positive'\u001b[0m\u001b[0;34m]\u001b[0m\u001b[0;34m.\u001b[0m\u001b[0mvalues\u001b[0m\u001b[0;34m.\u001b[0m\u001b[0mreshape\u001b[0m\u001b[0;34m(\u001b[0m\u001b[0;34m-\u001b[0m\u001b[0;36m1\u001b[0m\u001b[0;34m,\u001b[0m\u001b[0;36m1\u001b[0m\u001b[0;34m)\u001b[0m\u001b[0;34m,\u001b[0m\u001b[0;34m\u001b[0m\u001b[0;34m\u001b[0m\u001b[0m\n\u001b[0;32m---> 13\u001b[0;31m                X_train['compound'].values.reshape(-1,1))).tocsr()\n\u001b[0m\u001b[1;32m     14\u001b[0m \u001b[0;34m\u001b[0m\u001b[0m\n\u001b[1;32m     15\u001b[0m X_te = hstack((\n",
            "\u001b[0;32m/usr/local/lib/python3.7/dist-packages/scipy/sparse/construct.py\u001b[0m in \u001b[0;36mhstack\u001b[0;34m(blocks, format, dtype)\u001b[0m\n\u001b[1;32m    463\u001b[0m \u001b[0;34m\u001b[0m\u001b[0m\n\u001b[1;32m    464\u001b[0m     \"\"\"\n\u001b[0;32m--> 465\u001b[0;31m     \u001b[0;32mreturn\u001b[0m \u001b[0mbmat\u001b[0m\u001b[0;34m(\u001b[0m\u001b[0;34m[\u001b[0m\u001b[0mblocks\u001b[0m\u001b[0;34m]\u001b[0m\u001b[0;34m,\u001b[0m \u001b[0mformat\u001b[0m\u001b[0;34m=\u001b[0m\u001b[0mformat\u001b[0m\u001b[0;34m,\u001b[0m \u001b[0mdtype\u001b[0m\u001b[0;34m=\u001b[0m\u001b[0mdtype\u001b[0m\u001b[0;34m)\u001b[0m\u001b[0;34m\u001b[0m\u001b[0;34m\u001b[0m\u001b[0m\n\u001b[0m\u001b[1;32m    466\u001b[0m \u001b[0;34m\u001b[0m\u001b[0m\n\u001b[1;32m    467\u001b[0m \u001b[0;34m\u001b[0m\u001b[0m\n",
            "\u001b[0;32m/usr/local/lib/python3.7/dist-packages/scipy/sparse/construct.py\u001b[0m in \u001b[0;36mbmat\u001b[0;34m(blocks, format, dtype)\u001b[0m\n\u001b[1;32m    543\u001b[0m     \"\"\"\n\u001b[1;32m    544\u001b[0m \u001b[0;34m\u001b[0m\u001b[0m\n\u001b[0;32m--> 545\u001b[0;31m     \u001b[0mblocks\u001b[0m \u001b[0;34m=\u001b[0m \u001b[0mnp\u001b[0m\u001b[0;34m.\u001b[0m\u001b[0masarray\u001b[0m\u001b[0;34m(\u001b[0m\u001b[0mblocks\u001b[0m\u001b[0;34m,\u001b[0m \u001b[0mdtype\u001b[0m\u001b[0;34m=\u001b[0m\u001b[0;34m'object'\u001b[0m\u001b[0;34m)\u001b[0m\u001b[0;34m\u001b[0m\u001b[0;34m\u001b[0m\u001b[0m\n\u001b[0m\u001b[1;32m    546\u001b[0m \u001b[0;34m\u001b[0m\u001b[0m\n\u001b[1;32m    547\u001b[0m     \u001b[0;32mif\u001b[0m \u001b[0mblocks\u001b[0m\u001b[0;34m.\u001b[0m\u001b[0mndim\u001b[0m \u001b[0;34m!=\u001b[0m \u001b[0;36m2\u001b[0m\u001b[0;34m:\u001b[0m\u001b[0;34m\u001b[0m\u001b[0;34m\u001b[0m\u001b[0m\n",
            "\u001b[0;31mValueError\u001b[0m: could not broadcast input array from shape (23450,300) into shape (23450,)"
          ]
        }
      ]
    },
    {
      "cell_type": "markdown",
      "source": [
        "* the problem is that hstack should contain  atleast one sparse array \n",
        "\n",
        "https://stackoverflow.com/questions/55756294/scipy-sparse-hstack-valueerror-blocks-must-be-2-d\n",
        "\n",
        "* use coo matrix,COO is a fast format for constructing sparse matrices\n",
        "\n",
        "https://docs.scipy.org/doc/scipy/reference/generated/scipy.sparse.coo_matrix.html"
      ],
      "metadata": {
        "id": "WqYW4LmLMTnw"
      }
    },
    {
      "cell_type": "code",
      "source": [
        "from scipy.sparse import coo_matrix\n",
        "\n",
        "X_tr = hstack((\n",
        "               coo_matrix(tfidf_w2v_vectors),\n",
        "               np.array(school_state_pos).reshape(-1,1),np.array(school_state_neg).reshape(-1,1),\n",
        "               np.array(project_grade_pos).reshape(-1,1),np.array(project_grade_neg).reshape(-1,1),\n",
        "               np.array(clean_subcategories_pos).reshape(-1,1),np.array(clean_subcategories_neg).reshape(-1,1),\n",
        "               np.array(clean_categories_pos).reshape(-1,1),np.array(clean_categories_neg).reshape(-1,1),\n",
        "               X_train_price_norm,X_train_projects_posted_norm,\n",
        "               X_train['negative'].values.reshape(-1,1),\n",
        "               X_train['neutral'].values.reshape(-1,1),\n",
        "               X_train['positive'].values.reshape(-1,1),\n",
        "               X_train['compound'].values.reshape(-1,1))).tocsr()\n",
        "\n",
        "X_te = hstack((\n",
        "               coo_matrix(tfidf_w2v_vectors_test),\n",
        "               np.array(school_state_pos_te).reshape(-1,1),np.array(school_state_neg_te).reshape(-1,1),\n",
        "               np.array(project_grade_pos_te).reshape(-1,1),np.array(project_grade_neg_te).reshape(-1,1),\n",
        "               np.array(clean_subcategories_pos_te).reshape(-1,1),np.array(clean_subcategories_neg_te).reshape(-1,1),\n",
        "               np.array(clean_categories_pos_te).reshape(-1,1),np.array(clean_categories_neg_te).reshape(-1,1),\n",
        "               X_test_price_norm,X_test_projects_posted_norm,\n",
        "               X_test['negative'].values.reshape(-1,1),\n",
        "               X_test['neutral'].values.reshape(-1,1),\n",
        "               X_test['positive'].values.reshape(-1,1),\n",
        "               X_test['compound'].values.reshape(-1,1))).tocsr()\n",
        "\n",
        "print(\"Final Data matrix\")\n",
        "\n",
        "print(X_tr.shape, y_train.shape)\n",
        "print(X_te.shape, y_test.shape)"
      ],
      "metadata": {
        "colab": {
          "base_uri": "https://localhost:8080/"
        },
        "id": "AmwlzzYIRhbK",
        "outputId": "675e6d5a-477f-490e-cf9f-aedc7e266bd9"
      },
      "execution_count": 74,
      "outputs": [
        {
          "output_type": "stream",
          "name": "stdout",
          "text": [
            "Final Data matrix\n",
            "(23450, 314) (23450,)\n",
            "(11550, 314) (11550,)\n"
          ]
        }
      ]
    },
    {
      "cell_type": "code",
      "source": [
        "%%time \n",
        "# it will take around 0 minutes also\n",
        "\n",
        "from sklearn.model_selection import GridSearchCV\n",
        "from xgboost import XGBClassifier\n",
        "\n",
        "gbdt = XGBClassifier(max_depth = 3, colsample_bytree = 0.5,subsample = 0.5)\n",
        "\n",
        "grid_params = {'n_estimators': [20,50,80,100], 'learning_rate' : [0.001, 0.01, 0.1, 0.2]}\n",
        " \n",
        "clf = GridSearchCV(gbdt,grid_params ,cv = 2, scoring = 'roc_auc',n_jobs =-1,verbose = 2,return_train_score =  True)\n",
        "clf.fit(X_tr, y_train)  \n",
        "\n",
        "results = pd.DataFrame.from_dict(clf.cv_results_)\n",
        "\n",
        "results.head(3)\n",
        "\n",
        "pivoted_results = results.pivot(index = 'param_n_estimators', columns = 'param_learning_rate')\n",
        "\n",
        "# pivoted_results.head()\n",
        "\n",
        "fig, ax = plt.subplots(1,2, figsize=(20,6))\n",
        "\n",
        "sns.heatmap(pivoted_results.mean_train_score, annot = True, fmt='.4g',  ax = ax[0]) \n",
        "sns.heatmap(pivoted_results.mean_test_score,  annot = True, fmt='.4g',  ax = ax[1])\n",
        "\n",
        "ax[0].set_title('Train')\n",
        "ax[1].set_title('CV')\n",
        "\n",
        "plt.show()"
      ],
      "metadata": {
        "colab": {
          "base_uri": "https://localhost:8080/",
          "height": 457
        },
        "id": "AxGTavvCSZ6D",
        "outputId": "29189eb7-c879-442f-8b4c-ad5ac19abe92"
      },
      "execution_count": 79,
      "outputs": [
        {
          "output_type": "stream",
          "name": "stdout",
          "text": [
            "Fitting 2 folds for each of 16 candidates, totalling 32 fits\n"
          ]
        },
        {
          "output_type": "display_data",
          "data": {
            "text/plain": [
              "<Figure size 1440x432 with 4 Axes>"
            ],
            "image/png": "[encoded data removed]"
          },
          "metadata": {
            "needs_background": "light"
          }
        },
        {
          "output_type": "stream",
          "name": "stdout",
          "text": [
            "CPU times: user 26.9 s, sys: 603 ms, total: 27.5 s\n",
            "Wall time: 5min 37s\n"
          ]
        }
      ]
    },
    {
      "cell_type": "code",
      "source": [
        "print('Best ROC-AUC score: ',clf.best_score_)\n",
        "print('Best Parameter are: ',clf.best_params_)"
      ],
      "metadata": {
        "colab": {
          "base_uri": "https://localhost:8080/"
        },
        "id": "K-U6lnYrSpAd",
        "outputId": "1d9ae69c-e404-46cb-b51f-9e0a3b7e9bf5"
      },
      "execution_count": 80,
      "outputs": [
        {
          "output_type": "stream",
          "name": "stdout",
          "text": [
            "Best ROC-AUC score:  0.6914018287248757\n",
            "Best Parameter are:  {'learning_rate': 0.1, 'n_estimators': 100}\n"
          ]
        }
      ]
    },
    {
      "cell_type": "code",
      "source": [
        "from xgboost import XGBClassifier\n",
        "from sklearn.metrics import roc_curve, auc\n",
        "\n",
        "gbdt = XGBClassifier(n_estimators = 80,max_depth = 3, colsample_bytree = 0.5,subsample = 0.5)\n",
        "gbdt.fit(X_tr, y_train)\n",
        "\n",
        "y_train_pred = gbdt.predict_proba(X_tr)[:,1]\n",
        "y_test_pred  = gbdt.predict_proba(X_te)[:,1]\n",
        "\n",
        "train_fpr, train_tpr, tr_thresholds = roc_curve(y_train, y_train_pred)\n",
        "test_fpr,  test_tpr, te_thresholds  = roc_curve(y_test,  y_test_pred)\n",
        "\n",
        "plt.plot(train_fpr, train_tpr, label=\"train AUC =\"+str(auc(train_fpr, train_tpr)))\n",
        "plt.plot(test_fpr, test_tpr,   label=\"test AUC  =\"+str(auc(test_fpr, test_tpr)))\n",
        "\n",
        "plt.legend()\n",
        "\n",
        "plt.xlabel(\"FPR\")\n",
        "plt.ylabel(\"TPR\")\n",
        "\n",
        "plt.title(\"ERROR PLOTS\")\n",
        "\n",
        "plt.grid()\n",
        "plt.show()"
      ],
      "metadata": {
        "colab": {
          "base_uri": "https://localhost:8080/",
          "height": 295
        },
        "id": "RuB_zlv_Sq0n",
        "outputId": "7967a9a6-4e2d-4673-9dcb-ccdb2b4e7b03"
      },
      "execution_count": 81,
      "outputs": [
        {
          "output_type": "display_data",
          "data": {
            "text/plain": [
              "<Figure size 432x288 with 1 Axes>"
            ],
            "image/png": "[encoded data removed]"
          },
          "metadata": {
            "needs_background": "light"
          }
        }
      ]
    },
    {
      "cell_type": "code",
      "source": [
        "def find_best_threshold(threshold, fpr, tpr):\n",
        "    t = threshold[np.argmax(tpr*(1-fpr))]\n",
        "    # (tpr*(1-fpr)) will be maximum if your fpr is very low and tpr is very high\n",
        "    print(\"the maximum value of tpr*(1-fpr)\", max(tpr*(1-fpr)), \"for threshold\", np.round(t,3))\n",
        "    \n",
        "    return t\n",
        "\n",
        "def predict_with_best_t(proba, threshold):\n",
        "    predictions = []\n",
        "    \n",
        "    for i in proba:\n",
        "        if i>= threshold:\n",
        "            predictions.append(1)\n",
        "        else:\n",
        "            predictions.append(0)\n",
        "    return predictions\n",
        "\n",
        "from sklearn.metrics import confusion_matrix\n",
        "\n",
        "best_t = find_best_threshold(tr_thresholds, train_fpr, train_tpr)"
      ],
      "metadata": {
        "colab": {
          "base_uri": "https://localhost:8080/"
        },
        "id": "EZSFKsvBSsdI",
        "outputId": "9f7640c9-9eda-4e2f-b228-4608f145b018"
      },
      "execution_count": 82,
      "outputs": [
        {
          "output_type": "stream",
          "name": "stdout",
          "text": [
            "the maximum value of tpr*(1-fpr) 0.495656631904913 for threshold 0.832\n"
          ]
        }
      ]
    },
    {
      "cell_type": "code",
      "source": [
        "# Heatmap for train set confusion matrix()\n",
        "\n",
        "heatmap_train = sns.heatmap(confusion_matrix(y_train, predict_with_best_t(y_train_pred,best_t)), annot = True, fmt = \"d\")\n",
        "\n",
        "plt.title(\"Train set confusion matrix\")\n",
        "\n",
        "plt.xlabel(\"Actual\")\n",
        "plt.ylabel(\"Predicted\")\n",
        "\n",
        "plt.show()\n",
        "\n",
        "# Heatmap for test set confusion matrix()\n",
        "\n",
        "heatmap_test = sns.heatmap(confusion_matrix(y_test, predict_with_best_t(y_test_pred, best_t)), annot = True, fmt = \"d\")\n",
        "\n",
        "plt.title(\"Test set confusion matrix\")\n",
        "\n",
        "plt.xlabel(\"Actual\")\n",
        "plt.ylabel(\"Predicted\")\n",
        "\n",
        "plt.show()"
      ],
      "metadata": {
        "colab": {
          "base_uri": "https://localhost:8080/",
          "height": 573
        },
        "id": "EgevQ_9HSuNv",
        "outputId": "13804984-44cc-4351-821f-a913b26142c2"
      },
      "execution_count": 83,
      "outputs": [
        {
          "output_type": "display_data",
          "data": {
            "text/plain": [
              "<Figure size 432x288 with 2 Axes>"
            ],
            "image/png": "[encoded data removed]"
          },
          "metadata": {
            "needs_background": "light"
          }
        },
        {
          "output_type": "display_data",
          "data": {
            "text/plain": [
              "<Figure size 432x288 with 2 Axes>"
            ],
            "image/png": "[encoded data removed]"
          },
          "metadata": {
            "needs_background": "light"
          }
        }
      ]
    },
    {
      "cell_type": "markdown",
      "metadata": {
        "id": "YhFN-lDWsc4G"
      },
      "source": [
        "<h1>3. Summary</h1>\n",
        "\n",
        "<br> as mentioned in the step 4 of instructions"
      ]
    },
    {
      "cell_type": "code",
      "source": [
        "from prettytable import PrettyTable\n",
        "    \n",
        "x = PrettyTable()\n",
        "x.field_names = [\"Vectorizer\", \"Model\",\"Max Depth\", \"n_estimators\",\"Learning Rate\", \"Train-AUC\",'Test-AUC']\n",
        "\n",
        "x.add_row([\"TF-IDf\", \"XGBOOST\",7, 100,'default',1.0,0.6196])\n",
        "x.add_row([\"TF-IDf\", \"XGBOOST\",3, 100,'0.1', 0.79,0.71])\n",
        "\n",
        "x.add_row([\"TF-IDF weighted word2vec\", \"XGBOOST\",  13, 150,'default', 1.0,0.6211])\n",
        "x.add_row([\"TF-IDF weighted word2vec\", \"XGBOOST\",  3, 80,'0.1', 0.77,0.72])\n",
        "\n",
        "print(x)"
      ],
      "metadata": {
        "colab": {
          "base_uri": "https://localhost:8080/"
        },
        "id": "zrJ4kJvxVZz7",
        "outputId": "f18aa927-2aa3-44da-87f1-7bb143416eb9"
      },
      "execution_count": 88,
      "outputs": [
        {
          "output_type": "stream",
          "name": "stdout",
          "text": [
            "+--------------------------+---------+-----------+--------------+---------------+-----------+----------+\n",
            "|        Vectorizer        |  Model  | Max Depth | n_estimators | Learning Rate | Train-AUC | Test-AUC |\n",
            "+--------------------------+---------+-----------+--------------+---------------+-----------+----------+\n",
            "|          TF-IDf          | XGBOOST |     7     |     100      |    default    |    1.0    |  0.6196  |\n",
            "|          TF-IDf          | XGBOOST |     3     |     100      |      0.1      |    0.79   |   0.71   |\n",
            "| TF-IDF weighted word2vec | XGBOOST |     13    |     150      |    default    |    1.0    |  0.6211  |\n",
            "| TF-IDF weighted word2vec | XGBOOST |     3     |      80      |      0.1      |    0.77   |   0.72   |\n",
            "+--------------------------+---------+-----------+--------------+---------------+-----------+----------+\n"
          ]
        }
      ]
    },
    {
      "cell_type": "code",
      "source": [
        ""
      ],
      "metadata": {
        "id": "1gd_j-l-dnlo"
      },
      "execution_count": null,
      "outputs": []
    }
  ],
  "metadata": {
    "colab": {
      "collapsed_sections": [],
      "name": "Donor choose GBDT_Instructions.ipynb",
      "provenance": []
    },
    "kernelspec": {
      "display_name": "Python 3",
      "language": "python",
      "name": "python3"
    },
    "language_info": {
      "codemirror_mode": {
        "name": "ipython",
        "version": 3
      },
      "file_extension": ".py",
      "mimetype": "text/x-python",
      "name": "python",
      "nbconvert_exporter": "python",
      "pygments_lexer": "ipython3",
      "version": "3.6.3"
    },
    "accelerator": "GPU"
  },
  "nbformat": 4,
  "nbformat_minor": 0
}