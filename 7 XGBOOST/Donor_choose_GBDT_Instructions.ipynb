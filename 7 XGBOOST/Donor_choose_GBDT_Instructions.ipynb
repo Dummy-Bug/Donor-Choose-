{
  "cells": [
    {
      "cell_type": "markdown",
      "metadata": {
        "id": "8wqapAXjsc24"
      },
      "source": [
        "# Assignment 9: GBDT"
      ]
    },
    {
      "cell_type": "markdown",
      "metadata": {
        "id": "8u5NhbnEsc2-"
      },
      "source": [
        "#### Response Coding: Example"
      ]
    },
    {
      "cell_type": "markdown",
      "metadata": {
        "id": "HIFWmwHKsc3A"
      },
      "source": [
        "<img src='http://i.imgur.com/TufZptV.jpg' width=700px>\n",
        "\n",
        "> The response tabel is built only on train dataset.\n",
        "> For a category which is not there in train data and present in test data, we will encode them with default values\n",
        "Ex: in our test data if have State: D then we encode it as [0.5, 0.05]"
      ]
    },
    {
      "cell_type": "code",
      "execution_count": null,
      "metadata": {
        "id": "Lg0Liqyr9nGS"
      },
      "outputs": [],
      "source": [
        ""
      ]
    },
    {
      "cell_type": "code",
      "execution_count": null,
      "metadata": {
        "id": "bASXj1XE9nGT"
      },
      "outputs": [],
      "source": [
        ""
      ]
    },
    {
      "cell_type": "markdown",
      "metadata": {
        "id": "3KwfGufDsc3D"
      },
      "source": [
        "<ol>\n",
        "    <li><strong>Apply GBDT on these feature sets</strong>\n",
        "        <ul>\n",
        "            <li><font color='red'>Set 1</font>: categorical(instead of one hot encoding, try <a href='https://www.appliedaicourse.com/course/applied-ai-course-online/lessons/handling-categorical-and-numerical-features/'>response coding</a>: use probability values), numerical features + project_title(TFIDF)+  preprocessed_eassay (TFIDF)+sentiment Score of eassay(check the bellow example, include all 4 values as 4 features)</li>\n",
        "            <li><font color='red'>Set 2</font>: categorical(instead of one hot encoding, try <a href='https://www.appliedaicourse.com/course/applied-ai-course-online/lessons/handling-categorical-and-numerical-features/'>response coding</a>: use probability values), numerical features + project_title(TFIDF W2V)+  preprocessed_eassay (TFIDF W2V)</li>        \n",
        "    </li>\n",
        "    <li> Here in response encoding you need to apply the <strong>laplase smoothing</strong> value for test set. Laplase smoothing means, If test point is present in test but not in train then you need to apply default 0.5 as probability value for that data point (Refer the Response Encoding Image from above cell) </li>\n",
        "    <li>Please use atleast <strong> 35k </strong> data points </li></ul>\n",
        "    <li><strong>The hyper paramter tuning (Consider any two hyper parameters)</strong>\n",
        "        <ul>\n",
        "    <li>Find the best hyper parameter which will give the maximum <a href='https://www.appliedaicourse.com/course/applied-ai-course-online/lessons/receiver-operating-characteristic-curve-roc-curve-and-auc-1/'>AUC</a> value</li>\n",
        "    <li>find the best hyper paramter using k-fold cross validation/simple cross validation data</li>\n",
        "    <li>use gridsearch cv or randomsearch cv or you can write your own for loops to do this task</li>\n",
        "        </ul>\n",
        "    </li>\n",
        "    <li>\n",
        "    <strong>Representation of results</strong>\n",
        "        <ul>\n",
        "    <li>You need to plot the performance of model both on train data and cross validation data for each hyper parameter, like shown in the figure\n",
        "    <img src='https://i.imgur.com/Gp2DQmh.jpg' width=500px> with X-axis as <strong>n_estimators</strong>, Y-axis as <strong>max_depth</strong>, and Z-axis as <strong>AUC Score</strong> , we have given the notebook which explains how to plot this 3d plot, you can find it in the same drive <i>3d_scatter_plot.ipynb</i></li>\n",
        "            <p style=\"text-align:center;font-size:30px;color:red;\"><strong>or</strong></p> <br>\n",
        "    <li>You need to plot the performance of model both on train data and cross validation data for each hyper parameter, like shown in the figure\n",
        "    <img src='https://i.imgur.com/fgN9aUP.jpg' width=300px> <a href='https://seaborn.pydata.org/generated/seaborn.heatmap.html'>seaborn heat maps</a> with rows as <strong>n_estimators</strong>, columns as <strong>max_depth</strong>, and values inside the cell representing <strong>AUC Score</strong> </li>\n",
        "    <li>You choose either of the plotting techniques out of 3d plot or heat map</li>\n",
        "    <li>Once after you found the best hyper parameter, you need to train your model with it, and find the AUC on test data and plot the ROC curve on both train and test.\n",
        "        Make sure that you are using predict_proba method to calculate AUC curves, because AUC is calcualted on class probabilities and not on class labels.\n",
        "    <img src='https://i.imgur.com/wMQDTFe.jpg' width=300px></li>\n",
        "    <li>Along with plotting ROC curve, you need to print the <a href='https://www.appliedaicourse.com/course/applied-ai-course-online/lessons/confusion-matrix-tpr-fpr-fnr-tnr-1/'>confusion matrix</a> with predicted and original labels of test data points\n",
        "    <img src='https://i.imgur.com/IdN5Ctv.png' width=300px></li>\n",
        "            </ul>\n",
        "    <br>\n",
        "    <li>You need to summarize the results at the end of the notebook, summarize it in the table format\n",
        "        <img src='http://i.imgur.com/YVpIGGE.jpg' width=400px>\n",
        "    </li>\n",
        "</ol>"
      ]
    },
    {
      "cell_type": "markdown",
      "metadata": {
        "id": "voa8zHCR9nGV"
      },
      "source": [
        "# Few Notes"
      ]
    },
    {
      "cell_type": "markdown",
      "metadata": {
        "id": "etOvVcMZ9nGW"
      },
      "source": [
        "1. Use atleast 35k data points\n",
        "2. Use classifier.Predict_proba() method instead of predict() method while calculating roc_auc scores\n",
        "3. Be sure that you are using laplase smoothing in response encoding function. Laplase smoothing means applying the default (0.5) value to test data if the test data is not present in the train set\n"
      ]
    },
    {
      "cell_type": "code",
      "source": [
        "%matplotlib inline\n",
        "import warnings\n",
        "warnings.filterwarnings(\"ignore\")\n",
        "\n",
        "import pandas as pd\n",
        "import numpy as np\n",
        "import nltk\n",
        "import matplotlib.pyplot as plt\n",
        "import seaborn as sns\n",
        "from sklearn.feature_extraction.text import TfidfVectorizer\n",
        "from sklearn.feature_extraction.text import CountVectorizer\n",
        "from sklearn.metrics import confusion_matrix\n",
        "from sklearn import metrics\n",
        "from sklearn.metrics import roc_curve, auc\n",
        "\n",
        "import re\n",
        "# Tutorial about Python regular expressions: https://pymotw.com/2/re/\n",
        "\n",
        "import pickle\n",
        "from tqdm import tqdm\n",
        "import os\n",
        "\n",
        "from collections import Counter\n",
        "import math"
      ],
      "metadata": {
        "id": "Vs7i-h2tEsYX"
      },
      "execution_count": 1,
      "outputs": []
    },
    {
      "cell_type": "code",
      "source": [
        "import nltk\n",
        "nltk.download('vader_lexicon')"
      ],
      "metadata": {
        "id": "8jqs-orG-5y7",
        "outputId": "efa38418-4e70-4045-fd3a-264ff49cd8ff",
        "colab": {
          "base_uri": "https://localhost:8080/"
        }
      },
      "execution_count": 2,
      "outputs": [
        {
          "output_type": "stream",
          "name": "stdout",
          "text": [
            "[nltk_data] Downloading package vader_lexicon to /root/nltk_data...\n"
          ]
        },
        {
          "output_type": "execute_result",
          "data": {
            "text/plain": [
              "True"
            ]
          },
          "metadata": {},
          "execution_count": 2
        }
      ]
    },
    {
      "cell_type": "code",
      "execution_count": 3,
      "metadata": {
        "colab": {
          "base_uri": "https://localhost:8080/"
        },
        "id": "iffa2_WGsc3H",
        "outputId": "1c5aac65-7f24-4371-9665-ea002abc4017"
      },
      "outputs": [
        {
          "output_type": "stream",
          "name": "stdout",
          "text": [
            "sentiment score for sentence 1 {'neg': 0.0, 'neu': 0.213, 'pos': 0.787, 'compound': 0.5719}\n",
            "sentiment score for sentence 2 {'neg': 0.756, 'neu': 0.244, 'pos': 0.0, 'compound': -0.4767}\n",
            "sentiment score for sentence 3 {'neg': 0.0, 'neu': 1.0, 'pos': 0.0, 'compound': 0.0}\n"
          ]
        }
      ],
      "source": [
        "import nltk\n",
        "from nltk.sentiment.vader import SentimentIntensityAnalyzer\n",
        "\n",
        "sid = SentimentIntensityAnalyzer()\n",
        "\n",
        "sample_sentence_1='I am happy.'\n",
        "ss_1 = sid.polarity_scores(sample_sentence_1)\n",
        "print('sentiment score for sentence 1',ss_1)\n",
        "\n",
        "sample_sentence_2='I am sad.'\n",
        "ss_2 = sid.polarity_scores(sample_sentence_2)\n",
        "print('sentiment score for sentence 2',ss_2)\n",
        "\n",
        "sample_sentence_3='I am going to New Delhi tommorow.'\n",
        "ss_3 = sid.polarity_scores(sample_sentence_3)\n",
        "print('sentiment score for sentence 3',ss_3)\n"
      ]
    },
    {
      "cell_type": "markdown",
      "metadata": {
        "id": "BOyTl7oKsc3W"
      },
      "source": [
        "<h1>1. GBDT (xgboost/lightgbm) </h1>"
      ]
    },
    {
      "cell_type": "markdown",
      "metadata": {
        "id": "VWge-b2Zsc3Z"
      },
      "source": [
        "## 1.1 Loading Data"
      ]
    },
    {
      "cell_type": "code",
      "source": [
        "from google.colab import drive\n",
        "drive.mount('/content/drive')"
      ],
      "metadata": {
        "id": "wDwr0gjA_SXF",
        "outputId": "13218d5b-73c0-4046-e70c-065b9914b3f0",
        "colab": {
          "base_uri": "https://localhost:8080/"
        }
      },
      "execution_count": 4,
      "outputs": [
        {
          "output_type": "stream",
          "name": "stdout",
          "text": [
            "Mounted at /content/drive\n"
          ]
        }
      ]
    },
    {
      "cell_type": "code",
      "execution_count": 5,
      "metadata": {
        "id": "WDZFu6-usc3d"
      },
      "outputs": [],
      "source": [
        "import pandas\n",
        "data = pandas.read_csv('/content/drive/MyDrive/Case Studies/Donor Choose/6_Donors_choose_NB/preprocessed_data.csv',nrows = 35000)"
      ]
    },
    {
      "cell_type": "code",
      "source": [
        "print(data.shape)\n",
        "\n",
        "data.head(2)"
      ],
      "metadata": {
        "id": "gEovcySMDGG5",
        "outputId": "ece4132b-4e99-4cbc-f4b6-b3fd8b9c48ea",
        "colab": {
          "base_uri": "https://localhost:8080/",
          "height": 349
        }
      },
      "execution_count": 6,
      "outputs": [
        {
          "output_type": "stream",
          "name": "stdout",
          "text": [
            "(35000, 9)\n"
          ]
        },
        {
          "output_type": "execute_result",
          "data": {
            "text/plain": [
              "  school_state teacher_prefix project_grade_category  \\\n",
              "0           ca            mrs          grades_prek_2   \n",
              "1           ut             ms             grades_3_5   \n",
              "\n",
              "   teacher_number_of_previously_posted_projects  project_is_approved  \\\n",
              "0                                            53                    1   \n",
              "1                                             4                    1   \n",
              "\n",
              "  clean_categories                 clean_subcategories  \\\n",
              "0     math_science  appliedsciences health_lifescience   \n",
              "1     specialneeds                        specialneeds   \n",
              "\n",
              "                                               essay   price  \n",
              "0  i fortunate enough use fairy tale stem kits cl...  725.05  \n",
              "1  imagine 8 9 years old you third grade classroo...  213.03  "
            ],
            "text/html": [
              "\n",
              "  <div id=\"df-c38469ef-2206-4e52-85e6-611ad497b084\">\n",
              "    <div class=\"colab-df-container\">\n",
              "      <div>\n",
              "<style scoped>\n",
              "    .dataframe tbody tr th:only-of-type {\n",
              "        vertical-align: middle;\n",
              "    }\n",
              "\n",
              "    .dataframe tbody tr th {\n",
              "        vertical-align: top;\n",
              "    }\n",
              "\n",
              "    .dataframe thead th {\n",
              "        text-align: right;\n",
              "    }\n",
              "</style>\n",
              "<table border=\"1\" class=\"dataframe\">\n",
              "  <thead>\n",
              "    <tr style=\"text-align: right;\">\n",
              "      <th></th>\n",
              "      <th>school_state</th>\n",
              "      <th>teacher_prefix</th>\n",
              "      <th>project_grade_category</th>\n",
              "      <th>teacher_number_of_previously_posted_projects</th>\n",
              "      <th>project_is_approved</th>\n",
              "      <th>clean_categories</th>\n",
              "      <th>clean_subcategories</th>\n",
              "      <th>essay</th>\n",
              "      <th>price</th>\n",
              "    </tr>\n",
              "  </thead>\n",
              "  <tbody>\n",
              "    <tr>\n",
              "      <th>0</th>\n",
              "      <td>ca</td>\n",
              "      <td>mrs</td>\n",
              "      <td>grades_prek_2</td>\n",
              "      <td>53</td>\n",
              "      <td>1</td>\n",
              "      <td>math_science</td>\n",
              "      <td>appliedsciences health_lifescience</td>\n",
              "      <td>i fortunate enough use fairy tale stem kits cl...</td>\n",
              "      <td>725.05</td>\n",
              "    </tr>\n",
              "    <tr>\n",
              "      <th>1</th>\n",
              "      <td>ut</td>\n",
              "      <td>ms</td>\n",
              "      <td>grades_3_5</td>\n",
              "      <td>4</td>\n",
              "      <td>1</td>\n",
              "      <td>specialneeds</td>\n",
              "      <td>specialneeds</td>\n",
              "      <td>imagine 8 9 years old you third grade classroo...</td>\n",
              "      <td>213.03</td>\n",
              "    </tr>\n",
              "  </tbody>\n",
              "</table>\n",
              "</div>\n",
              "      <button class=\"colab-df-convert\" onclick=\"convertToInteractive('df-c38469ef-2206-4e52-85e6-611ad497b084')\"\n",
              "              title=\"Convert this dataframe to an interactive table.\"\n",
              "              style=\"display:none;\">\n",
              "        \n",
              "  <svg xmlns=\"http://www.w3.org/2000/svg\" height=\"24px\"viewBox=\"0 0 24 24\"\n",
              "       width=\"24px\">\n",
              "    <path d=\"M0 0h24v24H0V0z\" fill=\"none\"/>\n",
              "    <path d=\"M18.56 5.44l.94 2.06.94-2.06 2.06-.94-2.06-.94-.94-2.06-.94 2.06-2.06.94zm-11 1L8.5 8.5l.94-2.06 2.06-.94-2.06-.94L8.5 2.5l-.94 2.06-2.06.94zm10 10l.94 2.06.94-2.06 2.06-.94-2.06-.94-.94-2.06-.94 2.06-2.06.94z\"/><path d=\"M17.41 7.96l-1.37-1.37c-.4-.4-.92-.59-1.43-.59-.52 0-1.04.2-1.43.59L10.3 9.45l-7.72 7.72c-.78.78-.78 2.05 0 2.83L4 21.41c.39.39.9.59 1.41.59.51 0 1.02-.2 1.41-.59l7.78-7.78 2.81-2.81c.8-.78.8-2.07 0-2.86zM5.41 20L4 18.59l7.72-7.72 1.47 1.35L5.41 20z\"/>\n",
              "  </svg>\n",
              "      </button>\n",
              "      \n",
              "  <style>\n",
              "    .colab-df-container {\n",
              "      display:flex;\n",
              "      flex-wrap:wrap;\n",
              "      gap: 12px;\n",
              "    }\n",
              "\n",
              "    .colab-df-convert {\n",
              "      background-color: #E8F0FE;\n",
              "      border: none;\n",
              "      border-radius: 50%;\n",
              "      cursor: pointer;\n",
              "      display: none;\n",
              "      fill: #1967D2;\n",
              "      height: 32px;\n",
              "      padding: 0 0 0 0;\n",
              "      width: 32px;\n",
              "    }\n",
              "\n",
              "    .colab-df-convert:hover {\n",
              "      background-color: #E2EBFA;\n",
              "      box-shadow: 0px 1px 2px rgba(60, 64, 67, 0.3), 0px 1px 3px 1px rgba(60, 64, 67, 0.15);\n",
              "      fill: #174EA6;\n",
              "    }\n",
              "\n",
              "    [theme=dark] .colab-df-convert {\n",
              "      background-color: #3B4455;\n",
              "      fill: #D2E3FC;\n",
              "    }\n",
              "\n",
              "    [theme=dark] .colab-df-convert:hover {\n",
              "      background-color: #434B5C;\n",
              "      box-shadow: 0px 1px 3px 1px rgba(0, 0, 0, 0.15);\n",
              "      filter: drop-shadow(0px 1px 2px rgba(0, 0, 0, 0.3));\n",
              "      fill: #FFFFFF;\n",
              "    }\n",
              "  </style>\n",
              "\n",
              "      <script>\n",
              "        const buttonEl =\n",
              "          document.querySelector('#df-c38469ef-2206-4e52-85e6-611ad497b084 button.colab-df-convert');\n",
              "        buttonEl.style.display =\n",
              "          google.colab.kernel.accessAllowed ? 'block' : 'none';\n",
              "\n",
              "        async function convertToInteractive(key) {\n",
              "          const element = document.querySelector('#df-c38469ef-2206-4e52-85e6-611ad497b084');\n",
              "          const dataTable =\n",
              "            await google.colab.kernel.invokeFunction('convertToInteractive',\n",
              "                                                     [key], {});\n",
              "          if (!dataTable) return;\n",
              "\n",
              "          const docLinkHtml = 'Like what you see? Visit the ' +\n",
              "            '<a target=\"_blank\" href=https://colab.research.google.com/notebooks/data_table.ipynb>data table notebook</a>'\n",
              "            + ' to learn more about interactive tables.';\n",
              "          element.innerHTML = '';\n",
              "          dataTable['output_type'] = 'display_data';\n",
              "          await google.colab.output.renderOutput(dataTable, element);\n",
              "          const docLink = document.createElement('div');\n",
              "          docLink.innerHTML = docLinkHtml;\n",
              "          element.appendChild(docLink);\n",
              "        }\n",
              "      </script>\n",
              "    </div>\n",
              "  </div>\n",
              "  "
            ]
          },
          "metadata": {},
          "execution_count": 6
        }
      ]
    },
    {
      "cell_type": "code",
      "source": [
        "def get_sentiment_scores(sentence):\n",
        "\n",
        "  sid = SentimentIntensityAnalyzer()\n",
        "\n",
        "  sentiment_score = []\n",
        "\n",
        "  scores = sid.polarity_scores(sentence)\n",
        "  \n",
        "  sentiment_score.append(scores['neg'])\n",
        "  sentiment_score.append(scores['neu'])\n",
        "  sentiment_score.append(scores['pos'])\n",
        "  sentiment_score.append(scores['compound'])\n",
        "  \n",
        "  return sentiment_score"
      ],
      "metadata": {
        "id": "d3DWPuDVDzmT"
      },
      "execution_count": 7,
      "outputs": []
    },
    {
      "cell_type": "code",
      "source": [
        "%%time \n",
        "\n",
        "score_list = []\n",
        "\n",
        "# it will take around 7 min to get the score of 35k points \n",
        "scores     = data.apply(lambda x:get_sentiment_scores(x[\"essay\"]), axis = 1)"
      ],
      "metadata": {
        "id": "Y52G8bPkDzyy",
        "outputId": "ef07e4b7-9ed6-4c10-c4c9-323acf5d7da6",
        "colab": {
          "base_uri": "https://localhost:8080/"
        }
      },
      "execution_count": 8,
      "outputs": [
        {
          "output_type": "stream",
          "name": "stdout",
          "text": [
            "CPU times: user 5min 56s, sys: 1.63 s, total: 5min 58s\n",
            "Wall time: 6min 29s\n"
          ]
        }
      ]
    },
    {
      "cell_type": "code",
      "source": [
        "for lists in tqdm(scores):\n",
        "  score_list.append(lists)\n",
        "\n",
        "df = pd.DataFrame(score_list)\n",
        "df.columns = ['negative','neutral','positive','compound']\n",
        "\n",
        "frames = [data,df]\n",
        "\n",
        "# https://pandas.pydata.org/pandas-docs/stable/user_guide/merging.html \n",
        "\n",
        "final_data = pd.concat(frames,axis = 1)\n",
        "\n",
        "print(final_data.shape)\n",
        "final_data.head(2)"
      ],
      "metadata": {
        "id": "xfNgL5ANEPo8",
        "outputId": "bcd51f3a-6598-4937-9b82-0a9976caf794",
        "colab": {
          "base_uri": "https://localhost:8080/",
          "height": 367
        }
      },
      "execution_count": 9,
      "outputs": [
        {
          "output_type": "stream",
          "name": "stderr",
          "text": [
            "100%|██████████| 35000/35000 [00:00<00:00, 1500906.27it/s]"
          ]
        },
        {
          "output_type": "stream",
          "name": "stdout",
          "text": [
            "(35000, 13)\n"
          ]
        },
        {
          "output_type": "stream",
          "name": "stderr",
          "text": [
            "\n"
          ]
        },
        {
          "output_type": "execute_result",
          "data": {
            "text/plain": [
              "  school_state teacher_prefix project_grade_category  \\\n",
              "0           ca            mrs          grades_prek_2   \n",
              "1           ut             ms             grades_3_5   \n",
              "\n",
              "   teacher_number_of_previously_posted_projects  project_is_approved  \\\n",
              "0                                            53                    1   \n",
              "1                                             4                    1   \n",
              "\n",
              "  clean_categories                 clean_subcategories  \\\n",
              "0     math_science  appliedsciences health_lifescience   \n",
              "1     specialneeds                        specialneeds   \n",
              "\n",
              "                                               essay   price  negative  \\\n",
              "0  i fortunate enough use fairy tale stem kits cl...  725.05     0.013   \n",
              "1  imagine 8 9 years old you third grade classroo...  213.03     0.072   \n",
              "\n",
              "   neutral  positive  compound  \n",
              "0    0.783     0.205    0.9867  \n",
              "1    0.680     0.248    0.9897  "
            ],
            "text/html": [
              "\n",
              "  <div id=\"df-d4693dd2-b255-48de-a8ec-f6f70433572e\">\n",
              "    <div class=\"colab-df-container\">\n",
              "      <div>\n",
              "<style scoped>\n",
              "    .dataframe tbody tr th:only-of-type {\n",
              "        vertical-align: middle;\n",
              "    }\n",
              "\n",
              "    .dataframe tbody tr th {\n",
              "        vertical-align: top;\n",
              "    }\n",
              "\n",
              "    .dataframe thead th {\n",
              "        text-align: right;\n",
              "    }\n",
              "</style>\n",
              "<table border=\"1\" class=\"dataframe\">\n",
              "  <thead>\n",
              "    <tr style=\"text-align: right;\">\n",
              "      <th></th>\n",
              "      <th>school_state</th>\n",
              "      <th>teacher_prefix</th>\n",
              "      <th>project_grade_category</th>\n",
              "      <th>teacher_number_of_previously_posted_projects</th>\n",
              "      <th>project_is_approved</th>\n",
              "      <th>clean_categories</th>\n",
              "      <th>clean_subcategories</th>\n",
              "      <th>essay</th>\n",
              "      <th>price</th>\n",
              "      <th>negative</th>\n",
              "      <th>neutral</th>\n",
              "      <th>positive</th>\n",
              "      <th>compound</th>\n",
              "    </tr>\n",
              "  </thead>\n",
              "  <tbody>\n",
              "    <tr>\n",
              "      <th>0</th>\n",
              "      <td>ca</td>\n",
              "      <td>mrs</td>\n",
              "      <td>grades_prek_2</td>\n",
              "      <td>53</td>\n",
              "      <td>1</td>\n",
              "      <td>math_science</td>\n",
              "      <td>appliedsciences health_lifescience</td>\n",
              "      <td>i fortunate enough use fairy tale stem kits cl...</td>\n",
              "      <td>725.05</td>\n",
              "      <td>0.013</td>\n",
              "      <td>0.783</td>\n",
              "      <td>0.205</td>\n",
              "      <td>0.9867</td>\n",
              "    </tr>\n",
              "    <tr>\n",
              "      <th>1</th>\n",
              "      <td>ut</td>\n",
              "      <td>ms</td>\n",
              "      <td>grades_3_5</td>\n",
              "      <td>4</td>\n",
              "      <td>1</td>\n",
              "      <td>specialneeds</td>\n",
              "      <td>specialneeds</td>\n",
              "      <td>imagine 8 9 years old you third grade classroo...</td>\n",
              "      <td>213.03</td>\n",
              "      <td>0.072</td>\n",
              "      <td>0.680</td>\n",
              "      <td>0.248</td>\n",
              "      <td>0.9897</td>\n",
              "    </tr>\n",
              "  </tbody>\n",
              "</table>\n",
              "</div>\n",
              "      <button class=\"colab-df-convert\" onclick=\"convertToInteractive('df-d4693dd2-b255-48de-a8ec-f6f70433572e')\"\n",
              "              title=\"Convert this dataframe to an interactive table.\"\n",
              "              style=\"display:none;\">\n",
              "        \n",
              "  <svg xmlns=\"http://www.w3.org/2000/svg\" height=\"24px\"viewBox=\"0 0 24 24\"\n",
              "       width=\"24px\">\n",
              "    <path d=\"M0 0h24v24H0V0z\" fill=\"none\"/>\n",
              "    <path d=\"M18.56 5.44l.94 2.06.94-2.06 2.06-.94-2.06-.94-.94-2.06-.94 2.06-2.06.94zm-11 1L8.5 8.5l.94-2.06 2.06-.94-2.06-.94L8.5 2.5l-.94 2.06-2.06.94zm10 10l.94 2.06.94-2.06 2.06-.94-2.06-.94-.94-2.06-.94 2.06-2.06.94z\"/><path d=\"M17.41 7.96l-1.37-1.37c-.4-.4-.92-.59-1.43-.59-.52 0-1.04.2-1.43.59L10.3 9.45l-7.72 7.72c-.78.78-.78 2.05 0 2.83L4 21.41c.39.39.9.59 1.41.59.51 0 1.02-.2 1.41-.59l7.78-7.78 2.81-2.81c.8-.78.8-2.07 0-2.86zM5.41 20L4 18.59l7.72-7.72 1.47 1.35L5.41 20z\"/>\n",
              "  </svg>\n",
              "      </button>\n",
              "      \n",
              "  <style>\n",
              "    .colab-df-container {\n",
              "      display:flex;\n",
              "      flex-wrap:wrap;\n",
              "      gap: 12px;\n",
              "    }\n",
              "\n",
              "    .colab-df-convert {\n",
              "      background-color: #E8F0FE;\n",
              "      border: none;\n",
              "      border-radius: 50%;\n",
              "      cursor: pointer;\n",
              "      display: none;\n",
              "      fill: #1967D2;\n",
              "      height: 32px;\n",
              "      padding: 0 0 0 0;\n",
              "      width: 32px;\n",
              "    }\n",
              "\n",
              "    .colab-df-convert:hover {\n",
              "      background-color: #E2EBFA;\n",
              "      box-shadow: 0px 1px 2px rgba(60, 64, 67, 0.3), 0px 1px 3px 1px rgba(60, 64, 67, 0.15);\n",
              "      fill: #174EA6;\n",
              "    }\n",
              "\n",
              "    [theme=dark] .colab-df-convert {\n",
              "      background-color: #3B4455;\n",
              "      fill: #D2E3FC;\n",
              "    }\n",
              "\n",
              "    [theme=dark] .colab-df-convert:hover {\n",
              "      background-color: #434B5C;\n",
              "      box-shadow: 0px 1px 3px 1px rgba(0, 0, 0, 0.15);\n",
              "      filter: drop-shadow(0px 1px 2px rgba(0, 0, 0, 0.3));\n",
              "      fill: #FFFFFF;\n",
              "    }\n",
              "  </style>\n",
              "\n",
              "      <script>\n",
              "        const buttonEl =\n",
              "          document.querySelector('#df-d4693dd2-b255-48de-a8ec-f6f70433572e button.colab-df-convert');\n",
              "        buttonEl.style.display =\n",
              "          google.colab.kernel.accessAllowed ? 'block' : 'none';\n",
              "\n",
              "        async function convertToInteractive(key) {\n",
              "          const element = document.querySelector('#df-d4693dd2-b255-48de-a8ec-f6f70433572e');\n",
              "          const dataTable =\n",
              "            await google.colab.kernel.invokeFunction('convertToInteractive',\n",
              "                                                     [key], {});\n",
              "          if (!dataTable) return;\n",
              "\n",
              "          const docLinkHtml = 'Like what you see? Visit the ' +\n",
              "            '<a target=\"_blank\" href=https://colab.research.google.com/notebooks/data_table.ipynb>data table notebook</a>'\n",
              "            + ' to learn more about interactive tables.';\n",
              "          element.innerHTML = '';\n",
              "          dataTable['output_type'] = 'display_data';\n",
              "          await google.colab.output.renderOutput(dataTable, element);\n",
              "          const docLink = document.createElement('div');\n",
              "          docLink.innerHTML = docLinkHtml;\n",
              "          element.appendChild(docLink);\n",
              "        }\n",
              "      </script>\n",
              "    </div>\n",
              "  </div>\n",
              "  "
            ]
          },
          "metadata": {},
          "execution_count": 9
        }
      ]
    },
    {
      "cell_type": "code",
      "execution_count": 10,
      "metadata": {
        "colab": {
          "base_uri": "https://localhost:8080/",
          "height": 367
        },
        "id": "ODMijuuNsc3l",
        "outputId": "327c3988-aa81-4973-bf6e-2df7978986dc"
      },
      "outputs": [
        {
          "output_type": "stream",
          "name": "stdout",
          "text": [
            "(35000,) (35000, 12)\n",
            "1\n"
          ]
        },
        {
          "output_type": "execute_result",
          "data": {
            "text/plain": [
              "  school_state teacher_prefix project_grade_category  \\\n",
              "0           ca            mrs          grades_prek_2   \n",
              "1           ut             ms             grades_3_5   \n",
              "\n",
              "   teacher_number_of_previously_posted_projects clean_categories  \\\n",
              "0                                            53     math_science   \n",
              "1                                             4     specialneeds   \n",
              "\n",
              "                  clean_subcategories  \\\n",
              "0  appliedsciences health_lifescience   \n",
              "1                        specialneeds   \n",
              "\n",
              "                                               essay   price  negative  \\\n",
              "0  i fortunate enough use fairy tale stem kits cl...  725.05     0.013   \n",
              "1  imagine 8 9 years old you third grade classroo...  213.03     0.072   \n",
              "\n",
              "   neutral  positive  compound  \n",
              "0    0.783     0.205    0.9867  \n",
              "1    0.680     0.248    0.9897  "
            ],
            "text/html": [
              "\n",
              "  <div id=\"df-dc5a19a9-eb4b-41a3-845b-5d8898e9daa2\">\n",
              "    <div class=\"colab-df-container\">\n",
              "      <div>\n",
              "<style scoped>\n",
              "    .dataframe tbody tr th:only-of-type {\n",
              "        vertical-align: middle;\n",
              "    }\n",
              "\n",
              "    .dataframe tbody tr th {\n",
              "        vertical-align: top;\n",
              "    }\n",
              "\n",
              "    .dataframe thead th {\n",
              "        text-align: right;\n",
              "    }\n",
              "</style>\n",
              "<table border=\"1\" class=\"dataframe\">\n",
              "  <thead>\n",
              "    <tr style=\"text-align: right;\">\n",
              "      <th></th>\n",
              "      <th>school_state</th>\n",
              "      <th>teacher_prefix</th>\n",
              "      <th>project_grade_category</th>\n",
              "      <th>teacher_number_of_previously_posted_projects</th>\n",
              "      <th>clean_categories</th>\n",
              "      <th>clean_subcategories</th>\n",
              "      <th>essay</th>\n",
              "      <th>price</th>\n",
              "      <th>negative</th>\n",
              "      <th>neutral</th>\n",
              "      <th>positive</th>\n",
              "      <th>compound</th>\n",
              "    </tr>\n",
              "  </thead>\n",
              "  <tbody>\n",
              "    <tr>\n",
              "      <th>0</th>\n",
              "      <td>ca</td>\n",
              "      <td>mrs</td>\n",
              "      <td>grades_prek_2</td>\n",
              "      <td>53</td>\n",
              "      <td>math_science</td>\n",
              "      <td>appliedsciences health_lifescience</td>\n",
              "      <td>i fortunate enough use fairy tale stem kits cl...</td>\n",
              "      <td>725.05</td>\n",
              "      <td>0.013</td>\n",
              "      <td>0.783</td>\n",
              "      <td>0.205</td>\n",
              "      <td>0.9867</td>\n",
              "    </tr>\n",
              "    <tr>\n",
              "      <th>1</th>\n",
              "      <td>ut</td>\n",
              "      <td>ms</td>\n",
              "      <td>grades_3_5</td>\n",
              "      <td>4</td>\n",
              "      <td>specialneeds</td>\n",
              "      <td>specialneeds</td>\n",
              "      <td>imagine 8 9 years old you third grade classroo...</td>\n",
              "      <td>213.03</td>\n",
              "      <td>0.072</td>\n",
              "      <td>0.680</td>\n",
              "      <td>0.248</td>\n",
              "      <td>0.9897</td>\n",
              "    </tr>\n",
              "  </tbody>\n",
              "</table>\n",
              "</div>\n",
              "      <button class=\"colab-df-convert\" onclick=\"convertToInteractive('df-dc5a19a9-eb4b-41a3-845b-5d8898e9daa2')\"\n",
              "              title=\"Convert this dataframe to an interactive table.\"\n",
              "              style=\"display:none;\">\n",
              "        \n",
              "  <svg xmlns=\"http://www.w3.org/2000/svg\" height=\"24px\"viewBox=\"0 0 24 24\"\n",
              "       width=\"24px\">\n",
              "    <path d=\"M0 0h24v24H0V0z\" fill=\"none\"/>\n",
              "    <path d=\"M18.56 5.44l.94 2.06.94-2.06 2.06-.94-2.06-.94-.94-2.06-.94 2.06-2.06.94zm-11 1L8.5 8.5l.94-2.06 2.06-.94-2.06-.94L8.5 2.5l-.94 2.06-2.06.94zm10 10l.94 2.06.94-2.06 2.06-.94-2.06-.94-.94-2.06-.94 2.06-2.06.94z\"/><path d=\"M17.41 7.96l-1.37-1.37c-.4-.4-.92-.59-1.43-.59-.52 0-1.04.2-1.43.59L10.3 9.45l-7.72 7.72c-.78.78-.78 2.05 0 2.83L4 21.41c.39.39.9.59 1.41.59.51 0 1.02-.2 1.41-.59l7.78-7.78 2.81-2.81c.8-.78.8-2.07 0-2.86zM5.41 20L4 18.59l7.72-7.72 1.47 1.35L5.41 20z\"/>\n",
              "  </svg>\n",
              "      </button>\n",
              "      \n",
              "  <style>\n",
              "    .colab-df-container {\n",
              "      display:flex;\n",
              "      flex-wrap:wrap;\n",
              "      gap: 12px;\n",
              "    }\n",
              "\n",
              "    .colab-df-convert {\n",
              "      background-color: #E8F0FE;\n",
              "      border: none;\n",
              "      border-radius: 50%;\n",
              "      cursor: pointer;\n",
              "      display: none;\n",
              "      fill: #1967D2;\n",
              "      height: 32px;\n",
              "      padding: 0 0 0 0;\n",
              "      width: 32px;\n",
              "    }\n",
              "\n",
              "    .colab-df-convert:hover {\n",
              "      background-color: #E2EBFA;\n",
              "      box-shadow: 0px 1px 2px rgba(60, 64, 67, 0.3), 0px 1px 3px 1px rgba(60, 64, 67, 0.15);\n",
              "      fill: #174EA6;\n",
              "    }\n",
              "\n",
              "    [theme=dark] .colab-df-convert {\n",
              "      background-color: #3B4455;\n",
              "      fill: #D2E3FC;\n",
              "    }\n",
              "\n",
              "    [theme=dark] .colab-df-convert:hover {\n",
              "      background-color: #434B5C;\n",
              "      box-shadow: 0px 1px 3px 1px rgba(0, 0, 0, 0.15);\n",
              "      filter: drop-shadow(0px 1px 2px rgba(0, 0, 0, 0.3));\n",
              "      fill: #FFFFFF;\n",
              "    }\n",
              "  </style>\n",
              "\n",
              "      <script>\n",
              "        const buttonEl =\n",
              "          document.querySelector('#df-dc5a19a9-eb4b-41a3-845b-5d8898e9daa2 button.colab-df-convert');\n",
              "        buttonEl.style.display =\n",
              "          google.colab.kernel.accessAllowed ? 'block' : 'none';\n",
              "\n",
              "        async function convertToInteractive(key) {\n",
              "          const element = document.querySelector('#df-dc5a19a9-eb4b-41a3-845b-5d8898e9daa2');\n",
              "          const dataTable =\n",
              "            await google.colab.kernel.invokeFunction('convertToInteractive',\n",
              "                                                     [key], {});\n",
              "          if (!dataTable) return;\n",
              "\n",
              "          const docLinkHtml = 'Like what you see? Visit the ' +\n",
              "            '<a target=\"_blank\" href=https://colab.research.google.com/notebooks/data_table.ipynb>data table notebook</a>'\n",
              "            + ' to learn more about interactive tables.';\n",
              "          element.innerHTML = '';\n",
              "          dataTable['output_type'] = 'display_data';\n",
              "          await google.colab.output.renderOutput(dataTable, element);\n",
              "          const docLink = document.createElement('div');\n",
              "          docLink.innerHTML = docLinkHtml;\n",
              "          element.appendChild(docLink);\n",
              "        }\n",
              "      </script>\n",
              "    </div>\n",
              "  </div>\n",
              "  "
            ]
          },
          "metadata": {},
          "execution_count": 10
        }
      ],
      "source": [
        "# 2. Split your data.\n",
        "\n",
        "y = final_data['project_is_approved'].values\n",
        "\n",
        "X = final_data.drop(['project_is_approved'], axis = 1)\n",
        "\n",
        "print(y.shape,X.shape)\n",
        "print(final_data.shape[1] - X.shape[1])\n",
        "\n",
        "X.head(2)"
      ]
    },
    {
      "cell_type": "markdown",
      "source": [
        "<h2>1.2 Splitting data into Train and cross validation(or test): Stratified Sampling</h2>"
      ],
      "metadata": {
        "id": "aEy0rGm3Gim0"
      }
    },
    {
      "cell_type": "code",
      "source": [
        "from sklearn.model_selection import train_test_split\n",
        "\n",
        "X_train, X_test, y_train, y_test = train_test_split(X, y, test_size = 0.33, stratify = y)"
      ],
      "metadata": {
        "id": "vRW5al3MGjbO"
      },
      "execution_count": 11,
      "outputs": []
    },
    {
      "cell_type": "markdown",
      "metadata": {
        "id": "vsALgl5Asc3u"
      },
      "source": [
        "<h2> Make Data Model Ready: encoding numerical, categorical features</h2>"
      ]
    },
    {
      "cell_type": "code",
      "execution_count": 12,
      "metadata": {
        "colab": {
          "base_uri": "https://localhost:8080/"
        },
        "id": "1A_85jbWsc3v",
        "outputId": "55fb7f83-45be-4620-8258-669324e69231"
      },
      "outputs": [
        {
          "output_type": "execute_result",
          "data": {
            "text/plain": [
              "['your donations', 'your generous', 'your generous donation', 'youth', 'zone']"
            ]
          },
          "metadata": {},
          "execution_count": 12
        }
      ],
      "source": [
        "from sklearn.feature_extraction.text import TfidfVectorizer\n",
        "\n",
        "vectorizer = TfidfVectorizer(ngram_range = (1, 3),max_features = 6000, min_df = 10)\n",
        "\n",
        "vectorizer.fit(X_train['essay'].values)\n",
        "\n",
        "X_train_essay_tfidf = vectorizer.transform(X_train['essay'].values)\n",
        "X_test_essay_tfidf  = vectorizer.transform(X_test['essay'].values)\n",
        "\n",
        "# we are converting a dictionary with word as a key, and the idf as a value\n",
        "\n",
        "dictionary  = dict(zip(vectorizer.get_feature_names(), list(vectorizer.idf_)))\n",
        "tfidf_words = set(dictionary.keys())\n",
        "\n",
        "vectorizer.get_feature_names()[-5:]"
      ]
    },
    {
      "cell_type": "code",
      "source": [
        "def get_response_coding(feature,labels,dx,test = False):\n",
        "\n",
        "  positive_label = [] \n",
        "  negative_label = []\n",
        "\n",
        "  frame = pd.DataFrame({'feature_name':feature,'label':labels})\n",
        "  # print( frame.head(3) )\n",
        "\n",
        "  if test == False:\n",
        "\n",
        "    total_size = frame.shape[0]\n",
        "    dx = dict() # Initializing a dictionary that would hold the unique values of categorical features\n",
        "\n",
        "    for data in frame['feature_name']:\n",
        "  \n",
        "      if data not in dx:\n",
        "        dx[data] = 0\n",
        "\n",
        "    print(\" **---** Response Encoding the Test data **---** \")\n",
        "    # so now we have all the unique values of feature stored in our dictionary dx, now we will store prob value inside it.\n",
        "\n",
        "    for key,value in dx.items():\n",
        "\n",
        "      positive_class = frame[( frame['feature_name'] == key ) & (frame['label'] == 1) ] \n",
        "\n",
        "      dx[key] = positive_class.shape[0] / total_size\n",
        "\n",
        "    for data in frame['feature_name']:\n",
        "    \n",
        "      positive_label.append(dx[data])\n",
        "      negative_label.append(1 - dx[data])\n",
        "  \n",
        "    print(\"\\n Shape of the provided train data datframe is  ->\",frame.shape[0])\n",
        "    print(\"\\n len of positive encoded feature of train data ->\",len(positive_label))\n",
        "    print(\"\\n len of negative encoded feature of train data ->\",len(negative_label),\"\\n\")\n",
        "\n",
        "    return [positive_label,negative_label,dx]\n",
        "\n",
        "  else:\n",
        "    \n",
        "    print(\" \\n**---** Response Encoding the Test data **---** \")\n",
        "\n",
        "    for data in frame['feature_name']:\n",
        "      \n",
        "      try:\n",
        "\n",
        "        positive_label.append(dx[data])\n",
        "        negative_label.append(1 - dx[data])\n",
        "      \n",
        "      except:\n",
        "\n",
        "        positive_label.append(0.5) # if there are entries that were not present in the train data those won't be inside the dictionary\n",
        "        negative_label.append(0.5) # hence assigining them equal probabililty of 0.5. This is also called laplace smoothing.\n",
        "\n",
        "    print(\"\\n Shape of  the provide     Test dataframe  is ->\",frame.shape[0])\n",
        "    print(\"\\n len of positive encoded feature of test data ->\",len(positive_label))\n",
        "    print(\"\\n len of negative encoded feature of test data ->\",len(negative_label))\n",
        "\n",
        "    return [positive_label,negative_label]"
      ],
      "metadata": {
        "id": "mPVy8cbIN8PH"
      },
      "execution_count": 13,
      "outputs": []
    },
    {
      "cell_type": "markdown",
      "source": [
        "**teacher_prefix**"
      ],
      "metadata": {
        "id": "Gq8bGggBWBXa"
      }
    },
    {
      "cell_type": "code",
      "source": [
        "teacher_prefix_pos,teacher_prefix_neg,teacher_prefix_dict = get_response_coding(X_train['teacher_prefix'].values,y_train,\n",
        "                                                                                dict(),False)\n",
        "print(\"Teacher_prefix_dict --\",teacher_prefix_dict)\n",
        "\n",
        "teacher_prefix_pos_te,teacher_prefix_neg_te = get_response_coding(X_test['teacher_prefix'].values,y_test,\n",
        "                                                            teacher_prefix_dict,True)"
      ],
      "metadata": {
        "id": "S4afhlaBQmKI",
        "outputId": "7fb81b34-d4c6-4ce9-c283-eaff3a2ef21e",
        "colab": {
          "base_uri": "https://localhost:8080/"
        }
      },
      "execution_count": 14,
      "outputs": [
        {
          "output_type": "stream",
          "name": "stdout",
          "text": [
            " **---** Response Encoding the Test data **---** \n",
            "\n",
            " Shape of the provided train data datframe is  -> 23450\n",
            "\n",
            " len of positive encoded feature of train data -> 23450\n",
            "\n",
            " len of negative encoded feature of train data -> 23450 \n",
            "\n",
            "Teacher_prefix_dict -- {'ms': 0.29880597014925375, 'mrs': 0.46038379530916845, 'mr': 0.07125799573560768, 'teacher': 0.01603411513859275, 'dr': 4.2643923240938166e-05}\n",
            " \n",
            "**---** Response Encoding the Test data **---** \n",
            "\n",
            " Shape of  the provide     Test dataframe  is -> 11550\n",
            "\n",
            " len of positive encoded feature of test data -> 11550\n",
            "\n",
            " len of negative encoded feature of test data -> 11550\n"
          ]
        }
      ]
    },
    {
      "cell_type": "markdown",
      "source": [
        "**project_grade**"
      ],
      "metadata": {
        "id": "e4FTPJRdXCbi"
      }
    },
    {
      "cell_type": "code",
      "source": [
        "project_grade_pos,project_grade_neg,project_grade_dict = get_response_coding(X_train['project_grade_category'].values,y_train,\n",
        "                                                                                dict(),False)\n",
        "\n",
        "print(project_grade_dict)\n",
        "\n",
        "project_grade_pos_te,project_grade_neg_te = get_response_coding(X_test['project_grade_category'].values,y_test,\n",
        "                                                                                project_grade_dict,True)"
      ],
      "metadata": {
        "colab": {
          "base_uri": "https://localhost:8080/"
        },
        "id": "vSQksF6ptjAe",
        "outputId": "e0fd5afe-fa70-4961-fc7b-fa7c249f2253"
      },
      "execution_count": 15,
      "outputs": [
        {
          "output_type": "stream",
          "name": "stdout",
          "text": [
            " **---** Response Encoding the Test data **---** \n",
            "\n",
            " Shape of the provided train data datframe is  -> 23450\n",
            "\n",
            " len of positive encoded feature of train data -> 23450\n",
            "\n",
            " len of negative encoded feature of train data -> 23450 \n",
            "\n",
            "{'grades_prek_2': 0.36029850746268655, 'grades_6_8': 0.11884861407249467, 'grades_3_5': 0.289637526652452, 'grades_9_12': 0.07773987206823028}\n",
            " \n",
            "**---** Response Encoding the Test data **---** \n",
            "\n",
            " Shape of  the provide     Test dataframe  is -> 11550\n",
            "\n",
            " len of positive encoded feature of test data -> 11550\n",
            "\n",
            " len of negative encoded feature of test data -> 11550\n"
          ]
        }
      ]
    },
    {
      "cell_type": "markdown",
      "source": [
        "**clean_categories**"
      ],
      "metadata": {
        "id": "MTP7nAQFXW5T"
      }
    },
    {
      "cell_type": "code",
      "source": [
        "clean_categories_pos,clean_categories_neg,clean_categories_dict = get_response_coding(X_train['clean_categories'].values,\n",
        "                                                                            y_train,dict(),False)\n",
        "\n",
        "print(clean_categories_dict)\n",
        "\n",
        "clean_categories_pos_te,clean_categories_neg_te = get_response_coding(X_test['clean_categories'].values,y_test,\n",
        "                                                                                clean_categories_dict,True)"
      ],
      "metadata": {
        "colab": {
          "base_uri": "https://localhost:8080/"
        },
        "id": "XJKUYG9qVlUq",
        "outputId": "3a4dfb8e-a13b-451c-bdd2-8e9af6118e16"
      },
      "execution_count": 16,
      "outputs": [
        {
          "output_type": "stream",
          "name": "stdout",
          "text": [
            " **---** Response Encoding the Test data **---** \n",
            "\n",
            " Shape of the provided train data datframe is  -> 23450\n",
            "\n",
            " len of positive encoded feature of train data -> 23450\n",
            "\n",
            " len of negative encoded feature of train data -> 23450 \n",
            "\n",
            "{'math_science': 0.11181236673773987, 'appliedlearning': 0.027547974413646054, 'health_sports': 0.1284008528784648, 'math_science history_civics': 0.005799573560767591, 'health_sports music_arts': 0.001279317697228145, 'literacy_language math_science': 0.11377398720682302, 'history_civics': 0.012750533049040511, 'music_arts': 0.03228144989339019, 'literacy_language': 0.18311300639658848, 'specialneeds': 0.024946695095948827, 'appliedlearning specialneeds': 0.010490405117270788, 'appliedlearning math_science': 0.0070362473347547975, 'literacy_language music_arts': 0.014371002132196163, 'math_science literacy_language': 0.01901918976545842, 'math_science specialneeds': 0.012238805970149255, 'literacy_language specialneeds': 0.028272921108742004, 'math_science music_arts': 0.008017057569296375, 'history_civics math_science': 0.0020042643923240937, 'history_civics literacy_language': 0.011300639658848614, 'health_sports specialneeds': 0.013176972281449893, 'appliedlearning health_sports': 0.006950959488272921, 'appliedlearning literacy_language': 0.019701492537313434, 'specialneeds music_arts': 0.001961620469083156, 'health_sports literacy_language': 0.009424307036247335, 'math_science appliedlearning': 0.007249466950959489, 'literacy_language history_civics': 0.00788912579957356, 'appliedlearning music_arts': 0.005074626865671642, 'math_science health_sports': 0.004051172707889125, 'literacy_language appliedlearning': 0.0045628997867803835, 'health_sports math_science': 0.003070362473347548, 'appliedlearning history_civics': 0.0011513859275053306, 'literacy_language health_sports': 0.00042643923240938164, 'music_arts specialneeds': 0.000767590618336887, 'history_civics specialneeds': 0.001023454157782516, 'history_civics music_arts': 0.0024307036247334757, 'health_sports history_civics': 0.0004690831556503198, 'specialneeds health_sports': 0.0003837953091684435, 'health_sports appliedlearning': 0.0016204690831556504, 'music_arts health_sports': 0.000255863539445629, 'history_civics appliedlearning': 0.00021321961620469082, 'music_arts appliedlearning': 8.528784648187633e-05, 'history_civics health_sports': 4.2643923240938166e-05, 'music_arts history_civics': 8.528784648187633e-05}\n",
            " \n",
            "**---** Response Encoding the Test data **---** \n",
            "\n",
            " Shape of  the provide     Test dataframe  is -> 11550\n",
            "\n",
            " len of positive encoded feature of test data -> 11550\n",
            "\n",
            " len of negative encoded feature of test data -> 11550\n"
          ]
        }
      ]
    },
    {
      "cell_type": "markdown",
      "source": [
        "**clean_subcategories**"
      ],
      "metadata": {
        "id": "iUPideEmXaVA"
      }
    },
    {
      "cell_type": "code",
      "source": [
        "clean_subcategories_pos,clean_subcategories_neg,clean_subcategories_dict = get_response_coding(X_train['clean_subcategories'].values,\n",
        "                                                                            y_train,dict(),False)\n",
        "\n",
        "print(clean_subcategories_dict)\n",
        "\n",
        "clean_subcategories_pos_te,clean_subcategories_neg_te = get_response_coding(X_test['clean_subcategories'].values,y_test,\n",
        "                                                                                clean_subcategories_dict,True)"
      ],
      "metadata": {
        "colab": {
          "base_uri": "https://localhost:8080/"
        },
        "id": "4JCwaZ7FWnN6",
        "outputId": "f26f4bc5-6fbf-4f50-bdd3-a1bc0513e5ca"
      },
      "execution_count": 17,
      "outputs": [
        {
          "output_type": "stream",
          "name": "stdout",
          "text": [
            " **---** Response Encoding the Test data **---** \n",
            "\n",
            " Shape of the provided train data datframe is  -> 23450\n",
            "\n",
            " len of positive encoded feature of train data -> 23450\n",
            "\n",
            " len of negative encoded feature of train data -> 23450 \n",
            "\n",
            "{'appliedsciences': 0.01420042643923241, 'charactereducation communityservice': 0.0005543710021321961, 'health_wellness': 0.051215351812366736, 'health_lifescience socialsciences': 0.0008102345415778252, 'health_wellness performingarts': 8.528784648187633e-05, 'literature_writing mathematics': 0.04844349680170576, 'mathematics': 0.03705756929637526, 'civics_government': 0.0006396588486140725, 'gym_fitness teamsports': 0.004093816631130064, 'gym_fitness health_wellness': 0.033347547974413645, 'music performingarts': 0.007249466950959489, 'literacy': 0.07253731343283581, 'specialneeds': 0.024946695095948827, 'appliedsciences mathematics': 0.023155650319829423, 'literacy literature_writing': 0.04660980810234541, 'earlydevelopment specialneeds': 0.0059275053304904055, 'esl literacy': 0.015138592750533048, 'literacy mathematics': 0.06264392324093816, 'literature_writing': 0.035863539445629, 'environmentalscience': 0.005842217484008529, 'charactereducation mathematics': 0.0006396588486140725, 'literacy music': 0.0014498933901918977, 'visualarts': 0.01211087420042644, 'charactereducation': 0.003070362473347548, 'health_lifescience literacy': 0.003113006396588486, 'appliedsciences specialneeds': 0.002601279317697228, 'literature_writing specialneeds': 0.009893390191897654, 'appliedsciences music': 0.00029850746268656717, 'mathematics specialneeds': 0.007505330490405117, 'health_wellness nutritioneducation': 0.011855010660980811, 'health_lifescience literature_writing': 0.00208955223880597, 'literature_writing visualarts': 0.005330490405117271, 'environmentalscience literature_writing': 0.0018763326226012792, 'other': 0.006098081023454158, 'financialliteracy mathematics': 0.00042643923240938164, 'earlydevelopment mathematics': 0.002046908315565032, 'history_geography literacy': 0.00349680170575693, 'history_geography literature_writing': 0.004946695095948827, 'health_wellness specialneeds': 0.011599147121535182, 'earlydevelopment health_wellness': 0.00396588486140725, 'college_careerprep literature_writing': 0.0027292110874200426, 'specialneeds visualarts': 0.001961620469083156, 'charactereducation literature_writing': 0.0016204690831556504, 'gym_fitness': 0.01253731343283582, 'appliedsciences literature_writing': 0.0033688699360341153, 'civics_government socialsciences': 0.0007249466950959489, 'health_lifescience': 0.0055863539445629, 'earlydevelopment literacy': 0.006609808102345416, 'appliedsciences environmentalscience': 0.006439232409381663, 'charactereducation college_careerprep': 0.001023454157782516, 'health_wellness literacy': 0.005373134328358209, 'environmentalscience mathematics': 0.005287846481876333, 'literacy specialneeds': 0.017100213219616203, 'teamsports': 0.006823027718550106, 'college_careerprep': 0.002260127931769723, 'appliedsciences college_careerprep': 0.0022174840085287845, 'appliedsciences literacy': 0.0037953091684434967, 'foreignlanguages literacy': 0.001748400852878465, 'foreignlanguages music': 4.2643923240938166e-05, 'environmentalscience specialneeds': 0.0012366737739872068, 'esl literature_writing': 0.0055863539445629, 'civics_government literacy': 0.0016204690831556504, 'literacy visualarts': 0.004989339019189766, 'esl visualarts': 0.0004690831556503198, 'charactereducation literacy': 0.0035394456289978677, 'esl': 0.0026439232409381664, 'music': 0.009637526652452025, 'appliedsciences health_lifescience': 0.0042643923240938165, 'environmentalscience literacy': 0.00417910447761194, 'civics_government environmentalscience': 0.0001279317697228145, 'environmentalscience health_lifescience': 0.006780383795309168, 'health_wellness teamsports': 0.0040085287846481875, 'gym_fitness nutritioneducation': 0.0008955223880597015, 'mathematics visualarts': 0.002260127931769723, 'college_careerprep mathematics': 0.0023880597014925373, 'charactereducation health_wellness': 0.0014072494669509594, 'esl mathematics': 0.002046908315565032, 'health_wellness visualarts': 0.00042643923240938164, 'college_careerprep specialneeds': 0.0007249466950959489, 'literature_writing socialsciences': 0.0032835820895522386, 'other specialneeds': 0.0024733475479744135, 'appliedsciences earlydevelopment': 0.0016204690831556504, 'performingarts': 0.00208955223880597, 'earlydevelopment other': 0.0011940298507462687, 'earlydevelopment': 0.006567164179104477, 'appliedsciences history_geography': 0.0005970149253731343, 'esl health_lifescience': 0.0003837953091684435, 'extracurricular visualarts': 0.000511727078891258, 'socialsciences': 0.0013219616204690832, 'parentinvolvement': 0.00021321961620469082, 'history_geography socialsciences': 0.002771855010660981, 'charactereducation health_lifescience': 0.00021321961620469082, 'health_wellness literature_writing': 0.0036247334754797443, 'foreignlanguages': 0.00208955223880597, 'extracurricular nutritioneducation': 4.2643923240938166e-05, 'health_lifescience health_wellness': 0.0017057569296375266, 'literature_writing other': 0.001023454157782516, 'health_lifescience specialneeds': 0.0008955223880597015, 'college_careerprep literacy': 0.001961620469083156, 'civics_government literature_writing': 0.0009381663113006396, 'esl music': 8.528784648187633e-05, 'esl earlydevelopment': 0.0006823027718550107, 'gym_fitness specialneeds': 0.0013219616204690832, 'health_lifescience mathematics': 0.0031982942430703624, 'environmentalscience history_geography': 0.0013646055437100213, 'appliedsciences visualarts': 0.0028997867803837955, 'civics_government history_geography': 0.0021748400852878466, 'financialliteracy': 0.00021321961620469082, 'nutritioneducation': 0.0035394456289978677, 'history_geography': 0.0037953091684434967, 'communityservice health_wellness': 4.2643923240938166e-05, 'charactereducation visualarts': 0.0007249466950959489, 'communityservice': 0.0003411513859275053, 'appliedsciences charactereducation': 0.000511727078891258, 'foreignlanguages specialneeds': 0.00017057569296375266, 'charactereducation specialneeds': 0.0010660980810234541, 'health_wellness mathematics': 0.00255863539445629, 'literacy socialsciences': 0.004051172707889125, 'foreignlanguages literature_writing': 0.0006823027718550107, 'performingarts visualarts': 0.0008528784648187633, 'earlydevelopment literature_writing': 0.001961620469083156, 'communityservice earlydevelopment': 4.2643923240938166e-05, 'mathematics socialsciences': 0.0008102345415778252, 'extracurricular mathematics': 0.00021321961620469082, 'college_careerprep other': 0.0005543710021321961, 'environmentalscience socialsciences': 0.0008955223880597015, 'health_lifescience other': 0.0001279317697228145, 'earlydevelopment visualarts': 0.0012366737739872068, 'charactereducation history_geography': 8.528784648187633e-05, 'environmentalscience nutritioneducation': 0.0003837953091684435, 'mathematics performingarts': 0.0003837953091684435, 'extracurricular specialneeds': 8.528784648187633e-05, 'literacy teamsports': 8.528784648187633e-05, 'music specialneeds': 0.0006396588486140725, 'literacy other': 0.001833688699360341, 'esl other': 0.0001279317697228145, 'literature_writing music': 0.0003837953091684435, 'earlydevelopment parentinvolvement': 0.0003411513859275053, 'environmentalscience visualarts': 0.0008528784648187633, 'extracurricular': 0.0005543710021321961, 'literature_writing performingarts': 0.0008955223880597015, 'college_careerprep visualarts': 0.0008102345415778252, 'history_geography specialneeds': 0.0006823027718550107, 'history_geography music': 0.00017057569296375266, 'esl history_geography': 0.00029850746268656717, 'literacy parentinvolvement': 0.00042643923240938164, 'civics_government economics': 0.00029850746268656717, 'foreignlanguages mathematics': 8.528784648187633e-05, 'gym_fitness literacy': 0.000255863539445629, 'health_wellness history_geography': 0.00021321961620469082, 'economics history_geography': 0.00021321961620469082, 'history_geography visualarts': 0.0014925373134328358, 'earlydevelopment extracurricular': 8.528784648187633e-05, 'appliedsciences gym_fitness': 0.0001279317697228145, 'mathematics music': 0.0005543710021321961, 'appliedsciences extracurricular': 0.0006396588486140725, 'health_lifescience visualarts': 0.0006823027718550107, 'college_careerprep foreignlanguages': 0.00017057569296375266, 'appliedsciences nutritioneducation': 8.528784648187633e-05, 'extracurricular literature_writing': 0.0003837953091684435, 'specialneeds teamsports': 0.0003837953091684435, 'college_careerprep socialsciences': 0.000255863539445629, 'nutritioneducation specialneeds': 0.000255863539445629, 'civics_government health_lifescience': 0.00017057569296375266, 'other visualarts': 0.0003837953091684435, 'health_wellness other': 0.0014498933901918977, 'esl health_wellness': 0.00017057569296375266, 'college_careerprep communityservice': 0.00029850746268656717, 'economics': 0.000255863539445629, 'socialsciences specialneeds': 0.000255863539445629, 'charactereducation earlydevelopment': 0.0016204690831556504, 'communityservice performingarts': 8.528784648187633e-05, 'charactereducation esl': 4.2643923240938166e-05, 'charactereducation parentinvolvement': 0.00029850746268656717, 'esl specialneeds': 0.0011087420042643922, 'gym_fitness performingarts': 8.528784648187633e-05, 'appliedsciences parentinvolvement': 0.0001279317697228145, 'gym_fitness literature_writing': 0.00017057569296375266, 'earlydevelopment performingarts': 4.2643923240938166e-05, 'environmentalscience extracurricular': 0.0, 'mathematics nutritioneducation': 0.00017057569296375266, 'literature_writing parentinvolvement': 0.00042643923240938164, 'charactereducation music': 0.00017057569296375266, 'music teamsports': 0.0001279317697228145, 'college_careerprep financialliteracy': 0.0001279317697228145, 'appliedsciences esl': 0.000511727078891258, 'charactereducation other': 0.0008102345415778252, 'economics financialliteracy': 0.00021321961620469082, 'charactereducation teamsports': 0.000255863539445629, 'literacy performingarts': 0.0005543710021321961, 'mathematics other': 0.0007249466950959489, 'nutritioneducation socialsciences': 4.2643923240938166e-05, 'environmentalscience other': 0.0001279317697228145, 'communityservice mathematics': 0.0001279317697228145, 'health_wellness music': 0.0003837953091684435, 'gym_fitness mathematics': 0.00042643923240938164, 'communityservice literature_writing': 4.2643923240938166e-05, 'health_lifescience history_geography': 0.0007249466950959489, 'extracurricular history_geography': 4.2643923240938166e-05, 'appliedsciences other': 0.000767590618336887, 'economics mathematics': 0.00021321961620469082, 'extracurricular health_wellness': 0.0001279317697228145, 'communityservice parentinvolvement': 0.0001279317697228145, 'esl foreignlanguages': 0.00021321961620469082, 'extracurricular music': 0.000255863539445629, 'esl socialsciences': 0.00021321961620469082, 'charactereducation environmentalscience': 0.000255863539445629, 'other socialsciences': 0.0, 'appliedsciences health_wellness': 0.00029850746268656717, 'communityservice environmentalscience': 0.00029850746268656717, 'history_geography mathematics': 0.001023454157782516, 'gym_fitness health_lifescience': 8.528784648187633e-05, 'college_careerprep parentinvolvement': 0.00021321961620469082, 'esl environmentalscience': 0.00017057569296375266, 'appliedsciences socialsciences': 0.0004690831556503198, 'charactereducation performingarts': 8.528784648187633e-05, 'health_wellness socialsciences': 0.00017057569296375266, 'gym_fitness visualarts': 0.0001279317697228145, 'communityservice extracurricular': 8.528784648187633e-05, 'extracurricular performingarts': 4.2643923240938166e-05, 'appliedsciences communityservice': 8.528784648187633e-05, 'earlydevelopment health_lifescience': 4.2643923240938166e-05, 'college_careerprep extracurricular': 0.00029850746268656717, 'extracurricular other': 0.00017057569296375266, 'charactereducation extracurricular': 0.0003837953091684435, 'health_lifescience nutritioneducation': 0.00042643923240938164, 'communityservice visualarts': 0.000255863539445629, 'earlydevelopment environmentalscience': 0.0001279317697228145, 'college_careerprep health_wellness': 0.00021321961620469082, 'foreignlanguages visualarts': 8.528784648187633e-05, 'teamsports visualarts': 8.528784648187633e-05, 'economics other': 4.2643923240938166e-05, 'economics literature_writing': 4.2643923240938166e-05, 'communityservice literacy': 0.0001279317697228145, 'appliedsciences economics': 4.2643923240938166e-05, 'other parentinvolvement': 0.00017057569296375266, 'performingarts specialneeds': 0.0001279317697228145, 'mathematics teamsports': 8.528784648187633e-05, 'foreignlanguages history_geography': 4.2643923240938166e-05, 'environmentalscience health_wellness': 0.0005543710021321961, 'earlydevelopment music': 0.00017057569296375266, 'gym_fitness history_geography': 4.2643923240938166e-05, 'appliedsciences civics_government': 8.528784648187633e-05, 'environmentalscience music': 4.2643923240938166e-05, 'socialsciences visualarts': 0.0004690831556503198, 'civics_government specialneeds': 4.2643923240938166e-05, 'communityservice other': 4.2643923240938166e-05, 'college_careerprep music': 0.0, 'parentinvolvement socialsciences': 8.528784648187633e-05, 'college_careerprep performingarts': 0.00017057569296375266, 'music other': 8.528784648187633e-05, 'communityservice financialliteracy': 4.2643923240938166e-05, 'communityservice specialneeds': 0.0001279317697228145, 'earlydevelopment gym_fitness': 0.0004690831556503198, 'extracurricular literacy': 0.00042643923240938164, 'economics literacy': 4.2643923240938166e-05, 'music visualarts': 0.0003411513859275053, 'mathematics parentinvolvement': 0.000255863539445629, 'nutritioneducation teamsports': 8.528784648187633e-05, 'performingarts teamsports': 0.0001279317697228145, 'foreignlanguages performingarts': 0.0, 'financialliteracy specialneeds': 4.2643923240938166e-05, 'college_careerprep health_lifescience': 0.0003411513859275053, 'civics_government visualarts': 0.00017057569296375266, 'financialliteracy literacy': 0.00017057569296375266, 'charactereducation gym_fitness': 0.0, 'nutritioneducation other': 8.528784648187633e-05, 'financialliteracy visualarts': 4.2643923240938166e-05, 'appliedsciences foreignlanguages': 4.2643923240938166e-05, 'college_careerprep history_geography': 0.0001279317697228145, 'extracurricular gym_fitness': 4.2643923240938166e-05, 'college_careerprep esl': 0.0, 'appliedsciences teamsports': 0.0001279317697228145, 'college_careerprep earlydevelopment': 0.0001279317697228145, 'economics socialsciences': 8.528784648187633e-05, 'gym_fitness other': 8.528784648187633e-05, 'charactereducation socialsciences': 0.00017057569296375266, 'college_careerprep environmentalscience': 0.00021321961620469082, 'financialliteracy health_wellness': 4.2643923240938166e-05, 'parentinvolvement visualarts': 0.0001279317697228145, 'communityservice health_lifescience': 0.0001279317697228145, 'esl performingarts': 8.528784648187633e-05, 'environmentalscience gym_fitness': 4.2643923240938166e-05, 'performingarts socialsciences': 4.2643923240938166e-05, 'health_lifescience teamsports': 4.2643923240938166e-05, 'civics_government communityservice': 8.528784648187633e-05, 'foreignlanguages health_wellness': 4.2643923240938166e-05, 'literature_writing nutritioneducation': 4.2643923240938166e-05, 'earlydevelopment socialsciences': 0.0, 'esl financialliteracy': 0.0, 'parentinvolvement specialneeds': 8.528784648187633e-05, 'extracurricular teamsports': 0.00021321961620469082, 'environmentalscience foreignlanguages': 4.2643923240938166e-05, 'charactereducation civics_government': 4.2643923240938166e-05, 'gym_fitness music': 4.2643923240938166e-05, 'communityservice esl': 4.2643923240938166e-05, 'civics_government esl': 4.2643923240938166e-05, 'nutritioneducation visualarts': 4.2643923240938166e-05, 'music socialsciences': 4.2643923240938166e-05, 'communityservice history_geography': 8.528784648187633e-05, 'environmentalscience parentinvolvement': 4.2643923240938166e-05, 'civics_government mathematics': 4.2643923240938166e-05, 'college_careerprep teamsports': 4.2643923240938166e-05, 'college_careerprep nutritioneducation': 8.528784648187633e-05, 'literacy nutritioneducation': 4.2643923240938166e-05, 'charactereducation financialliteracy': 4.2643923240938166e-05, 'history_geography other': 4.2643923240938166e-05, 'health_lifescience parentinvolvement': 0.0, 'history_geography performingarts': 8.528784648187633e-05, 'foreignlanguages other': 4.2643923240938166e-05, 'literature_writing teamsports': 4.2643923240938166e-05, 'civics_government financialliteracy': 4.2643923240938166e-05, 'college_careerprep economics': 4.2643923240938166e-05, 'civics_government extracurricular': 4.2643923240938166e-05, 'health_lifescience music': 4.2643923240938166e-05, 'earlydevelopment nutritioneducation': 4.2643923240938166e-05, 'earlydevelopment foreignlanguages': 4.2643923240938166e-05}\n",
            " \n",
            "**---** Response Encoding the Test data **---** \n",
            "\n",
            " Shape of  the provide     Test dataframe  is -> 11550\n",
            "\n",
            " len of positive encoded feature of test data -> 11550\n",
            "\n",
            " len of negative encoded feature of test data -> 11550\n"
          ]
        }
      ]
    },
    {
      "cell_type": "markdown",
      "source": [
        "**school_state**"
      ],
      "metadata": {
        "id": "t8IOVdh6Xc5S"
      }
    },
    {
      "cell_type": "code",
      "source": [
        "school_state_pos,school_state_neg,school_state_dict = get_response_coding(X_train['school_state'].values,\n",
        "                                                      y_train,dict(),False)\n",
        "\n",
        "print(school_state_dict)\n",
        "\n",
        "school_state_pos_te,school_state_neg_te = get_response_coding(X_test['school_state'].values,y_test,\n",
        "                                                              school_state_dict,True)"
      ],
      "metadata": {
        "colab": {
          "base_uri": "https://localhost:8080/"
        },
        "id": "iABAeu_mVlRU",
        "outputId": "cf2b8821-9281-4f26-f879-d54d51743922"
      },
      "execution_count": 18,
      "outputs": [
        {
          "output_type": "stream",
          "name": "stdout",
          "text": [
            " **---** Response Encoding the Test data **---** \n",
            "\n",
            " Shape of the provided train data datframe is  -> 23450\n",
            "\n",
            " len of positive encoded feature of train data -> 23450\n",
            "\n",
            " len of negative encoded feature of train data -> 23450 \n",
            "\n",
            "{'ga': 0.03121535181236674, 'wv': 0.004861407249466951, 'nj': 0.013859275053304905, 'wi': 0.012452025586353945, 'ar': 0.008315565031982943, 'ny': 0.05236673773987207, 'tx': 0.06098081023454158, 'dc': 0.004776119402985075, 'ca': 0.11381663113006396, 'oh': 0.02255863539445629, 'ms': 0.008827292110874201, 'il': 0.03484008528784648, 'in': 0.023582089552238807, 'md': 0.012707889125799574, 'mi': 0.024818763326226012, 'hi': 0.0028997867803837955, 'mn': 0.008528784648187633, 'sc': 0.03164179104477612, 'la': 0.012878464818763325, 'nm': 0.004392324093816631, 'mo': 0.0232409381663113, 'ks': 0.005031982942430704, 'pa': 0.024690831556503198, 'ak': 0.001833688699360341, 'fl': 0.05070362473347548, 'va': 0.016119402985074627, 'nc': 0.04494669509594883, 'ma': 0.01884861407249467, 'nv': 0.011087420042643924, 'co': 0.009040511727078891, 'wa': 0.019658848614072494, 'tn': 0.015437100213219616, 'ky': 0.010319829424307037, 'ok': 0.018507462686567163, 'ut': 0.008955223880597015, 'az': 0.017526652452025587, 'ia': 0.005884861407249467, 'ct': 0.011897654584221748, 'ne': 0.002515991471215352, 'ri': 0.001833688699360341, 'or': 0.00835820895522388, 'sd': 0.0023880597014925373, 'de': 0.0037526652452025584, 'al': 0.010277185501066098, 'id': 0.003923240938166312, 'me': 0.0032409381663113007, 'mt': 0.0014498933901918977, 'nh': 0.002260127931769723, 'vt': 0.000767590618336887, 'nd': 0.001279317697228145, 'wy': 0.00042643923240938164}\n",
            " \n",
            "**---** Response Encoding the Test data **---** \n",
            "\n",
            " Shape of  the provide     Test dataframe  is -> 11550\n",
            "\n",
            " len of positive encoded feature of test data -> 11550\n",
            "\n",
            " len of negative encoded feature of test data -> 11550\n"
          ]
        }
      ]
    },
    {
      "cell_type": "markdown",
      "source": [
        "**price**"
      ],
      "metadata": {
        "id": "tky_mQPfX0aC"
      }
    },
    {
      "cell_type": "code",
      "execution_count": 19,
      "metadata": {
        "id": "RAtihVPqsc33",
        "colab": {
          "base_uri": "https://localhost:8080/"
        },
        "outputId": "9afeba08-83c8-4a6e-f695-0ea1b8666050"
      },
      "outputs": [
        {
          "output_type": "stream",
          "name": "stdout",
          "text": [
            "Mean-- [302.38708273]\n",
            "std -- [359.53218687]\n",
            "(23450, 1)\n",
            "(23450, 1)\n",
            "<class 'numpy.ndarray'> [0.04587327]\n"
          ]
        }
      ],
      "source": [
        "## Price ##\n",
        "\n",
        "from sklearn.preprocessing import StandardScaler\n",
        "\n",
        "sc = StandardScaler(copy = True,with_mean = True,with_std = True)\n",
        "sc.fit(X_train['price'].values.reshape(-1,1))\n",
        "\n",
        "X_train_price_norm  =  sc.transform(X_train['price'].values.reshape(-1,1))\n",
        "X_test_price_norm   =  sc.transform(X_test['price'].values.reshape(-1,1))\n",
        "\n",
        "print(\"Mean--\",sc.mean_)\n",
        "print(\"std --\",np.sqrt(sc.var_))\n",
        "\n",
        "print(X_train_price_norm.shape)\n",
        "print(X_train_price_norm.shape)\n",
        "\n",
        "print(type(X_train_price_norm),X_train_price_norm[0])"
      ]
    },
    {
      "cell_type": "markdown",
      "source": [
        "**teacher_number_of_previously_posted_projects**"
      ],
      "metadata": {
        "id": "zaIAD82UYYf6"
      }
    },
    {
      "cell_type": "code",
      "source": [
        "## teacher_number_of_previously_posted_projects ##\n",
        "\n",
        "sc = StandardScaler(copy = True,with_mean = True,with_std = True)\n",
        "sc.fit(X_train['teacher_number_of_previously_posted_projects'].values.reshape(-1,1))\n",
        "\n",
        "X_train_projects_posted_norm  =  sc.transform(X_train['teacher_number_of_previously_posted_projects'].values.reshape(-1,1))\n",
        "X_test_projects_posted_norm   =  sc.transform(X_test['teacher_number_of_previously_posted_projects'].values.reshape(-1,1))\n",
        "\n",
        "print(\"Mean--\",sc.mean_)\n",
        "print(\"std --\",np.sqrt(sc.var_))\n",
        "\n",
        "print(X_train_projects_posted_norm.shape)\n",
        "print(X_train_projects_posted_norm.shape)\n",
        "\n",
        "print(type(X_train_projects_posted_norm),X_train_projects_posted_norm[0])"
      ],
      "metadata": {
        "colab": {
          "base_uri": "https://localhost:8080/"
        },
        "id": "NOT4xX0pYHih",
        "outputId": "b3359c8f-a5ba-4827-de76-2704f5f73989"
      },
      "execution_count": 20,
      "outputs": [
        {
          "output_type": "stream",
          "name": "stdout",
          "text": [
            "Mean-- [9.89837953]\n",
            "std -- [24.45583011]\n",
            "(23450, 1)\n",
            "(23450, 1)\n",
            "<class 'numpy.ndarray'> [-0.3229651]\n"
          ]
        }
      ]
    },
    {
      "cell_type": "code",
      "source": [
        "print(X_train_essay_tfidf.shape)\n",
        "print(len(school_state_pos))\n",
        "\n",
        "\n",
        "ps = np.array(school_state_pos)\n",
        "\n",
        "print(ps.shape)\n",
        "print(ps.reshape(-1,1).shape)"
      ],
      "metadata": {
        "colab": {
          "base_uri": "https://localhost:8080/"
        },
        "id": "ndbaSc6tZ8S0",
        "outputId": "7062b220-897e-4146-ba16-6ecc4653852a"
      },
      "execution_count": 21,
      "outputs": [
        {
          "output_type": "stream",
          "name": "stdout",
          "text": [
            "(23450, 6000)\n",
            "23450\n",
            "(23450,)\n",
            "(23450, 1)\n"
          ]
        }
      ]
    },
    {
      "cell_type": "code",
      "source": [
        "from scipy.sparse import  hstack\n",
        "\n",
        "X_tr = hstack((\n",
        "               X_train_essay_tfidf,\n",
        "               np.array(school_state_pos).reshape(-1,1),np.array(school_state_neg).reshape(-1,1),\n",
        "               np.array(project_grade_pos).reshape(-1,1),np.array(project_grade_neg).reshape(-1,1),\n",
        "               np.array(clean_subcategories_pos).reshape(-1,1),np.array(clean_subcategories_neg).reshape(-1,1),\n",
        "               np.array(clean_categories_pos).reshape(-1,1),np.array(clean_categories_neg).reshape(-1,1),\n",
        "               X_train_price_norm,X_train_projects_posted_norm,\n",
        "               X_train['negative'].values.reshape(-1,1),\n",
        "               X_train['neutral'].values.reshape(-1,1),\n",
        "               X_train['positive'].values.reshape(-1,1),\n",
        "               X_train['compound'].values.reshape(-1,1)\n",
        "               )).tocsr()\n",
        "\n",
        "X_te = hstack((X_test_essay_tfidf,\n",
        "               np.array(school_state_pos_te).reshape(-1,1),np.array(school_state_neg_te).reshape(-1,1),\n",
        "               np.array(project_grade_pos_te).reshape(-1,1),np.array(project_grade_neg_te).reshape(-1,1),\n",
        "               np.array(clean_subcategories_pos_te).reshape(-1,1),np.array(clean_subcategories_neg_te).reshape(-1,1),\n",
        "               np.array(clean_categories_pos_te).reshape(-1,1),np.array(clean_categories_neg_te).reshape(-1,1),\n",
        "               X_test_price_norm,X_test_projects_posted_norm,\n",
        "               X_test['negative'].values.reshape(-1,1),\n",
        "               X_test['neutral'].values.reshape(-1,1),\n",
        "               X_test['positive'].values.reshape(-1,1),\n",
        "               X_test['compound'].values.reshape(-1,1))).tocsr()\n",
        "\n",
        "print(\"Final Data matrix\")\n",
        "\n",
        "print(X_tr.shape, y_train.shape)\n",
        "print(X_te.shape, y_test.shape)"
      ],
      "metadata": {
        "colab": {
          "base_uri": "https://localhost:8080/"
        },
        "id": "DccebunvYKtj",
        "outputId": "6da6ed06-646c-41dd-b4d7-856a2f7cd2a7"
      },
      "execution_count": 22,
      "outputs": [
        {
          "output_type": "stream",
          "name": "stdout",
          "text": [
            "Final Data matrix\n",
            "(23450, 6014) (23450,)\n",
            "(11550, 6014) (11550,)\n"
          ]
        }
      ]
    },
    {
      "cell_type": "markdown",
      "metadata": {
        "id": "I5wDFj17sc3-"
      },
      "source": [
        "<h2>1.5 Appling Models on different kind of featurization as mentioned in the instructions</h2>"
      ]
    },
    {
      "cell_type": "markdown",
      "metadata": {
        "id": "O5tWox1jsc3_"
      },
      "source": [
        "<br>Apply GBDT on different kind of featurization as mentioned in the instructions\n",
        "<br> For Every model that you work on make sure you do the step 2 and step 3 of instrucations"
      ]
    },
    {
      "cell_type": "markdown",
      "source": [
        "**As the number of base models increase, variance tends to increase, bias\n",
        "tends to decrease and leads to overfitting**"
      ],
      "metadata": {
        "id": "Uv10TAaP5z3J"
      }
    },
    {
      "cell_type": "code",
      "execution_count": 23,
      "metadata": {
        "id": "ARWulYUwsc4B",
        "colab": {
          "base_uri": "https://localhost:8080/"
        },
        "outputId": "70aff645-7e24-40c3-8eab-bfc32b6a4fe9"
      },
      "outputs": [
        {
          "output_type": "stream",
          "name": "stdout",
          "text": [
            "Fitting 2 folds for each of 12 candidates, totalling 24 fits\n",
            "CPU times: user 25.7 s, sys: 390 ms, total: 26.1 s\n",
            "Wall time: 2min 41s\n"
          ]
        }
      ],
      "source": [
        "%%time \n",
        "# 2min 41s\n",
        "# as the number of hyperparameters are large in this case so we will use randomized search cv insetad og gridsearch \n",
        "\n",
        "from sklearn.model_selection import GridSearchCV\n",
        "from xgboost import XGBClassifier\n",
        "\n",
        "gbdt = XGBClassifier(subsample = 0.5,colsample_bytree = 0.5)\n",
        "\n",
        "grid_params = {'n_estimators': [10,30,50], 'max_depth':[2,5,7,9]}\n",
        "\n",
        "clf = GridSearchCV(gbdt,grid_params ,cv = 2, scoring = 'roc_auc',n_jobs =-1,verbose = 2,return_train_score =  True)\n",
        "clf.fit(X_tr, y_train)  \n",
        "\n",
        "results = pd.DataFrame.from_dict(clf.cv_results_)\n",
        "\n",
        "results.head(3)"
      ]
    },
    {
      "cell_type": "code",
      "source": [
        "print( results.columns )\n",
        "\n",
        "results.head()"
      ],
      "metadata": {
        "colab": {
          "base_uri": "https://localhost:8080/",
          "height": 635
        },
        "id": "_I3ubRl7vF0g",
        "outputId": "6b1ab88c-7d70-4cc6-903a-2ea645028f1d"
      },
      "execution_count": 24,
      "outputs": [
        {
          "output_type": "stream",
          "name": "stdout",
          "text": [
            "Index(['mean_fit_time', 'std_fit_time', 'mean_score_time', 'std_score_time',\n",
            "       'param_max_depth', 'param_n_estimators', 'params', 'split0_test_score',\n",
            "       'split1_test_score', 'mean_test_score', 'std_test_score',\n",
            "       'rank_test_score', 'split0_train_score', 'split1_train_score',\n",
            "       'mean_train_score', 'std_train_score'],\n",
            "      dtype='object')\n"
          ]
        },
        {
          "output_type": "execute_result",
          "data": {
            "text/plain": [
              "   mean_fit_time  std_fit_time  mean_score_time  std_score_time  \\\n",
              "0       2.821916      0.070690         1.056577        0.002813   \n",
              "1       4.105777      0.030659         1.021959        0.005677   \n",
              "2       5.972690      0.034490         1.018155        0.007849   \n",
              "3       3.529773      0.008056         1.022316        0.005186   \n",
              "4       7.939885      0.023724         1.065582        0.025892   \n",
              "\n",
              "  param_max_depth param_n_estimators                                params  \\\n",
              "0               2                 10  {'max_depth': 2, 'n_estimators': 10}   \n",
              "1               2                 30  {'max_depth': 2, 'n_estimators': 30}   \n",
              "2               2                 50  {'max_depth': 2, 'n_estimators': 50}   \n",
              "3               5                 10  {'max_depth': 5, 'n_estimators': 10}   \n",
              "4               5                 30  {'max_depth': 5, 'n_estimators': 30}   \n",
              "\n",
              "   split0_test_score  split1_test_score  mean_test_score  std_test_score  \\\n",
              "0           0.623033           0.655810         0.639422        0.016388   \n",
              "1           0.645493           0.673732         0.659612        0.014119   \n",
              "2           0.665560           0.688473         0.677016        0.011457   \n",
              "3           0.624364           0.642928         0.633646        0.009282   \n",
              "4           0.658879           0.672561         0.665720        0.006841   \n",
              "\n",
              "   rank_test_score  split0_train_score  split1_train_score  mean_train_score  \\\n",
              "0                9            0.672918            0.675839          0.674379   \n",
              "1                8            0.708122            0.715746          0.711934   \n",
              "2                4            0.738818            0.745807          0.742312   \n",
              "3               10            0.748471            0.756783          0.752627   \n",
              "4                6            0.839553            0.843865          0.841709   \n",
              "\n",
              "   std_train_score  \n",
              "0         0.001460  \n",
              "1         0.003812  \n",
              "2         0.003495  \n",
              "3         0.004156  \n",
              "4         0.002156  "
            ],
            "text/html": [
              "\n",
              "  <div id=\"df-47af977f-a1fb-45a6-8a3d-ec166092ab0c\">\n",
              "    <div class=\"colab-df-container\">\n",
              "      <div>\n",
              "<style scoped>\n",
              "    .dataframe tbody tr th:only-of-type {\n",
              "        vertical-align: middle;\n",
              "    }\n",
              "\n",
              "    .dataframe tbody tr th {\n",
              "        vertical-align: top;\n",
              "    }\n",
              "\n",
              "    .dataframe thead th {\n",
              "        text-align: right;\n",
              "    }\n",
              "</style>\n",
              "<table border=\"1\" class=\"dataframe\">\n",
              "  <thead>\n",
              "    <tr style=\"text-align: right;\">\n",
              "      <th></th>\n",
              "      <th>mean_fit_time</th>\n",
              "      <th>std_fit_time</th>\n",
              "      <th>mean_score_time</th>\n",
              "      <th>std_score_time</th>\n",
              "      <th>param_max_depth</th>\n",
              "      <th>param_n_estimators</th>\n",
              "      <th>params</th>\n",
              "      <th>split0_test_score</th>\n",
              "      <th>split1_test_score</th>\n",
              "      <th>mean_test_score</th>\n",
              "      <th>std_test_score</th>\n",
              "      <th>rank_test_score</th>\n",
              "      <th>split0_train_score</th>\n",
              "      <th>split1_train_score</th>\n",
              "      <th>mean_train_score</th>\n",
              "      <th>std_train_score</th>\n",
              "    </tr>\n",
              "  </thead>\n",
              "  <tbody>\n",
              "    <tr>\n",
              "      <th>0</th>\n",
              "      <td>2.821916</td>\n",
              "      <td>0.070690</td>\n",
              "      <td>1.056577</td>\n",
              "      <td>0.002813</td>\n",
              "      <td>2</td>\n",
              "      <td>10</td>\n",
              "      <td>{'max_depth': 2, 'n_estimators': 10}</td>\n",
              "      <td>0.623033</td>\n",
              "      <td>0.655810</td>\n",
              "      <td>0.639422</td>\n",
              "      <td>0.016388</td>\n",
              "      <td>9</td>\n",
              "      <td>0.672918</td>\n",
              "      <td>0.675839</td>\n",
              "      <td>0.674379</td>\n",
              "      <td>0.001460</td>\n",
              "    </tr>\n",
              "    <tr>\n",
              "      <th>1</th>\n",
              "      <td>4.105777</td>\n",
              "      <td>0.030659</td>\n",
              "      <td>1.021959</td>\n",
              "      <td>0.005677</td>\n",
              "      <td>2</td>\n",
              "      <td>30</td>\n",
              "      <td>{'max_depth': 2, 'n_estimators': 30}</td>\n",
              "      <td>0.645493</td>\n",
              "      <td>0.673732</td>\n",
              "      <td>0.659612</td>\n",
              "      <td>0.014119</td>\n",
              "      <td>8</td>\n",
              "      <td>0.708122</td>\n",
              "      <td>0.715746</td>\n",
              "      <td>0.711934</td>\n",
              "      <td>0.003812</td>\n",
              "    </tr>\n",
              "    <tr>\n",
              "      <th>2</th>\n",
              "      <td>5.972690</td>\n",
              "      <td>0.034490</td>\n",
              "      <td>1.018155</td>\n",
              "      <td>0.007849</td>\n",
              "      <td>2</td>\n",
              "      <td>50</td>\n",
              "      <td>{'max_depth': 2, 'n_estimators': 50}</td>\n",
              "      <td>0.665560</td>\n",
              "      <td>0.688473</td>\n",
              "      <td>0.677016</td>\n",
              "      <td>0.011457</td>\n",
              "      <td>4</td>\n",
              "      <td>0.738818</td>\n",
              "      <td>0.745807</td>\n",
              "      <td>0.742312</td>\n",
              "      <td>0.003495</td>\n",
              "    </tr>\n",
              "    <tr>\n",
              "      <th>3</th>\n",
              "      <td>3.529773</td>\n",
              "      <td>0.008056</td>\n",
              "      <td>1.022316</td>\n",
              "      <td>0.005186</td>\n",
              "      <td>5</td>\n",
              "      <td>10</td>\n",
              "      <td>{'max_depth': 5, 'n_estimators': 10}</td>\n",
              "      <td>0.624364</td>\n",
              "      <td>0.642928</td>\n",
              "      <td>0.633646</td>\n",
              "      <td>0.009282</td>\n",
              "      <td>10</td>\n",
              "      <td>0.748471</td>\n",
              "      <td>0.756783</td>\n",
              "      <td>0.752627</td>\n",
              "      <td>0.004156</td>\n",
              "    </tr>\n",
              "    <tr>\n",
              "      <th>4</th>\n",
              "      <td>7.939885</td>\n",
              "      <td>0.023724</td>\n",
              "      <td>1.065582</td>\n",
              "      <td>0.025892</td>\n",
              "      <td>5</td>\n",
              "      <td>30</td>\n",
              "      <td>{'max_depth': 5, 'n_estimators': 30}</td>\n",
              "      <td>0.658879</td>\n",
              "      <td>0.672561</td>\n",
              "      <td>0.665720</td>\n",
              "      <td>0.006841</td>\n",
              "      <td>6</td>\n",
              "      <td>0.839553</td>\n",
              "      <td>0.843865</td>\n",
              "      <td>0.841709</td>\n",
              "      <td>0.002156</td>\n",
              "    </tr>\n",
              "  </tbody>\n",
              "</table>\n",
              "</div>\n",
              "      <button class=\"colab-df-convert\" onclick=\"convertToInteractive('df-47af977f-a1fb-45a6-8a3d-ec166092ab0c')\"\n",
              "              title=\"Convert this dataframe to an interactive table.\"\n",
              "              style=\"display:none;\">\n",
              "        \n",
              "  <svg xmlns=\"http://www.w3.org/2000/svg\" height=\"24px\"viewBox=\"0 0 24 24\"\n",
              "       width=\"24px\">\n",
              "    <path d=\"M0 0h24v24H0V0z\" fill=\"none\"/>\n",
              "    <path d=\"M18.56 5.44l.94 2.06.94-2.06 2.06-.94-2.06-.94-.94-2.06-.94 2.06-2.06.94zm-11 1L8.5 8.5l.94-2.06 2.06-.94-2.06-.94L8.5 2.5l-.94 2.06-2.06.94zm10 10l.94 2.06.94-2.06 2.06-.94-2.06-.94-.94-2.06-.94 2.06-2.06.94z\"/><path d=\"M17.41 7.96l-1.37-1.37c-.4-.4-.92-.59-1.43-.59-.52 0-1.04.2-1.43.59L10.3 9.45l-7.72 7.72c-.78.78-.78 2.05 0 2.83L4 21.41c.39.39.9.59 1.41.59.51 0 1.02-.2 1.41-.59l7.78-7.78 2.81-2.81c.8-.78.8-2.07 0-2.86zM5.41 20L4 18.59l7.72-7.72 1.47 1.35L5.41 20z\"/>\n",
              "  </svg>\n",
              "      </button>\n",
              "      \n",
              "  <style>\n",
              "    .colab-df-container {\n",
              "      display:flex;\n",
              "      flex-wrap:wrap;\n",
              "      gap: 12px;\n",
              "    }\n",
              "\n",
              "    .colab-df-convert {\n",
              "      background-color: #E8F0FE;\n",
              "      border: none;\n",
              "      border-radius: 50%;\n",
              "      cursor: pointer;\n",
              "      display: none;\n",
              "      fill: #1967D2;\n",
              "      height: 32px;\n",
              "      padding: 0 0 0 0;\n",
              "      width: 32px;\n",
              "    }\n",
              "\n",
              "    .colab-df-convert:hover {\n",
              "      background-color: #E2EBFA;\n",
              "      box-shadow: 0px 1px 2px rgba(60, 64, 67, 0.3), 0px 1px 3px 1px rgba(60, 64, 67, 0.15);\n",
              "      fill: #174EA6;\n",
              "    }\n",
              "\n",
              "    [theme=dark] .colab-df-convert {\n",
              "      background-color: #3B4455;\n",
              "      fill: #D2E3FC;\n",
              "    }\n",
              "\n",
              "    [theme=dark] .colab-df-convert:hover {\n",
              "      background-color: #434B5C;\n",
              "      box-shadow: 0px 1px 3px 1px rgba(0, 0, 0, 0.15);\n",
              "      filter: drop-shadow(0px 1px 2px rgba(0, 0, 0, 0.3));\n",
              "      fill: #FFFFFF;\n",
              "    }\n",
              "  </style>\n",
              "\n",
              "      <script>\n",
              "        const buttonEl =\n",
              "          document.querySelector('#df-47af977f-a1fb-45a6-8a3d-ec166092ab0c button.colab-df-convert');\n",
              "        buttonEl.style.display =\n",
              "          google.colab.kernel.accessAllowed ? 'block' : 'none';\n",
              "\n",
              "        async function convertToInteractive(key) {\n",
              "          const element = document.querySelector('#df-47af977f-a1fb-45a6-8a3d-ec166092ab0c');\n",
              "          const dataTable =\n",
              "            await google.colab.kernel.invokeFunction('convertToInteractive',\n",
              "                                                     [key], {});\n",
              "          if (!dataTable) return;\n",
              "\n",
              "          const docLinkHtml = 'Like what you see? Visit the ' +\n",
              "            '<a target=\"_blank\" href=https://colab.research.google.com/notebooks/data_table.ipynb>data table notebook</a>'\n",
              "            + ' to learn more about interactive tables.';\n",
              "          element.innerHTML = '';\n",
              "          dataTable['output_type'] = 'display_data';\n",
              "          await google.colab.output.renderOutput(dataTable, element);\n",
              "          const docLink = document.createElement('div');\n",
              "          docLink.innerHTML = docLinkHtml;\n",
              "          element.appendChild(docLink);\n",
              "        }\n",
              "      </script>\n",
              "    </div>\n",
              "  </div>\n",
              "  "
            ]
          },
          "metadata": {},
          "execution_count": 24
        }
      ]
    },
    {
      "cell_type": "code",
      "source": [
        "pivoted_results = results.pivot(index = 'param_n_estimators', columns = 'param_max_depth')\n",
        "\n",
        "pivoted_results.head()"
      ],
      "metadata": {
        "colab": {
          "base_uri": "https://localhost:8080/",
          "height": 299
        },
        "id": "tLqWKuOBtfOl",
        "outputId": "7b532e3b-2a29-4d1b-84aa-264a85822b90"
      },
      "execution_count": 25,
      "outputs": [
        {
          "output_type": "execute_result",
          "data": {
            "text/plain": [
              "                   mean_fit_time                                   \\\n",
              "param_max_depth                2          5          7          9   \n",
              "param_n_estimators                                                  \n",
              "10                      2.821916   3.529773   4.495630   5.123558   \n",
              "30                      4.105777   7.939885  11.073685  13.223535   \n",
              "50                      5.972690  12.637428  17.999447  20.740984   \n",
              "\n",
              "                   std_fit_time                               mean_score_time  \\\n",
              "param_max_depth               2         5         7         9               2   \n",
              "param_n_estimators                                                              \n",
              "10                     0.070690  0.008056  0.003471  0.022726        1.056577   \n",
              "30                     0.030659  0.023724  0.050882  0.107884        1.021959   \n",
              "50                     0.034490  0.013870  0.111287  0.045549        1.018155   \n",
              "\n",
              "                              ... split1_train_score            \\\n",
              "param_max_depth            5  ...                  7         9   \n",
              "param_n_estimators            ...                                \n",
              "10                  1.022316  ...           0.805202  0.847595   \n",
              "30                  1.065582  ...           0.901338  0.940472   \n",
              "50                  1.065499  ...           0.943207  0.971743   \n",
              "\n",
              "                   mean_train_score                                \\\n",
              "param_max_depth                   2         5         7         9   \n",
              "param_n_estimators                                                  \n",
              "10                         0.674379  0.752627  0.801319  0.837156   \n",
              "30                         0.711934  0.841709  0.900100  0.938178   \n",
              "50                         0.742312  0.881259  0.939903  0.971149   \n",
              "\n",
              "                   std_train_score                                \n",
              "param_max_depth                  2         5         7         9  \n",
              "param_n_estimators                                                \n",
              "10                        0.001460  0.004156  0.003883  0.010440  \n",
              "30                        0.003812  0.002156  0.001238  0.002293  \n",
              "50                        0.003495  0.002642  0.003304  0.000594  \n",
              "\n",
              "[3 rows x 56 columns]"
            ],
            "text/html": [
              "\n",
              "  <div id=\"df-4d339c64-ea32-459c-a57a-2d80634097b1\">\n",
              "    <div class=\"colab-df-container\">\n",
              "      <div>\n",
              "<style scoped>\n",
              "    .dataframe tbody tr th:only-of-type {\n",
              "        vertical-align: middle;\n",
              "    }\n",
              "\n",
              "    .dataframe tbody tr th {\n",
              "        vertical-align: top;\n",
              "    }\n",
              "\n",
              "    .dataframe thead tr th {\n",
              "        text-align: left;\n",
              "    }\n",
              "\n",
              "    .dataframe thead tr:last-of-type th {\n",
              "        text-align: right;\n",
              "    }\n",
              "</style>\n",
              "<table border=\"1\" class=\"dataframe\">\n",
              "  <thead>\n",
              "    <tr>\n",
              "      <th></th>\n",
              "      <th colspan=\"4\" halign=\"left\">mean_fit_time</th>\n",
              "      <th colspan=\"4\" halign=\"left\">std_fit_time</th>\n",
              "      <th colspan=\"2\" halign=\"left\">mean_score_time</th>\n",
              "      <th>...</th>\n",
              "      <th colspan=\"2\" halign=\"left\">split1_train_score</th>\n",
              "      <th colspan=\"4\" halign=\"left\">mean_train_score</th>\n",
              "      <th colspan=\"4\" halign=\"left\">std_train_score</th>\n",
              "    </tr>\n",
              "    <tr>\n",
              "      <th>param_max_depth</th>\n",
              "      <th>2</th>\n",
              "      <th>5</th>\n",
              "      <th>7</th>\n",
              "      <th>9</th>\n",
              "      <th>2</th>\n",
              "      <th>5</th>\n",
              "      <th>7</th>\n",
              "      <th>9</th>\n",
              "      <th>2</th>\n",
              "      <th>5</th>\n",
              "      <th>...</th>\n",
              "      <th>7</th>\n",
              "      <th>9</th>\n",
              "      <th>2</th>\n",
              "      <th>5</th>\n",
              "      <th>7</th>\n",
              "      <th>9</th>\n",
              "      <th>2</th>\n",
              "      <th>5</th>\n",
              "      <th>7</th>\n",
              "      <th>9</th>\n",
              "    </tr>\n",
              "    <tr>\n",
              "      <th>param_n_estimators</th>\n",
              "      <th></th>\n",
              "      <th></th>\n",
              "      <th></th>\n",
              "      <th></th>\n",
              "      <th></th>\n",
              "      <th></th>\n",
              "      <th></th>\n",
              "      <th></th>\n",
              "      <th></th>\n",
              "      <th></th>\n",
              "      <th></th>\n",
              "      <th></th>\n",
              "      <th></th>\n",
              "      <th></th>\n",
              "      <th></th>\n",
              "      <th></th>\n",
              "      <th></th>\n",
              "      <th></th>\n",
              "      <th></th>\n",
              "      <th></th>\n",
              "      <th></th>\n",
              "    </tr>\n",
              "  </thead>\n",
              "  <tbody>\n",
              "    <tr>\n",
              "      <th>10</th>\n",
              "      <td>2.821916</td>\n",
              "      <td>3.529773</td>\n",
              "      <td>4.495630</td>\n",
              "      <td>5.123558</td>\n",
              "      <td>0.070690</td>\n",
              "      <td>0.008056</td>\n",
              "      <td>0.003471</td>\n",
              "      <td>0.022726</td>\n",
              "      <td>1.056577</td>\n",
              "      <td>1.022316</td>\n",
              "      <td>...</td>\n",
              "      <td>0.805202</td>\n",
              "      <td>0.847595</td>\n",
              "      <td>0.674379</td>\n",
              "      <td>0.752627</td>\n",
              "      <td>0.801319</td>\n",
              "      <td>0.837156</td>\n",
              "      <td>0.001460</td>\n",
              "      <td>0.004156</td>\n",
              "      <td>0.003883</td>\n",
              "      <td>0.010440</td>\n",
              "    </tr>\n",
              "    <tr>\n",
              "      <th>30</th>\n",
              "      <td>4.105777</td>\n",
              "      <td>7.939885</td>\n",
              "      <td>11.073685</td>\n",
              "      <td>13.223535</td>\n",
              "      <td>0.030659</td>\n",
              "      <td>0.023724</td>\n",
              "      <td>0.050882</td>\n",
              "      <td>0.107884</td>\n",
              "      <td>1.021959</td>\n",
              "      <td>1.065582</td>\n",
              "      <td>...</td>\n",
              "      <td>0.901338</td>\n",
              "      <td>0.940472</td>\n",
              "      <td>0.711934</td>\n",
              "      <td>0.841709</td>\n",
              "      <td>0.900100</td>\n",
              "      <td>0.938178</td>\n",
              "      <td>0.003812</td>\n",
              "      <td>0.002156</td>\n",
              "      <td>0.001238</td>\n",
              "      <td>0.002293</td>\n",
              "    </tr>\n",
              "    <tr>\n",
              "      <th>50</th>\n",
              "      <td>5.972690</td>\n",
              "      <td>12.637428</td>\n",
              "      <td>17.999447</td>\n",
              "      <td>20.740984</td>\n",
              "      <td>0.034490</td>\n",
              "      <td>0.013870</td>\n",
              "      <td>0.111287</td>\n",
              "      <td>0.045549</td>\n",
              "      <td>1.018155</td>\n",
              "      <td>1.065499</td>\n",
              "      <td>...</td>\n",
              "      <td>0.943207</td>\n",
              "      <td>0.971743</td>\n",
              "      <td>0.742312</td>\n",
              "      <td>0.881259</td>\n",
              "      <td>0.939903</td>\n",
              "      <td>0.971149</td>\n",
              "      <td>0.003495</td>\n",
              "      <td>0.002642</td>\n",
              "      <td>0.003304</td>\n",
              "      <td>0.000594</td>\n",
              "    </tr>\n",
              "  </tbody>\n",
              "</table>\n",
              "<p>3 rows × 56 columns</p>\n",
              "</div>\n",
              "      <button class=\"colab-df-convert\" onclick=\"convertToInteractive('df-4d339c64-ea32-459c-a57a-2d80634097b1')\"\n",
              "              title=\"Convert this dataframe to an interactive table.\"\n",
              "              style=\"display:none;\">\n",
              "        \n",
              "  <svg xmlns=\"http://www.w3.org/2000/svg\" height=\"24px\"viewBox=\"0 0 24 24\"\n",
              "       width=\"24px\">\n",
              "    <path d=\"M0 0h24v24H0V0z\" fill=\"none\"/>\n",
              "    <path d=\"M18.56 5.44l.94 2.06.94-2.06 2.06-.94-2.06-.94-.94-2.06-.94 2.06-2.06.94zm-11 1L8.5 8.5l.94-2.06 2.06-.94-2.06-.94L8.5 2.5l-.94 2.06-2.06.94zm10 10l.94 2.06.94-2.06 2.06-.94-2.06-.94-.94-2.06-.94 2.06-2.06.94z\"/><path d=\"M17.41 7.96l-1.37-1.37c-.4-.4-.92-.59-1.43-.59-.52 0-1.04.2-1.43.59L10.3 9.45l-7.72 7.72c-.78.78-.78 2.05 0 2.83L4 21.41c.39.39.9.59 1.41.59.51 0 1.02-.2 1.41-.59l7.78-7.78 2.81-2.81c.8-.78.8-2.07 0-2.86zM5.41 20L4 18.59l7.72-7.72 1.47 1.35L5.41 20z\"/>\n",
              "  </svg>\n",
              "      </button>\n",
              "      \n",
              "  <style>\n",
              "    .colab-df-container {\n",
              "      display:flex;\n",
              "      flex-wrap:wrap;\n",
              "      gap: 12px;\n",
              "    }\n",
              "\n",
              "    .colab-df-convert {\n",
              "      background-color: #E8F0FE;\n",
              "      border: none;\n",
              "      border-radius: 50%;\n",
              "      cursor: pointer;\n",
              "      display: none;\n",
              "      fill: #1967D2;\n",
              "      height: 32px;\n",
              "      padding: 0 0 0 0;\n",
              "      width: 32px;\n",
              "    }\n",
              "\n",
              "    .colab-df-convert:hover {\n",
              "      background-color: #E2EBFA;\n",
              "      box-shadow: 0px 1px 2px rgba(60, 64, 67, 0.3), 0px 1px 3px 1px rgba(60, 64, 67, 0.15);\n",
              "      fill: #174EA6;\n",
              "    }\n",
              "\n",
              "    [theme=dark] .colab-df-convert {\n",
              "      background-color: #3B4455;\n",
              "      fill: #D2E3FC;\n",
              "    }\n",
              "\n",
              "    [theme=dark] .colab-df-convert:hover {\n",
              "      background-color: #434B5C;\n",
              "      box-shadow: 0px 1px 3px 1px rgba(0, 0, 0, 0.15);\n",
              "      filter: drop-shadow(0px 1px 2px rgba(0, 0, 0, 0.3));\n",
              "      fill: #FFFFFF;\n",
              "    }\n",
              "  </style>\n",
              "\n",
              "      <script>\n",
              "        const buttonEl =\n",
              "          document.querySelector('#df-4d339c64-ea32-459c-a57a-2d80634097b1 button.colab-df-convert');\n",
              "        buttonEl.style.display =\n",
              "          google.colab.kernel.accessAllowed ? 'block' : 'none';\n",
              "\n",
              "        async function convertToInteractive(key) {\n",
              "          const element = document.querySelector('#df-4d339c64-ea32-459c-a57a-2d80634097b1');\n",
              "          const dataTable =\n",
              "            await google.colab.kernel.invokeFunction('convertToInteractive',\n",
              "                                                     [key], {});\n",
              "          if (!dataTable) return;\n",
              "\n",
              "          const docLinkHtml = 'Like what you see? Visit the ' +\n",
              "            '<a target=\"_blank\" href=https://colab.research.google.com/notebooks/data_table.ipynb>data table notebook</a>'\n",
              "            + ' to learn more about interactive tables.';\n",
              "          element.innerHTML = '';\n",
              "          dataTable['output_type'] = 'display_data';\n",
              "          await google.colab.output.renderOutput(dataTable, element);\n",
              "          const docLink = document.createElement('div');\n",
              "          docLink.innerHTML = docLinkHtml;\n",
              "          element.appendChild(docLink);\n",
              "        }\n",
              "      </script>\n",
              "    </div>\n",
              "  </div>\n",
              "  "
            ]
          },
          "metadata": {},
          "execution_count": 25
        }
      ]
    },
    {
      "cell_type": "code",
      "source": [
        "fig, ax = plt.subplots(1,2, figsize=(20,6))\n",
        "\n",
        "sns.heatmap(pivoted_results.mean_train_score, annot = True, fmt='.4g',  ax = ax[0]) \n",
        "sns.heatmap(pivoted_results.mean_test_score,  annot = True, fmt='.4g',  ax = ax[1])\n",
        "\n",
        "ax[0].set_title('Train')\n",
        "ax[1].set_title('CV')\n",
        "\n",
        "plt.show()"
      ],
      "metadata": {
        "colab": {
          "base_uri": "https://localhost:8080/",
          "height": 405
        },
        "id": "Jj0W3BLxtgKz",
        "outputId": "08dd0cdd-d8ef-4d91-cf42-9be5e873cc5b"
      },
      "execution_count": 26,
      "outputs": [
        {
          "output_type": "display_data",
          "data": {
            "text/plain": [
              "<Figure size 1440x432 with 4 Axes>"
            ],
            "image/png": "[encoded data removed]"
          },
          "metadata": {
            "needs_background": "light"
          }
        }
      ]
    },
    {
      "cell_type": "markdown",
      "source": [
        "* Here we have white cells because we used randomizedsearchCV instead of gridsearch"
      ],
      "metadata": {
        "id": "qRYOuTcN2hUJ"
      }
    },
    {
      "cell_type": "code",
      "source": [
        "print('Best ROC-AUC score: ',clf.best_score_)\n",
        "print('Best Parameter are: ',clf.best_params_)"
      ],
      "metadata": {
        "colab": {
          "base_uri": "https://localhost:8080/"
        },
        "id": "rkKTNBZWtpq3",
        "outputId": "dec251fa-f22d-45f6-d0bf-5e49366c1822"
      },
      "execution_count": 27,
      "outputs": [
        {
          "output_type": "stream",
          "name": "stdout",
          "text": [
            "Best ROC-AUC score:  0.6813707442174115\n",
            "Best Parameter are:  {'max_depth': 9, 'n_estimators': 50}\n"
          ]
        }
      ]
    },
    {
      "cell_type": "code",
      "source": [
        "from xgboost import XGBClassifier\n",
        "from sklearn.metrics import roc_curve, auc\n",
        "\n",
        "gbdt = XGBClassifier(n_estimators = 50,max_depth = 9,subsample = 0.5,colsample_bytree = 0.5)\n",
        "gbdt.fit(X_tr, y_train)\n",
        "\n",
        "y_train_pred = gbdt.predict_proba(X_tr)[:,1]\n",
        "y_test_pred  = gbdt.predict_proba(X_te)[:,1]\n",
        "\n",
        "train_fpr, train_tpr, tr_thresholds = roc_curve(y_train, y_train_pred)\n",
        "test_fpr,  test_tpr, te_thresholds  = roc_curve(y_test,  y_test_pred)\n",
        "\n",
        "plt.plot(train_fpr, train_tpr, label=\"train AUC =\"+str(auc(train_fpr, train_tpr)))\n",
        "plt.plot(test_fpr, test_tpr,   label=\"test AUC  =\"+str(auc(test_fpr, test_tpr)))\n",
        "\n",
        "plt.legend()\n",
        "\n",
        "plt.xlabel(\"FPR\")\n",
        "plt.ylabel(\"TPR\")\n",
        "\n",
        "plt.title(\"ERROR PLOTS\")\n",
        "\n",
        "plt.grid()\n",
        "plt.show()"
      ],
      "metadata": {
        "colab": {
          "base_uri": "https://localhost:8080/",
          "height": 295
        },
        "id": "X5VxQHGpzcf2",
        "outputId": "0d1f67a9-143e-44d2-ad91-1d4d6c82db30"
      },
      "execution_count": 31,
      "outputs": [
        {
          "output_type": "display_data",
          "data": {
            "text/plain": [
              "<Figure size 432x288 with 1 Axes>"
            ],
            "image/png": "[encoded data removed]"
          },
          "metadata": {
            "needs_background": "light"
          }
        }
      ]
    },
    {
      "cell_type": "markdown",
      "source": [
        "* Here we can see clearly that our model is overfitting so we have to chose better hyperparameters to resolve the issue.\n",
        "\n",
        "* let's start by fixing our max_depth = 5 , as we do not want very large depth trees in GBDT we need high biased models and we will try new hyperparameter called learning rate and see if that's work or not .\n",
        "\n",
        "* here if learning rate increases then model overfits but if we reduce the learning rate then it increase both train and query time , and since here we want to avoid overfiting so we won't focus much on time part.\n",
        "\n",
        "* https://www.analyticsvidhya.com/blog/2016/03/complete-guide-parameter-tuning-xgboost-with-codes-python/\n",
        "\n",
        "* https://www.kaggle.com/code/tilii7/hyperparameter-grid-search-with-xgboost/notebook\n"
      ],
      "metadata": {
        "id": "eI3ct9B1pgRW"
      }
    },
    {
      "cell_type": "markdown",
      "source": [
        "The above Best parameters resulted in overfitting of the model which was not desired Hence we will select the parameters on the basis of least difference between train and test ROC SCOre which is nothing but \n",
        "\n",
        "depth = 2, n_estimators = 10 would have been bettwe choice but before making anymore conclusion let's try out one more hyperparameter which is regularisation by shrinkage"
      ],
      "metadata": {
        "id": "HC04wWw49MAV"
      }
    },
    {
      "cell_type": "code",
      "source": [
        "%%time \n",
        "# around 1 min 45 sec  minutes\n",
        "\n",
        "# we can also use bayesian optimization for xgboost if the hyperparameters increases  \n",
        "\n",
        "from sklearn.model_selection import GridSearchCV\n",
        "from xgboost import XGBClassifier\n",
        "\n",
        "gbdt = XGBClassifier(max_depth = 3,random_state = 42,subsample = 0.5,colsample_bytree = 0.5)\n",
        "\n",
        "grid_params = {'n_estimators': [10,30,50], 'learning_rate':[0.001, 0.01, 0.1,1.0]}\n",
        " \n",
        "clf = GridSearchCV(gbdt,grid_params ,cv = 2, scoring = 'roc_auc',n_jobs =-1,verbose = 3,return_train_score =  True)\n",
        "clf.fit(X_tr, y_train)  \n",
        "\n",
        "results = pd.DataFrame.from_dict(clf.cv_results_)\n",
        "\n",
        "results.head(3)"
      ],
      "metadata": {
        "colab": {
          "base_uri": "https://localhost:8080/"
        },
        "id": "_OJizxg72tE8",
        "outputId": "7a5f65b7-a246-427a-8a88-5282c8cecdc3"
      },
      "execution_count": 33,
      "outputs": [
        {
          "output_type": "stream",
          "name": "stdout",
          "text": [
            "Fitting 2 folds for each of 12 candidates, totalling 24 fits\n",
            "CPU times: user 10.7 s, sys: 225 ms, total: 11 s\n",
            "Wall time: 1min 45s\n"
          ]
        }
      ]
    },
    {
      "cell_type": "code",
      "source": [
        "results.head(3)"
      ],
      "metadata": {
        "colab": {
          "base_uri": "https://localhost:8080/",
          "height": 363
        },
        "id": "KLVknCy07JsX",
        "outputId": "3fad531b-8f83-44dc-b2dc-e194a979c399"
      },
      "execution_count": 34,
      "outputs": [
        {
          "output_type": "execute_result",
          "data": {
            "text/plain": [
              "   mean_fit_time  std_fit_time  mean_score_time  std_score_time  \\\n",
              "0       4.636548      0.071819         1.322032        0.013726   \n",
              "1       5.421792      0.002308         1.015029        0.011987   \n",
              "2       8.253812      0.059713         1.056866        0.011934   \n",
              "\n",
              "  param_learning_rate param_n_estimators  \\\n",
              "0               0.001                 10   \n",
              "1               0.001                 30   \n",
              "2               0.001                 50   \n",
              "\n",
              "                                         params  split0_test_score  \\\n",
              "0  {'learning_rate': 0.001, 'n_estimators': 10}           0.621970   \n",
              "1  {'learning_rate': 0.001, 'n_estimators': 30}           0.631942   \n",
              "2  {'learning_rate': 0.001, 'n_estimators': 50}           0.635862   \n",
              "\n",
              "   split1_test_score  mean_test_score  std_test_score  rank_test_score  \\\n",
              "0           0.638858         0.630414        0.008444                9   \n",
              "1           0.664844         0.648393        0.016451                6   \n",
              "2           0.668618         0.652240        0.016378                4   \n",
              "\n",
              "   split0_train_score  split1_train_score  mean_train_score  std_train_score  \n",
              "0            0.681035            0.679624          0.680330         0.000705  \n",
              "1            0.704088            0.725678          0.714883         0.010795  \n",
              "2            0.714516            0.735462          0.724989         0.010473  "
            ],
            "text/html": [
              "\n",
              "  <div id=\"df-dc6719c4-90e2-498a-acd1-ba8e36278cf7\">\n",
              "    <div class=\"colab-df-container\">\n",
              "      <div>\n",
              "<style scoped>\n",
              "    .dataframe tbody tr th:only-of-type {\n",
              "        vertical-align: middle;\n",
              "    }\n",
              "\n",
              "    .dataframe tbody tr th {\n",
              "        vertical-align: top;\n",
              "    }\n",
              "\n",
              "    .dataframe thead th {\n",
              "        text-align: right;\n",
              "    }\n",
              "</style>\n",
              "<table border=\"1\" class=\"dataframe\">\n",
              "  <thead>\n",
              "    <tr style=\"text-align: right;\">\n",
              "      <th></th>\n",
              "      <th>mean_fit_time</th>\n",
              "      <th>std_fit_time</th>\n",
              "      <th>mean_score_time</th>\n",
              "      <th>std_score_time</th>\n",
              "      <th>param_learning_rate</th>\n",
              "      <th>param_n_estimators</th>\n",
              "      <th>params</th>\n",
              "      <th>split0_test_score</th>\n",
              "      <th>split1_test_score</th>\n",
              "      <th>mean_test_score</th>\n",
              "      <th>std_test_score</th>\n",
              "      <th>rank_test_score</th>\n",
              "      <th>split0_train_score</th>\n",
              "      <th>split1_train_score</th>\n",
              "      <th>mean_train_score</th>\n",
              "      <th>std_train_score</th>\n",
              "    </tr>\n",
              "  </thead>\n",
              "  <tbody>\n",
              "    <tr>\n",
              "      <th>0</th>\n",
              "      <td>4.636548</td>\n",
              "      <td>0.071819</td>\n",
              "      <td>1.322032</td>\n",
              "      <td>0.013726</td>\n",
              "      <td>0.001</td>\n",
              "      <td>10</td>\n",
              "      <td>{'learning_rate': 0.001, 'n_estimators': 10}</td>\n",
              "      <td>0.621970</td>\n",
              "      <td>0.638858</td>\n",
              "      <td>0.630414</td>\n",
              "      <td>0.008444</td>\n",
              "      <td>9</td>\n",
              "      <td>0.681035</td>\n",
              "      <td>0.679624</td>\n",
              "      <td>0.680330</td>\n",
              "      <td>0.000705</td>\n",
              "    </tr>\n",
              "    <tr>\n",
              "      <th>1</th>\n",
              "      <td>5.421792</td>\n",
              "      <td>0.002308</td>\n",
              "      <td>1.015029</td>\n",
              "      <td>0.011987</td>\n",
              "      <td>0.001</td>\n",
              "      <td>30</td>\n",
              "      <td>{'learning_rate': 0.001, 'n_estimators': 30}</td>\n",
              "      <td>0.631942</td>\n",
              "      <td>0.664844</td>\n",
              "      <td>0.648393</td>\n",
              "      <td>0.016451</td>\n",
              "      <td>6</td>\n",
              "      <td>0.704088</td>\n",
              "      <td>0.725678</td>\n",
              "      <td>0.714883</td>\n",
              "      <td>0.010795</td>\n",
              "    </tr>\n",
              "    <tr>\n",
              "      <th>2</th>\n",
              "      <td>8.253812</td>\n",
              "      <td>0.059713</td>\n",
              "      <td>1.056866</td>\n",
              "      <td>0.011934</td>\n",
              "      <td>0.001</td>\n",
              "      <td>50</td>\n",
              "      <td>{'learning_rate': 0.001, 'n_estimators': 50}</td>\n",
              "      <td>0.635862</td>\n",
              "      <td>0.668618</td>\n",
              "      <td>0.652240</td>\n",
              "      <td>0.016378</td>\n",
              "      <td>4</td>\n",
              "      <td>0.714516</td>\n",
              "      <td>0.735462</td>\n",
              "      <td>0.724989</td>\n",
              "      <td>0.010473</td>\n",
              "    </tr>\n",
              "  </tbody>\n",
              "</table>\n",
              "</div>\n",
              "      <button class=\"colab-df-convert\" onclick=\"convertToInteractive('df-dc6719c4-90e2-498a-acd1-ba8e36278cf7')\"\n",
              "              title=\"Convert this dataframe to an interactive table.\"\n",
              "              style=\"display:none;\">\n",
              "        \n",
              "  <svg xmlns=\"http://www.w3.org/2000/svg\" height=\"24px\"viewBox=\"0 0 24 24\"\n",
              "       width=\"24px\">\n",
              "    <path d=\"M0 0h24v24H0V0z\" fill=\"none\"/>\n",
              "    <path d=\"M18.56 5.44l.94 2.06.94-2.06 2.06-.94-2.06-.94-.94-2.06-.94 2.06-2.06.94zm-11 1L8.5 8.5l.94-2.06 2.06-.94-2.06-.94L8.5 2.5l-.94 2.06-2.06.94zm10 10l.94 2.06.94-2.06 2.06-.94-2.06-.94-.94-2.06-.94 2.06-2.06.94z\"/><path d=\"M17.41 7.96l-1.37-1.37c-.4-.4-.92-.59-1.43-.59-.52 0-1.04.2-1.43.59L10.3 9.45l-7.72 7.72c-.78.78-.78 2.05 0 2.83L4 21.41c.39.39.9.59 1.41.59.51 0 1.02-.2 1.41-.59l7.78-7.78 2.81-2.81c.8-.78.8-2.07 0-2.86zM5.41 20L4 18.59l7.72-7.72 1.47 1.35L5.41 20z\"/>\n",
              "  </svg>\n",
              "      </button>\n",
              "      \n",
              "  <style>\n",
              "    .colab-df-container {\n",
              "      display:flex;\n",
              "      flex-wrap:wrap;\n",
              "      gap: 12px;\n",
              "    }\n",
              "\n",
              "    .colab-df-convert {\n",
              "      background-color: #E8F0FE;\n",
              "      border: none;\n",
              "      border-radius: 50%;\n",
              "      cursor: pointer;\n",
              "      display: none;\n",
              "      fill: #1967D2;\n",
              "      height: 32px;\n",
              "      padding: 0 0 0 0;\n",
              "      width: 32px;\n",
              "    }\n",
              "\n",
              "    .colab-df-convert:hover {\n",
              "      background-color: #E2EBFA;\n",
              "      box-shadow: 0px 1px 2px rgba(60, 64, 67, 0.3), 0px 1px 3px 1px rgba(60, 64, 67, 0.15);\n",
              "      fill: #174EA6;\n",
              "    }\n",
              "\n",
              "    [theme=dark] .colab-df-convert {\n",
              "      background-color: #3B4455;\n",
              "      fill: #D2E3FC;\n",
              "    }\n",
              "\n",
              "    [theme=dark] .colab-df-convert:hover {\n",
              "      background-color: #434B5C;\n",
              "      box-shadow: 0px 1px 3px 1px rgba(0, 0, 0, 0.15);\n",
              "      filter: drop-shadow(0px 1px 2px rgba(0, 0, 0, 0.3));\n",
              "      fill: #FFFFFF;\n",
              "    }\n",
              "  </style>\n",
              "\n",
              "      <script>\n",
              "        const buttonEl =\n",
              "          document.querySelector('#df-dc6719c4-90e2-498a-acd1-ba8e36278cf7 button.colab-df-convert');\n",
              "        buttonEl.style.display =\n",
              "          google.colab.kernel.accessAllowed ? 'block' : 'none';\n",
              "\n",
              "        async function convertToInteractive(key) {\n",
              "          const element = document.querySelector('#df-dc6719c4-90e2-498a-acd1-ba8e36278cf7');\n",
              "          const dataTable =\n",
              "            await google.colab.kernel.invokeFunction('convertToInteractive',\n",
              "                                                     [key], {});\n",
              "          if (!dataTable) return;\n",
              "\n",
              "          const docLinkHtml = 'Like what you see? Visit the ' +\n",
              "            '<a target=\"_blank\" href=https://colab.research.google.com/notebooks/data_table.ipynb>data table notebook</a>'\n",
              "            + ' to learn more about interactive tables.';\n",
              "          element.innerHTML = '';\n",
              "          dataTable['output_type'] = 'display_data';\n",
              "          await google.colab.output.renderOutput(dataTable, element);\n",
              "          const docLink = document.createElement('div');\n",
              "          docLink.innerHTML = docLinkHtml;\n",
              "          element.appendChild(docLink);\n",
              "        }\n",
              "      </script>\n",
              "    </div>\n",
              "  </div>\n",
              "  "
            ]
          },
          "metadata": {},
          "execution_count": 34
        }
      ]
    },
    {
      "cell_type": "code",
      "source": [
        "pivoted_results = results.pivot(index = 'param_n_estimators', columns = 'param_learning_rate')\n",
        "\n",
        "pivoted_results.head()"
      ],
      "metadata": {
        "colab": {
          "base_uri": "https://localhost:8080/",
          "height": 299
        },
        "id": "_yPryquw5wGK",
        "outputId": "7d82ef60-8738-47b9-a012-00e47cc07788"
      },
      "execution_count": 35,
      "outputs": [
        {
          "output_type": "execute_result",
          "data": {
            "text/plain": [
              "                    mean_fit_time                               std_fit_time  \\\n",
              "param_learning_rate         0.001     0.010     0.100     1.000        0.001   \n",
              "param_n_estimators                                                             \n",
              "10                       4.636548  2.619750  2.567343  2.640408     0.071819   \n",
              "30                       5.421792  5.540885  5.349922  5.548044     0.002308   \n",
              "50                       8.253812  8.133899  8.393889  8.200378     0.059713   \n",
              "\n",
              "                                                  mean_score_time            \\\n",
              "param_learning_rate     0.010     0.100     1.000           0.001     0.010   \n",
              "param_n_estimators                                                            \n",
              "10                   0.003480  0.003998  0.013693        1.322032  0.998640   \n",
              "30                   0.003990  0.008715  0.001200        1.015029  1.012828   \n",
              "50                   0.006707  0.015707  0.034461        1.056866  1.022614   \n",
              "\n",
              "                     ... split1_train_score           mean_train_score  \\\n",
              "param_learning_rate  ...              0.100     1.000            0.001   \n",
              "param_n_estimators   ...                                                 \n",
              "10                   ...           0.694951  0.708904         0.680330   \n",
              "30                   ...           0.760649  0.789592         0.714883   \n",
              "50                   ...           0.795765  0.833865         0.724989   \n",
              "\n",
              "                                                  std_train_score            \\\n",
              "param_learning_rate     0.010     0.100     1.000           0.001     0.010   \n",
              "param_n_estimators                                                            \n",
              "10                   0.680460  0.694968  0.715388        0.000705  0.000813   \n",
              "30                   0.719315  0.756272  0.787456        0.010795  0.010186   \n",
              "50                   0.732049  0.793046  0.827680        0.010473  0.009373   \n",
              "\n",
              "                                         \n",
              "param_learning_rate     0.100     1.000  \n",
              "param_n_estimators                       \n",
              "10                   0.000017  0.006484  \n",
              "30                   0.004377  0.002136  \n",
              "50                   0.002719  0.006185  \n",
              "\n",
              "[3 rows x 56 columns]"
            ],
            "text/html": [
              "\n",
              "  <div id=\"df-bd29605f-1012-4f71-9926-0d629aed1925\">\n",
              "    <div class=\"colab-df-container\">\n",
              "      <div>\n",
              "<style scoped>\n",
              "    .dataframe tbody tr th:only-of-type {\n",
              "        vertical-align: middle;\n",
              "    }\n",
              "\n",
              "    .dataframe tbody tr th {\n",
              "        vertical-align: top;\n",
              "    }\n",
              "\n",
              "    .dataframe thead tr th {\n",
              "        text-align: left;\n",
              "    }\n",
              "\n",
              "    .dataframe thead tr:last-of-type th {\n",
              "        text-align: right;\n",
              "    }\n",
              "</style>\n",
              "<table border=\"1\" class=\"dataframe\">\n",
              "  <thead>\n",
              "    <tr>\n",
              "      <th></th>\n",
              "      <th colspan=\"4\" halign=\"left\">mean_fit_time</th>\n",
              "      <th colspan=\"4\" halign=\"left\">std_fit_time</th>\n",
              "      <th colspan=\"2\" halign=\"left\">mean_score_time</th>\n",
              "      <th>...</th>\n",
              "      <th colspan=\"2\" halign=\"left\">split1_train_score</th>\n",
              "      <th colspan=\"4\" halign=\"left\">mean_train_score</th>\n",
              "      <th colspan=\"4\" halign=\"left\">std_train_score</th>\n",
              "    </tr>\n",
              "    <tr>\n",
              "      <th>param_learning_rate</th>\n",
              "      <th>0.001</th>\n",
              "      <th>0.010</th>\n",
              "      <th>0.100</th>\n",
              "      <th>1.000</th>\n",
              "      <th>0.001</th>\n",
              "      <th>0.010</th>\n",
              "      <th>0.100</th>\n",
              "      <th>1.000</th>\n",
              "      <th>0.001</th>\n",
              "      <th>0.010</th>\n",
              "      <th>...</th>\n",
              "      <th>0.100</th>\n",
              "      <th>1.000</th>\n",
              "      <th>0.001</th>\n",
              "      <th>0.010</th>\n",
              "      <th>0.100</th>\n",
              "      <th>1.000</th>\n",
              "      <th>0.001</th>\n",
              "      <th>0.010</th>\n",
              "      <th>0.100</th>\n",
              "      <th>1.000</th>\n",
              "    </tr>\n",
              "    <tr>\n",
              "      <th>param_n_estimators</th>\n",
              "      <th></th>\n",
              "      <th></th>\n",
              "      <th></th>\n",
              "      <th></th>\n",
              "      <th></th>\n",
              "      <th></th>\n",
              "      <th></th>\n",
              "      <th></th>\n",
              "      <th></th>\n",
              "      <th></th>\n",
              "      <th></th>\n",
              "      <th></th>\n",
              "      <th></th>\n",
              "      <th></th>\n",
              "      <th></th>\n",
              "      <th></th>\n",
              "      <th></th>\n",
              "      <th></th>\n",
              "      <th></th>\n",
              "      <th></th>\n",
              "      <th></th>\n",
              "    </tr>\n",
              "  </thead>\n",
              "  <tbody>\n",
              "    <tr>\n",
              "      <th>10</th>\n",
              "      <td>4.636548</td>\n",
              "      <td>2.619750</td>\n",
              "      <td>2.567343</td>\n",
              "      <td>2.640408</td>\n",
              "      <td>0.071819</td>\n",
              "      <td>0.003480</td>\n",
              "      <td>0.003998</td>\n",
              "      <td>0.013693</td>\n",
              "      <td>1.322032</td>\n",
              "      <td>0.998640</td>\n",
              "      <td>...</td>\n",
              "      <td>0.694951</td>\n",
              "      <td>0.708904</td>\n",
              "      <td>0.680330</td>\n",
              "      <td>0.680460</td>\n",
              "      <td>0.694968</td>\n",
              "      <td>0.715388</td>\n",
              "      <td>0.000705</td>\n",
              "      <td>0.000813</td>\n",
              "      <td>0.000017</td>\n",
              "      <td>0.006484</td>\n",
              "    </tr>\n",
              "    <tr>\n",
              "      <th>30</th>\n",
              "      <td>5.421792</td>\n",
              "      <td>5.540885</td>\n",
              "      <td>5.349922</td>\n",
              "      <td>5.548044</td>\n",
              "      <td>0.002308</td>\n",
              "      <td>0.003990</td>\n",
              "      <td>0.008715</td>\n",
              "      <td>0.001200</td>\n",
              "      <td>1.015029</td>\n",
              "      <td>1.012828</td>\n",
              "      <td>...</td>\n",
              "      <td>0.760649</td>\n",
              "      <td>0.789592</td>\n",
              "      <td>0.714883</td>\n",
              "      <td>0.719315</td>\n",
              "      <td>0.756272</td>\n",
              "      <td>0.787456</td>\n",
              "      <td>0.010795</td>\n",
              "      <td>0.010186</td>\n",
              "      <td>0.004377</td>\n",
              "      <td>0.002136</td>\n",
              "    </tr>\n",
              "    <tr>\n",
              "      <th>50</th>\n",
              "      <td>8.253812</td>\n",
              "      <td>8.133899</td>\n",
              "      <td>8.393889</td>\n",
              "      <td>8.200378</td>\n",
              "      <td>0.059713</td>\n",
              "      <td>0.006707</td>\n",
              "      <td>0.015707</td>\n",
              "      <td>0.034461</td>\n",
              "      <td>1.056866</td>\n",
              "      <td>1.022614</td>\n",
              "      <td>...</td>\n",
              "      <td>0.795765</td>\n",
              "      <td>0.833865</td>\n",
              "      <td>0.724989</td>\n",
              "      <td>0.732049</td>\n",
              "      <td>0.793046</td>\n",
              "      <td>0.827680</td>\n",
              "      <td>0.010473</td>\n",
              "      <td>0.009373</td>\n",
              "      <td>0.002719</td>\n",
              "      <td>0.006185</td>\n",
              "    </tr>\n",
              "  </tbody>\n",
              "</table>\n",
              "<p>3 rows × 56 columns</p>\n",
              "</div>\n",
              "      <button class=\"colab-df-convert\" onclick=\"convertToInteractive('df-bd29605f-1012-4f71-9926-0d629aed1925')\"\n",
              "              title=\"Convert this dataframe to an interactive table.\"\n",
              "              style=\"display:none;\">\n",
              "        \n",
              "  <svg xmlns=\"http://www.w3.org/2000/svg\" height=\"24px\"viewBox=\"0 0 24 24\"\n",
              "       width=\"24px\">\n",
              "    <path d=\"M0 0h24v24H0V0z\" fill=\"none\"/>\n",
              "    <path d=\"M18.56 5.44l.94 2.06.94-2.06 2.06-.94-2.06-.94-.94-2.06-.94 2.06-2.06.94zm-11 1L8.5 8.5l.94-2.06 2.06-.94-2.06-.94L8.5 2.5l-.94 2.06-2.06.94zm10 10l.94 2.06.94-2.06 2.06-.94-2.06-.94-.94-2.06-.94 2.06-2.06.94z\"/><path d=\"M17.41 7.96l-1.37-1.37c-.4-.4-.92-.59-1.43-.59-.52 0-1.04.2-1.43.59L10.3 9.45l-7.72 7.72c-.78.78-.78 2.05 0 2.83L4 21.41c.39.39.9.59 1.41.59.51 0 1.02-.2 1.41-.59l7.78-7.78 2.81-2.81c.8-.78.8-2.07 0-2.86zM5.41 20L4 18.59l7.72-7.72 1.47 1.35L5.41 20z\"/>\n",
              "  </svg>\n",
              "      </button>\n",
              "      \n",
              "  <style>\n",
              "    .colab-df-container {\n",
              "      display:flex;\n",
              "      flex-wrap:wrap;\n",
              "      gap: 12px;\n",
              "    }\n",
              "\n",
              "    .colab-df-convert {\n",
              "      background-color: #E8F0FE;\n",
              "      border: none;\n",
              "      border-radius: 50%;\n",
              "      cursor: pointer;\n",
              "      display: none;\n",
              "      fill: #1967D2;\n",
              "      height: 32px;\n",
              "      padding: 0 0 0 0;\n",
              "      width: 32px;\n",
              "    }\n",
              "\n",
              "    .colab-df-convert:hover {\n",
              "      background-color: #E2EBFA;\n",
              "      box-shadow: 0px 1px 2px rgba(60, 64, 67, 0.3), 0px 1px 3px 1px rgba(60, 64, 67, 0.15);\n",
              "      fill: #174EA6;\n",
              "    }\n",
              "\n",
              "    [theme=dark] .colab-df-convert {\n",
              "      background-color: #3B4455;\n",
              "      fill: #D2E3FC;\n",
              "    }\n",
              "\n",
              "    [theme=dark] .colab-df-convert:hover {\n",
              "      background-color: #434B5C;\n",
              "      box-shadow: 0px 1px 3px 1px rgba(0, 0, 0, 0.15);\n",
              "      filter: drop-shadow(0px 1px 2px rgba(0, 0, 0, 0.3));\n",
              "      fill: #FFFFFF;\n",
              "    }\n",
              "  </style>\n",
              "\n",
              "      <script>\n",
              "        const buttonEl =\n",
              "          document.querySelector('#df-bd29605f-1012-4f71-9926-0d629aed1925 button.colab-df-convert');\n",
              "        buttonEl.style.display =\n",
              "          google.colab.kernel.accessAllowed ? 'block' : 'none';\n",
              "\n",
              "        async function convertToInteractive(key) {\n",
              "          const element = document.querySelector('#df-bd29605f-1012-4f71-9926-0d629aed1925');\n",
              "          const dataTable =\n",
              "            await google.colab.kernel.invokeFunction('convertToInteractive',\n",
              "                                                     [key], {});\n",
              "          if (!dataTable) return;\n",
              "\n",
              "          const docLinkHtml = 'Like what you see? Visit the ' +\n",
              "            '<a target=\"_blank\" href=https://colab.research.google.com/notebooks/data_table.ipynb>data table notebook</a>'\n",
              "            + ' to learn more about interactive tables.';\n",
              "          element.innerHTML = '';\n",
              "          dataTable['output_type'] = 'display_data';\n",
              "          await google.colab.output.renderOutput(dataTable, element);\n",
              "          const docLink = document.createElement('div');\n",
              "          docLink.innerHTML = docLinkHtml;\n",
              "          element.appendChild(docLink);\n",
              "        }\n",
              "      </script>\n",
              "    </div>\n",
              "  </div>\n",
              "  "
            ]
          },
          "metadata": {},
          "execution_count": 35
        }
      ]
    },
    {
      "cell_type": "code",
      "source": [
        "fig, ax = plt.subplots(1,2, figsize=(20,6))\n",
        "\n",
        "sns.heatmap(pivoted_results.mean_train_score, annot = True, fmt='.4g',  ax = ax[0]) \n",
        "sns.heatmap(pivoted_results.mean_test_score,  annot = True, fmt='.4g',  ax = ax[1])\n",
        "\n",
        "ax[0].set_title('Train')\n",
        "ax[1].set_title('CV')\n",
        "\n",
        "plt.show()"
      ],
      "metadata": {
        "colab": {
          "base_uri": "https://localhost:8080/",
          "height": 405
        },
        "id": "PQS8l1mP52-R",
        "outputId": "7f138355-c165-4bd8-ffa7-0e6e2f23e0ad"
      },
      "execution_count": 36,
      "outputs": [
        {
          "output_type": "display_data",
          "data": {
            "text/plain": [
              "<Figure size 1440x432 with 4 Axes>"
            ],
            "image/png": "[encoded data removed]"
          },
          "metadata": {
            "needs_background": "light"
          }
        }
      ]
    },
    {
      "cell_type": "markdown",
      "source": [
        "* here we can see that increasing the n_estimators also increasing the overfiting, so we will take minimum number of estimators which is giving the same performance on test data  \n"
      ],
      "metadata": {
        "id": "YRqCS293Sm43"
      }
    },
    {
      "cell_type": "code",
      "source": [
        "print('Best ROC-AUC score: ',clf.best_score_)\n",
        "print('Best Parameter are: ',clf.best_params_)"
      ],
      "metadata": {
        "colab": {
          "base_uri": "https://localhost:8080/"
        },
        "id": "cywiQ1c859h4",
        "outputId": "4b64c233-e585-49c2-e55d-b0cd6b7940d2"
      },
      "execution_count": 37,
      "outputs": [
        {
          "output_type": "stream",
          "name": "stdout",
          "text": [
            "Best ROC-AUC score:  0.684394712750062\n",
            "Best Parameter are:  {'learning_rate': 0.1, 'n_estimators': 50}\n"
          ]
        }
      ]
    },
    {
      "cell_type": "markdown",
      "source": [
        "But we will chose the hyperparameters that will give us the minumum difference of train and test ROC scores\n",
        "\n",
        "Hence \n",
        "n_estimators  = 10\n",
        "\n",
        "max_depth     = 2\n",
        "\n",
        "learning_rate = 0.001"
      ],
      "metadata": {
        "id": "kA4l3qxN-wDa"
      }
    },
    {
      "cell_type": "code",
      "source": [
        "from xgboost import XGBClassifier\n",
        "from sklearn.metrics import roc_curve, auc\n",
        "\n",
        "gbdt = XGBClassifier(n_estimators = 10,max_depth = 2, learning_rate = 0.001,subsample = 0.5,colsample_bytree = 0.5)\n",
        "gbdt.fit(X_tr, y_train)\n",
        "\n",
        "y_train_pred = gbdt.predict_proba(X_tr)[:,1]\n",
        "y_test_pred  = gbdt.predict_proba(X_te)[:,1]\n",
        "\n",
        "train_fpr, train_tpr, tr_thresholds = roc_curve(y_train, y_train_pred)\n",
        "test_fpr,  test_tpr, te_thresholds  = roc_curve(y_test,  y_test_pred)\n",
        "\n",
        "plt.plot(train_fpr, train_tpr, label=\"train AUC =\"+str(auc(train_fpr, train_tpr)))\n",
        "plt.plot(test_fpr, test_tpr,   label=\"test AUC  =\"+str(auc(test_fpr, test_tpr)))\n",
        "\n",
        "plt.legend()\n",
        "\n",
        "plt.xlabel(\"FPR\")\n",
        "plt.ylabel(\"TPR\")\n",
        "\n",
        "plt.title(\"ERROR PLOTS\")\n",
        "\n",
        "plt.grid()\n",
        "plt.show()"
      ],
      "metadata": {
        "colab": {
          "base_uri": "https://localhost:8080/",
          "height": 295
        },
        "id": "kkqaDB3h53Lm",
        "outputId": "131d4c56-7b42-4b88-a4fc-2fa34d5f340f"
      },
      "execution_count": 39,
      "outputs": [
        {
          "output_type": "display_data",
          "data": {
            "text/plain": [
              "<Figure size 432x288 with 1 Axes>"
            ],
            "image/png": "[encoded data removed]"
          },
          "metadata": {
            "needs_background": "light"
          }
        }
      ]
    },
    {
      "cell_type": "markdown",
      "source": [
        "* we were able to reduce the overfiting significantly if we compare it with our previous models ."
      ],
      "metadata": {
        "id": "UURVKrB9S-Zg"
      }
    },
    {
      "cell_type": "code",
      "source": [
        "def find_best_threshold(threshold, fpr, tpr):\n",
        "    t = threshold[np.argmax(tpr*(1-fpr))]\n",
        "    # (tpr*(1-fpr)) will be maximum if your fpr is very low and tpr is very high\n",
        "    print(\"the maximum value of tpr*(1-fpr)\", max(tpr*(1-fpr)), \"for threshold\", np.round(t,3))\n",
        "    \n",
        "    return t\n",
        "\n",
        "def predict_with_best_t(proba, threshold):\n",
        "    predictions = []\n",
        "    \n",
        "    for i in proba:\n",
        "        if i>= threshold:\n",
        "            predictions.append(1)\n",
        "        else:\n",
        "            predictions.append(0)\n",
        "    return predictions\n",
        "\n",
        "from sklearn.metrics import confusion_matrix\n",
        "\n",
        "best_t = find_best_threshold(tr_thresholds, train_fpr, train_tpr)"
      ],
      "metadata": {
        "colab": {
          "base_uri": "https://localhost:8080/"
        },
        "id": "s0FbCVif4CuX",
        "outputId": "fa0ec382-bc4a-4814-e572-bdeed5fc52b6"
      },
      "execution_count": 40,
      "outputs": [
        {
          "output_type": "stream",
          "name": "stdout",
          "text": [
            "the maximum value of tpr*(1-fpr) 0.3726400192128776 for threshold 0.503\n"
          ]
        }
      ]
    },
    {
      "cell_type": "code",
      "source": [
        "# Heatmap for train set confusion matrix()\n",
        "\n",
        "heatmap_train = sns.heatmap(confusion_matrix(y_train, predict_with_best_t(y_train_pred,best_t)), annot = True, fmt = \"d\")\n",
        "\n",
        "plt.title(\"Train set confusion matrix\")\n",
        "\n",
        "plt.xlabel(\"Actual\")\n",
        "plt.ylabel(\"Predicted\")\n",
        "\n",
        "plt.show()\n",
        "\n",
        "# Heatmap for test set confusion matrix()\n",
        "\n",
        "heatmap_test = sns.heatmap(confusion_matrix(y_test, predict_with_best_t(y_test_pred, best_t)), annot = True, fmt = \"d\")\n",
        "\n",
        "plt.title(\"Test set confusion matrix\")\n",
        "\n",
        "plt.xlabel(\"Actual\")\n",
        "plt.ylabel(\"Predicted\")\n",
        "\n",
        "plt.show()"
      ],
      "metadata": {
        "colab": {
          "base_uri": "https://localhost:8080/",
          "height": 573
        },
        "id": "npMPFVHR4F7x",
        "outputId": "d4612ca2-7b6a-40c2-f89c-a5f2e43b8e48"
      },
      "execution_count": 41,
      "outputs": [
        {
          "output_type": "display_data",
          "data": {
            "text/plain": [
              "<Figure size 432x288 with 2 Axes>"
            ],
            "image/png": "[encoded data removed]"
          },
          "metadata": {
            "needs_background": "light"
          }
        },
        {
          "output_type": "display_data",
          "data": {
            "text/plain": [
              "<Figure size 432x288 with 2 Axes>"
            ],
            "image/png": "[encoded data removed]"
          },
          "metadata": {
            "needs_background": "light"
          }
        }
      ]
    },
    {
      "cell_type": "markdown",
      "source": [
        "## Word2vec"
      ],
      "metadata": {
        "id": "HgCXTBfk5CyH"
      }
    },
    {
      "cell_type": "code",
      "source": [
        "from sklearn.feature_extraction.text import TfidfVectorizer\n",
        "\n",
        "vectorizer = TfidfVectorizer(ngram_range = (1, 3),max_features = 6000, min_df = 10)\n",
        "\n",
        "vectorizer.fit(X_train['essay'].values)\n",
        "\n",
        "X_train_essay_tfidf = vectorizer.transform(X_train['essay'].values)\n",
        "X_test_essay_tfidf  = vectorizer.transform(X_test['essay'].values)\n",
        "\n",
        "# we are converting a dictionary with word as a key, and the idf as a value\n",
        "\n",
        "dictionary  = dict(zip(vectorizer.get_feature_names(), list(vectorizer.idf_)))\n",
        "tfidf_words = set(dictionary.keys())"
      ],
      "metadata": {
        "id": "YgD9YG0Z5a4K"
      },
      "execution_count": 42,
      "outputs": []
    },
    {
      "cell_type": "code",
      "source": [
        "with open('/content/drive/MyDrive/Case Studies/Donor Choose/9_Donors_choose_DT/glove_vectors', 'rb') as f:\n",
        "    \n",
        "    model = pickle.load(f)\n",
        "    glove_words =  set(model.keys())"
      ],
      "metadata": {
        "id": "dU6sgyM25vTJ"
      },
      "execution_count": 43,
      "outputs": []
    },
    {
      "cell_type": "code",
      "source": [
        "# 4. perform tfidf w2v vectorization of text data.\n",
        "\n",
        "tfidf_w2v_vectors = []; # the tf-idf weighted word2vec for each sentence/review is stored in this list\n",
        "\n",
        "for sentence in tqdm(X_train['essay'].values): # for each review/sentence\n",
        "\n",
        "    vector = np.zeros(300) # Initializing the vectors with all zeros \n",
        "    tf_idf_weight = 0; # num of words with a valid vector in the sentence/review\n",
        "\n",
        "    for word in sentence.split(): # for each word in a review/sentence\n",
        "        if (word in glove_words) and (word in tfidf_words):\n",
        "            vec = model[word] # getting the vector for each word\n",
        "            # here we are multiplying idf value(dictionary[word]) and the tf value((sentence.count(word)/len(sentence.split())))\n",
        "            tf_idf = dictionary[word]*(sentence.count(word)/len(sentence.split())) # getting the tfidf value for each word\n",
        "            vector += (vec * tf_idf) # calculating tfidf weighted w2v\n",
        "            tf_idf_weight += tf_idf\n",
        "    \n",
        "    if tf_idf_weight != 0:\n",
        "        vector /= tf_idf_weight\n",
        "    tfidf_w2v_vectors.append(vector)\n",
        "\n",
        "print(len(tfidf_w2v_vectors))\n",
        "print(len(tfidf_w2v_vectors[0]))\n",
        "\n",
        "tfidf_w2v_vectors = np.array(tfidf_w2v_vectors)"
      ],
      "metadata": {
        "colab": {
          "base_uri": "https://localhost:8080/"
        },
        "id": "5NbwzEu15jG3",
        "outputId": "c02d9a0e-2b25-4a25-d865-3e9f91cd4c65"
      },
      "execution_count": 44,
      "outputs": [
        {
          "output_type": "stream",
          "name": "stderr",
          "text": [
            "100%|██████████| 23450/23450 [01:02<00:00, 378.09it/s]"
          ]
        },
        {
          "output_type": "stream",
          "name": "stdout",
          "text": [
            "23450\n",
            "300\n"
          ]
        },
        {
          "output_type": "stream",
          "name": "stderr",
          "text": [
            "\n"
          ]
        }
      ]
    },
    {
      "cell_type": "code",
      "source": [
        "tfidf_w2v_vectors_test = []; # the tf-idf weighted word2vec for each sentence/review is stored in this list\n",
        "\n",
        "for sentence in tqdm(X_test['essay'].values): # for each review/sentence\n",
        "\n",
        "    vector = np.zeros(300) # Initializing the vectors with all zeros \n",
        "    tf_idf_weight = 0; # num of words with a valid vector in the sentence/review\n",
        "\n",
        "    for word in sentence.split(): # for each word in a review/sentence\n",
        "        if (word in glove_words) and (word in tfidf_words):\n",
        "            vec = model[word] # getting the vector for each word\n",
        "            # here we are multiplying idf value(dictionary[word]) and the tf value((sentence.count(word)/len(sentence.split())))\n",
        "            tf_idf = dictionary[word]*(sentence.count(word)/len(sentence.split())) # getting the tfidf value for each word\n",
        "            vector += (vec * tf_idf) # calculating tfidf weighted w2v\n",
        "            tf_idf_weight += tf_idf\n",
        "    \n",
        "    if tf_idf_weight != 0:\n",
        "        vector /= tf_idf_weight\n",
        "    tfidf_w2v_vectors_test.append(vector)\n",
        "\n",
        "print(len(tfidf_w2v_vectors_test))\n",
        "print(len(tfidf_w2v_vectors_test[0]))\n",
        "\n",
        "tfidf_w2v_vectors_test = np.array(tfidf_w2v_vectors_test)"
      ],
      "metadata": {
        "colab": {
          "base_uri": "https://localhost:8080/"
        },
        "id": "w9Y-TwPn5mFq",
        "outputId": "b7d265ec-7298-4cf1-ffa1-19e52cf2f5cc"
      },
      "execution_count": 45,
      "outputs": [
        {
          "output_type": "stream",
          "name": "stderr",
          "text": [
            "100%|██████████| 11550/11550 [00:31<00:00, 362.12it/s]"
          ]
        },
        {
          "output_type": "stream",
          "name": "stdout",
          "text": [
            "11550\n",
            "300\n"
          ]
        },
        {
          "output_type": "stream",
          "name": "stderr",
          "text": [
            "\n"
          ]
        }
      ]
    },
    {
      "cell_type": "code",
      "source": [
        "from scipy.sparse import  hstack\n",
        "\n",
        "X_tr = hstack((\n",
        "               tfidf_w2v_vectors,\n",
        "               np.array(school_state_pos).reshape(-1,1),np.array(school_state_neg).reshape(-1,1),\n",
        "               np.array(project_grade_pos).reshape(-1,1),np.array(project_grade_neg).reshape(-1,1),\n",
        "               np.array(clean_subcategories_pos).reshape(-1,1),np.array(clean_subcategories_neg).reshape(-1,1),\n",
        "               np.array(clean_categories_pos).reshape(-1,1),np.array(clean_categories_neg).reshape(-1,1),\n",
        "               X_train_price_norm,X_train_projects_posted_norm,\n",
        "               X_train['negative'].values.reshape(-1,1),\n",
        "               X_train['neutral'].values.reshape(-1,1),\n",
        "               X_train['positive'].values.reshape(-1,1),\n",
        "               X_train['compound'].values.reshape(-1,1))).tocsr()\n",
        "\n",
        "X_te = hstack((\n",
        "               tfidf_w2v_vectors_test,\n",
        "               np.array(school_state_pos_te).reshape(-1,1),np.array(school_state_neg_te).reshape(-1,1),\n",
        "               np.array(project_grade_pos_te).reshape(-1,1),np.array(project_grade_neg_te).reshape(-1,1),\n",
        "               np.array(clean_subcategories_pos_te).reshape(-1,1),np.array(clean_subcategories_neg_te).reshape(-1,1),\n",
        "               np.array(clean_categories_pos_te).reshape(-1,1),np.array(clean_categories_neg_te).reshape(-1,1),\n",
        "               X_test_price_norm,X_test_projects_posted_norm,\n",
        "               X_test['negative'].values.reshape(-1,1),\n",
        "               X_test['neutral'].values.reshape(-1,1),\n",
        "               X_test['positive'].values.reshape(-1,1),\n",
        "               X_test['compound'].values.reshape(-1,1))).tocsr()\n",
        "\n",
        "print(\"Final Data matrix\")\n",
        "\n",
        "print(X_tr.shape, y_train.shape)\n",
        "print(X_te.shape, y_test.shape)"
      ],
      "metadata": {
        "colab": {
          "base_uri": "https://localhost:8080/",
          "height": 381
        },
        "id": "JvHJZvnT5ovR",
        "outputId": "2ee74e32-3230-441d-a447-f1132cc37b1d"
      },
      "execution_count": 46,
      "outputs": [
        {
          "output_type": "error",
          "ename": "ValueError",
          "evalue": "ignored",
          "traceback": [
            "\u001b[0;31m---------------------------------------------------------------------------\u001b[0m",
            "\u001b[0;31mValueError\u001b[0m                                Traceback (most recent call last)",
            "\u001b[0;32m<ipython-input-46-99f6af6ab307>\u001b[0m in \u001b[0;36m<module>\u001b[0;34m()\u001b[0m\n\u001b[1;32m     11\u001b[0m                \u001b[0mX_train\u001b[0m\u001b[0;34m[\u001b[0m\u001b[0;34m'neutral'\u001b[0m\u001b[0;34m]\u001b[0m\u001b[0;34m.\u001b[0m\u001b[0mvalues\u001b[0m\u001b[0;34m.\u001b[0m\u001b[0mreshape\u001b[0m\u001b[0;34m(\u001b[0m\u001b[0;34m-\u001b[0m\u001b[0;36m1\u001b[0m\u001b[0;34m,\u001b[0m\u001b[0;36m1\u001b[0m\u001b[0;34m)\u001b[0m\u001b[0;34m,\u001b[0m\u001b[0;34m\u001b[0m\u001b[0;34m\u001b[0m\u001b[0m\n\u001b[1;32m     12\u001b[0m                \u001b[0mX_train\u001b[0m\u001b[0;34m[\u001b[0m\u001b[0;34m'positive'\u001b[0m\u001b[0;34m]\u001b[0m\u001b[0;34m.\u001b[0m\u001b[0mvalues\u001b[0m\u001b[0;34m.\u001b[0m\u001b[0mreshape\u001b[0m\u001b[0;34m(\u001b[0m\u001b[0;34m-\u001b[0m\u001b[0;36m1\u001b[0m\u001b[0;34m,\u001b[0m\u001b[0;36m1\u001b[0m\u001b[0;34m)\u001b[0m\u001b[0;34m,\u001b[0m\u001b[0;34m\u001b[0m\u001b[0;34m\u001b[0m\u001b[0m\n\u001b[0;32m---> 13\u001b[0;31m                X_train['compound'].values.reshape(-1,1))).tocsr()\n\u001b[0m\u001b[1;32m     14\u001b[0m \u001b[0;34m\u001b[0m\u001b[0m\n\u001b[1;32m     15\u001b[0m X_te = hstack((\n",
            "\u001b[0;32m/usr/local/lib/python3.7/dist-packages/scipy/sparse/construct.py\u001b[0m in \u001b[0;36mhstack\u001b[0;34m(blocks, format, dtype)\u001b[0m\n\u001b[1;32m    463\u001b[0m \u001b[0;34m\u001b[0m\u001b[0m\n\u001b[1;32m    464\u001b[0m     \"\"\"\n\u001b[0;32m--> 465\u001b[0;31m     \u001b[0;32mreturn\u001b[0m \u001b[0mbmat\u001b[0m\u001b[0;34m(\u001b[0m\u001b[0;34m[\u001b[0m\u001b[0mblocks\u001b[0m\u001b[0;34m]\u001b[0m\u001b[0;34m,\u001b[0m \u001b[0mformat\u001b[0m\u001b[0;34m=\u001b[0m\u001b[0mformat\u001b[0m\u001b[0;34m,\u001b[0m \u001b[0mdtype\u001b[0m\u001b[0;34m=\u001b[0m\u001b[0mdtype\u001b[0m\u001b[0;34m)\u001b[0m\u001b[0;34m\u001b[0m\u001b[0;34m\u001b[0m\u001b[0m\n\u001b[0m\u001b[1;32m    466\u001b[0m \u001b[0;34m\u001b[0m\u001b[0m\n\u001b[1;32m    467\u001b[0m \u001b[0;34m\u001b[0m\u001b[0m\n",
            "\u001b[0;32m/usr/local/lib/python3.7/dist-packages/scipy/sparse/construct.py\u001b[0m in \u001b[0;36mbmat\u001b[0;34m(blocks, format, dtype)\u001b[0m\n\u001b[1;32m    543\u001b[0m     \"\"\"\n\u001b[1;32m    544\u001b[0m \u001b[0;34m\u001b[0m\u001b[0m\n\u001b[0;32m--> 545\u001b[0;31m     \u001b[0mblocks\u001b[0m \u001b[0;34m=\u001b[0m \u001b[0mnp\u001b[0m\u001b[0;34m.\u001b[0m\u001b[0masarray\u001b[0m\u001b[0;34m(\u001b[0m\u001b[0mblocks\u001b[0m\u001b[0;34m,\u001b[0m \u001b[0mdtype\u001b[0m\u001b[0;34m=\u001b[0m\u001b[0;34m'object'\u001b[0m\u001b[0;34m)\u001b[0m\u001b[0;34m\u001b[0m\u001b[0;34m\u001b[0m\u001b[0m\n\u001b[0m\u001b[1;32m    546\u001b[0m \u001b[0;34m\u001b[0m\u001b[0m\n\u001b[1;32m    547\u001b[0m     \u001b[0;32mif\u001b[0m \u001b[0mblocks\u001b[0m\u001b[0;34m.\u001b[0m\u001b[0mndim\u001b[0m \u001b[0;34m!=\u001b[0m \u001b[0;36m2\u001b[0m\u001b[0;34m:\u001b[0m\u001b[0;34m\u001b[0m\u001b[0;34m\u001b[0m\u001b[0m\n",
            "\u001b[0;31mValueError\u001b[0m: could not broadcast input array from shape (23450,300) into shape (23450,)"
          ]
        }
      ]
    },
    {
      "cell_type": "markdown",
      "source": [
        "* the problem is that hstack should contain  atleast one sparse array \n",
        "\n",
        "https://stackoverflow.com/questions/55756294/scipy-sparse-hstack-valueerror-blocks-must-be-2-d\n",
        "\n",
        "* use coo matrix,COO is a fast format for constructing sparse matrices\n",
        "\n",
        "https://docs.scipy.org/doc/scipy/reference/generated/scipy.sparse.coo_matrix.html"
      ],
      "metadata": {
        "id": "WqYW4LmLMTnw"
      }
    },
    {
      "cell_type": "code",
      "source": [
        "from scipy.sparse import coo_matrix\n",
        "\n",
        "X_tr = hstack((\n",
        "               coo_matrix(tfidf_w2v_vectors),\n",
        "               np.array(school_state_pos).reshape(-1,1),np.array(school_state_neg).reshape(-1,1),\n",
        "               np.array(project_grade_pos).reshape(-1,1),np.array(project_grade_neg).reshape(-1,1),\n",
        "               np.array(clean_subcategories_pos).reshape(-1,1),np.array(clean_subcategories_neg).reshape(-1,1),\n",
        "               np.array(clean_categories_pos).reshape(-1,1),np.array(clean_categories_neg).reshape(-1,1),\n",
        "               X_train_price_norm,X_train_projects_posted_norm,\n",
        "               X_train['negative'].values.reshape(-1,1),\n",
        "               X_train['neutral'].values.reshape(-1,1),\n",
        "               X_train['positive'].values.reshape(-1,1),\n",
        "               X_train['compound'].values.reshape(-1,1))).tocsr()\n",
        "\n",
        "X_te = hstack((\n",
        "               coo_matrix(tfidf_w2v_vectors_test),\n",
        "               np.array(school_state_pos_te).reshape(-1,1),np.array(school_state_neg_te).reshape(-1,1),\n",
        "               np.array(project_grade_pos_te).reshape(-1,1),np.array(project_grade_neg_te).reshape(-1,1),\n",
        "               np.array(clean_subcategories_pos_te).reshape(-1,1),np.array(clean_subcategories_neg_te).reshape(-1,1),\n",
        "               np.array(clean_categories_pos_te).reshape(-1,1),np.array(clean_categories_neg_te).reshape(-1,1),\n",
        "               X_test_price_norm,X_test_projects_posted_norm,\n",
        "               X_test['negative'].values.reshape(-1,1),\n",
        "               X_test['neutral'].values.reshape(-1,1),\n",
        "               X_test['positive'].values.reshape(-1,1),\n",
        "               X_test['compound'].values.reshape(-1,1))).tocsr()\n",
        "\n",
        "print(\"Final Data matrix\")\n",
        "\n",
        "print(X_tr.shape, y_train.shape)\n",
        "print(X_te.shape, y_test.shape)"
      ],
      "metadata": {
        "colab": {
          "base_uri": "https://localhost:8080/"
        },
        "id": "AmwlzzYIRhbK",
        "outputId": "1800aa86-533f-4332-f90c-6607fb92b2d3"
      },
      "execution_count": 47,
      "outputs": [
        {
          "output_type": "stream",
          "name": "stdout",
          "text": [
            "Final Data matrix\n",
            "(23450, 314) (23450,)\n",
            "(11550, 314) (11550,)\n"
          ]
        }
      ]
    },
    {
      "cell_type": "code",
      "source": [
        "%%time \n",
        "# it will take around 5min 37s \n",
        "\n",
        "from sklearn.model_selection import GridSearchCV\n",
        "from xgboost import XGBClassifier\n",
        "\n",
        "gbdt = XGBClassifier(max_depth = 2, colsample_bytree = 0.5,subsample = 0.5)\n",
        "\n",
        "grid_params = {'n_estimators': [10,30,50], 'learning_rate' : [0.001, 0.01, 0.1, 1.0] }\n",
        " \n",
        "clf = GridSearchCV(gbdt,grid_params ,cv = 2, scoring = 'roc_auc',n_jobs =-1,verbose = 2,return_train_score =  True)\n",
        "clf.fit(X_tr, y_train)  \n",
        "\n",
        "results = pd.DataFrame.from_dict(clf.cv_results_)\n",
        "\n",
        "results.head(3)\n",
        "\n",
        "pivoted_results = results.pivot(index = 'param_n_estimators', columns = 'param_learning_rate')\n",
        "\n",
        "# pivoted_results.head()\n",
        "\n",
        "fig, ax = plt.subplots(1,2, figsize=(20,6))\n",
        "\n",
        "sns.heatmap(pivoted_results.mean_train_score, annot = True, fmt='.4g',  ax = ax[0]) \n",
        "sns.heatmap(pivoted_results.mean_test_score,  annot = True, fmt='.4g',  ax = ax[1])\n",
        "\n",
        "ax[0].set_title('Train')\n",
        "ax[1].set_title('CV')\n",
        "\n",
        "plt.show()"
      ],
      "metadata": {
        "colab": {
          "base_uri": "https://localhost:8080/",
          "height": 457
        },
        "id": "AxGTavvCSZ6D",
        "outputId": "6a3f222e-1b30-41a3-af81-d605edb9195a"
      },
      "execution_count": 50,
      "outputs": [
        {
          "output_type": "stream",
          "name": "stdout",
          "text": [
            "Fitting 2 folds for each of 12 candidates, totalling 24 fits\n"
          ]
        },
        {
          "output_type": "display_data",
          "data": {
            "text/plain": [
              "<Figure size 1440x432 with 4 Axes>"
            ],
            "image/png": "[encoded data removed]"
          },
          "metadata": {
            "needs_background": "light"
          }
        },
        {
          "output_type": "stream",
          "name": "stdout",
          "text": [
            "CPU times: user 11.2 s, sys: 505 ms, total: 11.7 s\n",
            "Wall time: 2min 25s\n"
          ]
        }
      ]
    },
    {
      "cell_type": "code",
      "source": [
        "print('Best ROC-AUC score according to GridSearchCv: ',clf.best_score_)\n",
        "print('Best Parameter according to GridSearchCv are: ',clf.best_params_)"
      ],
      "metadata": {
        "colab": {
          "base_uri": "https://localhost:8080/"
        },
        "id": "K-U6lnYrSpAd",
        "outputId": "1d9ae69c-e404-46cb-b51f-9e0a3b7e9bf5"
      },
      "execution_count": null,
      "outputs": [
        {
          "output_type": "stream",
          "name": "stdout",
          "text": [
            "Best ROC-AUC score:  0.6914018287248757\n",
            "Best Parameter are:  {'learning_rate': 0.1, 'n_estimators': 100}\n"
          ]
        }
      ]
    },
    {
      "cell_type": "markdown",
      "source": [
        "But looking at HeatMap it is clear that best hyperparameter should be \n",
        "\n",
        "n_estimators = 10\n",
        "\n",
        "max_depth = 2\n",
        "\n",
        "learning_rate = 0.001"
      ],
      "metadata": {
        "id": "ChUr9pSyAWqi"
      }
    },
    {
      "cell_type": "code",
      "source": [
        "from xgboost import XGBClassifier\n",
        "from sklearn.metrics import roc_curve, auc\n",
        "\n",
        "gbdt = XGBClassifier(n_estimators = 10,max_depth = 2, colsample_bytree = 0.5,subsample = 0.5,learning_rate = 0.001)\n",
        "gbdt.fit(X_tr, y_train)\n",
        "\n",
        "y_train_pred = gbdt.predict_proba(X_tr)[:,1]\n",
        "y_test_pred  = gbdt.predict_proba(X_te)[:,1]\n",
        "\n",
        "train_fpr, train_tpr, tr_thresholds = roc_curve(y_train, y_train_pred)\n",
        "test_fpr,  test_tpr, te_thresholds  = roc_curve(y_test,  y_test_pred)\n",
        "\n",
        "plt.plot(train_fpr, train_tpr, label=\"train AUC =\"+str(auc(train_fpr, train_tpr)))\n",
        "plt.plot(test_fpr, test_tpr,   label=\"test AUC  =\"+str(auc(test_fpr, test_tpr)))\n",
        "\n",
        "plt.legend()\n",
        "\n",
        "plt.xlabel(\"FPR\")\n",
        "plt.ylabel(\"TPR\")\n",
        "\n",
        "plt.title(\"ERROR PLOTS\")\n",
        "\n",
        "plt.grid()\n",
        "plt.show()"
      ],
      "metadata": {
        "colab": {
          "base_uri": "https://localhost:8080/",
          "height": 295
        },
        "id": "RuB_zlv_Sq0n",
        "outputId": "f54dc692-1c6e-4cd4-898c-57df5fc0c7db"
      },
      "execution_count": 51,
      "outputs": [
        {
          "output_type": "display_data",
          "data": {
            "text/plain": [
              "<Figure size 432x288 with 1 Axes>"
            ],
            "image/png": "[encoded data removed]"
          },
          "metadata": {
            "needs_background": "light"
          }
        }
      ]
    },
    {
      "cell_type": "code",
      "source": [
        "def find_best_threshold(threshold, fpr, tpr):\n",
        "    t = threshold[np.argmax(tpr*(1-fpr))]\n",
        "    # (tpr*(1-fpr)) will be maximum if your fpr is very low and tpr is very high\n",
        "    print(\"the maximum value of tpr*(1-fpr)\", max(tpr*(1-fpr)), \"for threshold\", np.round(t,3))\n",
        "    \n",
        "    return t\n",
        "\n",
        "def predict_with_best_t(proba, threshold):\n",
        "    predictions = []\n",
        "    \n",
        "    for i in proba:\n",
        "        if i>= threshold:\n",
        "            predictions.append(1)\n",
        "        else:\n",
        "            predictions.append(0)\n",
        "    return predictions\n",
        "\n",
        "from sklearn.metrics import confusion_matrix\n",
        "\n",
        "best_t = find_best_threshold(tr_thresholds, train_fpr, train_tpr)"
      ],
      "metadata": {
        "colab": {
          "base_uri": "https://localhost:8080/"
        },
        "id": "EZSFKsvBSsdI",
        "outputId": "51d8ee96-f30d-4ab9-d09c-19bf9997710f"
      },
      "execution_count": 52,
      "outputs": [
        {
          "output_type": "stream",
          "name": "stdout",
          "text": [
            "the maximum value of tpr*(1-fpr) 0.3747067920525839 for threshold 0.503\n"
          ]
        }
      ]
    },
    {
      "cell_type": "code",
      "source": [
        "# Heatmap for train set confusion matrix()\n",
        "\n",
        "heatmap_train = sns.heatmap(confusion_matrix(y_train, predict_with_best_t(y_train_pred,best_t)), annot = True, fmt = \"d\")\n",
        "\n",
        "plt.title(\"Train set confusion matrix\")\n",
        "\n",
        "plt.xlabel(\"Actual\")\n",
        "plt.ylabel(\"Predicted\")\n",
        "\n",
        "plt.show()\n",
        "\n",
        "# Heatmap for test set confusion matrix()\n",
        "\n",
        "heatmap_test = sns.heatmap(confusion_matrix(y_test, predict_with_best_t(y_test_pred, best_t)), annot = True, fmt = \"d\")\n",
        "\n",
        "plt.title(\"Test set confusion matrix\")\n",
        "\n",
        "plt.xlabel(\"Actual\")\n",
        "plt.ylabel(\"Predicted\")\n",
        "\n",
        "plt.show()"
      ],
      "metadata": {
        "colab": {
          "base_uri": "https://localhost:8080/",
          "height": 573
        },
        "id": "EgevQ_9HSuNv",
        "outputId": "441f08fe-da86-4662-b96e-20776cd75d2b"
      },
      "execution_count": 53,
      "outputs": [
        {
          "output_type": "display_data",
          "data": {
            "text/plain": [
              "<Figure size 432x288 with 2 Axes>"
            ],
            "image/png": "[encoded data removed]"
          },
          "metadata": {
            "needs_background": "light"
          }
        },
        {
          "output_type": "display_data",
          "data": {
            "text/plain": [
              "<Figure size 432x288 with 2 Axes>"
            ],
            "image/png": "[encoded data removed]"
          },
          "metadata": {
            "needs_background": "light"
          }
        }
      ]
    },
    {
      "cell_type": "markdown",
      "metadata": {
        "id": "YhFN-lDWsc4G"
      },
      "source": [
        "<h1>3. Summary</h1>\n",
        "\n",
        "<br> as mentioned in the step 4 of instructions"
      ]
    },
    {
      "cell_type": "code",
      "source": [
        "from prettytable import PrettyTable\n",
        "    \n",
        "x = PrettyTable()\n",
        "x.field_names = [\"Vectorizer\", \"Model\",\"Max Depth\", \"n_estimators\",\"Learning Rate\", \"Train-AUC\",'Test-AUC']\n",
        "\n",
        "x.add_row([\"TF-IDf\", \"XGBOOST\",2, 10,'0.001', 0.64,0.62])\n",
        "\n",
        "x.add_row([\"TF-IDF weighted word2vec\", \"XGBOOST\",  2, 10,'0.001', 0.65,0.63])\n",
        "\n",
        "print(x)"
      ],
      "metadata": {
        "colab": {
          "base_uri": "https://localhost:8080/"
        },
        "id": "zrJ4kJvxVZz7",
        "outputId": "adba730a-706a-46b0-f1f2-9b11f21c6f81"
      },
      "execution_count": 54,
      "outputs": [
        {
          "output_type": "stream",
          "name": "stdout",
          "text": [
            "+--------------------------+---------+-----------+--------------+---------------+-----------+----------+\n",
            "|        Vectorizer        |  Model  | Max Depth | n_estimators | Learning Rate | Train-AUC | Test-AUC |\n",
            "+--------------------------+---------+-----------+--------------+---------------+-----------+----------+\n",
            "|          TF-IDf          | XGBOOST |     2     |      10      |     0.001     |    0.64   |   0.62   |\n",
            "| TF-IDF weighted word2vec | XGBOOST |     2     |      10      |     0.001     |    0.65   |   0.63   |\n",
            "+--------------------------+---------+-----------+--------------+---------------+-----------+----------+\n"
          ]
        }
      ]
    },
    {
      "cell_type": "code",
      "source": [
        ""
      ],
      "metadata": {
        "id": "1gd_j-l-dnlo"
      },
      "execution_count": null,
      "outputs": []
    }
  ],
  "metadata": {
    "colab": {
      "collapsed_sections": [],
      "name": "Donor choose GBDT_Instructions.ipynb",
      "provenance": []
    },
    "kernelspec": {
      "display_name": "Python 3",
      "language": "python",
      "name": "python3"
    },
    "language_info": {
      "codemirror_mode": {
        "name": "ipython",
        "version": 3
      },
      "file_extension": ".py",
      "mimetype": "text/x-python",
      "name": "python",
      "nbconvert_exporter": "python",
      "pygments_lexer": "ipython3",
      "version": "3.6.3"
    },
    "accelerator": "GPU"
  },
  "nbformat": 4,
  "nbformat_minor": 0
}