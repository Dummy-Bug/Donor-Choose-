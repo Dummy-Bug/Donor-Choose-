{
  "nbformat": 4,
  "nbformat_minor": 0,
  "metadata": {
    "kernelspec": {
      "display_name": "Python 3",
      "language": "python",
      "name": "python3"
    },
    "language_info": {
      "codemirror_mode": {
        "name": "ipython",
        "version": 3
      },
      "file_extension": ".py",
      "mimetype": "text/x-python",
      "name": "python",
      "nbconvert_exporter": "python",
      "pygments_lexer": "ipython3",
      "version": "3.6.8"
    },
    "colab": {
      "name": "5_Reference_SampleSolution.ipynb",
      "provenance": []
    }
  },
  "cells": [
    {
      "cell_type": "markdown",
      "metadata": {
        "id": "ZDPbWKEo7lGz"
      },
      "source": [
        "<h1><font color='red'> THIS IS A SAMPLE SOLUTION FOR KNN WITH BOW REPRESENTATION OF ESSAY AND FEW OTHER FEATURES. <br><br> CONSIDERED ONLY 5K DATA POINTS, FOR YOUR ASSIGNMENT YOU MIGHT NEED TO CONSIDER ATLEAST 50K DATA POINTS, AND EXTRA FEATURES THAT ARE PROVIDED IN THE INSTRUCTIONS</font></h1>"
      ]
    },
    {
      "cell_type": "code",
      "metadata": {
        "id": "pWEPlO_a7lG2"
      },
      "source": [
        "%matplotlib inline\n",
        "import warnings\n",
        "warnings.filterwarnings(\"ignore\")\n",
        "\n",
        "import pandas as pd\n",
        "import numpy as np\n",
        "import nltk\n",
        "import matplotlib.pyplot as plt\n",
        "import seaborn as sns\n",
        "from sklearn.feature_extraction.text import TfidfVectorizer\n",
        "from sklearn.feature_extraction.text import CountVectorizer\n",
        "from sklearn.metrics import confusion_matrix\n",
        "from sklearn import metrics\n",
        "from sklearn.metrics import roc_curve, auc\n",
        "\n",
        "import re\n",
        "# Tutorial about Python regular expressions: https://pymotw.com/2/re/\n",
        "\n",
        "import pickle\n",
        "from tqdm import tqdm\n",
        "import os\n",
        "\n",
        "from collections import Counter"
      ],
      "execution_count": 1,
      "outputs": []
    },
    {
      "cell_type": "markdown",
      "metadata": {
        "id": "ZBZvr59S7lHD"
      },
      "source": [
        "<h1>1. K Nearest Neighbor</h1>"
      ]
    },
    {
      "cell_type": "markdown",
      "metadata": {
        "id": "1LFg6m6p7lHF"
      },
      "source": [
        "## 1.1 Loading Data"
      ]
    },
    {
      "cell_type": "code",
      "source": [
        "from google.colab import drive\n",
        "drive.mount('/content/drive')"
      ],
      "metadata": {
        "id": "0EGaTn6Rez1C",
        "outputId": "68018a2f-20d2-475a-a6f1-0a47e3e2dbc6",
        "colab": {
          "base_uri": "https://localhost:8080/"
        }
      },
      "execution_count": 2,
      "outputs": [
        {
          "output_type": "stream",
          "name": "stdout",
          "text": [
            "Mounted at /content/drive\n"
          ]
        }
      ]
    },
    {
      "cell_type": "code",
      "metadata": {
        "scrolled": true,
        "id": "JQPWqM4h7lHG",
        "outputId": "02e5ec5e-0658-4e45-9b73-727f31a84832",
        "colab": {
          "base_uri": "https://localhost:8080/",
          "height": 704
        }
      },
      "source": [
        "data  = pd.read_csv('/content/drive/MyDrive/Case Studies/6_Donors_choose_NB/preprocessed_data.csv', nrows=10000)\n",
        "# data  = pd.read_csv('preprocessed_data.csv', nrows=50000) # you can take less number of rows like this\n",
        "data.head(5)"
      ],
      "execution_count": 3,
      "outputs": [
        {
          "output_type": "execute_result",
          "data": {
            "text/html": [
              "\n",
              "  <div id=\"df-4679c046-b565-4410-9c6d-1040c205b905\">\n",
              "    <div class=\"colab-df-container\">\n",
              "      <div>\n",
              "<style scoped>\n",
              "    .dataframe tbody tr th:only-of-type {\n",
              "        vertical-align: middle;\n",
              "    }\n",
              "\n",
              "    .dataframe tbody tr th {\n",
              "        vertical-align: top;\n",
              "    }\n",
              "\n",
              "    .dataframe thead th {\n",
              "        text-align: right;\n",
              "    }\n",
              "</style>\n",
              "<table border=\"1\" class=\"dataframe\">\n",
              "  <thead>\n",
              "    <tr style=\"text-align: right;\">\n",
              "      <th></th>\n",
              "      <th>school_state</th>\n",
              "      <th>teacher_prefix</th>\n",
              "      <th>project_grade_category</th>\n",
              "      <th>teacher_number_of_previously_posted_projects</th>\n",
              "      <th>project_is_approved</th>\n",
              "      <th>clean_categories</th>\n",
              "      <th>clean_subcategories</th>\n",
              "      <th>essay</th>\n",
              "      <th>price</th>\n",
              "    </tr>\n",
              "  </thead>\n",
              "  <tbody>\n",
              "    <tr>\n",
              "      <th>0</th>\n",
              "      <td>ca</td>\n",
              "      <td>mrs</td>\n",
              "      <td>grades_prek_2</td>\n",
              "      <td>53</td>\n",
              "      <td>1</td>\n",
              "      <td>math_science</td>\n",
              "      <td>appliedsciences health_lifescience</td>\n",
              "      <td>i fortunate enough use fairy tale stem kits cl...</td>\n",
              "      <td>725.05</td>\n",
              "    </tr>\n",
              "    <tr>\n",
              "      <th>1</th>\n",
              "      <td>ut</td>\n",
              "      <td>ms</td>\n",
              "      <td>grades_3_5</td>\n",
              "      <td>4</td>\n",
              "      <td>1</td>\n",
              "      <td>specialneeds</td>\n",
              "      <td>specialneeds</td>\n",
              "      <td>imagine 8 9 years old you third grade classroo...</td>\n",
              "      <td>213.03</td>\n",
              "    </tr>\n",
              "    <tr>\n",
              "      <th>2</th>\n",
              "      <td>ca</td>\n",
              "      <td>mrs</td>\n",
              "      <td>grades_prek_2</td>\n",
              "      <td>10</td>\n",
              "      <td>1</td>\n",
              "      <td>literacy_language</td>\n",
              "      <td>literacy</td>\n",
              "      <td>having class 24 students comes diverse learner...</td>\n",
              "      <td>329.00</td>\n",
              "    </tr>\n",
              "    <tr>\n",
              "      <th>3</th>\n",
              "      <td>ga</td>\n",
              "      <td>mrs</td>\n",
              "      <td>grades_prek_2</td>\n",
              "      <td>2</td>\n",
              "      <td>1</td>\n",
              "      <td>appliedlearning</td>\n",
              "      <td>earlydevelopment</td>\n",
              "      <td>i recently read article giving students choice...</td>\n",
              "      <td>481.04</td>\n",
              "    </tr>\n",
              "    <tr>\n",
              "      <th>4</th>\n",
              "      <td>wa</td>\n",
              "      <td>mrs</td>\n",
              "      <td>grades_3_5</td>\n",
              "      <td>2</td>\n",
              "      <td>1</td>\n",
              "      <td>literacy_language</td>\n",
              "      <td>literacy</td>\n",
              "      <td>my students crave challenge eat obstacles brea...</td>\n",
              "      <td>17.74</td>\n",
              "    </tr>\n",
              "  </tbody>\n",
              "</table>\n",
              "</div>\n",
              "      <button class=\"colab-df-convert\" onclick=\"convertToInteractive('df-4679c046-b565-4410-9c6d-1040c205b905')\"\n",
              "              title=\"Convert this dataframe to an interactive table.\"\n",
              "              style=\"display:none;\">\n",
              "        \n",
              "  <svg xmlns=\"http://www.w3.org/2000/svg\" height=\"24px\"viewBox=\"0 0 24 24\"\n",
              "       width=\"24px\">\n",
              "    <path d=\"M0 0h24v24H0V0z\" fill=\"none\"/>\n",
              "    <path d=\"M18.56 5.44l.94 2.06.94-2.06 2.06-.94-2.06-.94-.94-2.06-.94 2.06-2.06.94zm-11 1L8.5 8.5l.94-2.06 2.06-.94-2.06-.94L8.5 2.5l-.94 2.06-2.06.94zm10 10l.94 2.06.94-2.06 2.06-.94-2.06-.94-.94-2.06-.94 2.06-2.06.94z\"/><path d=\"M17.41 7.96l-1.37-1.37c-.4-.4-.92-.59-1.43-.59-.52 0-1.04.2-1.43.59L10.3 9.45l-7.72 7.72c-.78.78-.78 2.05 0 2.83L4 21.41c.39.39.9.59 1.41.59.51 0 1.02-.2 1.41-.59l7.78-7.78 2.81-2.81c.8-.78.8-2.07 0-2.86zM5.41 20L4 18.59l7.72-7.72 1.47 1.35L5.41 20z\"/>\n",
              "  </svg>\n",
              "      </button>\n",
              "      \n",
              "  <style>\n",
              "    .colab-df-container {\n",
              "      display:flex;\n",
              "      flex-wrap:wrap;\n",
              "      gap: 12px;\n",
              "    }\n",
              "\n",
              "    .colab-df-convert {\n",
              "      background-color: #E8F0FE;\n",
              "      border: none;\n",
              "      border-radius: 50%;\n",
              "      cursor: pointer;\n",
              "      display: none;\n",
              "      fill: #1967D2;\n",
              "      height: 32px;\n",
              "      padding: 0 0 0 0;\n",
              "      width: 32px;\n",
              "    }\n",
              "\n",
              "    .colab-df-convert:hover {\n",
              "      background-color: #E2EBFA;\n",
              "      box-shadow: 0px 1px 2px rgba(60, 64, 67, 0.3), 0px 1px 3px 1px rgba(60, 64, 67, 0.15);\n",
              "      fill: #174EA6;\n",
              "    }\n",
              "\n",
              "    [theme=dark] .colab-df-convert {\n",
              "      background-color: #3B4455;\n",
              "      fill: #D2E3FC;\n",
              "    }\n",
              "\n",
              "    [theme=dark] .colab-df-convert:hover {\n",
              "      background-color: #434B5C;\n",
              "      box-shadow: 0px 1px 3px 1px rgba(0, 0, 0, 0.15);\n",
              "      filter: drop-shadow(0px 1px 2px rgba(0, 0, 0, 0.3));\n",
              "      fill: #FFFFFF;\n",
              "    }\n",
              "  </style>\n",
              "\n",
              "      <script>\n",
              "        const buttonEl =\n",
              "          document.querySelector('#df-4679c046-b565-4410-9c6d-1040c205b905 button.colab-df-convert');\n",
              "        buttonEl.style.display =\n",
              "          google.colab.kernel.accessAllowed ? 'block' : 'none';\n",
              "\n",
              "        async function convertToInteractive(key) {\n",
              "          const element = document.querySelector('#df-4679c046-b565-4410-9c6d-1040c205b905');\n",
              "          const dataTable =\n",
              "            await google.colab.kernel.invokeFunction('convertToInteractive',\n",
              "                                                     [key], {});\n",
              "          if (!dataTable) return;\n",
              "\n",
              "          const docLinkHtml = 'Like what you see? Visit the ' +\n",
              "            '<a target=\"_blank\" href=https://colab.research.google.com/notebooks/data_table.ipynb>data table notebook</a>'\n",
              "            + ' to learn more about interactive tables.';\n",
              "          element.innerHTML = '';\n",
              "          dataTable['output_type'] = 'display_data';\n",
              "          await google.colab.output.renderOutput(dataTable, element);\n",
              "          const docLink = document.createElement('div');\n",
              "          docLink.innerHTML = docLinkHtml;\n",
              "          element.appendChild(docLink);\n",
              "        }\n",
              "      </script>\n",
              "    </div>\n",
              "  </div>\n",
              "  "
            ],
            "text/plain": [
              "  school_state teacher_prefix project_grade_category  \\\n",
              "0           ca            mrs          grades_prek_2   \n",
              "1           ut             ms             grades_3_5   \n",
              "2           ca            mrs          grades_prek_2   \n",
              "3           ga            mrs          grades_prek_2   \n",
              "4           wa            mrs             grades_3_5   \n",
              "\n",
              "   teacher_number_of_previously_posted_projects  project_is_approved  \\\n",
              "0                                            53                    1   \n",
              "1                                             4                    1   \n",
              "2                                            10                    1   \n",
              "3                                             2                    1   \n",
              "4                                             2                    1   \n",
              "\n",
              "    clean_categories                 clean_subcategories  \\\n",
              "0       math_science  appliedsciences health_lifescience   \n",
              "1       specialneeds                        specialneeds   \n",
              "2  literacy_language                            literacy   \n",
              "3    appliedlearning                    earlydevelopment   \n",
              "4  literacy_language                            literacy   \n",
              "\n",
              "                                               essay   price  \n",
              "0  i fortunate enough use fairy tale stem kits cl...  725.05  \n",
              "1  imagine 8 9 years old you third grade classroo...  213.03  \n",
              "2  having class 24 students comes diverse learner...  329.00  \n",
              "3  i recently read article giving students choice...  481.04  \n",
              "4  my students crave challenge eat obstacles brea...   17.74  "
            ]
          },
          "metadata": {},
          "execution_count": 3
        }
      ]
    },
    {
      "cell_type": "code",
      "metadata": {
        "id": "TjsBGvG87lHL",
        "outputId": "9afd1396-1eb7-40e2-c4b0-46605acb805b",
        "colab": {
          "base_uri": "https://localhost:8080/",
          "height": 332
        }
      },
      "source": [
        "y = data['project_is_approved'].values\n",
        "X = data.drop(['project_is_approved'], axis = 1)# axis = 1 means apply the function column wise \n",
        "\n",
        "X.head(2)"
      ],
      "execution_count": 4,
      "outputs": [
        {
          "output_type": "execute_result",
          "data": {
            "text/html": [
              "\n",
              "  <div id=\"df-421ce4ef-02ee-4b09-ad4d-ab33e811bb78\">\n",
              "    <div class=\"colab-df-container\">\n",
              "      <div>\n",
              "<style scoped>\n",
              "    .dataframe tbody tr th:only-of-type {\n",
              "        vertical-align: middle;\n",
              "    }\n",
              "\n",
              "    .dataframe tbody tr th {\n",
              "        vertical-align: top;\n",
              "    }\n",
              "\n",
              "    .dataframe thead th {\n",
              "        text-align: right;\n",
              "    }\n",
              "</style>\n",
              "<table border=\"1\" class=\"dataframe\">\n",
              "  <thead>\n",
              "    <tr style=\"text-align: right;\">\n",
              "      <th></th>\n",
              "      <th>school_state</th>\n",
              "      <th>teacher_prefix</th>\n",
              "      <th>project_grade_category</th>\n",
              "      <th>teacher_number_of_previously_posted_projects</th>\n",
              "      <th>clean_categories</th>\n",
              "      <th>clean_subcategories</th>\n",
              "      <th>essay</th>\n",
              "      <th>price</th>\n",
              "    </tr>\n",
              "  </thead>\n",
              "  <tbody>\n",
              "    <tr>\n",
              "      <th>0</th>\n",
              "      <td>ca</td>\n",
              "      <td>mrs</td>\n",
              "      <td>grades_prek_2</td>\n",
              "      <td>53</td>\n",
              "      <td>math_science</td>\n",
              "      <td>appliedsciences health_lifescience</td>\n",
              "      <td>i fortunate enough use fairy tale stem kits cl...</td>\n",
              "      <td>725.05</td>\n",
              "    </tr>\n",
              "    <tr>\n",
              "      <th>1</th>\n",
              "      <td>ut</td>\n",
              "      <td>ms</td>\n",
              "      <td>grades_3_5</td>\n",
              "      <td>4</td>\n",
              "      <td>specialneeds</td>\n",
              "      <td>specialneeds</td>\n",
              "      <td>imagine 8 9 years old you third grade classroo...</td>\n",
              "      <td>213.03</td>\n",
              "    </tr>\n",
              "  </tbody>\n",
              "</table>\n",
              "</div>\n",
              "      <button class=\"colab-df-convert\" onclick=\"convertToInteractive('df-421ce4ef-02ee-4b09-ad4d-ab33e811bb78')\"\n",
              "              title=\"Convert this dataframe to an interactive table.\"\n",
              "              style=\"display:none;\">\n",
              "        \n",
              "  <svg xmlns=\"http://www.w3.org/2000/svg\" height=\"24px\"viewBox=\"0 0 24 24\"\n",
              "       width=\"24px\">\n",
              "    <path d=\"M0 0h24v24H0V0z\" fill=\"none\"/>\n",
              "    <path d=\"M18.56 5.44l.94 2.06.94-2.06 2.06-.94-2.06-.94-.94-2.06-.94 2.06-2.06.94zm-11 1L8.5 8.5l.94-2.06 2.06-.94-2.06-.94L8.5 2.5l-.94 2.06-2.06.94zm10 10l.94 2.06.94-2.06 2.06-.94-2.06-.94-.94-2.06-.94 2.06-2.06.94z\"/><path d=\"M17.41 7.96l-1.37-1.37c-.4-.4-.92-.59-1.43-.59-.52 0-1.04.2-1.43.59L10.3 9.45l-7.72 7.72c-.78.78-.78 2.05 0 2.83L4 21.41c.39.39.9.59 1.41.59.51 0 1.02-.2 1.41-.59l7.78-7.78 2.81-2.81c.8-.78.8-2.07 0-2.86zM5.41 20L4 18.59l7.72-7.72 1.47 1.35L5.41 20z\"/>\n",
              "  </svg>\n",
              "      </button>\n",
              "      \n",
              "  <style>\n",
              "    .colab-df-container {\n",
              "      display:flex;\n",
              "      flex-wrap:wrap;\n",
              "      gap: 12px;\n",
              "    }\n",
              "\n",
              "    .colab-df-convert {\n",
              "      background-color: #E8F0FE;\n",
              "      border: none;\n",
              "      border-radius: 50%;\n",
              "      cursor: pointer;\n",
              "      display: none;\n",
              "      fill: #1967D2;\n",
              "      height: 32px;\n",
              "      padding: 0 0 0 0;\n",
              "      width: 32px;\n",
              "    }\n",
              "\n",
              "    .colab-df-convert:hover {\n",
              "      background-color: #E2EBFA;\n",
              "      box-shadow: 0px 1px 2px rgba(60, 64, 67, 0.3), 0px 1px 3px 1px rgba(60, 64, 67, 0.15);\n",
              "      fill: #174EA6;\n",
              "    }\n",
              "\n",
              "    [theme=dark] .colab-df-convert {\n",
              "      background-color: #3B4455;\n",
              "      fill: #D2E3FC;\n",
              "    }\n",
              "\n",
              "    [theme=dark] .colab-df-convert:hover {\n",
              "      background-color: #434B5C;\n",
              "      box-shadow: 0px 1px 3px 1px rgba(0, 0, 0, 0.15);\n",
              "      filter: drop-shadow(0px 1px 2px rgba(0, 0, 0, 0.3));\n",
              "      fill: #FFFFFF;\n",
              "    }\n",
              "  </style>\n",
              "\n",
              "      <script>\n",
              "        const buttonEl =\n",
              "          document.querySelector('#df-421ce4ef-02ee-4b09-ad4d-ab33e811bb78 button.colab-df-convert');\n",
              "        buttonEl.style.display =\n",
              "          google.colab.kernel.accessAllowed ? 'block' : 'none';\n",
              "\n",
              "        async function convertToInteractive(key) {\n",
              "          const element = document.querySelector('#df-421ce4ef-02ee-4b09-ad4d-ab33e811bb78');\n",
              "          const dataTable =\n",
              "            await google.colab.kernel.invokeFunction('convertToInteractive',\n",
              "                                                     [key], {});\n",
              "          if (!dataTable) return;\n",
              "\n",
              "          const docLinkHtml = 'Like what you see? Visit the ' +\n",
              "            '<a target=\"_blank\" href=https://colab.research.google.com/notebooks/data_table.ipynb>data table notebook</a>'\n",
              "            + ' to learn more about interactive tables.';\n",
              "          element.innerHTML = '';\n",
              "          dataTable['output_type'] = 'display_data';\n",
              "          await google.colab.output.renderOutput(dataTable, element);\n",
              "          const docLink = document.createElement('div');\n",
              "          docLink.innerHTML = docLinkHtml;\n",
              "          element.appendChild(docLink);\n",
              "        }\n",
              "      </script>\n",
              "    </div>\n",
              "  </div>\n",
              "  "
            ],
            "text/plain": [
              "  school_state teacher_prefix project_grade_category  \\\n",
              "0           ca            mrs          grades_prek_2   \n",
              "1           ut             ms             grades_3_5   \n",
              "\n",
              "   teacher_number_of_previously_posted_projects clean_categories  \\\n",
              "0                                            53     math_science   \n",
              "1                                             4     specialneeds   \n",
              "\n",
              "                  clean_subcategories  \\\n",
              "0  appliedsciences health_lifescience   \n",
              "1                        specialneeds   \n",
              "\n",
              "                                               essay   price  \n",
              "0  i fortunate enough use fairy tale stem kits cl...  725.05  \n",
              "1  imagine 8 9 years old you third grade classroo...  213.03  "
            ]
          },
          "metadata": {},
          "execution_count": 4
        }
      ]
    },
    {
      "cell_type": "markdown",
      "metadata": {
        "id": "8nlOQpYr7lHP"
      },
      "source": [
        "<h2>1.2 Splitting data into Train and cross validation(or test): Stratified Sampling</h2>"
      ]
    },
    {
      "cell_type": "code",
      "metadata": {
        "id": "kOikiKl67lHR"
      },
      "source": [
        "# train test split\n",
        "from sklearn.model_selection import train_test_split\n",
        "\n",
        "# X is a DataFrame\n",
        "X_train, X_test, y_train, y_test = train_test_split(X, y, test_size = 0.33, stratify = y)\n",
        "X_train, X_cv, y_train, y_cv = train_test_split(X_train, y_train, test_size = 0.33, stratify = y_train)"
      ],
      "execution_count": 5,
      "outputs": []
    },
    {
      "cell_type": "markdown",
      "metadata": {
        "id": "ltBkKXwf7lHV"
      },
      "source": [
        "<h2>1.3 Make Data Model Ready: encoding eassay, and project_title</h2>"
      ]
    },
    {
      "cell_type": "code",
      "metadata": {
        "id": "ttEdPbaV7lHX",
        "outputId": "058c381e-05c6-4616-f133-c1d9febbff11",
        "colab": {
          "base_uri": "https://localhost:8080/"
        }
      },
      "source": [
        "ex = [\n",
        "      \"classroom students should take break\",\n",
        "      \"low income homes students receive free breakfast\",\n",
        "      \"students will receive low grades\"\n",
        "      ]\n",
        "\n",
        "vectorizer = CountVectorizer()\n",
        "vectorizer.fit(ex)\n",
        "\n",
        "print(vectorizer.transform(ex).toarray())\n",
        "print(vectorizer.get_feature_names())"
      ],
      "execution_count": 6,
      "outputs": [
        {
          "output_type": "stream",
          "name": "stdout",
          "text": [
            "[[1 0 1 0 0 0 0 0 0 1 1 1 0]\n",
            " [0 1 0 1 0 1 1 1 1 0 1 0 0]\n",
            " [0 0 0 0 1 0 0 1 1 0 1 0 1]]\n",
            "['break', 'breakfast', 'classroom', 'free', 'grades', 'homes', 'income', 'low', 'receive', 'should', 'students', 'take', 'will']\n"
          ]
        }
      ]
    },
    {
      "cell_type": "code",
      "metadata": {
        "id": "mipvzzIW7lHb",
        "outputId": "3ee9546d-05f8-4e18-d686-8ac4a2cf0ceb",
        "colab": {
          "base_uri": "https://localhost:8080/"
        }
      },
      "source": [
        "print(X_train.shape, y_train.shape)\n",
        "print(X_cv.shape, y_cv.shape)\n",
        "print(X_test.shape, y_test.shape)\n",
        "\n",
        "print(\"=\"*100)\n",
        "\n",
        "\n",
        "vectorizer = CountVectorizer(min_df = 10,ngram_range = (1,4), max_features = 5000)\n",
        "vectorizer.fit(X_train['essay'].values) # fit has to happen only on train data\n",
        "\n",
        "# we use the fitted CountVectorizer to convert the text to vector\n",
        "X_train_essay_bow = vectorizer.transform(X_train['essay'].values)\n",
        "X_cv_essay_bow    = vectorizer.transform(X_cv['essay'].values)\n",
        "X_test_essay_bow  = vectorizer.transform(X_test['essay'].values)\n",
        "\n",
        "print(\"After vectorizations\")\n",
        "\n",
        "print(X_train_essay_bow.shape, y_train.shape)\n",
        "print(X_cv_essay_bow.shape, y_cv.shape)\n",
        "print(X_test_essay_bow.shape, y_test.shape)\n",
        "print(\"=\"*100)\n",
        "\n",
        "\n",
        "# print(\"YOU SHOULD NOT DO SOMETHING LIKE THIS\")\n",
        "# vectorizer = CountVectorizer()\n",
        "# x_train_bow = vectorizer.fit_transform(X_train['essay'].values)\n",
        "# x_cv_bow = vectorizer.fit_transform(X_cv['essay'].values)\n",
        "# x_test_bow = vectorizer.fit_transform(X_test['essay'].values)\n",
        "\n",
        "# print(x_train_bow.shape, y_train.shape)\n",
        "# print(x_cv_bow.shape, y_cv.shape)\n",
        "# print(x_test_bow.shape, y_test.shape)\n",
        "\n",
        "print(\"NOTE: THE NUMBER OF COLUMNS IN EACH OF THE VECTOR WONT BE SAME\")\n"
      ],
      "execution_count": 7,
      "outputs": [
        {
          "output_type": "stream",
          "name": "stdout",
          "text": [
            "(4489, 8) (4489,)\n",
            "(2211, 8) (2211,)\n",
            "(3300, 8) (3300,)\n",
            "====================================================================================================\n",
            "After vectorizations\n",
            "(4489, 5000) (4489,)\n",
            "(2211, 5000) (2211,)\n",
            "(3300, 5000) (3300,)\n",
            "====================================================================================================\n",
            "NOTE: THE NUMBER OF COLUMNS IN EACH OF THE VECTOR WONT BE SAME\n"
          ]
        }
      ]
    },
    {
      "cell_type": "markdown",
      "metadata": {
        "id": "Y5XcosfC7lHg"
      },
      "source": [
        "<pre>\n",
        "<h2> <font color='red'>YOU SHOULD NOT DO LIKE THIS </font></h2>\n",
        "1.  <font color='red'>THE VOCABULARY SHOULD BUILT ONLY WITH THE WORDS OF TRAIN DATA</font>\n",
        "    vectorizer = CountVectorizer()\n",
        "    x_train_bow = vectorizer.fit_transform(X_train)\n",
        "    x_cv_bow = vectorizer.fit_transform(X_cv)\n",
        "    x_test_bow = vectorizer.fit_transform(X_test)\n",
        "    \n",
        "2.  <font color='red'>DATA LEAKAGE PROBLEM: IF WE DO LIKE THIS WE ARE LOOKING AT THE TEST DATA BEFORE MODELING</font>\n",
        "    vectorizer = CountVectorizer()\n",
        "    X_bow = vectorizer.fit_transfomr(X)\n",
        "    X_train, X_test, y_train, y_test = train_test_split(X_bow, Y, test_size=0.33)\n",
        "   \n",
        "3. <font color='red'>YOU SHOULD PASS THE PROBABILITY SCORES NOT THE PREDICTED VALUES</font>\n",
        "    y_pred =  neigh.predict(X)\n",
        "    roc_auc_score(y_ture,y_pred)\n",
        "\n",
        "\n",
        "</pre>"
      ]
    },
    {
      "cell_type": "markdown",
      "metadata": {
        "id": "7-YRponq7lHh"
      },
      "source": [
        "<pre>\n",
        "<h2> <font color='red'>WHAT ARE THESE FUNCTIONS: FIT, TRANSFORM, FIT_TRANSFORM</font></h2>\n",
        "\n",
        "When you do\n",
        "<i><font color='blue'>vec =  CountVectorizer()</font></i>\n",
        "\n",
        "then it will initiate the <i><font color='blue'>CountVectorizer</font></i> with default parameters.\n",
        "\n",
        "<i><font color='blue'>vec.fit(Train_text)</font></i>: Means that internally it is only learning the vocabulary of `Text` i.e. unique n-grams\n",
        "\n",
        "<i><font color='blue'>bag_of_words = vec.transform(Train_text)</font></i>: Means it is applying that learned parameters (vocabulary) to the data and thus giving you output i.e. words in Bag of words formate. \n",
        "\n",
        "Now, as you should know that the  <i>vocabulary(unique n-grams)</i> can be different for <i>Train Text</i> and <i>Test Text</i> thus they will give you different dimensional matrices for Train and Test. \n",
        "\n",
        "So what you should do is -  <i><font color='blue'>vec = CountVectorizer()</font></i>, <i><font color='blue'>vec.fit(Train_text)</font></i>\n",
        "\n",
        "which learns the vocabulary of <i>Train Text</i> and then apply or transform your both <i>Train Text</i> and <i>Test Text</i>  using that  \n",
        "learned vocabulary to ensure the same dimensions for both of them by doing -\n",
        "\n",
        "<i><font color='blue'>bag_of_words_train = vec.transform(Train_text)</font></i>\n",
        "and\n",
        "<i><font color='blue'>bag_of_words_test = vec.transform(Test_text)</font></i>\n",
        "\n",
        "\n",
        "so to conclude\n",
        "\n",
        "<i><font color='blue'>\n",
        "model =  CountVectorizer()\n",
        "model.fit(train_text)\n",
        "train_bow = model.transform(train_text)\n",
        "test_bow = model.transform(test_text) \n",
        "</font></i>\n",
        "\n",
        "or \n",
        "   \n",
        "<i><font color='blue'>\n",
        "model =  CountVectorizer()\n",
        "train_bow = model.fit_transform(train_text)\n",
        "test_bow = model.transform(test_text) \n",
        "</font></i>\n",
        "\n",
        "\n",
        "</pre>"
      ]
    },
    {
      "cell_type": "markdown",
      "metadata": {
        "id": "AZZkXe8h7lHi"
      },
      "source": [
        "<h2>1.4 Make Data Model Ready: encoding numerical, categorical features</h2>"
      ]
    },
    {
      "cell_type": "markdown",
      "metadata": {
        "id": "hbO3ewp-7lHk"
      },
      "source": [
        "<h3>1.4.1 encoding categorical features: School State</h3>"
      ]
    },
    {
      "cell_type": "code",
      "metadata": {
        "id": "QUv4wdsP7lHl",
        "outputId": "a29b22ca-cbfd-4d53-b137-f658677c4fe2",
        "colab": {
          "base_uri": "https://localhost:8080/"
        }
      },
      "source": [
        "vectorizer = CountVectorizer()\n",
        "vectorizer.fit(X_train['school_state'].values) # fit has to happen only on train data\n",
        "\n",
        "# we use the fitted CountVectorizer to convert the text to vector\n",
        "X_train_state_ohe = vectorizer.transform(X_train['school_state'].values)\n",
        "X_cv_state_ohe    = vectorizer.transform(X_cv['school_state'].values)\n",
        "X_test_state_ohe  = vectorizer.transform(X_test['school_state'].values)\n",
        "\n",
        "print(\"After vectorizations\")\n",
        "\n",
        "print(X_train_state_ohe.shape, y_train.shape)\n",
        "print(X_cv_state_ohe.shape, y_cv.shape)\n",
        "print(X_test_state_ohe.shape, y_test.shape)\n",
        "print(vectorizer.get_feature_names())\n"
      ],
      "execution_count": 8,
      "outputs": [
        {
          "output_type": "stream",
          "name": "stdout",
          "text": [
            "After vectorizations\n",
            "(4489, 51) (4489,)\n",
            "(2211, 51) (2211,)\n",
            "(3300, 51) (3300,)\n",
            "['ak', 'al', 'ar', 'az', 'ca', 'co', 'ct', 'dc', 'de', 'fl', 'ga', 'hi', 'ia', 'id', 'il', 'in', 'ks', 'ky', 'la', 'ma', 'md', 'me', 'mi', 'mn', 'mo', 'ms', 'mt', 'nc', 'nd', 'ne', 'nh', 'nj', 'nm', 'nv', 'ny', 'oh', 'ok', 'or', 'pa', 'ri', 'sc', 'sd', 'tn', 'tx', 'ut', 'va', 'vt', 'wa', 'wi', 'wv', 'wy']\n"
          ]
        }
      ]
    },
    {
      "cell_type": "markdown",
      "metadata": {
        "id": "1G-HBVM77lHr"
      },
      "source": [
        "<h3>1.4.2 encoding categorical features: teacher_prefix</h3>"
      ]
    },
    {
      "cell_type": "code",
      "metadata": {
        "id": "Z2eoU6aL7lHs",
        "outputId": "22ba9ec9-1d92-451b-9cd5-5ab0cfafb5ee",
        "colab": {
          "base_uri": "https://localhost:8080/"
        }
      },
      "source": [
        "vectorizer = CountVectorizer()\n",
        "vectorizer.fit(X_train['teacher_prefix'].values) # fit has to happen only on train data\n",
        "\n",
        "# we use the fitted CountVectorizer to convert the text to vector\n",
        "X_train_teacher_ohe = vectorizer.transform(X_train['teacher_prefix'].values)\n",
        "X_cv_teacher_ohe = vectorizer.transform(X_cv['teacher_prefix'].values)\n",
        "X_test_teacher_ohe = vectorizer.transform(X_test['teacher_prefix'].values)\n",
        "\n",
        "print(\"After vectorizations\")\n",
        "print(X_train_teacher_ohe.shape, y_train.shape)\n",
        "print(X_cv_teacher_ohe.shape, y_cv.shape)\n",
        "print(X_test_teacher_ohe.shape, y_test.shape)\n",
        "print(vectorizer.get_feature_names())"
      ],
      "execution_count": 9,
      "outputs": [
        {
          "output_type": "stream",
          "name": "stdout",
          "text": [
            "After vectorizations\n",
            "(4489, 5) (4489,)\n",
            "(2211, 5) (2211,)\n",
            "(3300, 5) (3300,)\n",
            "['dr', 'mr', 'mrs', 'ms', 'teacher']\n"
          ]
        }
      ]
    },
    {
      "cell_type": "markdown",
      "metadata": {
        "id": "vN2DT_az7lHz"
      },
      "source": [
        "<h3>1.4.3 encoding categorical features: project_grade_category</h3>"
      ]
    },
    {
      "cell_type": "code",
      "metadata": {
        "id": "8oO9CR4B7lH1",
        "outputId": "57eac8c8-aea2-4085-f65f-f8e2b936b5a7",
        "colab": {
          "base_uri": "https://localhost:8080/"
        }
      },
      "source": [
        "vectorizer = CountVectorizer()\n",
        "vectorizer.fit(X_train['project_grade_category'].values) # fit has to happen only on train data\n",
        "\n",
        "# we use the fitted CountVectorizer to convert the text to vector\n",
        "X_train_grade_ohe = vectorizer.transform(X_train['project_grade_category'].values)\n",
        "X_cv_grade_ohe = vectorizer.transform(X_cv['project_grade_category'].values)\n",
        "X_test_grade_ohe = vectorizer.transform(X_test['project_grade_category'].values)\n",
        "\n",
        "print(\"After vectorizations\")\n",
        "print(X_train_grade_ohe.shape, y_train.shape)\n",
        "print(X_cv_grade_ohe.shape, y_cv.shape)\n",
        "print(X_test_grade_ohe.shape, y_test.shape)\n",
        "print(vectorizer.get_feature_names())"
      ],
      "execution_count": 10,
      "outputs": [
        {
          "output_type": "stream",
          "name": "stdout",
          "text": [
            "After vectorizations\n",
            "(4489, 4) (4489,)\n",
            "(2211, 4) (2211,)\n",
            "(3300, 4) (3300,)\n",
            "['grades_3_5', 'grades_6_8', 'grades_9_12', 'grades_prek_2']\n"
          ]
        }
      ]
    },
    {
      "cell_type": "markdown",
      "metadata": {
        "id": "QP8qE2fX7lH9"
      },
      "source": [
        "<h3>1.4.4 encoding numerical features: Price</h3>"
      ]
    },
    {
      "cell_type": "code",
      "metadata": {
        "id": "F-AXct0_7lH-",
        "outputId": "eec1b3e7-f937-4fba-d086-e7b39b767c6b",
        "colab": {
          "base_uri": "https://localhost:8080/"
        }
      },
      "source": [
        "from sklearn.preprocessing import Normalizer\n",
        "normalizer = Normalizer()\n",
        "# normalizer.fit(X_train['price'].values)\n",
        "# this will rise an error Expected 2D array, got 1D array instead: \n",
        "# array=[105.22 215.96  96.01 ... 368.98  80.53 709.67].\n",
        "# Reshape your data either using \n",
        "# array.reshape(-1, 1) if your data has a single feature \n",
        "# array.reshape(1, -1)  if it contains a single sample.\n",
        "\n",
        "normalizer.fit(X_train['price'].values.reshape(-1,1))\n",
        "\n",
        "X_train_price_norm = normalizer.transform(X_train['price'].values.reshape(-1,1))\n",
        "X_cv_price_norm = normalizer.transform(X_cv['price'].values.reshape(-1,1))\n",
        "X_test_price_norm = normalizer.transform(X_test['price'].values.reshape(-1,1))\n",
        "\n",
        "\n",
        "\n",
        "print(\"After vectorizations\")\n",
        "print(X_train_price_norm.shape, y_train.shape)\n",
        "print(X_cv_price_norm.shape, y_cv.shape)\n",
        "print(X_test_price_norm.shape, y_test.shape)"
      ],
      "execution_count": 11,
      "outputs": [
        {
          "output_type": "stream",
          "name": "stdout",
          "text": [
            "After vectorizations\n",
            "(4489, 1) (4489,)\n",
            "(2211, 1) (2211,)\n",
            "(3300, 1) (3300,)\n"
          ]
        }
      ]
    },
    {
      "cell_type": "markdown",
      "metadata": {
        "id": "h22WJ2gc7lIC"
      },
      "source": [
        "# <font color='red'> Similarly you can convert reminaing features into vectors </font>"
      ]
    },
    {
      "cell_type": "markdown",
      "metadata": {
        "id": "H6T-_fB77lIE"
      },
      "source": [
        "\n",
        "### 1.4.5 Concatinating all the features"
      ]
    },
    {
      "cell_type": "code",
      "metadata": {
        "id": "txfonKaa7lIF",
        "outputId": "bff28dbb-baef-4591-d756-e473c0d914bb",
        "colab": {
          "base_uri": "https://localhost:8080/"
        }
      },
      "source": [
        "# merge two sparse matrices: https://stackoverflow.com/a/19710648/4084039\n",
        "\n",
        "from scipy.sparse import hstack\n",
        "\n",
        "X_tr = hstack((X_train_essay_bow, X_train_state_ohe, X_train_teacher_ohe, X_train_grade_ohe,  X_train_price_norm)).tocsr()\n",
        "X_cr = hstack((X_cv_essay_bow,   X_cv_state_ohe,     X_cv_teacher_ohe,    X_cv_grade_ohe,     X_cv_price_norm)).tocsr()\n",
        "X_te = hstack((X_test_essay_bow, X_test_state_ohe,   X_test_teacher_ohe,  X_test_grade_ohe,   X_test_price_norm)).tocsr()\n",
        "\n",
        "print(\"Final Data matrix\")\n",
        "\n",
        "print(X_tr.shape, y_train.shape)\n",
        "print(X_cr.shape, y_cv.shape)\n",
        "print(X_te.shape, y_test.shape)"
      ],
      "execution_count": 12,
      "outputs": [
        {
          "output_type": "stream",
          "name": "stdout",
          "text": [
            "Final Data matrix\n",
            "(4489, 5061) (4489,)\n",
            "(2211, 5061) (2211,)\n",
            "(3300, 5061) (3300,)\n"
          ]
        }
      ]
    },
    {
      "cell_type": "markdown",
      "metadata": {
        "id": "22BRjT867lIJ"
      },
      "source": [
        "<h2>1.5 Appling KNN on different kind of featurization as mentioned in the instructions</h2>"
      ]
    },
    {
      "cell_type": "markdown",
      "metadata": {
        "id": "As5ilpp57lIK"
      },
      "source": [
        "<h3>1.5.1 Appling KNN: BOW featurization</h3>"
      ]
    },
    {
      "cell_type": "markdown",
      "metadata": {
        "id": "Hut2gnvlJ5hZ"
      },
      "source": [
        "#### 1.5.1.1 Hyper parameter Tuning (YOU CAN FOLLOW ANY ONE OF THESE)"
      ]
    },
    {
      "cell_type": "markdown",
      "metadata": {
        "id": "jTpUqwRVJ5ha"
      },
      "source": [
        "##### 1.5.1.1.1 Method 1: Simple for loop (if you are having memory limitations use this)"
      ]
    },
    {
      "cell_type": "markdown",
      "source": [
        "https://www.adamsmith.haus/python/docs/sklearn.linear_model.LogisticRegression.predict_proba"
      ],
      "metadata": {
        "id": "WcE4CXsR-1I8"
      }
    },
    {
      "cell_type": "code",
      "metadata": {
        "id": "4gDLcQdZ7lIO"
      },
      "source": [
        "def batch_predict(clf, data):\n",
        "    # roc_auc_score(y_true, y_score) the 2nd parameter should be probability estimates of the \"Positive class\"\n",
        "    # not the predicted outputs\n",
        "\n",
        "    y_data_pred = [] # here we are taking batch size = 1000 , thus we will have 4901/1000 number of batches.\n",
        "    tr_loop = data.shape[0] - data.shape[0]%1000\n",
        "    # consider you X_tr shape is 49041, then your tr_loop will be 49041 - 49041%1000 = 49000\n",
        "    # in this for loop we will iterate until the last 1000 multiplier\n",
        "    \n",
        "    for i in range(0, tr_loop, 1000): # tr_loop is excluded in this loop\n",
        "\n",
        "        y_data_pred.extend( clf.predict_proba(data[i:i+1000])[:,1] ) # I want output from all the rows but only of 1st(+ve) class \n",
        "\n",
        "    # we will be predicting for the last data points\n",
        "\n",
        "    if data.shape[0]%1000 != 0:\n",
        "        y_data_pred.extend( clf.predict_proba(data[tr_loop:])[:,1] ) # tr_loop is excluded here \n",
        "    \n",
        "    return y_data_pred"
      ],
      "execution_count": 13,
      "outputs": []
    },
    {
      "cell_type": "code",
      "metadata": {
        "id": "VOEL_fsD7lIR",
        "outputId": "3ef3c0d5-4422-4f7f-fa0a-acd3baee3e28",
        "colab": {
          "base_uri": "https://localhost:8080/",
          "height": 313
        }
      },
      "source": [
        "import matplotlib.pyplot as plt\n",
        "from sklearn.neighbors import KNeighborsClassifier\n",
        "from sklearn.metrics import roc_auc_score\n",
        "\n",
        "\"\"\"\n",
        "y_true : array, shape = [n_samples] or [n_samples, n_classes]\n",
        "True binary labels or binary label indicators.\n",
        "\n",
        "y_score : array, shape = [n_samples] or [n_samples, n_classes]\n",
        "Target scores, can either be probability estimates of the positive class, confidence values, or non-thresholded measure of\n",
        "decisions (as returned by “decision_function” on some classifiers). \n",
        "For binary y_true, y_score is supposed to be the score of the class with greater label.\n",
        "\n",
        "\"\"\"\n",
        "\n",
        "train_auc = []\n",
        "cv_auc = []\n",
        "\n",
        "K = [3, 15, 25, 51, 101]\n",
        "\n",
        "for i in tqdm(K):\n",
        "\n",
        "    neigh = KNeighborsClassifier(n_neighbors = i, n_jobs = -1)\n",
        "    neigh.fit(X_tr, y_train)\n",
        "\n",
        "    y_train_pred = batch_predict(neigh, X_tr)    \n",
        "    y_cv_pred    = batch_predict(neigh, X_cr)\n",
        "\n",
        "    # roc_auc_score(y_true, y_score) the 2nd parameter should be probability estimates of the positive class\n",
        "    # not the predicted outputs        \n",
        "    train_auc.append(roc_auc_score(y_train,y_train_pred))\n",
        "    cv_auc.append(roc_auc_score(y_cv, y_cv_pred))\n",
        "\n",
        "plt.plot(K, train_auc, label = 'Train AUC')\n",
        "plt.plot(K, cv_auc, label    = 'CV AUC')\n",
        "\n",
        "plt.scatter(K, train_auc, label = 'Train AUC points')\n",
        "plt.scatter(K, cv_auc, label    = 'CV AUC points')\n",
        "\n",
        "plt.legend()\n",
        "\n",
        "plt.xlabel(\"K: hyperparameter\")\n",
        "plt.ylabel(\"AUC\")\n",
        "plt.title(\"ERROR PLOTS\")\n",
        "plt.grid()\n",
        "\n",
        "plt.show()"
      ],
      "execution_count": 16,
      "outputs": [
        {
          "output_type": "stream",
          "name": "stderr",
          "text": [
            "100%|██████████| 5/5 [00:19<00:00,  3.96s/it]\n"
          ]
        },
        {
          "output_type": "display_data",
          "data": {
            "image/png": "[encoded data removed]",
            "text/plain": [
              "<Figure size 432x288 with 1 Axes>"
            ]
          },
          "metadata": {
            "needs_background": "light"
          }
        }
      ]
    },
    {
      "cell_type": "markdown",
      "source": [
        "* Here as the K increases ROC score of test data increases and that of train data decreases so we have to find the value which neither overfits nor underfit.\n",
        "\n",
        "* You might tempted to think 100 is the optimal value of K but if you observe carefull it kinda underfit the model as training ROC score is least when k = 100"
      ],
      "metadata": {
        "id": "BQvGEYKK_7tE"
      }
    },
    {
      "cell_type": "markdown",
      "metadata": {
        "id": "mzizD2hp7lIW"
      },
      "source": [
        "##### 1.5.1.1.2 Method 1: Simple for loop (if you are having memory limitations use this)"
      ]
    },
    {
      "cell_type": "code",
      "metadata": {
        "id": "gS3EdHoN7lIX",
        "outputId": "ab482d2a-bc6f-417f-f7b3-faf5bc753004",
        "colab": {
          "base_uri": "https://localhost:8080/",
          "height": 635
        }
      },
      "source": [
        "# https://scikit-learn.org/stable/modules/generated/sklearn.model_selection.RandomizedSearchCV.html\n",
        "\n",
        "from sklearn.model_selection import GridSearchCV\n",
        "from scipy.stats import randint as sp_randint\n",
        "from sklearn.model_selection import RandomizedSearchCV\n",
        "\n",
        "neigh = KNeighborsClassifier(n_jobs = -1)\n",
        "\n",
        "parameters = {'n_neighbors':[3, 15, 25, 51, 101]}\n",
        "clf        = RandomizedSearchCV(neigh, parameters, cv = 3, scoring = 'roc_auc',return_train_score = True)\n",
        "clf.fit(X_tr, y_train)\n",
        "\n",
        "results = pd.DataFrame.from_dict(clf.cv_results_)\n",
        "results = results.sort_values(['param_n_neighbors']) # sorting DataFrame according to the n_neighbors\n",
        "\n",
        "train_auc     = results['mean_train_score']\n",
        "train_auc_std = results['std_train_score']\n",
        "cv_auc        = results['mean_test_score'] \n",
        "cv_auc_std    = results['std_test_score']\n",
        "K             = results['param_n_neighbors']\n",
        "\n",
        "plt.plot(K, train_auc, label='Train AUC')\n",
        "# this code is copied from here: https://stackoverflow.com/a/48803361/4084039\n",
        "# plt.gca().fill_between(K, train_auc - train_auc_std,train_auc + train_auc_std,alpha=0.2,color='darkblue')\n",
        "\n",
        "plt.plot(K, cv_auc, label='CV AUC')\n",
        "# this code is copied from here: https://stackoverflow.com/a/48803361/4084039\n",
        "# plt.gca().fill_between(K, cv_auc - cv_auc_std,cv_auc + cv_auc_std,alpha=0.2,color='darkorange')\n",
        "\n",
        "plt.scatter(K, train_auc, label='Train AUC points')\n",
        "plt.scatter(K, cv_auc, label='CV AUC points')\n",
        "\n",
        "\n",
        "plt.legend()\n",
        "\n",
        "plt.xlabel(\"K: hyperparameter\")\n",
        "plt.ylabel(\"AUC\")\n",
        "\n",
        "plt.title(\"Hyper parameter Vs AUC plot\")\n",
        "\n",
        "plt.grid()\n",
        "plt.show()\n",
        "\n",
        "results.head()"
      ],
      "execution_count": 20,
      "outputs": [
        {
          "output_type": "display_data",
          "data": {
            "image/png": "[encoded data removed]",
            "text/plain": [
              "<Figure size 432x288 with 1 Axes>"
            ]
          },
          "metadata": {
            "needs_background": "light"
          }
        },
        {
          "output_type": "execute_result",
          "data": {
            "text/html": [
              "\n",
              "  <div id=\"df-7c543291-5cad-4467-9022-8124f80c94e0\">\n",
              "    <div class=\"colab-df-container\">\n",
              "      <div>\n",
              "<style scoped>\n",
              "    .dataframe tbody tr th:only-of-type {\n",
              "        vertical-align: middle;\n",
              "    }\n",
              "\n",
              "    .dataframe tbody tr th {\n",
              "        vertical-align: top;\n",
              "    }\n",
              "\n",
              "    .dataframe thead th {\n",
              "        text-align: right;\n",
              "    }\n",
              "</style>\n",
              "<table border=\"1\" class=\"dataframe\">\n",
              "  <thead>\n",
              "    <tr style=\"text-align: right;\">\n",
              "      <th></th>\n",
              "      <th>mean_fit_time</th>\n",
              "      <th>std_fit_time</th>\n",
              "      <th>mean_score_time</th>\n",
              "      <th>std_score_time</th>\n",
              "      <th>param_n_neighbors</th>\n",
              "      <th>params</th>\n",
              "      <th>split0_test_score</th>\n",
              "      <th>split1_test_score</th>\n",
              "      <th>split2_test_score</th>\n",
              "      <th>mean_test_score</th>\n",
              "      <th>std_test_score</th>\n",
              "      <th>rank_test_score</th>\n",
              "      <th>split0_train_score</th>\n",
              "      <th>split1_train_score</th>\n",
              "      <th>split2_train_score</th>\n",
              "      <th>mean_train_score</th>\n",
              "      <th>std_train_score</th>\n",
              "    </tr>\n",
              "  </thead>\n",
              "  <tbody>\n",
              "    <tr>\n",
              "      <th>0</th>\n",
              "      <td>0.007186</td>\n",
              "      <td>0.001152</td>\n",
              "      <td>0.770246</td>\n",
              "      <td>0.043892</td>\n",
              "      <td>3</td>\n",
              "      <td>{'n_neighbors': 3}</td>\n",
              "      <td>0.520280</td>\n",
              "      <td>0.526330</td>\n",
              "      <td>0.535064</td>\n",
              "      <td>0.527225</td>\n",
              "      <td>0.006069</td>\n",
              "      <td>5</td>\n",
              "      <td>0.894042</td>\n",
              "      <td>0.870311</td>\n",
              "      <td>0.889972</td>\n",
              "      <td>0.884775</td>\n",
              "      <td>0.010362</td>\n",
              "    </tr>\n",
              "    <tr>\n",
              "      <th>1</th>\n",
              "      <td>0.007875</td>\n",
              "      <td>0.002827</td>\n",
              "      <td>0.680914</td>\n",
              "      <td>0.116712</td>\n",
              "      <td>15</td>\n",
              "      <td>{'n_neighbors': 15}</td>\n",
              "      <td>0.541954</td>\n",
              "      <td>0.557474</td>\n",
              "      <td>0.565624</td>\n",
              "      <td>0.555018</td>\n",
              "      <td>0.009818</td>\n",
              "      <td>4</td>\n",
              "      <td>0.741804</td>\n",
              "      <td>0.726600</td>\n",
              "      <td>0.726552</td>\n",
              "      <td>0.731652</td>\n",
              "      <td>0.007179</td>\n",
              "    </tr>\n",
              "    <tr>\n",
              "      <th>2</th>\n",
              "      <td>0.005253</td>\n",
              "      <td>0.000120</td>\n",
              "      <td>0.517313</td>\n",
              "      <td>0.005527</td>\n",
              "      <td>25</td>\n",
              "      <td>{'n_neighbors': 25}</td>\n",
              "      <td>0.571074</td>\n",
              "      <td>0.569076</td>\n",
              "      <td>0.580850</td>\n",
              "      <td>0.573667</td>\n",
              "      <td>0.005144</td>\n",
              "      <td>1</td>\n",
              "      <td>0.710696</td>\n",
              "      <td>0.701959</td>\n",
              "      <td>0.698388</td>\n",
              "      <td>0.703681</td>\n",
              "      <td>0.005170</td>\n",
              "    </tr>\n",
              "    <tr>\n",
              "      <th>3</th>\n",
              "      <td>0.005218</td>\n",
              "      <td>0.000096</td>\n",
              "      <td>0.523556</td>\n",
              "      <td>0.004790</td>\n",
              "      <td>51</td>\n",
              "      <td>{'n_neighbors': 51}</td>\n",
              "      <td>0.571752</td>\n",
              "      <td>0.545463</td>\n",
              "      <td>0.579339</td>\n",
              "      <td>0.565518</td>\n",
              "      <td>0.014515</td>\n",
              "      <td>2</td>\n",
              "      <td>0.661564</td>\n",
              "      <td>0.677937</td>\n",
              "      <td>0.668850</td>\n",
              "      <td>0.669450</td>\n",
              "      <td>0.006697</td>\n",
              "    </tr>\n",
              "    <tr>\n",
              "      <th>4</th>\n",
              "      <td>0.005956</td>\n",
              "      <td>0.000398</td>\n",
              "      <td>0.740307</td>\n",
              "      <td>0.156500</td>\n",
              "      <td>101</td>\n",
              "      <td>{'n_neighbors': 101}</td>\n",
              "      <td>0.524520</td>\n",
              "      <td>0.578588</td>\n",
              "      <td>0.566606</td>\n",
              "      <td>0.556571</td>\n",
              "      <td>0.023186</td>\n",
              "      <td>3</td>\n",
              "      <td>0.639189</td>\n",
              "      <td>0.633383</td>\n",
              "      <td>0.646772</td>\n",
              "      <td>0.639781</td>\n",
              "      <td>0.005482</td>\n",
              "    </tr>\n",
              "  </tbody>\n",
              "</table>\n",
              "</div>\n",
              "      <button class=\"colab-df-convert\" onclick=\"convertToInteractive('df-7c543291-5cad-4467-9022-8124f80c94e0')\"\n",
              "              title=\"Convert this dataframe to an interactive table.\"\n",
              "              style=\"display:none;\">\n",
              "        \n",
              "  <svg xmlns=\"http://www.w3.org/2000/svg\" height=\"24px\"viewBox=\"0 0 24 24\"\n",
              "       width=\"24px\">\n",
              "    <path d=\"M0 0h24v24H0V0z\" fill=\"none\"/>\n",
              "    <path d=\"M18.56 5.44l.94 2.06.94-2.06 2.06-.94-2.06-.94-.94-2.06-.94 2.06-2.06.94zm-11 1L8.5 8.5l.94-2.06 2.06-.94-2.06-.94L8.5 2.5l-.94 2.06-2.06.94zm10 10l.94 2.06.94-2.06 2.06-.94-2.06-.94-.94-2.06-.94 2.06-2.06.94z\"/><path d=\"M17.41 7.96l-1.37-1.37c-.4-.4-.92-.59-1.43-.59-.52 0-1.04.2-1.43.59L10.3 9.45l-7.72 7.72c-.78.78-.78 2.05 0 2.83L4 21.41c.39.39.9.59 1.41.59.51 0 1.02-.2 1.41-.59l7.78-7.78 2.81-2.81c.8-.78.8-2.07 0-2.86zM5.41 20L4 18.59l7.72-7.72 1.47 1.35L5.41 20z\"/>\n",
              "  </svg>\n",
              "      </button>\n",
              "      \n",
              "  <style>\n",
              "    .colab-df-container {\n",
              "      display:flex;\n",
              "      flex-wrap:wrap;\n",
              "      gap: 12px;\n",
              "    }\n",
              "\n",
              "    .colab-df-convert {\n",
              "      background-color: #E8F0FE;\n",
              "      border: none;\n",
              "      border-radius: 50%;\n",
              "      cursor: pointer;\n",
              "      display: none;\n",
              "      fill: #1967D2;\n",
              "      height: 32px;\n",
              "      padding: 0 0 0 0;\n",
              "      width: 32px;\n",
              "    }\n",
              "\n",
              "    .colab-df-convert:hover {\n",
              "      background-color: #E2EBFA;\n",
              "      box-shadow: 0px 1px 2px rgba(60, 64, 67, 0.3), 0px 1px 3px 1px rgba(60, 64, 67, 0.15);\n",
              "      fill: #174EA6;\n",
              "    }\n",
              "\n",
              "    [theme=dark] .colab-df-convert {\n",
              "      background-color: #3B4455;\n",
              "      fill: #D2E3FC;\n",
              "    }\n",
              "\n",
              "    [theme=dark] .colab-df-convert:hover {\n",
              "      background-color: #434B5C;\n",
              "      box-shadow: 0px 1px 3px 1px rgba(0, 0, 0, 0.15);\n",
              "      filter: drop-shadow(0px 1px 2px rgba(0, 0, 0, 0.3));\n",
              "      fill: #FFFFFF;\n",
              "    }\n",
              "  </style>\n",
              "\n",
              "      <script>\n",
              "        const buttonEl =\n",
              "          document.querySelector('#df-7c543291-5cad-4467-9022-8124f80c94e0 button.colab-df-convert');\n",
              "        buttonEl.style.display =\n",
              "          google.colab.kernel.accessAllowed ? 'block' : 'none';\n",
              "\n",
              "        async function convertToInteractive(key) {\n",
              "          const element = document.querySelector('#df-7c543291-5cad-4467-9022-8124f80c94e0');\n",
              "          const dataTable =\n",
              "            await google.colab.kernel.invokeFunction('convertToInteractive',\n",
              "                                                     [key], {});\n",
              "          if (!dataTable) return;\n",
              "\n",
              "          const docLinkHtml = 'Like what you see? Visit the ' +\n",
              "            '<a target=\"_blank\" href=https://colab.research.google.com/notebooks/data_table.ipynb>data table notebook</a>'\n",
              "            + ' to learn more about interactive tables.';\n",
              "          element.innerHTML = '';\n",
              "          dataTable['output_type'] = 'display_data';\n",
              "          await google.colab.output.renderOutput(dataTable, element);\n",
              "          const docLink = document.createElement('div');\n",
              "          docLink.innerHTML = docLinkHtml;\n",
              "          element.appendChild(docLink);\n",
              "        }\n",
              "      </script>\n",
              "    </div>\n",
              "  </div>\n",
              "  "
            ],
            "text/plain": [
              "   mean_fit_time  std_fit_time  mean_score_time  std_score_time  \\\n",
              "0       0.007186      0.001152         0.770246        0.043892   \n",
              "1       0.007875      0.002827         0.680914        0.116712   \n",
              "2       0.005253      0.000120         0.517313        0.005527   \n",
              "3       0.005218      0.000096         0.523556        0.004790   \n",
              "4       0.005956      0.000398         0.740307        0.156500   \n",
              "\n",
              "  param_n_neighbors                params  split0_test_score  \\\n",
              "0                 3    {'n_neighbors': 3}           0.520280   \n",
              "1                15   {'n_neighbors': 15}           0.541954   \n",
              "2                25   {'n_neighbors': 25}           0.571074   \n",
              "3                51   {'n_neighbors': 51}           0.571752   \n",
              "4               101  {'n_neighbors': 101}           0.524520   \n",
              "\n",
              "   split1_test_score  split2_test_score  mean_test_score  std_test_score  \\\n",
              "0           0.526330           0.535064         0.527225        0.006069   \n",
              "1           0.557474           0.565624         0.555018        0.009818   \n",
              "2           0.569076           0.580850         0.573667        0.005144   \n",
              "3           0.545463           0.579339         0.565518        0.014515   \n",
              "4           0.578588           0.566606         0.556571        0.023186   \n",
              "\n",
              "   rank_test_score  split0_train_score  split1_train_score  \\\n",
              "0                5            0.894042            0.870311   \n",
              "1                4            0.741804            0.726600   \n",
              "2                1            0.710696            0.701959   \n",
              "3                2            0.661564            0.677937   \n",
              "4                3            0.639189            0.633383   \n",
              "\n",
              "   split2_train_score  mean_train_score  std_train_score  \n",
              "0            0.889972          0.884775         0.010362  \n",
              "1            0.726552          0.731652         0.007179  \n",
              "2            0.698388          0.703681         0.005170  \n",
              "3            0.668850          0.669450         0.006697  \n",
              "4            0.646772          0.639781         0.005482  "
            ]
          },
          "metadata": {},
          "execution_count": 20
        }
      ]
    },
    {
      "cell_type": "markdown",
      "metadata": {
        "id": "vnETjzY17lIc"
      },
      "source": [
        "#### 1.5.1.2 Testing the performance of the model on test data, plotting ROC Curves"
      ]
    },
    {
      "cell_type": "code",
      "metadata": {
        "id": "bR1M5Rys7lIe"
      },
      "source": [
        "# from the error plot we choose K such that, we will have maximum AUC on cv data and gap between the train and cv is less\n",
        "# Note: based on the method you use you might get different hyperparameter values as best one\n",
        "# so, you choose according to the method you choose, you use gridsearch if you are having more computing power and note it will take more time\n",
        "# if you increase the cv values in the GridSearchCV you will get more rebust results.\n",
        "\n",
        "#here we are choosing the best_k based on forloop results\n",
        "best_k = 95"
      ],
      "execution_count": null,
      "outputs": []
    },
    {
      "cell_type": "code",
      "metadata": {
        "scrolled": true,
        "id": "fQNRGeeR7lIo",
        "outputId": "2fac27b0-fb3c-46ad-b810-05c37ee0fb39"
      },
      "source": [
        "# https://scikit-learn.org/stable/modules/generated/sklearn.metrics.roc_curve.html#sklearn.metrics.roc_curve\n",
        "from sklearn.metrics import roc_curve, auc\n",
        "\n",
        "\n",
        "neigh = KNeighborsClassifier(n_neighbors = best_k, n_jobs = -1)\n",
        "neigh.fit(X_tr, y_train)\n",
        "# roc_auc_score(y_true, y_score) the 2nd parameter should be probability estimates of the positive class\n",
        "# not the predicted outputs\n",
        "\n",
        "y_train_pred = batch_predict(neigh, X_tr)    \n",
        "y_test_pred = batch_predict(neigh, X_te)\n",
        "\n",
        "train_fpr, train_tpr, tr_thresholds = roc_curve(y_train, y_train_pred)\n",
        "test_fpr, test_tpr, te_thresholds = roc_curve(y_test, y_test_pred)\n",
        "\n",
        "plt.plot(train_fpr, train_tpr, label=\"train AUC =\"+str(auc(train_fpr, train_tpr)))\n",
        "plt.plot(test_fpr, test_tpr, label=\"train AUC =\"+str(auc(test_fpr, test_tpr)))\n",
        "plt.legend()\n",
        "plt.xlabel(\"K: hyperparameter\")\n",
        "plt.ylabel(\"AUC\")\n",
        "plt.title(\"ERROR PLOTS\")\n",
        "plt.grid()\n",
        "plt.show()"
      ],
      "execution_count": null,
      "outputs": [
        {
          "output_type": "display_data",
          "data": {
            "image/png": "[encoded data removed]",
            "text/plain": [
              "<Figure size 432x288 with 1 Axes>"
            ]
          },
          "metadata": {
            "tags": []
          }
        }
      ]
    },
    {
      "cell_type": "code",
      "metadata": {
        "id": "N2Ltk2WO7lIs"
      },
      "source": [
        "# we are writing our own function for predict, with defined thresould\n",
        "# we will pick a threshold that will give the least fpr\n",
        "\n",
        "def find_best_threshold(threshould, fpr, tpr):\n",
        "    t = threshould[np.argmax(tpr*(1-fpr))]\n",
        "    # (tpr*(1-fpr)) will be maximum if your fpr is very low and tpr is very high\n",
        "    print(\"the maximum value of tpr*(1-fpr)\", max(tpr*(1-fpr)), \"for threshold\", np.round(t,3))\n",
        "    return t\n",
        "\n",
        "def predict_with_best_t(proba, threshould):\n",
        "    predictions = []\n",
        "    for i in proba:\n",
        "        if i>=threshould:\n",
        "            predictions.append(1)\n",
        "        else:\n",
        "            predictions.append(0)\n",
        "    return predictions"
      ],
      "execution_count": null,
      "outputs": []
    },
    {
      "cell_type": "code",
      "metadata": {
        "id": "xs2OlxDQ7lIy",
        "outputId": "7cc15952-6e18-4e70-e658-85e7f7d273e5"
      },
      "source": [
        "print(\"=\"*100)\n",
        "from sklearn.metrics import confusion_matrix\n",
        "best_t = find_best_threshold(tr_thresholds, train_fpr, train_tpr)\n",
        "print(\"Train confusion matrix\")\n",
        "print(confusion_matrix(y_train, predict_with_best_t(y_train_pred, best_t)))\n",
        "print(\"Test confusion matrix\")\n",
        "print(confusion_matrix(y_test, predict_with_best_t(y_test_pred, best_t)))"
      ],
      "execution_count": null,
      "outputs": [
        {
          "output_type": "stream",
          "text": [
            "====================================================================================================\n",
            "the maximum value of tpr*(1-fpr) 0.35336663001865454 for threshold 0.821\n",
            "Train confusion matrix\n",
            "[[ 158  143]\n",
            " [ 635 1308]]\n",
            "Test confusion matrix\n",
            "[[ 94 127]\n",
            " [505 924]]\n"
          ],
          "name": "stdout"
        }
      ]
    },
    {
      "cell_type": "markdown",
      "metadata": {
        "id": "ECYFunna7lI3"
      },
      "source": [
        "<pre>\n",
        "\n",
        "<h3><font color='blue'>IF Your system is getting stuck when you are working with the Knn: <font color='green'>YOU NEED TO USE BATCH WISE PREDICTION</font></font></h3>\n",
        "\n",
        "neigh = KNeighborsClassifier(n_neighbors=i)\n",
        "neigh.fit(X_train_bow, y_train)\n",
        "\n",
        "# instead of predicting all the data points at a time, we will predict 1000 data points at a time\n",
        "# you might need to change this code as per requirement\n",
        "# please try to debug errors on your own, read the errors and try to understand it.\n",
        "# you should be able to resolve them on your own as you wrote that code :)\n",
        "# use as many print statements as possible and make sure whats happening in the code\n",
        "# read the documentation of functions and get the sense out of it\n",
        "\n",
        "y_train_pred = []\n",
        "for i in range(0, X_train.shape[0], 1000):\n",
        "    y_train_pred.extend(neigh.predict_proba(X_train_bow[i,i+1000])[:,1]) # this is a pseudo code\n",
        "\n",
        "y_cv_pred = []\n",
        "for i in range(0, X_cv.shape[0], 1000):\n",
        "    y_cv_pred.extend(neigh.predict_proba(X_cv_bow[i,i+1000])[:,1]) # this is a pseudo code\n",
        "    \n",
        "\n",
        "train_auc.append(roc_auc_score(y_train,y_train_pred))\n",
        "cv_auc.append(roc_auc_score(y_cv, y_cv_pred))\n",
        "\n",
        "\n",
        "</pre>"
      ]
    },
    {
      "cell_type": "markdown",
      "metadata": {
        "id": "QAp5T1Zz7lI5"
      },
      "source": [
        "<h3>1.5.3 Appling KNN: AVG W2V featurization</h3>"
      ]
    },
    {
      "cell_type": "code",
      "metadata": {
        "id": "Fdenqpjy7lI8"
      },
      "source": [
        "# stronging variables into pickle files python: http://www.jessicayung.com/how-to-use-pickle-to-save-and-load-variables-in-python/\n",
        "# make sure you have the glove_vectors file\n",
        "with open('glove_vectors', 'rb') as f:\n",
        "    model = pickle.load(f)\n",
        "    glove_words =  set(model.keys())"
      ],
      "execution_count": null,
      "outputs": []
    },
    {
      "cell_type": "code",
      "metadata": {
        "scrolled": true,
        "id": "_c3UIpKd7lJC",
        "outputId": "331d300b-82b4-4a1a-9913-deaf90de19e1"
      },
      "source": [
        "# average Word2Vec\n",
        "# compute average word2vec for each review.\n",
        "avg_w2v_vectors_train = []; # the avg-w2v for each sentence/review is stored in this list\n",
        "for sentence in tqdm(X_train['essay'].values): # for each review/sentence\n",
        "    vector = np.zeros(300) # as word vectors are of zero length\n",
        "    cnt_words =0; # num of words with a valid vector in the sentence/review\n",
        "    for word in sentence.split(): # for each word in a review/sentence\n",
        "        if word in glove_words:\n",
        "            vector += model[word]\n",
        "            cnt_words += 1\n",
        "    if cnt_words != 0:\n",
        "        vector /= cnt_words\n",
        "    avg_w2v_vectors_train.append(vector)\n",
        "\n",
        "print(len(avg_w2v_vectors_train))\n",
        "print(len(avg_w2v_vectors_train[0]))\n",
        "print(avg_w2v_vectors_train[0])"
      ],
      "execution_count": null,
      "outputs": [
        {
          "output_type": "stream",
          "text": [
            "100%|████████████████████████████████████████████████████████████████████████████| 2244/2244 [00:00<00:00, 3111.93it/s]\n"
          ],
          "name": "stderr"
        },
        {
          "output_type": "stream",
          "text": [
            "2244\n",
            "300\n",
            "[ 5.33005407e-03  4.12416054e-02 -4.43186585e-02 -1.28163527e-01\n",
            "  4.99318519e-04  9.72417111e-02 -3.48786000e+00  8.64229481e-02\n",
            "  4.15002444e-03 -1.00114556e-01  1.91419430e-02 -2.86498963e-03\n",
            "  1.39764550e-01 -8.59202074e-02 -3.45245310e-02  1.77790363e-02\n",
            "  4.13685341e-02 -2.69475741e-02  7.55039926e-02 -1.45699583e-02\n",
            "  4.80989267e-02 -4.08999341e-02  5.25691704e-03 -1.36482867e-02\n",
            " -1.58332539e-02 -8.24228252e-02  4.36251111e-02 -5.62350861e-02\n",
            " -5.72651156e-02 -6.21192444e-02 -2.05361665e-01 -1.08848329e-01\n",
            "  1.06707444e-01  1.18229319e-01 -4.04386444e-02 -5.20993415e-02\n",
            " -6.06704363e-02 -1.60813489e-02 -3.54120633e-02 -4.81497407e-02\n",
            " -1.20012448e-01  1.27431464e-01 -2.52194667e-02 -1.69653133e-01\n",
            "  2.95028007e-02 -5.06121756e-02  5.12632926e-02 -2.75269015e-02\n",
            " -1.88450630e-02 -9.17787052e-02 -8.68596000e-03 -1.05312482e-01\n",
            "  2.06985361e-02 -3.02243593e-02  5.08290519e-02 -1.18690386e-01\n",
            "  1.52117747e-01 -3.56924130e-02 -1.70493037e-02  1.00048272e-01\n",
            " -4.51816126e-02 -3.69462583e-02  1.36318602e-01 -7.66971763e-02\n",
            " -3.37480681e-02  1.38376273e-01  7.69788566e-02 -3.07090133e-02\n",
            "  1.24145383e-01 -1.72867847e-01 -1.02459251e-01 -1.71155926e-02\n",
            "  1.91617237e-02 -6.89668741e-02 -5.51431185e-02 -2.08982787e-01\n",
            "  2.94842637e-02  5.70997815e-02  1.23508281e-02 -6.02079274e-02\n",
            "  1.28024096e-01 -3.81735222e-01  2.93614521e-02 -1.64484089e-02\n",
            " -1.09088586e-01  2.81552296e-02  1.39089374e-01 -7.54778407e-02\n",
            "  1.08289326e-01  6.25847280e-02  2.61332644e-02 -3.12070274e-02\n",
            " -2.61937852e-03  2.51453148e-02 -1.86165323e-02 -2.41963594e-01\n",
            " -2.34009807e+00  4.68775093e-02  1.24130845e-01  1.04338764e-01\n",
            " -1.53289081e-01 -3.09728692e-02  1.67417233e-01 -9.49533341e-02\n",
            "  8.29321763e-02  1.58114221e-02  4.36714889e-02 -1.93635167e-01\n",
            "  2.23807051e-02  9.22715556e-03 -4.04408126e-02 -4.27530849e-02\n",
            "  2.39737567e-02  2.47182087e-01 -4.69369037e-02  1.42263326e-01\n",
            " -1.95572133e-01  3.46714859e-02  8.35663607e-02  4.54326030e-02\n",
            "  5.06982104e-02  7.57583430e-02  2.07742484e-02 -7.47810985e-02\n",
            "  1.04882892e-01 -1.78707467e-02  1.22519260e-01 -2.13139259e-02\n",
            " -1.35274121e-02  1.56774809e-01  1.11355656e-02  3.26746696e-02\n",
            " -4.31608370e-03 -1.38121563e-01  5.65643215e-02 -1.47361772e-01\n",
            "  1.35668520e-01 -5.88479661e-02  9.10582341e-02  3.85938089e-01\n",
            "  1.26457784e-01 -1.61552663e-02  9.47746644e-02 -2.77798474e-02\n",
            " -1.94547096e-02 -8.90481148e-02  6.16395977e-02 -1.36153185e-02\n",
            "  2.26395544e-01  2.22559281e-02  5.61424363e-02 -7.16548148e-04\n",
            "  4.93745444e-02 -5.76164985e-02  1.17198579e-01  3.49408741e-02\n",
            "  2.45464800e-02  1.81751111e-03 -8.98507452e-02 -1.70027474e-02\n",
            "  8.86377370e-02 -2.88778393e-02 -1.21425319e-02 -6.91769244e-02\n",
            " -2.03028919e-02  4.69646170e-02 -9.84721274e-02  8.17144356e-02\n",
            "  1.09118584e-01 -2.33403378e-02 -8.45167881e-02 -3.96553919e-02\n",
            " -8.17090363e-02 -1.94066811e-01 -8.35854556e-02  5.50264378e-02\n",
            " -3.62588224e-02  1.15619593e-02 -1.36705060e-01 -1.27474587e-01\n",
            "  3.13316933e-02  3.10244647e-01 -1.02355299e-01  1.26086415e-02\n",
            " -8.01588800e-02 -1.13194248e-01 -4.57779237e-02 -5.09723987e-02\n",
            "  1.35461782e-01  5.67662104e-02 -9.72220593e-03 -4.44438681e-02\n",
            " -6.08944667e-02 -2.01680963e-03  4.72645800e-02 -1.26056139e-01\n",
            " -3.41805644e-02 -3.43883541e-02  1.01026590e-01 -7.01113037e-03\n",
            "  1.51444370e-01  9.36210741e-03 -7.65756052e-02  9.23013961e-02\n",
            " -8.14902259e-02  3.68216222e-02  1.07750170e-02 -1.34775364e-01\n",
            "  2.13685674e-01  3.79974074e-02  6.77150311e-02  2.15203630e-02\n",
            "  2.44732148e-02 -2.10657339e-01 -7.94178978e-02 -2.84329630e-02\n",
            " -3.42667778e-02 -9.29130593e-02  1.12462773e-02 -7.13607481e-03\n",
            " -1.42820153e-01 -3.65798874e-02 -1.04118657e-01 -1.70468112e-01\n",
            " -2.26576566e+00  7.93092400e-02  1.88390927e-02  2.23510994e-02\n",
            " -2.66940830e-02 -1.82552044e-01 -6.24198452e-02 -4.33856200e-02\n",
            " -8.75203185e-03 -3.06096833e-02 -7.15250378e-02  8.20871421e-02\n",
            "  5.46874074e-03 -6.45200452e-02  1.96837006e-02  1.10341621e-01\n",
            " -8.93312924e-02  8.55756081e-02 -3.08255515e-01  1.15110649e-01\n",
            " -9.10142385e-02 -3.15925504e-02 -6.35824222e-02 -1.65522889e-02\n",
            " -1.43275533e-02 -5.92219414e-02  5.73914148e-03  1.25258698e-01\n",
            "  8.36070422e-02 -7.62683067e-02  1.50455802e-01 -3.78674652e-02\n",
            "  1.40533589e-01 -2.16612889e-02  7.36896385e-02 -1.21752767e-01\n",
            " -1.33777000e-02  5.07661185e-03 -3.66571889e-02  2.49586726e-02\n",
            "  7.20475556e-02 -8.85799116e-02 -9.50878296e-02  4.00520357e-02\n",
            "  1.08587304e-01  3.71186749e-02 -8.41652089e-02 -1.40040825e-02\n",
            " -1.50506827e-01  9.51618607e-02 -5.85867793e-02  4.19539333e-02\n",
            "  1.45636474e-01  8.49718059e-03 -3.91810667e-02  6.25823689e-02\n",
            "  1.65834274e-01 -3.36538044e-02  1.02628785e-02  9.03512481e-02\n",
            "  1.55876667e-02  1.82392913e-01 -1.46759259e-03  2.17130911e-02\n",
            " -2.98704230e-02 -2.75654511e-02  1.79508296e-02 -9.31581764e-02\n",
            " -7.68603150e-02 -1.55574938e-01  2.99098280e-02 -2.87750519e-03\n",
            " -1.00459074e-02  2.02842486e-01  1.36548113e-01 -3.38364230e-03]\n"
          ],
          "name": "stdout"
        }
      ]
    },
    {
      "cell_type": "code",
      "metadata": {
        "id": "xZw_IMcC7lJH",
        "outputId": "581be536-243f-4254-d49e-810f66f7ad54"
      },
      "source": [
        "avg_w2v_vectors_cv = []; # the avg-w2v for each sentence/review is stored in this list\n",
        "for sentence in tqdm(X_cv['essay'].values): # for each review/sentence\n",
        "    vector = np.zeros(300) # as word vectors are of zero length\n",
        "    cnt_words =0; # num of words with a valid vector in the sentence/review\n",
        "    for word in sentence.split(): # for each word in a review/sentence\n",
        "        if word in glove_words:\n",
        "            vector += model[word]\n",
        "            cnt_words += 1\n",
        "    if cnt_words != 0:\n",
        "        vector /= cnt_words\n",
        "    avg_w2v_vectors_cv.append(vector)"
      ],
      "execution_count": null,
      "outputs": [
        {
          "output_type": "stream",
          "text": [
            "100%|████████████████████████████████████████████████████████████████████████████| 1106/1106 [00:00<00:00, 3380.66it/s]\n"
          ],
          "name": "stderr"
        }
      ]
    },
    {
      "cell_type": "code",
      "metadata": {
        "id": "_3STChTp7lJK",
        "outputId": "113e26b7-d0bd-4903-d0dd-36ea65bca83d"
      },
      "source": [
        "avg_w2v_vectors_test = []; # the avg-w2v for each sentence/review is stored in this list\n",
        "for sentence in tqdm(X_test['essay'].values): # for each review/sentence\n",
        "    vector = np.zeros(300) # as word vectors are of zero length\n",
        "    cnt_words =0; # num of words with a valid vector in the sentence/review\n",
        "    for word in sentence.split(): # for each word in a review/sentence\n",
        "        if word in glove_words:\n",
        "            vector += model[word]\n",
        "            cnt_words += 1\n",
        "    if cnt_words != 0:\n",
        "        vector /= cnt_words\n",
        "    avg_w2v_vectors_test.append(vector)"
      ],
      "execution_count": null,
      "outputs": [
        {
          "output_type": "stream",
          "text": [
            "100%|████████████████████████████████████████████████████████████████████████████| 1650/1650 [00:00<00:00, 3109.62it/s]\n"
          ],
          "name": "stderr"
        }
      ]
    },
    {
      "cell_type": "code",
      "metadata": {
        "id": "vcRyFCLY7lJN",
        "outputId": "aa2fde32-a4ec-49e3-f381-4793f67f99cf"
      },
      "source": [
        "X_tr = hstack((avg_w2v_vectors_train, X_train_state_ohe, X_train_teacher_ohe, X_train_grade_ohe, X_train_price_norm)).tocsr()\n",
        "X_cr = hstack((avg_w2v_vectors_cv, X_cv_state_ohe, X_cv_teacher_ohe, X_cv_grade_ohe, X_cv_price_norm)).tocsr()\n",
        "X_te = hstack((avg_w2v_vectors_test, X_test_state_ohe, X_test_teacher_ohe, X_test_grade_ohe, X_test_price_norm)).tocsr()\n",
        "\n",
        "print(\"Final Data matrix\")\n",
        "print(X_tr.shape, y_train.shape)\n",
        "print(X_cr.shape, y_cv.shape)\n",
        "print(X_te.shape, y_test.shape)\n",
        "print(\"=\"*100)"
      ],
      "execution_count": null,
      "outputs": [
        {
          "output_type": "stream",
          "text": [
            "Final Data matrix\n",
            "(2244, 360) (2244,)\n",
            "(1106, 360) (1106,)\n",
            "(1650, 360) (1650,)\n",
            "====================================================================================================\n"
          ],
          "name": "stdout"
        }
      ]
    },
    {
      "cell_type": "markdown",
      "metadata": {
        "id": "tWmvoKIQ7lJS"
      },
      "source": [
        "#### 1.5.3.1 Hyper parameter Tuning"
      ]
    },
    {
      "cell_type": "code",
      "metadata": {
        "id": "Rc380nM-7lJU",
        "outputId": "65d0415a-894c-49b3-ff95-b16082b6174e"
      },
      "source": [
        "train_auc = []\n",
        "cv_auc = []\n",
        "K = [3, 15, 25, 51, 101]\n",
        "for i in tqdm(K):\n",
        "    neigh = KNeighborsClassifier(n_neighbors=i, n_jobs=-1)\n",
        "    neigh.fit(X_tr, y_train)\n",
        "\n",
        "    y_train_pred = batch_predict(neigh, X_tr)    \n",
        "    y_cv_pred = batch_predict(neigh, X_cr)\n",
        "\n",
        "    # roc_auc_score(y_true, y_score) the 2nd parameter should be probability estimates of the positive class\n",
        "    # not the predicted outputs        \n",
        "    train_auc.append(roc_auc_score(y_train,y_train_pred))\n",
        "    cv_auc.append(roc_auc_score(y_cv, y_cv_pred))\n",
        "\n",
        "plt.plot(K, train_auc, label='Train AUC')\n",
        "plt.plot(K, cv_auc, label='CV AUC')\n",
        "\n",
        "plt.scatter(K, train_auc, label='Train AUC points')\n",
        "plt.scatter(K, cv_auc, label='CV AUC points')\n",
        "\n",
        "plt.legend()\n",
        "plt.xlabel(\"K: hyperparameter\")\n",
        "plt.ylabel(\"AUC\")\n",
        "plt.title(\"ERROR PLOTS\")\n",
        "plt.grid()\n",
        "plt.show()"
      ],
      "execution_count": null,
      "outputs": [
        {
          "output_type": "stream",
          "text": [
            "100%|████████████████████████████████████████████████████████████████████████████████████| 5/5 [00:07<00:00,  1.50s/it]\n"
          ],
          "name": "stderr"
        },
        {
          "output_type": "display_data",
          "data": {
            "image/png": "[encoded data removed]",
            "text/plain": [
              "<Figure size 432x288 with 1 Axes>"
            ]
          },
          "metadata": {
            "tags": []
          }
        }
      ]
    },
    {
      "cell_type": "markdown",
      "metadata": {
        "id": "-zIhlwfJ7lJa"
      },
      "source": [
        "#### 1.5.1.2 Testing the performance of the model on test data, plotting ROC Curves"
      ]
    },
    {
      "cell_type": "code",
      "metadata": {
        "id": "W77qhKRr7lJb"
      },
      "source": [
        "best_k = 101"
      ],
      "execution_count": null,
      "outputs": []
    },
    {
      "cell_type": "code",
      "metadata": {
        "id": "1WCPYVSl7lJe",
        "outputId": "3163fb67-0af0-4e79-8366-85836b7e298b"
      },
      "source": [
        "# https://scikit-learn.org/stable/modules/generated/sklearn.metrics.roc_curve.html#sklearn.metrics.roc_curve\n",
        "from sklearn.metrics import roc_curve, auc\n",
        "\n",
        "\n",
        "neigh = KNeighborsClassifier(n_neighbors=best_k, n_jobs=-1)\n",
        "neigh.fit(X_tr, y_train)\n",
        "# roc_auc_score(y_true, y_score) the 2nd parameter should be probability estimates of the positive class\n",
        "# not the predicted outputs\n",
        "\n",
        "y_train_pred = batch_predict(neigh, X_tr)    \n",
        "y_test_pred = batch_predict(neigh, X_te)\n",
        "\n",
        "train_fpr, train_tpr, tr_thresholds = roc_curve(y_train, y_train_pred)\n",
        "test_fpr, test_tpr, te_thresholds = roc_curve(y_test, y_test_pred)\n",
        "\n",
        "plt.plot(train_fpr, train_tpr, label=\"train AUC =\"+str(auc(train_fpr, train_tpr)))\n",
        "plt.plot(test_fpr, test_tpr, label=\"train AUC =\"+str(auc(test_fpr, test_tpr)))\n",
        "plt.legend()\n",
        "plt.xlabel(\"K: hyperparameter\")\n",
        "plt.ylabel(\"AUC\")\n",
        "plt.title(\"ERROR PLOTS\")\n",
        "plt.grid()\n",
        "plt.show()"
      ],
      "execution_count": null,
      "outputs": [
        {
          "output_type": "display_data",
          "data": {
            "image/png": "[encoded data removed]",
            "text/plain": [
              "<Figure size 432x288 with 1 Axes>"
            ]
          },
          "metadata": {
            "tags": []
          }
        }
      ]
    },
    {
      "cell_type": "code",
      "metadata": {
        "id": "yCYkNFmw7lJh",
        "outputId": "a8778a60-cf48-4890-bef0-191b60cf4300"
      },
      "source": [
        "print(\"=\"*100)\n",
        "from sklearn.metrics import confusion_matrix\n",
        "best_t = find_best_threshold(tr_thresholds, train_fpr, train_tpr)\n",
        "print(\"Train confusion matrix\")\n",
        "print(confusion_matrix(y_train, predict_with_best_t(y_train_pred, best_t)))\n",
        "print(\"Test confusion matrix\")\n",
        "print(confusion_matrix(y_test, predict_with_best_t(y_test_pred, best_t)))"
      ],
      "execution_count": null,
      "outputs": [
        {
          "output_type": "stream",
          "text": [
            "====================================================================================================\n",
            "the maximum value of tpr*(1-fpr) 0.34910907713694106 for threshold 0.881\n",
            "Train confusion matrix\n",
            "[[ 199  102]\n",
            " [ 917 1026]]\n",
            "Test confusion matrix\n",
            "[[113 108]\n",
            " [689 740]]\n"
          ],
          "name": "stdout"
        }
      ]
    }
  ]
}